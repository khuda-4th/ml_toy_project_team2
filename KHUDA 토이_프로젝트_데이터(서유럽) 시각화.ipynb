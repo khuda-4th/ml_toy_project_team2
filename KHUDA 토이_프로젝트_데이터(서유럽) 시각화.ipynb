{
 "cells": [
  {
   "cell_type": "code",
   "execution_count": 1,
   "id": "4ee980e5",
   "metadata": {},
   "outputs": [
    {
     "name": "stderr",
     "output_type": "stream",
     "text": [
      "C:\\Users\\leejo\\AppData\\Local\\Temp\\ipykernel_14612\\1342521455.py:4: DtypeWarning: Columns (3) have mixed types. Specify dtype option on import or set low_memory=False.\n",
      "  book= pd.read_csv(\"C:/Users/leejo/OneDrive/바탕 화면/KHUDA/archive (1)/Books.csv\")\n"
     ]
    }
   ],
   "source": [
    "import pandas as pd\n",
    "\n",
    "#제품데이터 불러오기\n",
    "book= pd.read_csv(\"C:/Users/leejo/OneDrive/바탕 화면/KHUDA/archive (1)/Books.csv\")\n",
    "\n",
    "#유저데이터 불러오기                                                 \n",
    "users= pd.read_csv(\"C:/Users/leejo/OneDrive/바탕 화면/KHUDA/archive (1)/Users.csv\")\n",
    "\n",
    "#별점 데이터 불러오기\n",
    "rating= pd.read_csv(\"C:/Users/leejo/OneDrive/바탕 화면/KHUDA/archive (1)/Ratings.csv\")"
   ]
  },
  {
   "cell_type": "code",
   "execution_count": 3,
   "id": "f35facc1",
   "metadata": {},
   "outputs": [
    {
     "data": {
      "text/html": [
       "<div>\n",
       "<style scoped>\n",
       "    .dataframe tbody tr th:only-of-type {\n",
       "        vertical-align: middle;\n",
       "    }\n",
       "\n",
       "    .dataframe tbody tr th {\n",
       "        vertical-align: top;\n",
       "    }\n",
       "\n",
       "    .dataframe thead th {\n",
       "        text-align: right;\n",
       "    }\n",
       "</style>\n",
       "<table border=\"1\" class=\"dataframe\">\n",
       "  <thead>\n",
       "    <tr style=\"text-align: right;\">\n",
       "      <th></th>\n",
       "      <th>ISBN</th>\n",
       "      <th>Book-Title</th>\n",
       "      <th>Book-Author</th>\n",
       "      <th>Year-Of-Publication</th>\n",
       "      <th>Publisher</th>\n",
       "      <th>Image-URL-S</th>\n",
       "      <th>Image-URL-M</th>\n",
       "      <th>Image-URL-L</th>\n",
       "      <th>User-ID</th>\n",
       "      <th>Book-Rating</th>\n",
       "    </tr>\n",
       "  </thead>\n",
       "  <tbody>\n",
       "    <tr>\n",
       "      <th>0</th>\n",
       "      <td>0195153448</td>\n",
       "      <td>Classical Mythology</td>\n",
       "      <td>Mark P. O. Morford</td>\n",
       "      <td>2002</td>\n",
       "      <td>Oxford University Press</td>\n",
       "      <td>http://images.amazon.com/images/P/0195153448.0...</td>\n",
       "      <td>http://images.amazon.com/images/P/0195153448.0...</td>\n",
       "      <td>http://images.amazon.com/images/P/0195153448.0...</td>\n",
       "      <td>2</td>\n",
       "      <td>0</td>\n",
       "    </tr>\n",
       "    <tr>\n",
       "      <th>1</th>\n",
       "      <td>0002005018</td>\n",
       "      <td>Clara Callan</td>\n",
       "      <td>Richard Bruce Wright</td>\n",
       "      <td>2001</td>\n",
       "      <td>HarperFlamingo Canada</td>\n",
       "      <td>http://images.amazon.com/images/P/0002005018.0...</td>\n",
       "      <td>http://images.amazon.com/images/P/0002005018.0...</td>\n",
       "      <td>http://images.amazon.com/images/P/0002005018.0...</td>\n",
       "      <td>8</td>\n",
       "      <td>5</td>\n",
       "    </tr>\n",
       "    <tr>\n",
       "      <th>2</th>\n",
       "      <td>0002005018</td>\n",
       "      <td>Clara Callan</td>\n",
       "      <td>Richard Bruce Wright</td>\n",
       "      <td>2001</td>\n",
       "      <td>HarperFlamingo Canada</td>\n",
       "      <td>http://images.amazon.com/images/P/0002005018.0...</td>\n",
       "      <td>http://images.amazon.com/images/P/0002005018.0...</td>\n",
       "      <td>http://images.amazon.com/images/P/0002005018.0...</td>\n",
       "      <td>11400</td>\n",
       "      <td>0</td>\n",
       "    </tr>\n",
       "    <tr>\n",
       "      <th>3</th>\n",
       "      <td>0002005018</td>\n",
       "      <td>Clara Callan</td>\n",
       "      <td>Richard Bruce Wright</td>\n",
       "      <td>2001</td>\n",
       "      <td>HarperFlamingo Canada</td>\n",
       "      <td>http://images.amazon.com/images/P/0002005018.0...</td>\n",
       "      <td>http://images.amazon.com/images/P/0002005018.0...</td>\n",
       "      <td>http://images.amazon.com/images/P/0002005018.0...</td>\n",
       "      <td>11676</td>\n",
       "      <td>8</td>\n",
       "    </tr>\n",
       "    <tr>\n",
       "      <th>4</th>\n",
       "      <td>0002005018</td>\n",
       "      <td>Clara Callan</td>\n",
       "      <td>Richard Bruce Wright</td>\n",
       "      <td>2001</td>\n",
       "      <td>HarperFlamingo Canada</td>\n",
       "      <td>http://images.amazon.com/images/P/0002005018.0...</td>\n",
       "      <td>http://images.amazon.com/images/P/0002005018.0...</td>\n",
       "      <td>http://images.amazon.com/images/P/0002005018.0...</td>\n",
       "      <td>41385</td>\n",
       "      <td>0</td>\n",
       "    </tr>\n",
       "  </tbody>\n",
       "</table>\n",
       "</div>"
      ],
      "text/plain": [
       "         ISBN           Book-Title           Book-Author Year-Of-Publication  \\\n",
       "0  0195153448  Classical Mythology    Mark P. O. Morford                2002   \n",
       "1  0002005018         Clara Callan  Richard Bruce Wright                2001   \n",
       "2  0002005018         Clara Callan  Richard Bruce Wright                2001   \n",
       "3  0002005018         Clara Callan  Richard Bruce Wright                2001   \n",
       "4  0002005018         Clara Callan  Richard Bruce Wright                2001   \n",
       "\n",
       "                 Publisher                                        Image-URL-S  \\\n",
       "0  Oxford University Press  http://images.amazon.com/images/P/0195153448.0...   \n",
       "1    HarperFlamingo Canada  http://images.amazon.com/images/P/0002005018.0...   \n",
       "2    HarperFlamingo Canada  http://images.amazon.com/images/P/0002005018.0...   \n",
       "3    HarperFlamingo Canada  http://images.amazon.com/images/P/0002005018.0...   \n",
       "4    HarperFlamingo Canada  http://images.amazon.com/images/P/0002005018.0...   \n",
       "\n",
       "                                         Image-URL-M  \\\n",
       "0  http://images.amazon.com/images/P/0195153448.0...   \n",
       "1  http://images.amazon.com/images/P/0002005018.0...   \n",
       "2  http://images.amazon.com/images/P/0002005018.0...   \n",
       "3  http://images.amazon.com/images/P/0002005018.0...   \n",
       "4  http://images.amazon.com/images/P/0002005018.0...   \n",
       "\n",
       "                                         Image-URL-L  User-ID  Book-Rating  \n",
       "0  http://images.amazon.com/images/P/0195153448.0...        2            0  \n",
       "1  http://images.amazon.com/images/P/0002005018.0...        8            5  \n",
       "2  http://images.amazon.com/images/P/0002005018.0...    11400            0  \n",
       "3  http://images.amazon.com/images/P/0002005018.0...    11676            8  \n",
       "4  http://images.amazon.com/images/P/0002005018.0...    41385            0  "
      ]
     },
     "execution_count": 3,
     "metadata": {},
     "output_type": "execute_result"
    }
   ],
   "source": [
    "merge_1 = pd.merge(book, rating, on='ISBN')\n",
    "merge_1.head()"
   ]
  },
  {
   "cell_type": "code",
   "execution_count": 4,
   "id": "3bf6af5a",
   "metadata": {},
   "outputs": [
    {
     "data": {
      "text/html": [
       "<div>\n",
       "<style scoped>\n",
       "    .dataframe tbody tr th:only-of-type {\n",
       "        vertical-align: middle;\n",
       "    }\n",
       "\n",
       "    .dataframe tbody tr th {\n",
       "        vertical-align: top;\n",
       "    }\n",
       "\n",
       "    .dataframe thead th {\n",
       "        text-align: right;\n",
       "    }\n",
       "</style>\n",
       "<table border=\"1\" class=\"dataframe\">\n",
       "  <thead>\n",
       "    <tr style=\"text-align: right;\">\n",
       "      <th></th>\n",
       "      <th>ISBN</th>\n",
       "      <th>Book-Title</th>\n",
       "      <th>Book-Author</th>\n",
       "      <th>Year-Of-Publication</th>\n",
       "      <th>Publisher</th>\n",
       "      <th>Image-URL-S</th>\n",
       "      <th>Image-URL-M</th>\n",
       "      <th>Image-URL-L</th>\n",
       "      <th>User-ID</th>\n",
       "      <th>Book-Rating</th>\n",
       "      <th>Location</th>\n",
       "      <th>Age</th>\n",
       "    </tr>\n",
       "  </thead>\n",
       "  <tbody>\n",
       "    <tr>\n",
       "      <th>0</th>\n",
       "      <td>0195153448</td>\n",
       "      <td>Classical Mythology</td>\n",
       "      <td>Mark P. O. Morford</td>\n",
       "      <td>2002</td>\n",
       "      <td>Oxford University Press</td>\n",
       "      <td>http://images.amazon.com/images/P/0195153448.0...</td>\n",
       "      <td>http://images.amazon.com/images/P/0195153448.0...</td>\n",
       "      <td>http://images.amazon.com/images/P/0195153448.0...</td>\n",
       "      <td>2</td>\n",
       "      <td>0</td>\n",
       "      <td>stockton, california, usa</td>\n",
       "      <td>18.0</td>\n",
       "    </tr>\n",
       "    <tr>\n",
       "      <th>1</th>\n",
       "      <td>0002005018</td>\n",
       "      <td>Clara Callan</td>\n",
       "      <td>Richard Bruce Wright</td>\n",
       "      <td>2001</td>\n",
       "      <td>HarperFlamingo Canada</td>\n",
       "      <td>http://images.amazon.com/images/P/0002005018.0...</td>\n",
       "      <td>http://images.amazon.com/images/P/0002005018.0...</td>\n",
       "      <td>http://images.amazon.com/images/P/0002005018.0...</td>\n",
       "      <td>8</td>\n",
       "      <td>5</td>\n",
       "      <td>timmins, ontario, canada</td>\n",
       "      <td>NaN</td>\n",
       "    </tr>\n",
       "    <tr>\n",
       "      <th>2</th>\n",
       "      <td>0060973129</td>\n",
       "      <td>Decision in Normandy</td>\n",
       "      <td>Carlo D'Este</td>\n",
       "      <td>1991</td>\n",
       "      <td>HarperPerennial</td>\n",
       "      <td>http://images.amazon.com/images/P/0060973129.0...</td>\n",
       "      <td>http://images.amazon.com/images/P/0060973129.0...</td>\n",
       "      <td>http://images.amazon.com/images/P/0060973129.0...</td>\n",
       "      <td>8</td>\n",
       "      <td>0</td>\n",
       "      <td>timmins, ontario, canada</td>\n",
       "      <td>NaN</td>\n",
       "    </tr>\n",
       "    <tr>\n",
       "      <th>3</th>\n",
       "      <td>0374157065</td>\n",
       "      <td>Flu: The Story of the Great Influenza Pandemic...</td>\n",
       "      <td>Gina Bari Kolata</td>\n",
       "      <td>1999</td>\n",
       "      <td>Farrar Straus Giroux</td>\n",
       "      <td>http://images.amazon.com/images/P/0374157065.0...</td>\n",
       "      <td>http://images.amazon.com/images/P/0374157065.0...</td>\n",
       "      <td>http://images.amazon.com/images/P/0374157065.0...</td>\n",
       "      <td>8</td>\n",
       "      <td>0</td>\n",
       "      <td>timmins, ontario, canada</td>\n",
       "      <td>NaN</td>\n",
       "    </tr>\n",
       "    <tr>\n",
       "      <th>4</th>\n",
       "      <td>0393045218</td>\n",
       "      <td>The Mummies of Urumchi</td>\n",
       "      <td>E. J. W. Barber</td>\n",
       "      <td>1999</td>\n",
       "      <td>W. W. Norton &amp;amp; Company</td>\n",
       "      <td>http://images.amazon.com/images/P/0393045218.0...</td>\n",
       "      <td>http://images.amazon.com/images/P/0393045218.0...</td>\n",
       "      <td>http://images.amazon.com/images/P/0393045218.0...</td>\n",
       "      <td>8</td>\n",
       "      <td>0</td>\n",
       "      <td>timmins, ontario, canada</td>\n",
       "      <td>NaN</td>\n",
       "    </tr>\n",
       "  </tbody>\n",
       "</table>\n",
       "</div>"
      ],
      "text/plain": [
       "         ISBN                                         Book-Title  \\\n",
       "0  0195153448                                Classical Mythology   \n",
       "1  0002005018                                       Clara Callan   \n",
       "2  0060973129                               Decision in Normandy   \n",
       "3  0374157065  Flu: The Story of the Great Influenza Pandemic...   \n",
       "4  0393045218                             The Mummies of Urumchi   \n",
       "\n",
       "            Book-Author Year-Of-Publication                   Publisher  \\\n",
       "0    Mark P. O. Morford                2002     Oxford University Press   \n",
       "1  Richard Bruce Wright                2001       HarperFlamingo Canada   \n",
       "2          Carlo D'Este                1991             HarperPerennial   \n",
       "3      Gina Bari Kolata                1999        Farrar Straus Giroux   \n",
       "4       E. J. W. Barber                1999  W. W. Norton &amp; Company   \n",
       "\n",
       "                                         Image-URL-S  \\\n",
       "0  http://images.amazon.com/images/P/0195153448.0...   \n",
       "1  http://images.amazon.com/images/P/0002005018.0...   \n",
       "2  http://images.amazon.com/images/P/0060973129.0...   \n",
       "3  http://images.amazon.com/images/P/0374157065.0...   \n",
       "4  http://images.amazon.com/images/P/0393045218.0...   \n",
       "\n",
       "                                         Image-URL-M  \\\n",
       "0  http://images.amazon.com/images/P/0195153448.0...   \n",
       "1  http://images.amazon.com/images/P/0002005018.0...   \n",
       "2  http://images.amazon.com/images/P/0060973129.0...   \n",
       "3  http://images.amazon.com/images/P/0374157065.0...   \n",
       "4  http://images.amazon.com/images/P/0393045218.0...   \n",
       "\n",
       "                                         Image-URL-L  User-ID  Book-Rating  \\\n",
       "0  http://images.amazon.com/images/P/0195153448.0...        2            0   \n",
       "1  http://images.amazon.com/images/P/0002005018.0...        8            5   \n",
       "2  http://images.amazon.com/images/P/0060973129.0...        8            0   \n",
       "3  http://images.amazon.com/images/P/0374157065.0...        8            0   \n",
       "4  http://images.amazon.com/images/P/0393045218.0...        8            0   \n",
       "\n",
       "                    Location   Age  \n",
       "0  stockton, california, usa  18.0  \n",
       "1   timmins, ontario, canada   NaN  \n",
       "2   timmins, ontario, canada   NaN  \n",
       "3   timmins, ontario, canada   NaN  \n",
       "4   timmins, ontario, canada   NaN  "
      ]
     },
     "execution_count": 4,
     "metadata": {},
     "output_type": "execute_result"
    }
   ],
   "source": [
    "merge_2 = pd.merge(merge_1, users, on='User-ID')\n",
    "merge_2.head()"
   ]
  },
  {
   "cell_type": "code",
   "execution_count": 5,
   "id": "3a58c33a",
   "metadata": {},
   "outputs": [
    {
     "data": {
      "text/html": [
       "<div>\n",
       "<style scoped>\n",
       "    .dataframe tbody tr th:only-of-type {\n",
       "        vertical-align: middle;\n",
       "    }\n",
       "\n",
       "    .dataframe tbody tr th {\n",
       "        vertical-align: top;\n",
       "    }\n",
       "\n",
       "    .dataframe thead th {\n",
       "        text-align: right;\n",
       "    }\n",
       "</style>\n",
       "<table border=\"1\" class=\"dataframe\">\n",
       "  <thead>\n",
       "    <tr style=\"text-align: right;\">\n",
       "      <th></th>\n",
       "      <th>ISBN</th>\n",
       "      <th>Book-Title</th>\n",
       "      <th>Book-Author</th>\n",
       "      <th>Year-Of-Publication</th>\n",
       "      <th>Publisher</th>\n",
       "      <th>Image-URL-S</th>\n",
       "      <th>Image-URL-M</th>\n",
       "      <th>Image-URL-L</th>\n",
       "      <th>User-ID</th>\n",
       "      <th>Book-Rating</th>\n",
       "      <th>Location</th>\n",
       "      <th>Age</th>\n",
       "    </tr>\n",
       "  </thead>\n",
       "  <tbody>\n",
       "    <tr>\n",
       "      <th>0</th>\n",
       "      <td>0195153448</td>\n",
       "      <td>Classical Mythology</td>\n",
       "      <td>Mark P. O. Morford</td>\n",
       "      <td>2002</td>\n",
       "      <td>Oxford University Press</td>\n",
       "      <td>http://images.amazon.com/images/P/0195153448.0...</td>\n",
       "      <td>http://images.amazon.com/images/P/0195153448.0...</td>\n",
       "      <td>http://images.amazon.com/images/P/0195153448.0...</td>\n",
       "      <td>2</td>\n",
       "      <td>0</td>\n",
       "      <td>stockton, california, usa</td>\n",
       "      <td>18.0</td>\n",
       "    </tr>\n",
       "    <tr>\n",
       "      <th>1</th>\n",
       "      <td>0002005018</td>\n",
       "      <td>Clara Callan</td>\n",
       "      <td>Richard Bruce Wright</td>\n",
       "      <td>2001</td>\n",
       "      <td>HarperFlamingo Canada</td>\n",
       "      <td>http://images.amazon.com/images/P/0002005018.0...</td>\n",
       "      <td>http://images.amazon.com/images/P/0002005018.0...</td>\n",
       "      <td>http://images.amazon.com/images/P/0002005018.0...</td>\n",
       "      <td>8</td>\n",
       "      <td>5</td>\n",
       "      <td>timmins, ontario, canada</td>\n",
       "      <td>NaN</td>\n",
       "    </tr>\n",
       "    <tr>\n",
       "      <th>2</th>\n",
       "      <td>0060973129</td>\n",
       "      <td>Decision in Normandy</td>\n",
       "      <td>Carlo D'Este</td>\n",
       "      <td>1991</td>\n",
       "      <td>HarperPerennial</td>\n",
       "      <td>http://images.amazon.com/images/P/0060973129.0...</td>\n",
       "      <td>http://images.amazon.com/images/P/0060973129.0...</td>\n",
       "      <td>http://images.amazon.com/images/P/0060973129.0...</td>\n",
       "      <td>8</td>\n",
       "      <td>0</td>\n",
       "      <td>timmins, ontario, canada</td>\n",
       "      <td>NaN</td>\n",
       "    </tr>\n",
       "    <tr>\n",
       "      <th>3</th>\n",
       "      <td>0374157065</td>\n",
       "      <td>Flu: The Story of the Great Influenza Pandemic...</td>\n",
       "      <td>Gina Bari Kolata</td>\n",
       "      <td>1999</td>\n",
       "      <td>Farrar Straus Giroux</td>\n",
       "      <td>http://images.amazon.com/images/P/0374157065.0...</td>\n",
       "      <td>http://images.amazon.com/images/P/0374157065.0...</td>\n",
       "      <td>http://images.amazon.com/images/P/0374157065.0...</td>\n",
       "      <td>8</td>\n",
       "      <td>0</td>\n",
       "      <td>timmins, ontario, canada</td>\n",
       "      <td>NaN</td>\n",
       "    </tr>\n",
       "    <tr>\n",
       "      <th>4</th>\n",
       "      <td>0393045218</td>\n",
       "      <td>The Mummies of Urumchi</td>\n",
       "      <td>E. J. W. Barber</td>\n",
       "      <td>1999</td>\n",
       "      <td>W. W. Norton &amp;amp; Company</td>\n",
       "      <td>http://images.amazon.com/images/P/0393045218.0...</td>\n",
       "      <td>http://images.amazon.com/images/P/0393045218.0...</td>\n",
       "      <td>http://images.amazon.com/images/P/0393045218.0...</td>\n",
       "      <td>8</td>\n",
       "      <td>0</td>\n",
       "      <td>timmins, ontario, canada</td>\n",
       "      <td>NaN</td>\n",
       "    </tr>\n",
       "  </tbody>\n",
       "</table>\n",
       "</div>"
      ],
      "text/plain": [
       "         ISBN                                         Book-Title  \\\n",
       "0  0195153448                                Classical Mythology   \n",
       "1  0002005018                                       Clara Callan   \n",
       "2  0060973129                               Decision in Normandy   \n",
       "3  0374157065  Flu: The Story of the Great Influenza Pandemic...   \n",
       "4  0393045218                             The Mummies of Urumchi   \n",
       "\n",
       "            Book-Author Year-Of-Publication                   Publisher  \\\n",
       "0    Mark P. O. Morford                2002     Oxford University Press   \n",
       "1  Richard Bruce Wright                2001       HarperFlamingo Canada   \n",
       "2          Carlo D'Este                1991             HarperPerennial   \n",
       "3      Gina Bari Kolata                1999        Farrar Straus Giroux   \n",
       "4       E. J. W. Barber                1999  W. W. Norton &amp; Company   \n",
       "\n",
       "                                         Image-URL-S  \\\n",
       "0  http://images.amazon.com/images/P/0195153448.0...   \n",
       "1  http://images.amazon.com/images/P/0002005018.0...   \n",
       "2  http://images.amazon.com/images/P/0060973129.0...   \n",
       "3  http://images.amazon.com/images/P/0374157065.0...   \n",
       "4  http://images.amazon.com/images/P/0393045218.0...   \n",
       "\n",
       "                                         Image-URL-M  \\\n",
       "0  http://images.amazon.com/images/P/0195153448.0...   \n",
       "1  http://images.amazon.com/images/P/0002005018.0...   \n",
       "2  http://images.amazon.com/images/P/0060973129.0...   \n",
       "3  http://images.amazon.com/images/P/0374157065.0...   \n",
       "4  http://images.amazon.com/images/P/0393045218.0...   \n",
       "\n",
       "                                         Image-URL-L  User-ID  Book-Rating  \\\n",
       "0  http://images.amazon.com/images/P/0195153448.0...        2            0   \n",
       "1  http://images.amazon.com/images/P/0002005018.0...        8            5   \n",
       "2  http://images.amazon.com/images/P/0060973129.0...        8            0   \n",
       "3  http://images.amazon.com/images/P/0374157065.0...        8            0   \n",
       "4  http://images.amazon.com/images/P/0393045218.0...        8            0   \n",
       "\n",
       "                    Location   Age  \n",
       "0  stockton, california, usa  18.0  \n",
       "1   timmins, ontario, canada   NaN  \n",
       "2   timmins, ontario, canada   NaN  \n",
       "3   timmins, ontario, canada   NaN  \n",
       "4   timmins, ontario, canada   NaN  "
      ]
     },
     "execution_count": 5,
     "metadata": {},
     "output_type": "execute_result"
    }
   ],
   "source": [
    "df = merge_2.copy()\n",
    "df.head()"
   ]
  },
  {
   "cell_type": "code",
   "execution_count": 6,
   "id": "93c0a988",
   "metadata": {},
   "outputs": [
    {
     "name": "stdout",
     "output_type": "stream",
     "text": [
      "<class 'pandas.core.frame.DataFrame'>\n",
      "Int64Index: 1031136 entries, 0 to 1031135\n",
      "Data columns (total 12 columns):\n",
      " #   Column               Non-Null Count    Dtype  \n",
      "---  ------               --------------    -----  \n",
      " 0   ISBN                 1031136 non-null  object \n",
      " 1   Book-Title           1031136 non-null  object \n",
      " 2   Book-Author          1031135 non-null  object \n",
      " 3   Year-Of-Publication  1031136 non-null  object \n",
      " 4   Publisher            1031134 non-null  object \n",
      " 5   Image-URL-S          1031136 non-null  object \n",
      " 6   Image-URL-M          1031136 non-null  object \n",
      " 7   Image-URL-L          1031132 non-null  object \n",
      " 8   User-ID              1031136 non-null  int64  \n",
      " 9   Book-Rating          1031136 non-null  int64  \n",
      " 10  Location             1031136 non-null  object \n",
      " 11  Age                  753301 non-null   float64\n",
      "dtypes: float64(1), int64(2), object(9)\n",
      "memory usage: 102.3+ MB\n"
     ]
    }
   ],
   "source": [
    "df.info()"
   ]
  },
  {
   "cell_type": "code",
   "execution_count": 7,
   "id": "99065ade",
   "metadata": {},
   "outputs": [],
   "source": [
    "# Convert the column to integers, 열을 정수로 변환하기\n",
    "\n",
    "df['Year-Of-Publication'] = pd.to_numeric(df['Year-Of-Publication'], errors='coerce').fillna(-1).astype(int)"
   ]
  },
  {
   "cell_type": "code",
   "execution_count": 8,
   "id": "6f603eaf",
   "metadata": {},
   "outputs": [
    {
     "data": {
      "text/html": [
       "<div>\n",
       "<style scoped>\n",
       "    .dataframe tbody tr th:only-of-type {\n",
       "        vertical-align: middle;\n",
       "    }\n",
       "\n",
       "    .dataframe tbody tr th {\n",
       "        vertical-align: top;\n",
       "    }\n",
       "\n",
       "    .dataframe thead th {\n",
       "        text-align: right;\n",
       "    }\n",
       "</style>\n",
       "<table border=\"1\" class=\"dataframe\">\n",
       "  <thead>\n",
       "    <tr style=\"text-align: right;\">\n",
       "      <th></th>\n",
       "      <th>ISBN</th>\n",
       "      <th>Book-Title</th>\n",
       "      <th>Book-Author</th>\n",
       "      <th>Year-Of-Publication</th>\n",
       "      <th>Publisher</th>\n",
       "      <th>Image-URL-S</th>\n",
       "      <th>Image-URL-M</th>\n",
       "      <th>Image-URL-L</th>\n",
       "      <th>User-ID</th>\n",
       "      <th>Book-Rating</th>\n",
       "      <th>Location</th>\n",
       "      <th>Age</th>\n",
       "      <th>City</th>\n",
       "      <th>State</th>\n",
       "      <th>Country</th>\n",
       "    </tr>\n",
       "  </thead>\n",
       "  <tbody>\n",
       "    <tr>\n",
       "      <th>0</th>\n",
       "      <td>0195153448</td>\n",
       "      <td>Classical Mythology</td>\n",
       "      <td>Mark P. O. Morford</td>\n",
       "      <td>2002</td>\n",
       "      <td>Oxford University Press</td>\n",
       "      <td>http://images.amazon.com/images/P/0195153448.0...</td>\n",
       "      <td>http://images.amazon.com/images/P/0195153448.0...</td>\n",
       "      <td>http://images.amazon.com/images/P/0195153448.0...</td>\n",
       "      <td>2</td>\n",
       "      <td>0</td>\n",
       "      <td>stockton, california, usa</td>\n",
       "      <td>18.0</td>\n",
       "      <td>stockton</td>\n",
       "      <td>california</td>\n",
       "      <td>usa</td>\n",
       "    </tr>\n",
       "    <tr>\n",
       "      <th>1</th>\n",
       "      <td>0002005018</td>\n",
       "      <td>Clara Callan</td>\n",
       "      <td>Richard Bruce Wright</td>\n",
       "      <td>2001</td>\n",
       "      <td>HarperFlamingo Canada</td>\n",
       "      <td>http://images.amazon.com/images/P/0002005018.0...</td>\n",
       "      <td>http://images.amazon.com/images/P/0002005018.0...</td>\n",
       "      <td>http://images.amazon.com/images/P/0002005018.0...</td>\n",
       "      <td>8</td>\n",
       "      <td>5</td>\n",
       "      <td>timmins, ontario, canada</td>\n",
       "      <td>NaN</td>\n",
       "      <td>timmins</td>\n",
       "      <td>ontario</td>\n",
       "      <td>canada</td>\n",
       "    </tr>\n",
       "    <tr>\n",
       "      <th>2</th>\n",
       "      <td>0060973129</td>\n",
       "      <td>Decision in Normandy</td>\n",
       "      <td>Carlo D'Este</td>\n",
       "      <td>1991</td>\n",
       "      <td>HarperPerennial</td>\n",
       "      <td>http://images.amazon.com/images/P/0060973129.0...</td>\n",
       "      <td>http://images.amazon.com/images/P/0060973129.0...</td>\n",
       "      <td>http://images.amazon.com/images/P/0060973129.0...</td>\n",
       "      <td>8</td>\n",
       "      <td>0</td>\n",
       "      <td>timmins, ontario, canada</td>\n",
       "      <td>NaN</td>\n",
       "      <td>timmins</td>\n",
       "      <td>ontario</td>\n",
       "      <td>canada</td>\n",
       "    </tr>\n",
       "    <tr>\n",
       "      <th>3</th>\n",
       "      <td>0374157065</td>\n",
       "      <td>Flu: The Story of the Great Influenza Pandemic...</td>\n",
       "      <td>Gina Bari Kolata</td>\n",
       "      <td>1999</td>\n",
       "      <td>Farrar Straus Giroux</td>\n",
       "      <td>http://images.amazon.com/images/P/0374157065.0...</td>\n",
       "      <td>http://images.amazon.com/images/P/0374157065.0...</td>\n",
       "      <td>http://images.amazon.com/images/P/0374157065.0...</td>\n",
       "      <td>8</td>\n",
       "      <td>0</td>\n",
       "      <td>timmins, ontario, canada</td>\n",
       "      <td>NaN</td>\n",
       "      <td>timmins</td>\n",
       "      <td>ontario</td>\n",
       "      <td>canada</td>\n",
       "    </tr>\n",
       "    <tr>\n",
       "      <th>4</th>\n",
       "      <td>0393045218</td>\n",
       "      <td>The Mummies of Urumchi</td>\n",
       "      <td>E. J. W. Barber</td>\n",
       "      <td>1999</td>\n",
       "      <td>W. W. Norton &amp;amp; Company</td>\n",
       "      <td>http://images.amazon.com/images/P/0393045218.0...</td>\n",
       "      <td>http://images.amazon.com/images/P/0393045218.0...</td>\n",
       "      <td>http://images.amazon.com/images/P/0393045218.0...</td>\n",
       "      <td>8</td>\n",
       "      <td>0</td>\n",
       "      <td>timmins, ontario, canada</td>\n",
       "      <td>NaN</td>\n",
       "      <td>timmins</td>\n",
       "      <td>ontario</td>\n",
       "      <td>canada</td>\n",
       "    </tr>\n",
       "  </tbody>\n",
       "</table>\n",
       "</div>"
      ],
      "text/plain": [
       "         ISBN                                         Book-Title  \\\n",
       "0  0195153448                                Classical Mythology   \n",
       "1  0002005018                                       Clara Callan   \n",
       "2  0060973129                               Decision in Normandy   \n",
       "3  0374157065  Flu: The Story of the Great Influenza Pandemic...   \n",
       "4  0393045218                             The Mummies of Urumchi   \n",
       "\n",
       "            Book-Author  Year-Of-Publication                   Publisher  \\\n",
       "0    Mark P. O. Morford                 2002     Oxford University Press   \n",
       "1  Richard Bruce Wright                 2001       HarperFlamingo Canada   \n",
       "2          Carlo D'Este                 1991             HarperPerennial   \n",
       "3      Gina Bari Kolata                 1999        Farrar Straus Giroux   \n",
       "4       E. J. W. Barber                 1999  W. W. Norton &amp; Company   \n",
       "\n",
       "                                         Image-URL-S  \\\n",
       "0  http://images.amazon.com/images/P/0195153448.0...   \n",
       "1  http://images.amazon.com/images/P/0002005018.0...   \n",
       "2  http://images.amazon.com/images/P/0060973129.0...   \n",
       "3  http://images.amazon.com/images/P/0374157065.0...   \n",
       "4  http://images.amazon.com/images/P/0393045218.0...   \n",
       "\n",
       "                                         Image-URL-M  \\\n",
       "0  http://images.amazon.com/images/P/0195153448.0...   \n",
       "1  http://images.amazon.com/images/P/0002005018.0...   \n",
       "2  http://images.amazon.com/images/P/0060973129.0...   \n",
       "3  http://images.amazon.com/images/P/0374157065.0...   \n",
       "4  http://images.amazon.com/images/P/0393045218.0...   \n",
       "\n",
       "                                         Image-URL-L  User-ID  Book-Rating  \\\n",
       "0  http://images.amazon.com/images/P/0195153448.0...        2            0   \n",
       "1  http://images.amazon.com/images/P/0002005018.0...        8            5   \n",
       "2  http://images.amazon.com/images/P/0060973129.0...        8            0   \n",
       "3  http://images.amazon.com/images/P/0374157065.0...        8            0   \n",
       "4  http://images.amazon.com/images/P/0393045218.0...        8            0   \n",
       "\n",
       "                    Location   Age      City       State Country  \n",
       "0  stockton, california, usa  18.0  stockton  california     usa  \n",
       "1   timmins, ontario, canada   NaN   timmins     ontario  canada  \n",
       "2   timmins, ontario, canada   NaN   timmins     ontario  canada  \n",
       "3   timmins, ontario, canada   NaN   timmins     ontario  canada  \n",
       "4   timmins, ontario, canada   NaN   timmins     ontario  canada  "
      ]
     },
     "execution_count": 8,
     "metadata": {},
     "output_type": "execute_result"
    }
   ],
   "source": [
    "# Spliting the columns 'Location' to create the columns 'City', 'State' and 'Country' \n",
    "\n",
    "spliting = df['Location'].str.split(pat=',',expand=True)\n",
    "df['City'] = spliting[0].str.strip()\n",
    "df['State'] = spliting[1].str.strip()\n",
    "df['Country'] = spliting[2].str.strip()\n",
    "\n",
    "df.head()"
   ]
  },
  {
   "cell_type": "code",
   "execution_count": 9,
   "id": "d9c73910",
   "metadata": {},
   "outputs": [
    {
     "data": {
      "text/plain": [
       "array(['usa', 'canada', 'n/a', '', 'malaysia', 'spain', 'new zealand',\n",
       "       'finland', 'united kingdom', 'netherlands', 'portugal', 'brazil',\n",
       "       'germany', 'austria', 'italy', 'australia', 'france', 'costa rica',\n",
       "       'poland', 'us', 'idaho', 'iran', 'aruba', 'indonesia', 'india',\n",
       "       'pakistan', 'taiwan', 'singapore', 'argentina', 'romania',\n",
       "       'greece', 'england', 'ireland', 'belgium', 'philippines\"',\n",
       "       'mexico', 'philippines', 'south africa', 'burkina faso', 'kansas',\n",
       "       'ile de france', 'croatia', 'switzerland', 'denmark', 'rwanda',\n",
       "       'yugoslavia', 'turkey', 'china', 'japan', 'illinois', 'qatar',\n",
       "       'latvia', 'sweden', 'kuwait', 'nepal', 'peru', 'venezuela',\n",
       "       'south korea\"', 'hong kong', '61 men', 'cambridgeshire',\n",
       "       'united states', 'north carolina', 'slovakia', 'norway',\n",
       "       'dominican republic', 'ontario', 'bosnia and herzegovina',\n",
       "       'south korea', 'macedonia', 'kenya', 'mauritius', 'virginia',\n",
       "       'catalonia', 'yu-song', 'madagascar', 'israel', 'oman', 'egypt',\n",
       "       'north sumatera', 'lithuania', 'guatemala', 'euskal herria',\n",
       "       'russia', 'okinawa', 'ca', 'bermuda', 'new york', 'far away...',\n",
       "       'antarctica', 'andorra', 'united state', 'czech republic',\n",
       "       'florida', 'bulgaria', 'hawaii', 'dc', 'everywhere and anywhere',\n",
       "       'michigan', 'slovenia', 'chile', 'catalunya', 'california',\n",
       "       'washington', 'k1c7b1', 'luxembourg', 'iceland', 'maryland',\n",
       "       'honduras', 'middlesex', 'zambia', 'seoul', 'zimbabwe', 'iowa',\n",
       "       'phillipines', 'new jersey', 'belize', 'cyprus',\n",
       "       'trinidad and tobago', 'puerto rico', 'ohio', 'universe',\n",
       "       'albania', 'texas', 'mozambique', 'oregon', 'cayman islands',\n",
       "       'tdzimi', 'ca.', 'van wert', 'bahamas', 'saudi arabia', 'quit',\n",
       "       'canary islands', 'st.thomasi', 'west yorkshire', 'malta',\n",
       "       'tennessee', 'co. carlow', 'burlington', 'oklahoma', 'ukraine',\n",
       "       'connecticut', 'barbados', 'n/a - on the road', 'indiana', 'laos',\n",
       "       'st. helena', 'alberta', 'paraguay', 'la france', '\\\\n/a\\\\\"',\n",
       "       'haiti', 'san mateo', 'hungary', 'turkmenistan', 'ua', 'burma',\n",
       "       'caribbean sea', 'cape verde', 'saint lucia', 'auckland',\n",
       "       'america', 'morgan', 'tanzania', 'spain\"', 'uk',\n",
       "       'british columbia', 'sri lanka', 'republic of panama',\n",
       "       'massachusetts', 'cuba', 'deutschland', 'united arab emirates',\n",
       "       'senegal', 'obviously', 'pender', 'bahrain', 'ethiopia', 'unknown',\n",
       "       'moldova', 'missouri', 'framingham', 'denmark\"', 'nigeria',\n",
       "       'guernsey', 'jamaica', 'onondaga nation', 'united staes',\n",
       "       'etelä-suomi', '\"', 'rutherford', 'tn', 'ecuador',\n",
       "       'north yorkshire', 'guinea', 'andalucia', 'thailand', 'alderney',\n",
       "       'italia', 'new hampshire', 'niedersachsen', 'angola', 'shelby',\n",
       "       'ghana', 'district of columbia', 'saskatchewan', 'switzerland\"',\n",
       "       'south dakota', 'minnesota', 'estonia', 'west indies', 'bayern',\n",
       "       'afghanistan', 'kosovo', 'worcester', 'new mexico', 'oeiras',\n",
       "       'uruguay', 'csa', 'bolivia', 'solomon islands', 'ireland\"',\n",
       "       'algeria', 'benin', 'collin', 'u.s.a.', 'kazakhstan', 'turkey\"',\n",
       "       'metro manila', 'new south wales', 'lk ammerland', 'stadt',\n",
       "       'new zealand\"', 'kern', 'u.k.', 'uzbekistan', 'panama', 'zapopan',\n",
       "       'queensland', 'space', 'pontevedra', 'ysa', 'netherlands\"',\n",
       "       'españa', 'wales', 'portugal\"', 'georgia', 'aroostook',\n",
       "       'thailand\"', 'aberdeenshire', 'nebraska', 'polk',\n",
       "       'papua new guinea', 'france\"', 'iraq', 'arizona', 'grenada',\n",
       "       'nova scotia', 'ouranos', 'galiza', 'colombia', 'v9v 1h4', 'x',\n",
       "       'monaco', 'la chine éternelle!', 'samoa', 'u.a.e', 'austin',\n",
       "       'jersey', 'c', 'united kindgonm', 'west virginia', 'louisiana',\n",
       "       'il', 'shanghai', 'l`italia', 'orense', 'tunisia', 'hungary\"',\n",
       "       'rhode island', 'orange co', 'nz', 'italy\"', 'u.s. of a.',\n",
       "       'granada', 'berlin', 'ferrara', 'mongolia', 'kalamazoo', 'tonga',\n",
       "       'urugua', 'nevada', 'united states of america', 'niger', 'lkjlj',\n",
       "       'ventura county', 'palau', 'victoria', 'lebanon', 'alachua',\n",
       "       'la chine éternelle !', 'china\"', 'almería', 'colorado', 'vietnam',\n",
       "       'marshall islands', 'new brunswick', 'francisco morazan',\n",
       "       'hernando', 'richmond country', 'madrid', 'wisconsin',\n",
       "       'we`re global!', 'newfoundland', 'ee.uu', 'álava', 'brunei',\n",
       "       'kedah', 'otago', 'maine', 'germany\"', 'camden', 'tajikistan',\n",
       "       'scotland', 'finland\"', 'montana', 'arkansas', 'petrolwar nation',\n",
       "       'morocco', 'lleida', 'travelling....', 'pennsylvania',\n",
       "       'nottinghamshire', 'bourgogne', 'maricopa', 'berguedà',\n",
       "       'the great white north', 'luxembourg\"', 'alaska', 'norway\"',\n",
       "       'quebec', 'los estados unidos de norte america', 'eu',\n",
       "       'antigua and barbuda', 'cherokee', 'cameroon', 'alabama',\n",
       "       'hungary and usa', 'la belgique', 'cananda', 'catalunya spain',\n",
       "       'nsw', 'belgium\"', 'u.s>', 'sweden\"', 'venezia giulia',\n",
       "       'päijät-häme', 'cambodia', 'st.gallen', 'south island',\n",
       "       'united kingdom\"', 'anystate', 'galiza neghra', 'paris',\n",
       "       'tasmania', 'maracopa', 'saint loius', 'prince william',\n",
       "       'pais vasco', 'county galway', 'u.s.a>', 'syria', 'bc', 'fiji',\n",
       "       '\\\\\"n/a\\\\\"\"', 'south australia', 'north dakota', 'gabon',\n",
       "       'disrito federal', 'gipuzkoa', 'here and there', 'bangladesh',\n",
       "       'el salvador', 'gambia', 'san franicsco', 'united sates',\n",
       "       'la suisse', 'croatia\"', 'fort bend', 'baden-wuerttemberg',\n",
       "       'macau', 'usa & canada', 'uganda', 'county cork', 'guinea-bissau',\n",
       "       'hagiwara', 'in europe', 'mexico\"', 'usa now', 'argentina\"',\n",
       "       'australian capital territory',\n",
       "       'usa (currently living in england)', 'd.c.'], dtype=object)"
      ]
     },
     "execution_count": 9,
     "metadata": {},
     "output_type": "execute_result"
    }
   ],
   "source": [
    "df['Country'].unique()"
   ]
  },
  {
   "cell_type": "code",
   "execution_count": 10,
   "id": "9beb4cbb",
   "metadata": {},
   "outputs": [],
   "source": [
    "countries = df['Country'].unique()\n",
    "\n",
    "df['Country'] = [country.replace('\"', '').strip('/\\\\').title() for country in df['Country']]\n",
    "#먼저 큰따옴표(\"),문자열 양 끝의 슬래시(/)와 역슬래시(\\)를 제거,각 단어의 첫 글자를 대문자로 "
   ]
  },
  {
   "cell_type": "code",
   "execution_count": 52,
   "id": "6ef09383",
   "metadata": {},
   "outputs": [
    {
     "data": {
      "text/html": [
       "<div>\n",
       "<style scoped>\n",
       "    .dataframe tbody tr th:only-of-type {\n",
       "        vertical-align: middle;\n",
       "    }\n",
       "\n",
       "    .dataframe tbody tr th {\n",
       "        vertical-align: top;\n",
       "    }\n",
       "\n",
       "    .dataframe thead th {\n",
       "        text-align: right;\n",
       "    }\n",
       "</style>\n",
       "<table border=\"1\" class=\"dataframe\">\n",
       "  <thead>\n",
       "    <tr style=\"text-align: right;\">\n",
       "      <th></th>\n",
       "      <th>ISBN</th>\n",
       "      <th>Book-Title</th>\n",
       "      <th>Book-Author</th>\n",
       "      <th>Year-Of-Publication</th>\n",
       "      <th>Publisher</th>\n",
       "      <th>Image-URL-S</th>\n",
       "      <th>Image-URL-M</th>\n",
       "      <th>Image-URL-L</th>\n",
       "      <th>User-ID</th>\n",
       "      <th>Book-Rating</th>\n",
       "      <th>Location</th>\n",
       "      <th>Age</th>\n",
       "      <th>City</th>\n",
       "      <th>State</th>\n",
       "      <th>Country</th>\n",
       "    </tr>\n",
       "  </thead>\n",
       "  <tbody>\n",
       "    <tr>\n",
       "      <th>0</th>\n",
       "      <td>0195153448</td>\n",
       "      <td>Classical Mythology</td>\n",
       "      <td>Mark P. O. Morford</td>\n",
       "      <td>2002</td>\n",
       "      <td>Oxford University Press</td>\n",
       "      <td>http://images.amazon.com/images/P/0195153448.0...</td>\n",
       "      <td>http://images.amazon.com/images/P/0195153448.0...</td>\n",
       "      <td>http://images.amazon.com/images/P/0195153448.0...</td>\n",
       "      <td>2</td>\n",
       "      <td>0</td>\n",
       "      <td>stockton, california, usa</td>\n",
       "      <td>18.0</td>\n",
       "      <td>stockton</td>\n",
       "      <td>california</td>\n",
       "      <td>Usa</td>\n",
       "    </tr>\n",
       "    <tr>\n",
       "      <th>1</th>\n",
       "      <td>0002005018</td>\n",
       "      <td>Clara Callan</td>\n",
       "      <td>Richard Bruce Wright</td>\n",
       "      <td>2001</td>\n",
       "      <td>HarperFlamingo Canada</td>\n",
       "      <td>http://images.amazon.com/images/P/0002005018.0...</td>\n",
       "      <td>http://images.amazon.com/images/P/0002005018.0...</td>\n",
       "      <td>http://images.amazon.com/images/P/0002005018.0...</td>\n",
       "      <td>8</td>\n",
       "      <td>5</td>\n",
       "      <td>timmins, ontario, canada</td>\n",
       "      <td>NaN</td>\n",
       "      <td>timmins</td>\n",
       "      <td>ontario</td>\n",
       "      <td>Canada</td>\n",
       "    </tr>\n",
       "    <tr>\n",
       "      <th>2</th>\n",
       "      <td>0060973129</td>\n",
       "      <td>Decision in Normandy</td>\n",
       "      <td>Carlo D'Este</td>\n",
       "      <td>1991</td>\n",
       "      <td>HarperPerennial</td>\n",
       "      <td>http://images.amazon.com/images/P/0060973129.0...</td>\n",
       "      <td>http://images.amazon.com/images/P/0060973129.0...</td>\n",
       "      <td>http://images.amazon.com/images/P/0060973129.0...</td>\n",
       "      <td>8</td>\n",
       "      <td>0</td>\n",
       "      <td>timmins, ontario, canada</td>\n",
       "      <td>NaN</td>\n",
       "      <td>timmins</td>\n",
       "      <td>ontario</td>\n",
       "      <td>Canada</td>\n",
       "    </tr>\n",
       "    <tr>\n",
       "      <th>3</th>\n",
       "      <td>0374157065</td>\n",
       "      <td>Flu: The Story of the Great Influenza Pandemic...</td>\n",
       "      <td>Gina Bari Kolata</td>\n",
       "      <td>1999</td>\n",
       "      <td>Farrar Straus Giroux</td>\n",
       "      <td>http://images.amazon.com/images/P/0374157065.0...</td>\n",
       "      <td>http://images.amazon.com/images/P/0374157065.0...</td>\n",
       "      <td>http://images.amazon.com/images/P/0374157065.0...</td>\n",
       "      <td>8</td>\n",
       "      <td>0</td>\n",
       "      <td>timmins, ontario, canada</td>\n",
       "      <td>NaN</td>\n",
       "      <td>timmins</td>\n",
       "      <td>ontario</td>\n",
       "      <td>Canada</td>\n",
       "    </tr>\n",
       "    <tr>\n",
       "      <th>4</th>\n",
       "      <td>0393045218</td>\n",
       "      <td>The Mummies of Urumchi</td>\n",
       "      <td>E. J. W. Barber</td>\n",
       "      <td>1999</td>\n",
       "      <td>W. W. Norton &amp;amp; Company</td>\n",
       "      <td>http://images.amazon.com/images/P/0393045218.0...</td>\n",
       "      <td>http://images.amazon.com/images/P/0393045218.0...</td>\n",
       "      <td>http://images.amazon.com/images/P/0393045218.0...</td>\n",
       "      <td>8</td>\n",
       "      <td>0</td>\n",
       "      <td>timmins, ontario, canada</td>\n",
       "      <td>NaN</td>\n",
       "      <td>timmins</td>\n",
       "      <td>ontario</td>\n",
       "      <td>Canada</td>\n",
       "    </tr>\n",
       "  </tbody>\n",
       "</table>\n",
       "</div>"
      ],
      "text/plain": [
       "         ISBN                                         Book-Title  \\\n",
       "0  0195153448                                Classical Mythology   \n",
       "1  0002005018                                       Clara Callan   \n",
       "2  0060973129                               Decision in Normandy   \n",
       "3  0374157065  Flu: The Story of the Great Influenza Pandemic...   \n",
       "4  0393045218                             The Mummies of Urumchi   \n",
       "\n",
       "            Book-Author  Year-Of-Publication                   Publisher  \\\n",
       "0    Mark P. O. Morford                 2002     Oxford University Press   \n",
       "1  Richard Bruce Wright                 2001       HarperFlamingo Canada   \n",
       "2          Carlo D'Este                 1991             HarperPerennial   \n",
       "3      Gina Bari Kolata                 1999        Farrar Straus Giroux   \n",
       "4       E. J. W. Barber                 1999  W. W. Norton &amp; Company   \n",
       "\n",
       "                                         Image-URL-S  \\\n",
       "0  http://images.amazon.com/images/P/0195153448.0...   \n",
       "1  http://images.amazon.com/images/P/0002005018.0...   \n",
       "2  http://images.amazon.com/images/P/0060973129.0...   \n",
       "3  http://images.amazon.com/images/P/0374157065.0...   \n",
       "4  http://images.amazon.com/images/P/0393045218.0...   \n",
       "\n",
       "                                         Image-URL-M  \\\n",
       "0  http://images.amazon.com/images/P/0195153448.0...   \n",
       "1  http://images.amazon.com/images/P/0002005018.0...   \n",
       "2  http://images.amazon.com/images/P/0060973129.0...   \n",
       "3  http://images.amazon.com/images/P/0374157065.0...   \n",
       "4  http://images.amazon.com/images/P/0393045218.0...   \n",
       "\n",
       "                                         Image-URL-L  User-ID  Book-Rating  \\\n",
       "0  http://images.amazon.com/images/P/0195153448.0...        2            0   \n",
       "1  http://images.amazon.com/images/P/0002005018.0...        8            5   \n",
       "2  http://images.amazon.com/images/P/0060973129.0...        8            0   \n",
       "3  http://images.amazon.com/images/P/0374157065.0...        8            0   \n",
       "4  http://images.amazon.com/images/P/0393045218.0...        8            0   \n",
       "\n",
       "                    Location   Age      City       State Country  \n",
       "0  stockton, california, usa  18.0  stockton  california     Usa  \n",
       "1   timmins, ontario, canada   NaN   timmins     ontario  Canada  \n",
       "2   timmins, ontario, canada   NaN   timmins     ontario  Canada  \n",
       "3   timmins, ontario, canada   NaN   timmins     ontario  Canada  \n",
       "4   timmins, ontario, canada   NaN   timmins     ontario  Canada  "
      ]
     },
     "execution_count": 52,
     "metadata": {},
     "output_type": "execute_result"
    }
   ],
   "source": [
    "# Checking the values to USA, Canada, Mexico\n",
    "\n",
    "search_strings = ['Usa', 'Canada', 'Mexico']\n",
    "search_result = df[df['Country'].str.contains('|'.join(search_strings))]\n",
    "search_result.head()"
   ]
  },
  {
   "cell_type": "markdown",
   "id": "0b5bfb6f",
   "metadata": {},
   "source": [
    "# 데이터가 거의 다 미국, 캐나다, 멕시코꺼네!!"
   ]
  },
  {
   "cell_type": "code",
   "execution_count": 82,
   "id": "e28a4df7",
   "metadata": {},
   "outputs": [
    {
     "data": {
      "text/html": [
       "<div>\n",
       "<style scoped>\n",
       "    .dataframe tbody tr th:only-of-type {\n",
       "        vertical-align: middle;\n",
       "    }\n",
       "\n",
       "    .dataframe tbody tr th {\n",
       "        vertical-align: top;\n",
       "    }\n",
       "\n",
       "    .dataframe thead th {\n",
       "        text-align: right;\n",
       "    }\n",
       "</style>\n",
       "<table border=\"1\" class=\"dataframe\">\n",
       "  <thead>\n",
       "    <tr style=\"text-align: right;\">\n",
       "      <th></th>\n",
       "      <th>ISBN</th>\n",
       "      <th>Book-Title</th>\n",
       "      <th>Book-Author</th>\n",
       "      <th>Year-Of-Publication</th>\n",
       "      <th>Publisher</th>\n",
       "      <th>Image-URL-S</th>\n",
       "      <th>Image-URL-M</th>\n",
       "      <th>Image-URL-L</th>\n",
       "      <th>User-ID</th>\n",
       "      <th>Book-Rating</th>\n",
       "      <th>Location</th>\n",
       "      <th>Age</th>\n",
       "      <th>City</th>\n",
       "      <th>State</th>\n",
       "      <th>Country</th>\n",
       "    </tr>\n",
       "  </thead>\n",
       "  <tbody>\n",
       "    <tr>\n",
       "      <th>32545</th>\n",
       "      <td>1575663937</td>\n",
       "      <td>More Cunning Than Man: A Social History of Rat...</td>\n",
       "      <td>Robert Hendrickson</td>\n",
       "      <td>1999</td>\n",
       "      <td>Kensington Publishing Corp.</td>\n",
       "      <td>http://images.amazon.com/images/P/1575663937.0...</td>\n",
       "      <td>http://images.amazon.com/images/P/1575663937.0...</td>\n",
       "      <td>http://images.amazon.com/images/P/1575663937.0...</td>\n",
       "      <td>213915</td>\n",
       "      <td>0</td>\n",
       "      <td>sheffield, s yorkshire, united kingdom</td>\n",
       "      <td>29.0</td>\n",
       "      <td>sheffield</td>\n",
       "      <td>s yorkshire</td>\n",
       "      <td>United Kingdom</td>\n",
       "    </tr>\n",
       "    <tr>\n",
       "      <th>32546</th>\n",
       "      <td>0971880107</td>\n",
       "      <td>Wild Animus</td>\n",
       "      <td>Rich Shapero</td>\n",
       "      <td>2004</td>\n",
       "      <td>Too Far</td>\n",
       "      <td>http://images.amazon.com/images/P/0971880107.0...</td>\n",
       "      <td>http://images.amazon.com/images/P/0971880107.0...</td>\n",
       "      <td>http://images.amazon.com/images/P/0971880107.0...</td>\n",
       "      <td>213915</td>\n",
       "      <td>0</td>\n",
       "      <td>sheffield, s yorkshire, united kingdom</td>\n",
       "      <td>29.0</td>\n",
       "      <td>sheffield</td>\n",
       "      <td>s yorkshire</td>\n",
       "      <td>United Kingdom</td>\n",
       "    </tr>\n",
       "    <tr>\n",
       "      <th>32547</th>\n",
       "      <td>0449207595</td>\n",
       "      <td>The Grass Is Always Greener over the Septic Tank</td>\n",
       "      <td>Erma Bombeck</td>\n",
       "      <td>1988</td>\n",
       "      <td>Fawcett Books</td>\n",
       "      <td>http://images.amazon.com/images/P/0449207595.0...</td>\n",
       "      <td>http://images.amazon.com/images/P/0449207595.0...</td>\n",
       "      <td>http://images.amazon.com/images/P/0449207595.0...</td>\n",
       "      <td>213915</td>\n",
       "      <td>0</td>\n",
       "      <td>sheffield, s yorkshire, united kingdom</td>\n",
       "      <td>29.0</td>\n",
       "      <td>sheffield</td>\n",
       "      <td>s yorkshire</td>\n",
       "      <td>United Kingdom</td>\n",
       "    </tr>\n",
       "    <tr>\n",
       "      <th>32548</th>\n",
       "      <td>0380789035</td>\n",
       "      <td>American Gods</td>\n",
       "      <td>Neil Gaiman</td>\n",
       "      <td>2002</td>\n",
       "      <td>HarperTorch</td>\n",
       "      <td>http://images.amazon.com/images/P/0380789035.0...</td>\n",
       "      <td>http://images.amazon.com/images/P/0380789035.0...</td>\n",
       "      <td>http://images.amazon.com/images/P/0380789035.0...</td>\n",
       "      <td>213915</td>\n",
       "      <td>0</td>\n",
       "      <td>sheffield, s yorkshire, united kingdom</td>\n",
       "      <td>29.0</td>\n",
       "      <td>sheffield</td>\n",
       "      <td>s yorkshire</td>\n",
       "      <td>United Kingdom</td>\n",
       "    </tr>\n",
       "    <tr>\n",
       "      <th>32549</th>\n",
       "      <td>0385498721</td>\n",
       "      <td>Survivor : A Novel</td>\n",
       "      <td>CHUCK PALAHNIUK</td>\n",
       "      <td>2000</td>\n",
       "      <td>Anchor</td>\n",
       "      <td>http://images.amazon.com/images/P/0385498721.0...</td>\n",
       "      <td>http://images.amazon.com/images/P/0385498721.0...</td>\n",
       "      <td>http://images.amazon.com/images/P/0385498721.0...</td>\n",
       "      <td>213915</td>\n",
       "      <td>0</td>\n",
       "      <td>sheffield, s yorkshire, united kingdom</td>\n",
       "      <td>29.0</td>\n",
       "      <td>sheffield</td>\n",
       "      <td>s yorkshire</td>\n",
       "      <td>United Kingdom</td>\n",
       "    </tr>\n",
       "    <tr>\n",
       "      <th>...</th>\n",
       "      <td>...</td>\n",
       "      <td>...</td>\n",
       "      <td>...</td>\n",
       "      <td>...</td>\n",
       "      <td>...</td>\n",
       "      <td>...</td>\n",
       "      <td>...</td>\n",
       "      <td>...</td>\n",
       "      <td>...</td>\n",
       "      <td>...</td>\n",
       "      <td>...</td>\n",
       "      <td>...</td>\n",
       "      <td>...</td>\n",
       "      <td>...</td>\n",
       "      <td>...</td>\n",
       "    </tr>\n",
       "    <tr>\n",
       "      <th>1031121</th>\n",
       "      <td>3593358069</td>\n",
       "      <td>Die Entscheidung liegt bei dir. Wege aus der a...</td>\n",
       "      <td>Reinhard K. Sprenger</td>\n",
       "      <td>2002</td>\n",
       "      <td>Campus Sachbuch</td>\n",
       "      <td>http://images.amazon.com/images/P/3593358069.0...</td>\n",
       "      <td>http://images.amazon.com/images/P/3593358069.0...</td>\n",
       "      <td>http://images.amazon.com/images/P/3593358069.0...</td>\n",
       "      <td>245019</td>\n",
       "      <td>0</td>\n",
       "      <td>zurich, zurich, switzerland</td>\n",
       "      <td>23.0</td>\n",
       "      <td>zurich</td>\n",
       "      <td>zurich</td>\n",
       "      <td>Switzerland</td>\n",
       "    </tr>\n",
       "    <tr>\n",
       "      <th>1031122</th>\n",
       "      <td>8806151681</td>\n",
       "      <td>Lessico Famigliare</td>\n",
       "      <td>Natalia Ginzburg</td>\n",
       "      <td>1963</td>\n",
       "      <td>Einaudi</td>\n",
       "      <td>http://images.amazon.com/images/P/8806151681.0...</td>\n",
       "      <td>http://images.amazon.com/images/P/8806151681.0...</td>\n",
       "      <td>http://images.amazon.com/images/P/8806151681.0...</td>\n",
       "      <td>245019</td>\n",
       "      <td>0</td>\n",
       "      <td>zurich, zurich, switzerland</td>\n",
       "      <td>23.0</td>\n",
       "      <td>zurich</td>\n",
       "      <td>zurich</td>\n",
       "      <td>Switzerland</td>\n",
       "    </tr>\n",
       "    <tr>\n",
       "      <th>1031124</th>\n",
       "      <td>0413589307</td>\n",
       "      <td>Up for None and Coming Apart (New Theatrescripts)</td>\n",
       "      <td>Barrie Keeffe</td>\n",
       "      <td>1986</td>\n",
       "      <td>Greenwood Pub Group</td>\n",
       "      <td>http://images.amazon.com/images/P/0413589307.0...</td>\n",
       "      <td>http://images.amazon.com/images/P/0413589307.0...</td>\n",
       "      <td>http://images.amazon.com/images/P/0413589307.0...</td>\n",
       "      <td>245241</td>\n",
       "      <td>8</td>\n",
       "      <td>london, n/a, united kingdom</td>\n",
       "      <td>17.0</td>\n",
       "      <td>london</td>\n",
       "      <td>n/a</td>\n",
       "      <td>United Kingdom</td>\n",
       "    </tr>\n",
       "    <tr>\n",
       "      <th>1031125</th>\n",
       "      <td>3442350999</td>\n",
       "      <td>Sekt oder Selters.</td>\n",
       "      <td>Victoria Routledge</td>\n",
       "      <td>1999</td>\n",
       "      <td>Goldmann</td>\n",
       "      <td>http://images.amazon.com/images/P/3442350999.0...</td>\n",
       "      <td>http://images.amazon.com/images/P/3442350999.0...</td>\n",
       "      <td>http://images.amazon.com/images/P/3442350999.0...</td>\n",
       "      <td>245246</td>\n",
       "      <td>0</td>\n",
       "      <td>n***, sachsen-anahlt, germany</td>\n",
       "      <td>NaN</td>\n",
       "      <td>n***</td>\n",
       "      <td>sachsen-anahlt</td>\n",
       "      <td>Germany</td>\n",
       "    </tr>\n",
       "    <tr>\n",
       "      <th>1031135</th>\n",
       "      <td>3423300965</td>\n",
       "      <td>Texte zur Ethik.</td>\n",
       "      <td>Dieter Birnbacher</td>\n",
       "      <td>2003</td>\n",
       "      <td>Dtv</td>\n",
       "      <td>http://images.amazon.com/images/P/3423300965.0...</td>\n",
       "      <td>http://images.amazon.com/images/P/3423300965.0...</td>\n",
       "      <td>http://images.amazon.com/images/P/3423300965.0...</td>\n",
       "      <td>259920</td>\n",
       "      <td>0</td>\n",
       "      <td>bielefeld, nordrhein-westfalen, germany</td>\n",
       "      <td>NaN</td>\n",
       "      <td>bielefeld</td>\n",
       "      <td>nordrhein-westfalen</td>\n",
       "      <td>Germany</td>\n",
       "    </tr>\n",
       "  </tbody>\n",
       "</table>\n",
       "<p>74157 rows × 15 columns</p>\n",
       "</div>"
      ],
      "text/plain": [
       "               ISBN                                         Book-Title  \\\n",
       "32545    1575663937  More Cunning Than Man: A Social History of Rat...   \n",
       "32546    0971880107                                        Wild Animus   \n",
       "32547    0449207595   The Grass Is Always Greener over the Septic Tank   \n",
       "32548    0380789035                                      American Gods   \n",
       "32549    0385498721                                 Survivor : A Novel   \n",
       "...             ...                                                ...   \n",
       "1031121  3593358069  Die Entscheidung liegt bei dir. Wege aus der a...   \n",
       "1031122  8806151681                                 Lessico Famigliare   \n",
       "1031124  0413589307  Up for None and Coming Apart (New Theatrescripts)   \n",
       "1031125  3442350999                                 Sekt oder Selters.   \n",
       "1031135  3423300965                                   Texte zur Ethik.   \n",
       "\n",
       "                  Book-Author  Year-Of-Publication  \\\n",
       "32545      Robert Hendrickson                 1999   \n",
       "32546            Rich Shapero                 2004   \n",
       "32547            Erma Bombeck                 1988   \n",
       "32548             Neil Gaiman                 2002   \n",
       "32549         CHUCK PALAHNIUK                 2000   \n",
       "...                       ...                  ...   \n",
       "1031121  Reinhard K. Sprenger                 2002   \n",
       "1031122      Natalia Ginzburg                 1963   \n",
       "1031124         Barrie Keeffe                 1986   \n",
       "1031125    Victoria Routledge                 1999   \n",
       "1031135     Dieter Birnbacher                 2003   \n",
       "\n",
       "                           Publisher  \\\n",
       "32545    Kensington Publishing Corp.   \n",
       "32546                        Too Far   \n",
       "32547                  Fawcett Books   \n",
       "32548                    HarperTorch   \n",
       "32549                         Anchor   \n",
       "...                              ...   \n",
       "1031121              Campus Sachbuch   \n",
       "1031122                      Einaudi   \n",
       "1031124          Greenwood Pub Group   \n",
       "1031125                     Goldmann   \n",
       "1031135                          Dtv   \n",
       "\n",
       "                                               Image-URL-S  \\\n",
       "32545    http://images.amazon.com/images/P/1575663937.0...   \n",
       "32546    http://images.amazon.com/images/P/0971880107.0...   \n",
       "32547    http://images.amazon.com/images/P/0449207595.0...   \n",
       "32548    http://images.amazon.com/images/P/0380789035.0...   \n",
       "32549    http://images.amazon.com/images/P/0385498721.0...   \n",
       "...                                                    ...   \n",
       "1031121  http://images.amazon.com/images/P/3593358069.0...   \n",
       "1031122  http://images.amazon.com/images/P/8806151681.0...   \n",
       "1031124  http://images.amazon.com/images/P/0413589307.0...   \n",
       "1031125  http://images.amazon.com/images/P/3442350999.0...   \n",
       "1031135  http://images.amazon.com/images/P/3423300965.0...   \n",
       "\n",
       "                                               Image-URL-M  \\\n",
       "32545    http://images.amazon.com/images/P/1575663937.0...   \n",
       "32546    http://images.amazon.com/images/P/0971880107.0...   \n",
       "32547    http://images.amazon.com/images/P/0449207595.0...   \n",
       "32548    http://images.amazon.com/images/P/0380789035.0...   \n",
       "32549    http://images.amazon.com/images/P/0385498721.0...   \n",
       "...                                                    ...   \n",
       "1031121  http://images.amazon.com/images/P/3593358069.0...   \n",
       "1031122  http://images.amazon.com/images/P/8806151681.0...   \n",
       "1031124  http://images.amazon.com/images/P/0413589307.0...   \n",
       "1031125  http://images.amazon.com/images/P/3442350999.0...   \n",
       "1031135  http://images.amazon.com/images/P/3423300965.0...   \n",
       "\n",
       "                                               Image-URL-L  User-ID  \\\n",
       "32545    http://images.amazon.com/images/P/1575663937.0...   213915   \n",
       "32546    http://images.amazon.com/images/P/0971880107.0...   213915   \n",
       "32547    http://images.amazon.com/images/P/0449207595.0...   213915   \n",
       "32548    http://images.amazon.com/images/P/0380789035.0...   213915   \n",
       "32549    http://images.amazon.com/images/P/0385498721.0...   213915   \n",
       "...                                                    ...      ...   \n",
       "1031121  http://images.amazon.com/images/P/3593358069.0...   245019   \n",
       "1031122  http://images.amazon.com/images/P/8806151681.0...   245019   \n",
       "1031124  http://images.amazon.com/images/P/0413589307.0...   245241   \n",
       "1031125  http://images.amazon.com/images/P/3442350999.0...   245246   \n",
       "1031135  http://images.amazon.com/images/P/3423300965.0...   259920   \n",
       "\n",
       "         Book-Rating                                 Location   Age  \\\n",
       "32545              0   sheffield, s yorkshire, united kingdom  29.0   \n",
       "32546              0   sheffield, s yorkshire, united kingdom  29.0   \n",
       "32547              0   sheffield, s yorkshire, united kingdom  29.0   \n",
       "32548              0   sheffield, s yorkshire, united kingdom  29.0   \n",
       "32549              0   sheffield, s yorkshire, united kingdom  29.0   \n",
       "...              ...                                      ...   ...   \n",
       "1031121            0              zurich, zurich, switzerland  23.0   \n",
       "1031122            0              zurich, zurich, switzerland  23.0   \n",
       "1031124            8              london, n/a, united kingdom  17.0   \n",
       "1031125            0            n***, sachsen-anahlt, germany   NaN   \n",
       "1031135            0  bielefeld, nordrhein-westfalen, germany   NaN   \n",
       "\n",
       "              City                State         Country  \n",
       "32545    sheffield          s yorkshire  United Kingdom  \n",
       "32546    sheffield          s yorkshire  United Kingdom  \n",
       "32547    sheffield          s yorkshire  United Kingdom  \n",
       "32548    sheffield          s yorkshire  United Kingdom  \n",
       "32549    sheffield          s yorkshire  United Kingdom  \n",
       "...            ...                  ...             ...  \n",
       "1031121     zurich               zurich     Switzerland  \n",
       "1031122     zurich               zurich     Switzerland  \n",
       "1031124     london                  n/a  United Kingdom  \n",
       "1031125       n***       sachsen-anahlt         Germany  \n",
       "1031135  bielefeld  nordrhein-westfalen         Germany  \n",
       "\n",
       "[74157 rows x 15 columns]"
      ]
     },
     "execution_count": 82,
     "metadata": {},
     "output_type": "execute_result"
    }
   ],
   "source": [
    "# 서유럽 10개 국의 분포\n",
    "\n",
    "search_strings2 = ['Germany', 'greece', 'italy', 'Switzerland', 'United Kingdom', 'Portugal', 'Belgium',\n",
    "                  'Austria', 'denmark', 'Nethelands']\n",
    "search_result2 = df[df['Country'].str.contains('|'.join(search_strings2))]\n",
    "search_result2\n",
    "\n",
    "# 약 7만 4천 개 정도"
   ]
  },
  {
   "cell_type": "code",
   "execution_count": 53,
   "id": "e5122cfc",
   "metadata": {},
   "outputs": [
    {
     "data": {
      "text/html": [
       "<div>\n",
       "<style scoped>\n",
       "    .dataframe tbody tr th:only-of-type {\n",
       "        vertical-align: middle;\n",
       "    }\n",
       "\n",
       "    .dataframe tbody tr th {\n",
       "        vertical-align: top;\n",
       "    }\n",
       "\n",
       "    .dataframe thead th {\n",
       "        text-align: right;\n",
       "    }\n",
       "</style>\n",
       "<table border=\"1\" class=\"dataframe\">\n",
       "  <thead>\n",
       "    <tr style=\"text-align: right;\">\n",
       "      <th></th>\n",
       "      <th>ISBN</th>\n",
       "      <th>Book-Title</th>\n",
       "      <th>Book-Author</th>\n",
       "      <th>Year-Of-Publication</th>\n",
       "      <th>Publisher</th>\n",
       "      <th>Image-URL-S</th>\n",
       "      <th>Image-URL-M</th>\n",
       "      <th>Image-URL-L</th>\n",
       "      <th>User-ID</th>\n",
       "      <th>Book-Rating</th>\n",
       "      <th>Location</th>\n",
       "      <th>Age</th>\n",
       "      <th>City</th>\n",
       "      <th>State</th>\n",
       "      <th>Country</th>\n",
       "    </tr>\n",
       "  </thead>\n",
       "  <tbody>\n",
       "    <tr>\n",
       "      <th>0</th>\n",
       "      <td>0195153448</td>\n",
       "      <td>Classical Mythology</td>\n",
       "      <td>Mark P. O. Morford</td>\n",
       "      <td>2002</td>\n",
       "      <td>Oxford University Press</td>\n",
       "      <td>http://images.amazon.com/images/P/0195153448.0...</td>\n",
       "      <td>http://images.amazon.com/images/P/0195153448.0...</td>\n",
       "      <td>http://images.amazon.com/images/P/0195153448.0...</td>\n",
       "      <td>2</td>\n",
       "      <td>0</td>\n",
       "      <td>stockton, california, usa</td>\n",
       "      <td>18.0</td>\n",
       "      <td>stockton</td>\n",
       "      <td>california</td>\n",
       "      <td>Usa</td>\n",
       "    </tr>\n",
       "    <tr>\n",
       "      <th>1</th>\n",
       "      <td>0002005018</td>\n",
       "      <td>Clara Callan</td>\n",
       "      <td>Richard Bruce Wright</td>\n",
       "      <td>2001</td>\n",
       "      <td>HarperFlamingo Canada</td>\n",
       "      <td>http://images.amazon.com/images/P/0002005018.0...</td>\n",
       "      <td>http://images.amazon.com/images/P/0002005018.0...</td>\n",
       "      <td>http://images.amazon.com/images/P/0002005018.0...</td>\n",
       "      <td>8</td>\n",
       "      <td>5</td>\n",
       "      <td>timmins, ontario, canada</td>\n",
       "      <td>NaN</td>\n",
       "      <td>timmins</td>\n",
       "      <td>ontario</td>\n",
       "      <td>Canada</td>\n",
       "    </tr>\n",
       "    <tr>\n",
       "      <th>2</th>\n",
       "      <td>0060973129</td>\n",
       "      <td>Decision in Normandy</td>\n",
       "      <td>Carlo D'Este</td>\n",
       "      <td>1991</td>\n",
       "      <td>HarperPerennial</td>\n",
       "      <td>http://images.amazon.com/images/P/0060973129.0...</td>\n",
       "      <td>http://images.amazon.com/images/P/0060973129.0...</td>\n",
       "      <td>http://images.amazon.com/images/P/0060973129.0...</td>\n",
       "      <td>8</td>\n",
       "      <td>0</td>\n",
       "      <td>timmins, ontario, canada</td>\n",
       "      <td>NaN</td>\n",
       "      <td>timmins</td>\n",
       "      <td>ontario</td>\n",
       "      <td>Canada</td>\n",
       "    </tr>\n",
       "    <tr>\n",
       "      <th>3</th>\n",
       "      <td>0374157065</td>\n",
       "      <td>Flu: The Story of the Great Influenza Pandemic...</td>\n",
       "      <td>Gina Bari Kolata</td>\n",
       "      <td>1999</td>\n",
       "      <td>Farrar Straus Giroux</td>\n",
       "      <td>http://images.amazon.com/images/P/0374157065.0...</td>\n",
       "      <td>http://images.amazon.com/images/P/0374157065.0...</td>\n",
       "      <td>http://images.amazon.com/images/P/0374157065.0...</td>\n",
       "      <td>8</td>\n",
       "      <td>0</td>\n",
       "      <td>timmins, ontario, canada</td>\n",
       "      <td>NaN</td>\n",
       "      <td>timmins</td>\n",
       "      <td>ontario</td>\n",
       "      <td>Canada</td>\n",
       "    </tr>\n",
       "    <tr>\n",
       "      <th>4</th>\n",
       "      <td>0393045218</td>\n",
       "      <td>The Mummies of Urumchi</td>\n",
       "      <td>E. J. W. Barber</td>\n",
       "      <td>1999</td>\n",
       "      <td>W. W. Norton &amp;amp; Company</td>\n",
       "      <td>http://images.amazon.com/images/P/0393045218.0...</td>\n",
       "      <td>http://images.amazon.com/images/P/0393045218.0...</td>\n",
       "      <td>http://images.amazon.com/images/P/0393045218.0...</td>\n",
       "      <td>8</td>\n",
       "      <td>0</td>\n",
       "      <td>timmins, ontario, canada</td>\n",
       "      <td>NaN</td>\n",
       "      <td>timmins</td>\n",
       "      <td>ontario</td>\n",
       "      <td>Canada</td>\n",
       "    </tr>\n",
       "    <tr>\n",
       "      <th>...</th>\n",
       "      <td>...</td>\n",
       "      <td>...</td>\n",
       "      <td>...</td>\n",
       "      <td>...</td>\n",
       "      <td>...</td>\n",
       "      <td>...</td>\n",
       "      <td>...</td>\n",
       "      <td>...</td>\n",
       "      <td>...</td>\n",
       "      <td>...</td>\n",
       "      <td>...</td>\n",
       "      <td>...</td>\n",
       "      <td>...</td>\n",
       "      <td>...</td>\n",
       "      <td>...</td>\n",
       "    </tr>\n",
       "    <tr>\n",
       "      <th>1031127</th>\n",
       "      <td>0152049266</td>\n",
       "      <td>The Window</td>\n",
       "      <td>Jeanette Ingold</td>\n",
       "      <td>2003</td>\n",
       "      <td>Harcourt Paperbacks</td>\n",
       "      <td>http://images.amazon.com/images/P/0152049266.0...</td>\n",
       "      <td>http://images.amazon.com/images/P/0152049266.0...</td>\n",
       "      <td>http://images.amazon.com/images/P/0152049266.0...</td>\n",
       "      <td>245444</td>\n",
       "      <td>8</td>\n",
       "      <td>linclon, nebraska, usa</td>\n",
       "      <td>18.0</td>\n",
       "      <td>linclon</td>\n",
       "      <td>nebraska</td>\n",
       "      <td>Usa</td>\n",
       "    </tr>\n",
       "    <tr>\n",
       "      <th>1031130</th>\n",
       "      <td>0817310916</td>\n",
       "      <td>One Day in the Life of a Born Again Loser: And...</td>\n",
       "      <td>Helen Norris</td>\n",
       "      <td>2000</td>\n",
       "      <td>University of Alabama Press</td>\n",
       "      <td>http://images.amazon.com/images/P/0817310916.0...</td>\n",
       "      <td>http://images.amazon.com/images/P/0817310916.0...</td>\n",
       "      <td>http://images.amazon.com/images/P/0817310916.0...</td>\n",
       "      <td>259416</td>\n",
       "      <td>0</td>\n",
       "      <td>parkton, maryland, usa</td>\n",
       "      <td>NaN</td>\n",
       "      <td>parkton</td>\n",
       "      <td>maryland</td>\n",
       "      <td>Usa</td>\n",
       "    </tr>\n",
       "    <tr>\n",
       "      <th>1031131</th>\n",
       "      <td>087004124X</td>\n",
       "      <td>Anthem</td>\n",
       "      <td>Ayn Rand</td>\n",
       "      <td>1966</td>\n",
       "      <td>Caxton Press</td>\n",
       "      <td>http://images.amazon.com/images/P/087004124X.0...</td>\n",
       "      <td>http://images.amazon.com/images/P/087004124X.0...</td>\n",
       "      <td>http://images.amazon.com/images/P/087004124X.0...</td>\n",
       "      <td>259589</td>\n",
       "      <td>8</td>\n",
       "      <td>venice, florida, usa</td>\n",
       "      <td>19.0</td>\n",
       "      <td>venice</td>\n",
       "      <td>florida</td>\n",
       "      <td>Usa</td>\n",
       "    </tr>\n",
       "    <tr>\n",
       "      <th>1031132</th>\n",
       "      <td>158243123X</td>\n",
       "      <td>A Student of Weather</td>\n",
       "      <td>Elizabeth Hay</td>\n",
       "      <td>2001</td>\n",
       "      <td>Counterpoint Press</td>\n",
       "      <td>http://images.amazon.com/images/P/158243123X.0...</td>\n",
       "      <td>http://images.amazon.com/images/P/158243123X.0...</td>\n",
       "      <td>http://images.amazon.com/images/P/158243123X.0...</td>\n",
       "      <td>259591</td>\n",
       "      <td>8</td>\n",
       "      <td>tioga, pennsylvania, usa</td>\n",
       "      <td>39.0</td>\n",
       "      <td>tioga</td>\n",
       "      <td>pennsylvania</td>\n",
       "      <td>Usa</td>\n",
       "    </tr>\n",
       "    <tr>\n",
       "      <th>1031134</th>\n",
       "      <td>0838934854</td>\n",
       "      <td>Anglo-American Cataloguing Rules</td>\n",
       "      <td>Michael Gorman</td>\n",
       "      <td>1998</td>\n",
       "      <td>American Library Association</td>\n",
       "      <td>http://images.amazon.com/images/P/0838934854.0...</td>\n",
       "      <td>http://images.amazon.com/images/P/0838934854.0...</td>\n",
       "      <td>http://images.amazon.com/images/P/0838934854.0...</td>\n",
       "      <td>259679</td>\n",
       "      <td>6</td>\n",
       "      <td>grand prairie, texas, usa</td>\n",
       "      <td>27.0</td>\n",
       "      <td>grand prairie</td>\n",
       "      <td>texas</td>\n",
       "      <td>Usa</td>\n",
       "    </tr>\n",
       "  </tbody>\n",
       "</table>\n",
       "<p>838305 rows × 15 columns</p>\n",
       "</div>"
      ],
      "text/plain": [
       "               ISBN                                         Book-Title  \\\n",
       "0        0195153448                                Classical Mythology   \n",
       "1        0002005018                                       Clara Callan   \n",
       "2        0060973129                               Decision in Normandy   \n",
       "3        0374157065  Flu: The Story of the Great Influenza Pandemic...   \n",
       "4        0393045218                             The Mummies of Urumchi   \n",
       "...             ...                                                ...   \n",
       "1031127  0152049266                                         The Window   \n",
       "1031130  0817310916  One Day in the Life of a Born Again Loser: And...   \n",
       "1031131  087004124X                                             Anthem   \n",
       "1031132  158243123X                               A Student of Weather   \n",
       "1031134  0838934854                   Anglo-American Cataloguing Rules   \n",
       "\n",
       "                  Book-Author  Year-Of-Publication  \\\n",
       "0          Mark P. O. Morford                 2002   \n",
       "1        Richard Bruce Wright                 2001   \n",
       "2                Carlo D'Este                 1991   \n",
       "3            Gina Bari Kolata                 1999   \n",
       "4             E. J. W. Barber                 1999   \n",
       "...                       ...                  ...   \n",
       "1031127       Jeanette Ingold                 2003   \n",
       "1031130          Helen Norris                 2000   \n",
       "1031131              Ayn Rand                 1966   \n",
       "1031132         Elizabeth Hay                 2001   \n",
       "1031134        Michael Gorman                 1998   \n",
       "\n",
       "                            Publisher  \\\n",
       "0             Oxford University Press   \n",
       "1               HarperFlamingo Canada   \n",
       "2                     HarperPerennial   \n",
       "3                Farrar Straus Giroux   \n",
       "4          W. W. Norton &amp; Company   \n",
       "...                               ...   \n",
       "1031127           Harcourt Paperbacks   \n",
       "1031130   University of Alabama Press   \n",
       "1031131                  Caxton Press   \n",
       "1031132            Counterpoint Press   \n",
       "1031134  American Library Association   \n",
       "\n",
       "                                               Image-URL-S  \\\n",
       "0        http://images.amazon.com/images/P/0195153448.0...   \n",
       "1        http://images.amazon.com/images/P/0002005018.0...   \n",
       "2        http://images.amazon.com/images/P/0060973129.0...   \n",
       "3        http://images.amazon.com/images/P/0374157065.0...   \n",
       "4        http://images.amazon.com/images/P/0393045218.0...   \n",
       "...                                                    ...   \n",
       "1031127  http://images.amazon.com/images/P/0152049266.0...   \n",
       "1031130  http://images.amazon.com/images/P/0817310916.0...   \n",
       "1031131  http://images.amazon.com/images/P/087004124X.0...   \n",
       "1031132  http://images.amazon.com/images/P/158243123X.0...   \n",
       "1031134  http://images.amazon.com/images/P/0838934854.0...   \n",
       "\n",
       "                                               Image-URL-M  \\\n",
       "0        http://images.amazon.com/images/P/0195153448.0...   \n",
       "1        http://images.amazon.com/images/P/0002005018.0...   \n",
       "2        http://images.amazon.com/images/P/0060973129.0...   \n",
       "3        http://images.amazon.com/images/P/0374157065.0...   \n",
       "4        http://images.amazon.com/images/P/0393045218.0...   \n",
       "...                                                    ...   \n",
       "1031127  http://images.amazon.com/images/P/0152049266.0...   \n",
       "1031130  http://images.amazon.com/images/P/0817310916.0...   \n",
       "1031131  http://images.amazon.com/images/P/087004124X.0...   \n",
       "1031132  http://images.amazon.com/images/P/158243123X.0...   \n",
       "1031134  http://images.amazon.com/images/P/0838934854.0...   \n",
       "\n",
       "                                               Image-URL-L  User-ID  \\\n",
       "0        http://images.amazon.com/images/P/0195153448.0...        2   \n",
       "1        http://images.amazon.com/images/P/0002005018.0...        8   \n",
       "2        http://images.amazon.com/images/P/0060973129.0...        8   \n",
       "3        http://images.amazon.com/images/P/0374157065.0...        8   \n",
       "4        http://images.amazon.com/images/P/0393045218.0...        8   \n",
       "...                                                    ...      ...   \n",
       "1031127  http://images.amazon.com/images/P/0152049266.0...   245444   \n",
       "1031130  http://images.amazon.com/images/P/0817310916.0...   259416   \n",
       "1031131  http://images.amazon.com/images/P/087004124X.0...   259589   \n",
       "1031132  http://images.amazon.com/images/P/158243123X.0...   259591   \n",
       "1031134  http://images.amazon.com/images/P/0838934854.0...   259679   \n",
       "\n",
       "         Book-Rating                   Location   Age           City  \\\n",
       "0                  0  stockton, california, usa  18.0       stockton   \n",
       "1                  5   timmins, ontario, canada   NaN        timmins   \n",
       "2                  0   timmins, ontario, canada   NaN        timmins   \n",
       "3                  0   timmins, ontario, canada   NaN        timmins   \n",
       "4                  0   timmins, ontario, canada   NaN        timmins   \n",
       "...              ...                        ...   ...            ...   \n",
       "1031127            8     linclon, nebraska, usa  18.0        linclon   \n",
       "1031130            0     parkton, maryland, usa   NaN        parkton   \n",
       "1031131            8       venice, florida, usa  19.0         venice   \n",
       "1031132            8   tioga, pennsylvania, usa  39.0          tioga   \n",
       "1031134            6  grand prairie, texas, usa  27.0  grand prairie   \n",
       "\n",
       "                State Country  \n",
       "0          california     Usa  \n",
       "1             ontario  Canada  \n",
       "2             ontario  Canada  \n",
       "3             ontario  Canada  \n",
       "4             ontario  Canada  \n",
       "...               ...     ...  \n",
       "1031127      nebraska     Usa  \n",
       "1031130      maryland     Usa  \n",
       "1031131       florida     Usa  \n",
       "1031132  pennsylvania     Usa  \n",
       "1031134         texas     Usa  \n",
       "\n",
       "[838305 rows x 15 columns]"
      ]
     },
     "execution_count": 53,
     "metadata": {},
     "output_type": "execute_result"
    }
   ],
   "source": [
    "# Create a Dataframe with the North_America_countries USA, Canada, Mexico\n",
    "\n",
    "North_America_countries = ['Usa', 'Canada', 'Mexico']\n",
    "df1 = df[df['Country'].str.contains('|'.join(search_strings))]\n",
    "df1"
   ]
  },
  {
   "cell_type": "code",
   "execution_count": 83,
   "id": "f45a9592",
   "metadata": {},
   "outputs": [
    {
     "data": {
      "text/html": [
       "<div>\n",
       "<style scoped>\n",
       "    .dataframe tbody tr th:only-of-type {\n",
       "        vertical-align: middle;\n",
       "    }\n",
       "\n",
       "    .dataframe tbody tr th {\n",
       "        vertical-align: top;\n",
       "    }\n",
       "\n",
       "    .dataframe thead th {\n",
       "        text-align: right;\n",
       "    }\n",
       "</style>\n",
       "<table border=\"1\" class=\"dataframe\">\n",
       "  <thead>\n",
       "    <tr style=\"text-align: right;\">\n",
       "      <th></th>\n",
       "      <th>ISBN</th>\n",
       "      <th>Book-Title</th>\n",
       "      <th>Book-Author</th>\n",
       "      <th>Year-Of-Publication</th>\n",
       "      <th>Publisher</th>\n",
       "      <th>Image-URL-S</th>\n",
       "      <th>Image-URL-M</th>\n",
       "      <th>Image-URL-L</th>\n",
       "      <th>User-ID</th>\n",
       "      <th>Book-Rating</th>\n",
       "      <th>Location</th>\n",
       "      <th>Age</th>\n",
       "      <th>City</th>\n",
       "      <th>State</th>\n",
       "      <th>Country</th>\n",
       "    </tr>\n",
       "  </thead>\n",
       "  <tbody>\n",
       "    <tr>\n",
       "      <th>32545</th>\n",
       "      <td>1575663937</td>\n",
       "      <td>More Cunning Than Man: A Social History of Rat...</td>\n",
       "      <td>Robert Hendrickson</td>\n",
       "      <td>1999</td>\n",
       "      <td>Kensington Publishing Corp.</td>\n",
       "      <td>http://images.amazon.com/images/P/1575663937.0...</td>\n",
       "      <td>http://images.amazon.com/images/P/1575663937.0...</td>\n",
       "      <td>http://images.amazon.com/images/P/1575663937.0...</td>\n",
       "      <td>213915</td>\n",
       "      <td>0</td>\n",
       "      <td>sheffield, s yorkshire, united kingdom</td>\n",
       "      <td>29.0</td>\n",
       "      <td>sheffield</td>\n",
       "      <td>s yorkshire</td>\n",
       "      <td>United Kingdom</td>\n",
       "    </tr>\n",
       "    <tr>\n",
       "      <th>32546</th>\n",
       "      <td>0971880107</td>\n",
       "      <td>Wild Animus</td>\n",
       "      <td>Rich Shapero</td>\n",
       "      <td>2004</td>\n",
       "      <td>Too Far</td>\n",
       "      <td>http://images.amazon.com/images/P/0971880107.0...</td>\n",
       "      <td>http://images.amazon.com/images/P/0971880107.0...</td>\n",
       "      <td>http://images.amazon.com/images/P/0971880107.0...</td>\n",
       "      <td>213915</td>\n",
       "      <td>0</td>\n",
       "      <td>sheffield, s yorkshire, united kingdom</td>\n",
       "      <td>29.0</td>\n",
       "      <td>sheffield</td>\n",
       "      <td>s yorkshire</td>\n",
       "      <td>United Kingdom</td>\n",
       "    </tr>\n",
       "    <tr>\n",
       "      <th>32547</th>\n",
       "      <td>0449207595</td>\n",
       "      <td>The Grass Is Always Greener over the Septic Tank</td>\n",
       "      <td>Erma Bombeck</td>\n",
       "      <td>1988</td>\n",
       "      <td>Fawcett Books</td>\n",
       "      <td>http://images.amazon.com/images/P/0449207595.0...</td>\n",
       "      <td>http://images.amazon.com/images/P/0449207595.0...</td>\n",
       "      <td>http://images.amazon.com/images/P/0449207595.0...</td>\n",
       "      <td>213915</td>\n",
       "      <td>0</td>\n",
       "      <td>sheffield, s yorkshire, united kingdom</td>\n",
       "      <td>29.0</td>\n",
       "      <td>sheffield</td>\n",
       "      <td>s yorkshire</td>\n",
       "      <td>United Kingdom</td>\n",
       "    </tr>\n",
       "    <tr>\n",
       "      <th>32548</th>\n",
       "      <td>0380789035</td>\n",
       "      <td>American Gods</td>\n",
       "      <td>Neil Gaiman</td>\n",
       "      <td>2002</td>\n",
       "      <td>HarperTorch</td>\n",
       "      <td>http://images.amazon.com/images/P/0380789035.0...</td>\n",
       "      <td>http://images.amazon.com/images/P/0380789035.0...</td>\n",
       "      <td>http://images.amazon.com/images/P/0380789035.0...</td>\n",
       "      <td>213915</td>\n",
       "      <td>0</td>\n",
       "      <td>sheffield, s yorkshire, united kingdom</td>\n",
       "      <td>29.0</td>\n",
       "      <td>sheffield</td>\n",
       "      <td>s yorkshire</td>\n",
       "      <td>United Kingdom</td>\n",
       "    </tr>\n",
       "    <tr>\n",
       "      <th>32549</th>\n",
       "      <td>0385498721</td>\n",
       "      <td>Survivor : A Novel</td>\n",
       "      <td>CHUCK PALAHNIUK</td>\n",
       "      <td>2000</td>\n",
       "      <td>Anchor</td>\n",
       "      <td>http://images.amazon.com/images/P/0385498721.0...</td>\n",
       "      <td>http://images.amazon.com/images/P/0385498721.0...</td>\n",
       "      <td>http://images.amazon.com/images/P/0385498721.0...</td>\n",
       "      <td>213915</td>\n",
       "      <td>0</td>\n",
       "      <td>sheffield, s yorkshire, united kingdom</td>\n",
       "      <td>29.0</td>\n",
       "      <td>sheffield</td>\n",
       "      <td>s yorkshire</td>\n",
       "      <td>United Kingdom</td>\n",
       "    </tr>\n",
       "    <tr>\n",
       "      <th>...</th>\n",
       "      <td>...</td>\n",
       "      <td>...</td>\n",
       "      <td>...</td>\n",
       "      <td>...</td>\n",
       "      <td>...</td>\n",
       "      <td>...</td>\n",
       "      <td>...</td>\n",
       "      <td>...</td>\n",
       "      <td>...</td>\n",
       "      <td>...</td>\n",
       "      <td>...</td>\n",
       "      <td>...</td>\n",
       "      <td>...</td>\n",
       "      <td>...</td>\n",
       "      <td>...</td>\n",
       "    </tr>\n",
       "    <tr>\n",
       "      <th>1031121</th>\n",
       "      <td>3593358069</td>\n",
       "      <td>Die Entscheidung liegt bei dir. Wege aus der a...</td>\n",
       "      <td>Reinhard K. Sprenger</td>\n",
       "      <td>2002</td>\n",
       "      <td>Campus Sachbuch</td>\n",
       "      <td>http://images.amazon.com/images/P/3593358069.0...</td>\n",
       "      <td>http://images.amazon.com/images/P/3593358069.0...</td>\n",
       "      <td>http://images.amazon.com/images/P/3593358069.0...</td>\n",
       "      <td>245019</td>\n",
       "      <td>0</td>\n",
       "      <td>zurich, zurich, switzerland</td>\n",
       "      <td>23.0</td>\n",
       "      <td>zurich</td>\n",
       "      <td>zurich</td>\n",
       "      <td>Switzerland</td>\n",
       "    </tr>\n",
       "    <tr>\n",
       "      <th>1031122</th>\n",
       "      <td>8806151681</td>\n",
       "      <td>Lessico Famigliare</td>\n",
       "      <td>Natalia Ginzburg</td>\n",
       "      <td>1963</td>\n",
       "      <td>Einaudi</td>\n",
       "      <td>http://images.amazon.com/images/P/8806151681.0...</td>\n",
       "      <td>http://images.amazon.com/images/P/8806151681.0...</td>\n",
       "      <td>http://images.amazon.com/images/P/8806151681.0...</td>\n",
       "      <td>245019</td>\n",
       "      <td>0</td>\n",
       "      <td>zurich, zurich, switzerland</td>\n",
       "      <td>23.0</td>\n",
       "      <td>zurich</td>\n",
       "      <td>zurich</td>\n",
       "      <td>Switzerland</td>\n",
       "    </tr>\n",
       "    <tr>\n",
       "      <th>1031124</th>\n",
       "      <td>0413589307</td>\n",
       "      <td>Up for None and Coming Apart (New Theatrescripts)</td>\n",
       "      <td>Barrie Keeffe</td>\n",
       "      <td>1986</td>\n",
       "      <td>Greenwood Pub Group</td>\n",
       "      <td>http://images.amazon.com/images/P/0413589307.0...</td>\n",
       "      <td>http://images.amazon.com/images/P/0413589307.0...</td>\n",
       "      <td>http://images.amazon.com/images/P/0413589307.0...</td>\n",
       "      <td>245241</td>\n",
       "      <td>8</td>\n",
       "      <td>london, n/a, united kingdom</td>\n",
       "      <td>17.0</td>\n",
       "      <td>london</td>\n",
       "      <td>n/a</td>\n",
       "      <td>United Kingdom</td>\n",
       "    </tr>\n",
       "    <tr>\n",
       "      <th>1031125</th>\n",
       "      <td>3442350999</td>\n",
       "      <td>Sekt oder Selters.</td>\n",
       "      <td>Victoria Routledge</td>\n",
       "      <td>1999</td>\n",
       "      <td>Goldmann</td>\n",
       "      <td>http://images.amazon.com/images/P/3442350999.0...</td>\n",
       "      <td>http://images.amazon.com/images/P/3442350999.0...</td>\n",
       "      <td>http://images.amazon.com/images/P/3442350999.0...</td>\n",
       "      <td>245246</td>\n",
       "      <td>0</td>\n",
       "      <td>n***, sachsen-anahlt, germany</td>\n",
       "      <td>NaN</td>\n",
       "      <td>n***</td>\n",
       "      <td>sachsen-anahlt</td>\n",
       "      <td>Germany</td>\n",
       "    </tr>\n",
       "    <tr>\n",
       "      <th>1031135</th>\n",
       "      <td>3423300965</td>\n",
       "      <td>Texte zur Ethik.</td>\n",
       "      <td>Dieter Birnbacher</td>\n",
       "      <td>2003</td>\n",
       "      <td>Dtv</td>\n",
       "      <td>http://images.amazon.com/images/P/3423300965.0...</td>\n",
       "      <td>http://images.amazon.com/images/P/3423300965.0...</td>\n",
       "      <td>http://images.amazon.com/images/P/3423300965.0...</td>\n",
       "      <td>259920</td>\n",
       "      <td>0</td>\n",
       "      <td>bielefeld, nordrhein-westfalen, germany</td>\n",
       "      <td>NaN</td>\n",
       "      <td>bielefeld</td>\n",
       "      <td>nordrhein-westfalen</td>\n",
       "      <td>Germany</td>\n",
       "    </tr>\n",
       "  </tbody>\n",
       "</table>\n",
       "<p>74157 rows × 15 columns</p>\n",
       "</div>"
      ],
      "text/plain": [
       "               ISBN                                         Book-Title  \\\n",
       "32545    1575663937  More Cunning Than Man: A Social History of Rat...   \n",
       "32546    0971880107                                        Wild Animus   \n",
       "32547    0449207595   The Grass Is Always Greener over the Septic Tank   \n",
       "32548    0380789035                                      American Gods   \n",
       "32549    0385498721                                 Survivor : A Novel   \n",
       "...             ...                                                ...   \n",
       "1031121  3593358069  Die Entscheidung liegt bei dir. Wege aus der a...   \n",
       "1031122  8806151681                                 Lessico Famigliare   \n",
       "1031124  0413589307  Up for None and Coming Apart (New Theatrescripts)   \n",
       "1031125  3442350999                                 Sekt oder Selters.   \n",
       "1031135  3423300965                                   Texte zur Ethik.   \n",
       "\n",
       "                  Book-Author  Year-Of-Publication  \\\n",
       "32545      Robert Hendrickson                 1999   \n",
       "32546            Rich Shapero                 2004   \n",
       "32547            Erma Bombeck                 1988   \n",
       "32548             Neil Gaiman                 2002   \n",
       "32549         CHUCK PALAHNIUK                 2000   \n",
       "...                       ...                  ...   \n",
       "1031121  Reinhard K. Sprenger                 2002   \n",
       "1031122      Natalia Ginzburg                 1963   \n",
       "1031124         Barrie Keeffe                 1986   \n",
       "1031125    Victoria Routledge                 1999   \n",
       "1031135     Dieter Birnbacher                 2003   \n",
       "\n",
       "                           Publisher  \\\n",
       "32545    Kensington Publishing Corp.   \n",
       "32546                        Too Far   \n",
       "32547                  Fawcett Books   \n",
       "32548                    HarperTorch   \n",
       "32549                         Anchor   \n",
       "...                              ...   \n",
       "1031121              Campus Sachbuch   \n",
       "1031122                      Einaudi   \n",
       "1031124          Greenwood Pub Group   \n",
       "1031125                     Goldmann   \n",
       "1031135                          Dtv   \n",
       "\n",
       "                                               Image-URL-S  \\\n",
       "32545    http://images.amazon.com/images/P/1575663937.0...   \n",
       "32546    http://images.amazon.com/images/P/0971880107.0...   \n",
       "32547    http://images.amazon.com/images/P/0449207595.0...   \n",
       "32548    http://images.amazon.com/images/P/0380789035.0...   \n",
       "32549    http://images.amazon.com/images/P/0385498721.0...   \n",
       "...                                                    ...   \n",
       "1031121  http://images.amazon.com/images/P/3593358069.0...   \n",
       "1031122  http://images.amazon.com/images/P/8806151681.0...   \n",
       "1031124  http://images.amazon.com/images/P/0413589307.0...   \n",
       "1031125  http://images.amazon.com/images/P/3442350999.0...   \n",
       "1031135  http://images.amazon.com/images/P/3423300965.0...   \n",
       "\n",
       "                                               Image-URL-M  \\\n",
       "32545    http://images.amazon.com/images/P/1575663937.0...   \n",
       "32546    http://images.amazon.com/images/P/0971880107.0...   \n",
       "32547    http://images.amazon.com/images/P/0449207595.0...   \n",
       "32548    http://images.amazon.com/images/P/0380789035.0...   \n",
       "32549    http://images.amazon.com/images/P/0385498721.0...   \n",
       "...                                                    ...   \n",
       "1031121  http://images.amazon.com/images/P/3593358069.0...   \n",
       "1031122  http://images.amazon.com/images/P/8806151681.0...   \n",
       "1031124  http://images.amazon.com/images/P/0413589307.0...   \n",
       "1031125  http://images.amazon.com/images/P/3442350999.0...   \n",
       "1031135  http://images.amazon.com/images/P/3423300965.0...   \n",
       "\n",
       "                                               Image-URL-L  User-ID  \\\n",
       "32545    http://images.amazon.com/images/P/1575663937.0...   213915   \n",
       "32546    http://images.amazon.com/images/P/0971880107.0...   213915   \n",
       "32547    http://images.amazon.com/images/P/0449207595.0...   213915   \n",
       "32548    http://images.amazon.com/images/P/0380789035.0...   213915   \n",
       "32549    http://images.amazon.com/images/P/0385498721.0...   213915   \n",
       "...                                                    ...      ...   \n",
       "1031121  http://images.amazon.com/images/P/3593358069.0...   245019   \n",
       "1031122  http://images.amazon.com/images/P/8806151681.0...   245019   \n",
       "1031124  http://images.amazon.com/images/P/0413589307.0...   245241   \n",
       "1031125  http://images.amazon.com/images/P/3442350999.0...   245246   \n",
       "1031135  http://images.amazon.com/images/P/3423300965.0...   259920   \n",
       "\n",
       "         Book-Rating                                 Location   Age  \\\n",
       "32545              0   sheffield, s yorkshire, united kingdom  29.0   \n",
       "32546              0   sheffield, s yorkshire, united kingdom  29.0   \n",
       "32547              0   sheffield, s yorkshire, united kingdom  29.0   \n",
       "32548              0   sheffield, s yorkshire, united kingdom  29.0   \n",
       "32549              0   sheffield, s yorkshire, united kingdom  29.0   \n",
       "...              ...                                      ...   ...   \n",
       "1031121            0              zurich, zurich, switzerland  23.0   \n",
       "1031122            0              zurich, zurich, switzerland  23.0   \n",
       "1031124            8              london, n/a, united kingdom  17.0   \n",
       "1031125            0            n***, sachsen-anahlt, germany   NaN   \n",
       "1031135            0  bielefeld, nordrhein-westfalen, germany   NaN   \n",
       "\n",
       "              City                State         Country  \n",
       "32545    sheffield          s yorkshire  United Kingdom  \n",
       "32546    sheffield          s yorkshire  United Kingdom  \n",
       "32547    sheffield          s yorkshire  United Kingdom  \n",
       "32548    sheffield          s yorkshire  United Kingdom  \n",
       "32549    sheffield          s yorkshire  United Kingdom  \n",
       "...            ...                  ...             ...  \n",
       "1031121     zurich               zurich     Switzerland  \n",
       "1031122     zurich               zurich     Switzerland  \n",
       "1031124     london                  n/a  United Kingdom  \n",
       "1031125       n***       sachsen-anahlt         Germany  \n",
       "1031135  bielefeld  nordrhein-westfalen         Germany  \n",
       "\n",
       "[74157 rows x 15 columns]"
      ]
     },
     "execution_count": 83,
     "metadata": {},
     "output_type": "execute_result"
    }
   ],
   "source": [
    "# 서유럽 10개 나라들의 데이터 프레임\n",
    "West_Europe_countries = ['germany', 'greece', 'italy', 'Switzerland', 'United Kingdom', 'Portugal', 'Belgium',\n",
    "                  'Austria', 'denmark', 'Nethelands']\n",
    "df2 = df[df['Country'].str.contains('|'.join(search_strings2))]\n",
    "\n",
    "df2"
   ]
  },
  {
   "cell_type": "code",
   "execution_count": 55,
   "id": "de90e5f8",
   "metadata": {},
   "outputs": [
    {
     "data": {
      "text/plain": [
       "array(['Usa', 'Canada', 'Mexico'], dtype=object)"
      ]
     },
     "execution_count": 55,
     "metadata": {},
     "output_type": "execute_result"
    }
   ],
   "source": [
    "df1['Country'].unique()"
   ]
  },
  {
   "cell_type": "code",
   "execution_count": 84,
   "id": "91f07eda",
   "metadata": {},
   "outputs": [
    {
     "data": {
      "text/plain": [
       "array(['United Kingdom', 'Portugal', 'Germany', 'Austria', 'Belgium',\n",
       "       'Switzerland'], dtype=object)"
      ]
     },
     "execution_count": 84,
     "metadata": {},
     "output_type": "execute_result"
    }
   ],
   "source": [
    "df2['Country'].unique()"
   ]
  },
  {
   "cell_type": "code",
   "execution_count": null,
   "id": "6f104c85",
   "metadata": {},
   "outputs": [],
   "source": [
    "### 영문 모를 이유로 df2에서 unique 함수를 돌려보면 italy, denmark, greece,\n",
    "### netherlands 데이터는 자꾸 사라짐.. 6개 국만 시각화가 가능할 듯."
   ]
  },
  {
   "cell_type": "code",
   "execution_count": 28,
   "id": "056ddf97",
   "metadata": {},
   "outputs": [
    {
     "data": {
      "text/html": [
       "<div>\n",
       "<style scoped>\n",
       "    .dataframe tbody tr th:only-of-type {\n",
       "        vertical-align: middle;\n",
       "    }\n",
       "\n",
       "    .dataframe tbody tr th {\n",
       "        vertical-align: top;\n",
       "    }\n",
       "\n",
       "    .dataframe thead th {\n",
       "        text-align: right;\n",
       "    }\n",
       "</style>\n",
       "<table border=\"1\" class=\"dataframe\">\n",
       "  <thead>\n",
       "    <tr style=\"text-align: right;\">\n",
       "      <th></th>\n",
       "      <th>ISBN</th>\n",
       "      <th>Book-Title</th>\n",
       "      <th>Book-Author</th>\n",
       "      <th>Year-Of-Publication</th>\n",
       "      <th>Publisher</th>\n",
       "      <th>Image-URL-S</th>\n",
       "      <th>Image-URL-M</th>\n",
       "      <th>Image-URL-L</th>\n",
       "      <th>User-ID</th>\n",
       "      <th>Book-Rating</th>\n",
       "      <th>Location</th>\n",
       "      <th>Age</th>\n",
       "      <th>City</th>\n",
       "      <th>State</th>\n",
       "      <th>Country</th>\n",
       "    </tr>\n",
       "  </thead>\n",
       "  <tbody>\n",
       "    <tr>\n",
       "      <th>922002</th>\n",
       "      <td>0380973650</td>\n",
       "      <td>American Gods: A Novel</td>\n",
       "      <td>Neil Gaiman</td>\n",
       "      <td>2001</td>\n",
       "      <td>William Morrow</td>\n",
       "      <td>http://images.amazon.com/images/P/0380973650.0...</td>\n",
       "      <td>http://images.amazon.com/images/P/0380973650.0...</td>\n",
       "      <td>http://images.amazon.com/images/P/0380973650.0...</td>\n",
       "      <td>52768</td>\n",
       "      <td>0</td>\n",
       "      <td>clayton,, new mexico, usa</td>\n",
       "      <td>NaN</td>\n",
       "      <td>clayton</td>\n",
       "      <td></td>\n",
       "      <td>New Mexico</td>\n",
       "    </tr>\n",
       "    <tr>\n",
       "      <th>922003</th>\n",
       "      <td>0345413865</td>\n",
       "      <td>Billy Straight : A Novel</td>\n",
       "      <td>JONATHAN KELLERMAN</td>\n",
       "      <td>1999</td>\n",
       "      <td>Ballantine Books</td>\n",
       "      <td>http://images.amazon.com/images/P/0345413865.0...</td>\n",
       "      <td>http://images.amazon.com/images/P/0345413865.0...</td>\n",
       "      <td>http://images.amazon.com/images/P/0345413865.0...</td>\n",
       "      <td>52768</td>\n",
       "      <td>7</td>\n",
       "      <td>clayton,, new mexico, usa</td>\n",
       "      <td>NaN</td>\n",
       "      <td>clayton</td>\n",
       "      <td></td>\n",
       "      <td>New Mexico</td>\n",
       "    </tr>\n",
       "    <tr>\n",
       "      <th>922004</th>\n",
       "      <td>0671740679</td>\n",
       "      <td>Dalva (Contemporary Classics (Washington Squar...</td>\n",
       "      <td>Jim Harrison</td>\n",
       "      <td>1991</td>\n",
       "      <td>Washington Square Press</td>\n",
       "      <td>http://images.amazon.com/images/P/0671740679.0...</td>\n",
       "      <td>http://images.amazon.com/images/P/0671740679.0...</td>\n",
       "      <td>http://images.amazon.com/images/P/0671740679.0...</td>\n",
       "      <td>52768</td>\n",
       "      <td>7</td>\n",
       "      <td>clayton,, new mexico, usa</td>\n",
       "      <td>NaN</td>\n",
       "      <td>clayton</td>\n",
       "      <td></td>\n",
       "      <td>New Mexico</td>\n",
       "    </tr>\n",
       "    <tr>\n",
       "      <th>922005</th>\n",
       "      <td>0380718774</td>\n",
       "      <td>Beggars in Spain (Beggars Trilogy (Paperback))</td>\n",
       "      <td>Nancy Kress</td>\n",
       "      <td>1994</td>\n",
       "      <td>Eos</td>\n",
       "      <td>http://images.amazon.com/images/P/0380718774.0...</td>\n",
       "      <td>http://images.amazon.com/images/P/0380718774.0...</td>\n",
       "      <td>http://images.amazon.com/images/P/0380718774.0...</td>\n",
       "      <td>52768</td>\n",
       "      <td>6</td>\n",
       "      <td>clayton,, new mexico, usa</td>\n",
       "      <td>NaN</td>\n",
       "      <td>clayton</td>\n",
       "      <td></td>\n",
       "      <td>New Mexico</td>\n",
       "    </tr>\n",
       "    <tr>\n",
       "      <th>922006</th>\n",
       "      <td>0312874766</td>\n",
       "      <td>Domain (Alten, Steve. Domain Series, Bk. 1.)</td>\n",
       "      <td>Steve Alten</td>\n",
       "      <td>2001</td>\n",
       "      <td>Forge</td>\n",
       "      <td>http://images.amazon.com/images/P/0312874766.0...</td>\n",
       "      <td>http://images.amazon.com/images/P/0312874766.0...</td>\n",
       "      <td>http://images.amazon.com/images/P/0312874766.0...</td>\n",
       "      <td>52768</td>\n",
       "      <td>6</td>\n",
       "      <td>clayton,, new mexico, usa</td>\n",
       "      <td>NaN</td>\n",
       "      <td>clayton</td>\n",
       "      <td></td>\n",
       "      <td>New Mexico</td>\n",
       "    </tr>\n",
       "    <tr>\n",
       "      <th>922007</th>\n",
       "      <td>1571740120</td>\n",
       "      <td>The Seventh Mesa: A Novel</td>\n",
       "      <td>Mary Summer Rain</td>\n",
       "      <td>1994</td>\n",
       "      <td>Hampton Roads Publishing Company</td>\n",
       "      <td>http://images.amazon.com/images/P/1571740120.0...</td>\n",
       "      <td>http://images.amazon.com/images/P/1571740120.0...</td>\n",
       "      <td>http://images.amazon.com/images/P/1571740120.0...</td>\n",
       "      <td>52768</td>\n",
       "      <td>7</td>\n",
       "      <td>clayton,, new mexico, usa</td>\n",
       "      <td>NaN</td>\n",
       "      <td>clayton</td>\n",
       "      <td></td>\n",
       "      <td>New Mexico</td>\n",
       "    </tr>\n",
       "    <tr>\n",
       "      <th>922008</th>\n",
       "      <td>0425165396</td>\n",
       "      <td>Chile Death: A China Bayles Mystery (China Bay...</td>\n",
       "      <td>Susan Wittig Albert</td>\n",
       "      <td>1998</td>\n",
       "      <td>Berkley Publishing Group</td>\n",
       "      <td>http://images.amazon.com/images/P/0425165396.0...</td>\n",
       "      <td>http://images.amazon.com/images/P/0425165396.0...</td>\n",
       "      <td>http://images.amazon.com/images/P/0425165396.0...</td>\n",
       "      <td>52768</td>\n",
       "      <td>7</td>\n",
       "      <td>clayton,, new mexico, usa</td>\n",
       "      <td>NaN</td>\n",
       "      <td>clayton</td>\n",
       "      <td></td>\n",
       "      <td>New Mexico</td>\n",
       "    </tr>\n",
       "    <tr>\n",
       "      <th>936551</th>\n",
       "      <td>0440204194</td>\n",
       "      <td>Firefly Summer</td>\n",
       "      <td>Maeve Binchy</td>\n",
       "      <td>1989</td>\n",
       "      <td>Dell</td>\n",
       "      <td>http://images.amazon.com/images/P/0440204194.0...</td>\n",
       "      <td>http://images.amazon.com/images/P/0440204194.0...</td>\n",
       "      <td>http://images.amazon.com/images/P/0440204194.0...</td>\n",
       "      <td>167766</td>\n",
       "      <td>0</td>\n",
       "      <td>albuquerque,, new mexico, usa</td>\n",
       "      <td>NaN</td>\n",
       "      <td>albuquerque</td>\n",
       "      <td></td>\n",
       "      <td>New Mexico</td>\n",
       "    </tr>\n",
       "    <tr>\n",
       "      <th>936552</th>\n",
       "      <td>0553582526</td>\n",
       "      <td>Dust to Dust</td>\n",
       "      <td>TAMI HOAG</td>\n",
       "      <td>2002</td>\n",
       "      <td>Bantam</td>\n",
       "      <td>http://images.amazon.com/images/P/0553582526.0...</td>\n",
       "      <td>http://images.amazon.com/images/P/0553582526.0...</td>\n",
       "      <td>http://images.amazon.com/images/P/0553582526.0...</td>\n",
       "      <td>167766</td>\n",
       "      <td>8</td>\n",
       "      <td>albuquerque,, new mexico, usa</td>\n",
       "      <td>NaN</td>\n",
       "      <td>albuquerque</td>\n",
       "      <td></td>\n",
       "      <td>New Mexico</td>\n",
       "    </tr>\n",
       "    <tr>\n",
       "      <th>936553</th>\n",
       "      <td>0515114049</td>\n",
       "      <td>Fall from Grace</td>\n",
       "      <td>Andrew M. Greeley</td>\n",
       "      <td>1994</td>\n",
       "      <td>Jove Books</td>\n",
       "      <td>http://images.amazon.com/images/P/0515114049.0...</td>\n",
       "      <td>http://images.amazon.com/images/P/0515114049.0...</td>\n",
       "      <td>http://images.amazon.com/images/P/0515114049.0...</td>\n",
       "      <td>167766</td>\n",
       "      <td>0</td>\n",
       "      <td>albuquerque,, new mexico, usa</td>\n",
       "      <td>NaN</td>\n",
       "      <td>albuquerque</td>\n",
       "      <td></td>\n",
       "      <td>New Mexico</td>\n",
       "    </tr>\n",
       "    <tr>\n",
       "      <th>936554</th>\n",
       "      <td>1559342560</td>\n",
       "      <td>The Path Ahead: Readings in Death and Dying</td>\n",
       "      <td>Lynne Ann  DeSpelder</td>\n",
       "      <td>1995</td>\n",
       "      <td>McGraw-Hill Humanities/Social Sciences/Languages</td>\n",
       "      <td>http://images.amazon.com/images/P/1559342560.0...</td>\n",
       "      <td>http://images.amazon.com/images/P/1559342560.0...</td>\n",
       "      <td>http://images.amazon.com/images/P/1559342560.0...</td>\n",
       "      <td>167766</td>\n",
       "      <td>0</td>\n",
       "      <td>albuquerque,, new mexico, usa</td>\n",
       "      <td>NaN</td>\n",
       "      <td>albuquerque</td>\n",
       "      <td></td>\n",
       "      <td>New Mexico</td>\n",
       "    </tr>\n",
       "    <tr>\n",
       "      <th>1005917</th>\n",
       "      <td>0553280732</td>\n",
       "      <td>Jemima Shore's First Case</td>\n",
       "      <td>Antonia Fraser</td>\n",
       "      <td>1989</td>\n",
       "      <td>Bantam Books</td>\n",
       "      <td>http://images.amazon.com/images/P/0553280732.0...</td>\n",
       "      <td>http://images.amazon.com/images/P/0553280732.0...</td>\n",
       "      <td>http://images.amazon.com/images/P/0553280732.0...</td>\n",
       "      <td>180231</td>\n",
       "      <td>0</td>\n",
       "      <td>budapest and boston, budapest and ma, hungary ...</td>\n",
       "      <td>30.0</td>\n",
       "      <td>budapest and boston</td>\n",
       "      <td>budapest and ma</td>\n",
       "      <td>Hungary And Usa</td>\n",
       "    </tr>\n",
       "    <tr>\n",
       "      <th>1026913</th>\n",
       "      <td>0973428600</td>\n",
       "      <td>How to Start &amp;amp; Run a Profitable Home-Based...</td>\n",
       "      <td>Sandra K. Shirah</td>\n",
       "      <td>2004</td>\n",
       "      <td>Hercareer Pr</td>\n",
       "      <td>http://images.amazon.com/images/P/0973428600.0...</td>\n",
       "      <td>http://images.amazon.com/images/P/0973428600.0...</td>\n",
       "      <td>http://images.amazon.com/images/P/0973428600.0...</td>\n",
       "      <td>100440</td>\n",
       "      <td>10</td>\n",
       "      <td>alexandria, louisiana, usa &amp; canada</td>\n",
       "      <td>31.0</td>\n",
       "      <td>alexandria</td>\n",
       "      <td>louisiana</td>\n",
       "      <td>Usa &amp; Canada</td>\n",
       "    </tr>\n",
       "    <tr>\n",
       "      <th>1028793</th>\n",
       "      <td>0393022269</td>\n",
       "      <td>Jean Rhys: The Complete Novels (Voyage in the ...</td>\n",
       "      <td>Jean Rhys</td>\n",
       "      <td>1985</td>\n",
       "      <td>W W Norton &amp;amp; Co Inc</td>\n",
       "      <td>http://images.amazon.com/images/P/0393022269.0...</td>\n",
       "      <td>http://images.amazon.com/images/P/0393022269.0...</td>\n",
       "      <td>http://images.amazon.com/images/P/0393022269.0...</td>\n",
       "      <td>136714</td>\n",
       "      <td>9</td>\n",
       "      <td>who knows, i`m on the move, usa now, the world...</td>\n",
       "      <td>NaN</td>\n",
       "      <td>who knows</td>\n",
       "      <td>i`m on the move</td>\n",
       "      <td>Usa Now</td>\n",
       "    </tr>\n",
       "    <tr>\n",
       "      <th>1030594</th>\n",
       "      <td>0837176980</td>\n",
       "      <td>Jesting Pilate</td>\n",
       "      <td>Aldous Leonard Huxley</td>\n",
       "      <td>1974</td>\n",
       "      <td>Greenwood Press Reprint</td>\n",
       "      <td>http://images.amazon.com/images/P/0837176980.0...</td>\n",
       "      <td>http://images.amazon.com/images/P/0837176980.0...</td>\n",
       "      <td>http://images.amazon.com/images/P/0837176980.0...</td>\n",
       "      <td>169404</td>\n",
       "      <td>9</td>\n",
       "      <td>none, texas, usa (currently living in england)</td>\n",
       "      <td>NaN</td>\n",
       "      <td>none</td>\n",
       "      <td>texas</td>\n",
       "      <td>Usa (Currently Living In England)</td>\n",
       "    </tr>\n",
       "  </tbody>\n",
       "</table>\n",
       "</div>"
      ],
      "text/plain": [
       "               ISBN                                         Book-Title  \\\n",
       "922002   0380973650                             American Gods: A Novel   \n",
       "922003   0345413865                           Billy Straight : A Novel   \n",
       "922004   0671740679  Dalva (Contemporary Classics (Washington Squar...   \n",
       "922005   0380718774     Beggars in Spain (Beggars Trilogy (Paperback))   \n",
       "922006   0312874766       Domain (Alten, Steve. Domain Series, Bk. 1.)   \n",
       "922007   1571740120                          The Seventh Mesa: A Novel   \n",
       "922008   0425165396  Chile Death: A China Bayles Mystery (China Bay...   \n",
       "936551   0440204194                                     Firefly Summer   \n",
       "936552   0553582526                                       Dust to Dust   \n",
       "936553   0515114049                                    Fall from Grace   \n",
       "936554   1559342560        The Path Ahead: Readings in Death and Dying   \n",
       "1005917  0553280732                          Jemima Shore's First Case   \n",
       "1026913  0973428600  How to Start &amp; Run a Profitable Home-Based...   \n",
       "1028793  0393022269  Jean Rhys: The Complete Novels (Voyage in the ...   \n",
       "1030594  0837176980                                     Jesting Pilate   \n",
       "\n",
       "                   Book-Author  Year-Of-Publication  \\\n",
       "922002             Neil Gaiman                 2001   \n",
       "922003      JONATHAN KELLERMAN                 1999   \n",
       "922004            Jim Harrison                 1991   \n",
       "922005             Nancy Kress                 1994   \n",
       "922006             Steve Alten                 2001   \n",
       "922007        Mary Summer Rain                 1994   \n",
       "922008     Susan Wittig Albert                 1998   \n",
       "936551            Maeve Binchy                 1989   \n",
       "936552               TAMI HOAG                 2002   \n",
       "936553       Andrew M. Greeley                 1994   \n",
       "936554    Lynne Ann  DeSpelder                 1995   \n",
       "1005917         Antonia Fraser                 1989   \n",
       "1026913       Sandra K. Shirah                 2004   \n",
       "1028793              Jean Rhys                 1985   \n",
       "1030594  Aldous Leonard Huxley                 1974   \n",
       "\n",
       "                                                Publisher  \\\n",
       "922002                                     William Morrow   \n",
       "922003                                   Ballantine Books   \n",
       "922004                            Washington Square Press   \n",
       "922005                                                Eos   \n",
       "922006                                              Forge   \n",
       "922007                   Hampton Roads Publishing Company   \n",
       "922008                           Berkley Publishing Group   \n",
       "936551                                               Dell   \n",
       "936552                                             Bantam   \n",
       "936553                                         Jove Books   \n",
       "936554   McGraw-Hill Humanities/Social Sciences/Languages   \n",
       "1005917                                      Bantam Books   \n",
       "1026913                                      Hercareer Pr   \n",
       "1028793                           W W Norton &amp; Co Inc   \n",
       "1030594                           Greenwood Press Reprint   \n",
       "\n",
       "                                               Image-URL-S  \\\n",
       "922002   http://images.amazon.com/images/P/0380973650.0...   \n",
       "922003   http://images.amazon.com/images/P/0345413865.0...   \n",
       "922004   http://images.amazon.com/images/P/0671740679.0...   \n",
       "922005   http://images.amazon.com/images/P/0380718774.0...   \n",
       "922006   http://images.amazon.com/images/P/0312874766.0...   \n",
       "922007   http://images.amazon.com/images/P/1571740120.0...   \n",
       "922008   http://images.amazon.com/images/P/0425165396.0...   \n",
       "936551   http://images.amazon.com/images/P/0440204194.0...   \n",
       "936552   http://images.amazon.com/images/P/0553582526.0...   \n",
       "936553   http://images.amazon.com/images/P/0515114049.0...   \n",
       "936554   http://images.amazon.com/images/P/1559342560.0...   \n",
       "1005917  http://images.amazon.com/images/P/0553280732.0...   \n",
       "1026913  http://images.amazon.com/images/P/0973428600.0...   \n",
       "1028793  http://images.amazon.com/images/P/0393022269.0...   \n",
       "1030594  http://images.amazon.com/images/P/0837176980.0...   \n",
       "\n",
       "                                               Image-URL-M  \\\n",
       "922002   http://images.amazon.com/images/P/0380973650.0...   \n",
       "922003   http://images.amazon.com/images/P/0345413865.0...   \n",
       "922004   http://images.amazon.com/images/P/0671740679.0...   \n",
       "922005   http://images.amazon.com/images/P/0380718774.0...   \n",
       "922006   http://images.amazon.com/images/P/0312874766.0...   \n",
       "922007   http://images.amazon.com/images/P/1571740120.0...   \n",
       "922008   http://images.amazon.com/images/P/0425165396.0...   \n",
       "936551   http://images.amazon.com/images/P/0440204194.0...   \n",
       "936552   http://images.amazon.com/images/P/0553582526.0...   \n",
       "936553   http://images.amazon.com/images/P/0515114049.0...   \n",
       "936554   http://images.amazon.com/images/P/1559342560.0...   \n",
       "1005917  http://images.amazon.com/images/P/0553280732.0...   \n",
       "1026913  http://images.amazon.com/images/P/0973428600.0...   \n",
       "1028793  http://images.amazon.com/images/P/0393022269.0...   \n",
       "1030594  http://images.amazon.com/images/P/0837176980.0...   \n",
       "\n",
       "                                               Image-URL-L  User-ID  \\\n",
       "922002   http://images.amazon.com/images/P/0380973650.0...    52768   \n",
       "922003   http://images.amazon.com/images/P/0345413865.0...    52768   \n",
       "922004   http://images.amazon.com/images/P/0671740679.0...    52768   \n",
       "922005   http://images.amazon.com/images/P/0380718774.0...    52768   \n",
       "922006   http://images.amazon.com/images/P/0312874766.0...    52768   \n",
       "922007   http://images.amazon.com/images/P/1571740120.0...    52768   \n",
       "922008   http://images.amazon.com/images/P/0425165396.0...    52768   \n",
       "936551   http://images.amazon.com/images/P/0440204194.0...   167766   \n",
       "936552   http://images.amazon.com/images/P/0553582526.0...   167766   \n",
       "936553   http://images.amazon.com/images/P/0515114049.0...   167766   \n",
       "936554   http://images.amazon.com/images/P/1559342560.0...   167766   \n",
       "1005917  http://images.amazon.com/images/P/0553280732.0...   180231   \n",
       "1026913  http://images.amazon.com/images/P/0973428600.0...   100440   \n",
       "1028793  http://images.amazon.com/images/P/0393022269.0...   136714   \n",
       "1030594  http://images.amazon.com/images/P/0837176980.0...   169404   \n",
       "\n",
       "         Book-Rating                                           Location   Age  \\\n",
       "922002             0                          clayton,, new mexico, usa   NaN   \n",
       "922003             7                          clayton,, new mexico, usa   NaN   \n",
       "922004             7                          clayton,, new mexico, usa   NaN   \n",
       "922005             6                          clayton,, new mexico, usa   NaN   \n",
       "922006             6                          clayton,, new mexico, usa   NaN   \n",
       "922007             7                          clayton,, new mexico, usa   NaN   \n",
       "922008             7                          clayton,, new mexico, usa   NaN   \n",
       "936551             0                      albuquerque,, new mexico, usa   NaN   \n",
       "936552             8                      albuquerque,, new mexico, usa   NaN   \n",
       "936553             0                      albuquerque,, new mexico, usa   NaN   \n",
       "936554             0                      albuquerque,, new mexico, usa   NaN   \n",
       "1005917            0  budapest and boston, budapest and ma, hungary ...  30.0   \n",
       "1026913           10                alexandria, louisiana, usa & canada  31.0   \n",
       "1028793            9  who knows, i`m on the move, usa now, the world...   NaN   \n",
       "1030594            9     none, texas, usa (currently living in england)   NaN   \n",
       "\n",
       "                        City            State  \\\n",
       "922002               clayton                    \n",
       "922003               clayton                    \n",
       "922004               clayton                    \n",
       "922005               clayton                    \n",
       "922006               clayton                    \n",
       "922007               clayton                    \n",
       "922008               clayton                    \n",
       "936551           albuquerque                    \n",
       "936552           albuquerque                    \n",
       "936553           albuquerque                    \n",
       "936554           albuquerque                    \n",
       "1005917  budapest and boston  budapest and ma   \n",
       "1026913           alexandria        louisiana   \n",
       "1028793            who knows  i`m on the move   \n",
       "1030594                 none            texas   \n",
       "\n",
       "                                   Country  \n",
       "922002                          New Mexico  \n",
       "922003                          New Mexico  \n",
       "922004                          New Mexico  \n",
       "922005                          New Mexico  \n",
       "922006                          New Mexico  \n",
       "922007                          New Mexico  \n",
       "922008                          New Mexico  \n",
       "936551                          New Mexico  \n",
       "936552                          New Mexico  \n",
       "936553                          New Mexico  \n",
       "936554                          New Mexico  \n",
       "1005917                    Hungary And Usa  \n",
       "1026913                       Usa & Canada  \n",
       "1028793                            Usa Now  \n",
       "1030594  Usa (Currently Living In England)  "
      ]
     },
     "execution_count": 28,
     "metadata": {},
     "output_type": "execute_result"
    }
   ],
   "source": [
    "search_strings = ['Hungary And Usa', 'Usa & Canada', 'Usa Now', 'England', 'New Mexico']\n",
    "search_result = df1[df1['Country'].str.contains('|'.join(search_strings))]\n",
    "search_result"
   ]
  },
  {
   "cell_type": "code",
   "execution_count": 71,
   "id": "67a8e243",
   "metadata": {},
   "outputs": [
    {
     "name": "stderr",
     "output_type": "stream",
     "text": [
      "C:\\Users\\leejo\\AppData\\Local\\Temp\\ipykernel_14612\\3431070438.py:3: SettingWithCopyWarning:\n",
      "\n",
      "\n",
      "A value is trying to be set on a copy of a slice from a DataFrame\n",
      "\n",
      "See the caveats in the documentation: https://pandas.pydata.org/pandas-docs/stable/user_guide/indexing.html#returning-a-view-versus-a-copy\n",
      "\n",
      "C:\\Users\\leejo\\AppData\\Local\\Temp\\ipykernel_14612\\3431070438.py:4: SettingWithCopyWarning:\n",
      "\n",
      "\n",
      "A value is trying to be set on a copy of a slice from a DataFrame\n",
      "\n",
      "See the caveats in the documentation: https://pandas.pydata.org/pandas-docs/stable/user_guide/indexing.html#returning-a-view-versus-a-copy\n",
      "\n",
      "C:\\Users\\leejo\\AppData\\Local\\Temp\\ipykernel_14612\\3431070438.py:5: SettingWithCopyWarning:\n",
      "\n",
      "\n",
      "A value is trying to be set on a copy of a slice from a DataFrame\n",
      "\n",
      "See the caveats in the documentation: https://pandas.pydata.org/pandas-docs/stable/user_guide/indexing.html#returning-a-view-versus-a-copy\n",
      "\n",
      "C:\\Users\\leejo\\AppData\\Local\\Temp\\ipykernel_14612\\3431070438.py:6: SettingWithCopyWarning:\n",
      "\n",
      "\n",
      "A value is trying to be set on a copy of a slice from a DataFrame\n",
      "\n",
      "See the caveats in the documentation: https://pandas.pydata.org/pandas-docs/stable/user_guide/indexing.html#returning-a-view-versus-a-copy\n",
      "\n",
      "C:\\Users\\leejo\\AppData\\Local\\Temp\\ipykernel_14612\\3431070438.py:7: SettingWithCopyWarning:\n",
      "\n",
      "\n",
      "A value is trying to be set on a copy of a slice from a DataFrame\n",
      "\n",
      "See the caveats in the documentation: https://pandas.pydata.org/pandas-docs/stable/user_guide/indexing.html#returning-a-view-versus-a-copy\n",
      "\n",
      "C:\\Users\\leejo\\AppData\\Local\\Temp\\ipykernel_14612\\3431070438.py:10: SettingWithCopyWarning:\n",
      "\n",
      "\n",
      "A value is trying to be set on a copy of a slice from a DataFrame\n",
      "\n",
      "See the caveats in the documentation: https://pandas.pydata.org/pandas-docs/stable/user_guide/indexing.html#returning-a-view-versus-a-copy\n",
      "\n",
      "C:\\Users\\leejo\\AppData\\Local\\Temp\\ipykernel_14612\\3431070438.py:11: SettingWithCopyWarning:\n",
      "\n",
      "\n",
      "A value is trying to be set on a copy of a slice from a DataFrame\n",
      "\n",
      "See the caveats in the documentation: https://pandas.pydata.org/pandas-docs/stable/user_guide/indexing.html#returning-a-view-versus-a-copy\n",
      "\n"
     ]
    }
   ],
   "source": [
    "# Replacing the wrong values 잘못표기된거 일일이 바꿔주기\n",
    "\n",
    "df1['Country'].replace(to_replace = 'Hungary And Usa', value = 'Usa', inplace = True)\n",
    "df1['Country'].replace(to_replace = 'Usa & Canada', value = 'Usa', inplace = True)\n",
    "df1['Country'].replace(to_replace = 'New Mexico', value = 'Usa', inplace = True)\n",
    "df1['City'].replace(to_replace = 'budapest and boston', value = 'Boston', inplace = True)\n",
    "df1['State'].replace(to_replace = 'budapest and boston', value = 'Massachusetts', inplace = True)\n",
    "\n",
    "# Drop user with Usa Now\n",
    "df1.drop(df1[df1['User-ID'] == 136714].index, inplace=True)\n",
    "df1.drop(df1[df1['Country'].str.contains('England')].index, inplace=True)"
   ]
  },
  {
   "cell_type": "code",
   "execution_count": 72,
   "id": "eb867915",
   "metadata": {},
   "outputs": [
    {
     "data": {
      "text/plain": [
       "array(['Usa', 'Canada', 'Mexico'], dtype=object)"
      ]
     },
     "execution_count": 72,
     "metadata": {},
     "output_type": "execute_result"
    }
   ],
   "source": [
    "df1['Country'].unique()"
   ]
  },
  {
   "cell_type": "code",
   "execution_count": 85,
   "id": "e24be37c",
   "metadata": {},
   "outputs": [
    {
     "data": {
      "text/plain": [
       "array(['United Kingdom', 'Portugal', 'Germany', 'Austria', 'Belgium',\n",
       "       'Switzerland'], dtype=object)"
      ]
     },
     "execution_count": 85,
     "metadata": {},
     "output_type": "execute_result"
    }
   ],
   "source": [
    "df2['Country'].unique()"
   ]
  },
  {
   "cell_type": "code",
   "execution_count": 31,
   "id": "25bb9b35",
   "metadata": {},
   "outputs": [
    {
     "name": "stdout",
     "output_type": "stream",
     "text": [
      "Requirement already satisfied: country_converter in c:\\users\\leejo\\anaconda3\\lib\\site-packages (1.0.0)\n",
      "Requirement already satisfied: pandas>=1.0 in c:\\users\\leejo\\anaconda3\\lib\\site-packages (from country_converter) (1.5.3)\n",
      "Requirement already satisfied: pytz>=2020.1 in c:\\users\\leejo\\anaconda3\\lib\\site-packages (from pandas>=1.0->country_converter) (2022.7)\n",
      "Requirement already satisfied: python-dateutil>=2.8.1 in c:\\users\\leejo\\anaconda3\\lib\\site-packages (from pandas>=1.0->country_converter) (2.8.2)\n",
      "Requirement already satisfied: numpy>=1.21.0 in c:\\users\\leejo\\anaconda3\\lib\\site-packages (from pandas>=1.0->country_converter) (1.25.1)\n",
      "Requirement already satisfied: six>=1.5 in c:\\users\\leejo\\anaconda3\\lib\\site-packages (from python-dateutil>=2.8.1->pandas>=1.0->country_converter) (1.16.0)\n"
     ]
    }
   ],
   "source": [
    "!pip install country_converter"
   ]
  },
  {
   "cell_type": "code",
   "execution_count": 86,
   "id": "3f95d797",
   "metadata": {},
   "outputs": [
    {
     "name": "stdout",
     "output_type": "stream",
     "text": [
      "['United States', 'Canada', 'Mexico']\n",
      "['United Kingdom', 'Portugal', 'Germany', 'Austria', 'Belgium', 'Switzerland']\n"
     ]
    }
   ],
   "source": [
    "# Converter the country names to official short names 주어진 국가 이름 목록을 ISO3 코드로 변환\n",
    "\n",
    "import country_converter as coco\n",
    "\n",
    "def get_matched_countries(country_list):\n",
    "    matched_countries = []\n",
    "    for country in country_list:\n",
    "        # Try to convert the country name to ISO3 code\n",
    "        iso3 = coco.convert(country, to='ISO3', not_found=None)\n",
    "        if iso3:\n",
    "            matched_countries.append(coco.convert(iso3, to='name_short', not_found=None))\n",
    "    return matched_countries\n",
    "\n",
    "North_America_countries = df1['Country'].unique()\n",
    "matched_countries = get_matched_countries(North_America_countries)\n",
    "print(matched_countries)\n",
    "\n",
    "West_Europe_countries = df2['Country'].unique()\n",
    "matched_countries2 = get_matched_countries(West_Europe_countries)\n",
    "print(matched_countries2)"
   ]
  },
  {
   "cell_type": "code",
   "execution_count": 88,
   "id": "abaee111",
   "metadata": {},
   "outputs": [
    {
     "data": {
      "text/plain": [
       "Age                    220139\n",
       "Publisher                   2\n",
       "Image-URL-L                 2\n",
       "ISBN                        0\n",
       "Book-Title                  0\n",
       "Book-Author                 0\n",
       "Year-Of-Publication         0\n",
       "Image-URL-S                 0\n",
       "Image-URL-M                 0\n",
       "User-ID                     0\n",
       "Book-Rating                 0\n",
       "Location                    0\n",
       "City                        0\n",
       "State                       0\n",
       "Country                     0\n",
       "dtype: int64"
      ]
     },
     "execution_count": 88,
     "metadata": {},
     "output_type": "execute_result"
    }
   ],
   "source": [
    "# Checking for missing values결측값의 수를 확인하는 과정\n",
    "\n",
    "df1.isnull().sum().sort_values(ascending = False)"
   ]
  },
  {
   "cell_type": "code",
   "execution_count": 89,
   "id": "05dcb5e1",
   "metadata": {},
   "outputs": [
    {
     "data": {
      "text/plain": [
       "Age                    16190\n",
       "ISBN                       0\n",
       "Book-Title                 0\n",
       "Book-Author                0\n",
       "Year-Of-Publication        0\n",
       "Publisher                  0\n",
       "Image-URL-S                0\n",
       "Image-URL-M                0\n",
       "Image-URL-L                0\n",
       "User-ID                    0\n",
       "Book-Rating                0\n",
       "Location                   0\n",
       "City                       0\n",
       "State                      0\n",
       "Country                    0\n",
       "dtype: int64"
      ]
     },
     "execution_count": 89,
     "metadata": {},
     "output_type": "execute_result"
    }
   ],
   "source": [
    "# df2에서 결측값 확인 \n",
    "df2.isnull().sum().sort_values(ascending = False)"
   ]
  },
  {
   "cell_type": "code",
   "execution_count": 91,
   "id": "b2e1a031",
   "metadata": {},
   "outputs": [
    {
     "name": "stdout",
     "output_type": "stream",
     "text": [
      "Number of duplicate rows:  0\n",
      "Number of duplicates rows:  0\n"
     ]
    }
   ],
   "source": [
    "# Check for duplicates\n",
    "duplicate_rows=df1[df1.duplicated(keep=False)]\n",
    "print('Number of duplicate rows: ',duplicate_rows.shape[0])\n",
    "\n",
    "duplicate_rows2 = df2[df2.duplicated(keep = False)]\n",
    "print('Number of duplicates rows: ', duplicate_rows2.shape[0])"
   ]
  },
  {
   "cell_type": "code",
   "execution_count": 92,
   "id": "04fcf9fd",
   "metadata": {},
   "outputs": [
    {
     "name": "stderr",
     "output_type": "stream",
     "text": [
      "C:\\Users\\leejo\\AppData\\Local\\Temp\\ipykernel_14612\\3349996011.py:1: SettingWithCopyWarning:\n",
      "\n",
      "\n",
      "A value is trying to be set on a copy of a slice from a DataFrame\n",
      "\n",
      "See the caveats in the documentation: https://pandas.pydata.org/pandas-docs/stable/user_guide/indexing.html#returning-a-view-versus-a-copy\n",
      "\n",
      "C:\\Users\\leejo\\AppData\\Local\\Temp\\ipykernel_14612\\3349996011.py:2: SettingWithCopyWarning:\n",
      "\n",
      "\n",
      "A value is trying to be set on a copy of a slice from a DataFrame\n",
      "\n",
      "See the caveats in the documentation: https://pandas.pydata.org/pandas-docs/stable/user_guide/indexing.html#returning-a-view-versus-a-copy\n",
      "\n"
     ]
    }
   ],
   "source": [
    "df1.drop(columns=[\"Image-URL-S\",\"Image-URL-M\"],axis=1,inplace=True)\n",
    "df2.drop(columns=[\"Image-URL-S\",\"Image-URL-M\"],axis=1,inplace=True)"
   ]
  },
  {
   "cell_type": "code",
   "execution_count": 93,
   "id": "2a87b7b7",
   "metadata": {},
   "outputs": [
    {
     "name": "stderr",
     "output_type": "stream",
     "text": [
      "C:\\Users\\leejo\\AppData\\Local\\Temp\\ipykernel_14612\\1071886655.py:2: SettingWithCopyWarning:\n",
      "\n",
      "\n",
      "A value is trying to be set on a copy of a slice from a DataFrame.\n",
      "Try using .loc[row_indexer,col_indexer] = value instead\n",
      "\n",
      "See the caveats in the documentation: https://pandas.pydata.org/pandas-docs/stable/user_guide/indexing.html#returning-a-view-versus-a-copy\n",
      "\n",
      "C:\\Users\\leejo\\AppData\\Local\\Temp\\ipykernel_14612\\1071886655.py:3: SettingWithCopyWarning:\n",
      "\n",
      "\n",
      "A value is trying to be set on a copy of a slice from a DataFrame.\n",
      "Try using .loc[row_indexer,col_indexer] = value instead\n",
      "\n",
      "See the caveats in the documentation: https://pandas.pydata.org/pandas-docs/stable/user_guide/indexing.html#returning-a-view-versus-a-copy\n",
      "\n"
     ]
    }
   ],
   "source": [
    "import re\n",
    "df1[\"Book-Title\"]=df1[\"Book-Title\"].apply(lambda x: re.sub(\"[\\W_]+\",\" \",x).strip())\n",
    "df2[\"Book-Title\"]=df2[\"Book-Title\"].apply(lambda x: re.sub(\"[\\W_]+\",\" \",x).strip())\n",
    "#책이름에 있는 특수문자같은걸 제외해서 도서 제목을 표준화하고 정제하는 과정"
   ]
  },
  {
   "cell_type": "code",
   "execution_count": 38,
   "id": "fdc48950",
   "metadata": {},
   "outputs": [
    {
     "data": {
      "text/html": [
       "<div>\n",
       "<style scoped>\n",
       "    .dataframe tbody tr th:only-of-type {\n",
       "        vertical-align: middle;\n",
       "    }\n",
       "\n",
       "    .dataframe tbody tr th {\n",
       "        vertical-align: top;\n",
       "    }\n",
       "\n",
       "    .dataframe thead th {\n",
       "        text-align: right;\n",
       "    }\n",
       "</style>\n",
       "<table border=\"1\" class=\"dataframe\">\n",
       "  <thead>\n",
       "    <tr style=\"text-align: right;\">\n",
       "      <th></th>\n",
       "      <th>ISBN</th>\n",
       "      <th>Book-Title</th>\n",
       "      <th>Book-Author</th>\n",
       "      <th>Year-Of-Publication</th>\n",
       "      <th>Publisher</th>\n",
       "      <th>Image-URL-L</th>\n",
       "      <th>User-ID</th>\n",
       "      <th>Book-Rating</th>\n",
       "      <th>Location</th>\n",
       "      <th>Age</th>\n",
       "      <th>City</th>\n",
       "      <th>State</th>\n",
       "      <th>Country</th>\n",
       "    </tr>\n",
       "  </thead>\n",
       "  <tbody>\n",
       "    <tr>\n",
       "      <th>0</th>\n",
       "      <td>0195153448</td>\n",
       "      <td>Classical Mythology</td>\n",
       "      <td>Mark P. O. Morford</td>\n",
       "      <td>2002</td>\n",
       "      <td>Oxford University Press</td>\n",
       "      <td>http://images.amazon.com/images/P/0195153448.0...</td>\n",
       "      <td>2</td>\n",
       "      <td>0</td>\n",
       "      <td>stockton, california, usa</td>\n",
       "      <td>18.0</td>\n",
       "      <td>stockton</td>\n",
       "      <td>california</td>\n",
       "      <td>Usa</td>\n",
       "    </tr>\n",
       "    <tr>\n",
       "      <th>1</th>\n",
       "      <td>0002005018</td>\n",
       "      <td>Clara Callan</td>\n",
       "      <td>Richard Bruce Wright</td>\n",
       "      <td>2001</td>\n",
       "      <td>HarperFlamingo Canada</td>\n",
       "      <td>http://images.amazon.com/images/P/0002005018.0...</td>\n",
       "      <td>8</td>\n",
       "      <td>5</td>\n",
       "      <td>timmins, ontario, canada</td>\n",
       "      <td>NaN</td>\n",
       "      <td>timmins</td>\n",
       "      <td>ontario</td>\n",
       "      <td>Canada</td>\n",
       "    </tr>\n",
       "    <tr>\n",
       "      <th>2</th>\n",
       "      <td>0060973129</td>\n",
       "      <td>Decision in Normandy</td>\n",
       "      <td>Carlo D'Este</td>\n",
       "      <td>1991</td>\n",
       "      <td>HarperPerennial</td>\n",
       "      <td>http://images.amazon.com/images/P/0060973129.0...</td>\n",
       "      <td>8</td>\n",
       "      <td>0</td>\n",
       "      <td>timmins, ontario, canada</td>\n",
       "      <td>NaN</td>\n",
       "      <td>timmins</td>\n",
       "      <td>ontario</td>\n",
       "      <td>Canada</td>\n",
       "    </tr>\n",
       "    <tr>\n",
       "      <th>3</th>\n",
       "      <td>0374157065</td>\n",
       "      <td>Flu The Story of the Great Influenza Pandemic ...</td>\n",
       "      <td>Gina Bari Kolata</td>\n",
       "      <td>1999</td>\n",
       "      <td>Farrar Straus Giroux</td>\n",
       "      <td>http://images.amazon.com/images/P/0374157065.0...</td>\n",
       "      <td>8</td>\n",
       "      <td>0</td>\n",
       "      <td>timmins, ontario, canada</td>\n",
       "      <td>NaN</td>\n",
       "      <td>timmins</td>\n",
       "      <td>ontario</td>\n",
       "      <td>Canada</td>\n",
       "    </tr>\n",
       "    <tr>\n",
       "      <th>4</th>\n",
       "      <td>0393045218</td>\n",
       "      <td>The Mummies of Urumchi</td>\n",
       "      <td>E. J. W. Barber</td>\n",
       "      <td>1999</td>\n",
       "      <td>W. W. Norton &amp;amp; Company</td>\n",
       "      <td>http://images.amazon.com/images/P/0393045218.0...</td>\n",
       "      <td>8</td>\n",
       "      <td>0</td>\n",
       "      <td>timmins, ontario, canada</td>\n",
       "      <td>NaN</td>\n",
       "      <td>timmins</td>\n",
       "      <td>ontario</td>\n",
       "      <td>Canada</td>\n",
       "    </tr>\n",
       "    <tr>\n",
       "      <th>...</th>\n",
       "      <td>...</td>\n",
       "      <td>...</td>\n",
       "      <td>...</td>\n",
       "      <td>...</td>\n",
       "      <td>...</td>\n",
       "      <td>...</td>\n",
       "      <td>...</td>\n",
       "      <td>...</td>\n",
       "      <td>...</td>\n",
       "      <td>...</td>\n",
       "      <td>...</td>\n",
       "      <td>...</td>\n",
       "      <td>...</td>\n",
       "    </tr>\n",
       "    <tr>\n",
       "      <th>1031127</th>\n",
       "      <td>0152049266</td>\n",
       "      <td>The Window</td>\n",
       "      <td>Jeanette Ingold</td>\n",
       "      <td>2003</td>\n",
       "      <td>Harcourt Paperbacks</td>\n",
       "      <td>http://images.amazon.com/images/P/0152049266.0...</td>\n",
       "      <td>245444</td>\n",
       "      <td>8</td>\n",
       "      <td>linclon, nebraska, usa</td>\n",
       "      <td>18.0</td>\n",
       "      <td>linclon</td>\n",
       "      <td>nebraska</td>\n",
       "      <td>Usa</td>\n",
       "    </tr>\n",
       "    <tr>\n",
       "      <th>1031130</th>\n",
       "      <td>0817310916</td>\n",
       "      <td>One Day in the Life of a Born Again Loser And ...</td>\n",
       "      <td>Helen Norris</td>\n",
       "      <td>2000</td>\n",
       "      <td>University of Alabama Press</td>\n",
       "      <td>http://images.amazon.com/images/P/0817310916.0...</td>\n",
       "      <td>259416</td>\n",
       "      <td>0</td>\n",
       "      <td>parkton, maryland, usa</td>\n",
       "      <td>NaN</td>\n",
       "      <td>parkton</td>\n",
       "      <td>maryland</td>\n",
       "      <td>Usa</td>\n",
       "    </tr>\n",
       "    <tr>\n",
       "      <th>1031131</th>\n",
       "      <td>087004124X</td>\n",
       "      <td>Anthem</td>\n",
       "      <td>Ayn Rand</td>\n",
       "      <td>1966</td>\n",
       "      <td>Caxton Press</td>\n",
       "      <td>http://images.amazon.com/images/P/087004124X.0...</td>\n",
       "      <td>259589</td>\n",
       "      <td>8</td>\n",
       "      <td>venice, florida, usa</td>\n",
       "      <td>19.0</td>\n",
       "      <td>venice</td>\n",
       "      <td>florida</td>\n",
       "      <td>Usa</td>\n",
       "    </tr>\n",
       "    <tr>\n",
       "      <th>1031132</th>\n",
       "      <td>158243123X</td>\n",
       "      <td>A Student of Weather</td>\n",
       "      <td>Elizabeth Hay</td>\n",
       "      <td>2001</td>\n",
       "      <td>Counterpoint Press</td>\n",
       "      <td>http://images.amazon.com/images/P/158243123X.0...</td>\n",
       "      <td>259591</td>\n",
       "      <td>8</td>\n",
       "      <td>tioga, pennsylvania, usa</td>\n",
       "      <td>39.0</td>\n",
       "      <td>tioga</td>\n",
       "      <td>pennsylvania</td>\n",
       "      <td>Usa</td>\n",
       "    </tr>\n",
       "    <tr>\n",
       "      <th>1031134</th>\n",
       "      <td>0838934854</td>\n",
       "      <td>Anglo American Cataloguing Rules</td>\n",
       "      <td>Michael Gorman</td>\n",
       "      <td>1998</td>\n",
       "      <td>American Library Association</td>\n",
       "      <td>http://images.amazon.com/images/P/0838934854.0...</td>\n",
       "      <td>259679</td>\n",
       "      <td>6</td>\n",
       "      <td>grand prairie, texas, usa</td>\n",
       "      <td>27.0</td>\n",
       "      <td>grand prairie</td>\n",
       "      <td>texas</td>\n",
       "      <td>Usa</td>\n",
       "    </tr>\n",
       "  </tbody>\n",
       "</table>\n",
       "<p>838305 rows × 13 columns</p>\n",
       "</div>"
      ],
      "text/plain": [
       "               ISBN                                         Book-Title  \\\n",
       "0        0195153448                                Classical Mythology   \n",
       "1        0002005018                                       Clara Callan   \n",
       "2        0060973129                               Decision in Normandy   \n",
       "3        0374157065  Flu The Story of the Great Influenza Pandemic ...   \n",
       "4        0393045218                             The Mummies of Urumchi   \n",
       "...             ...                                                ...   \n",
       "1031127  0152049266                                         The Window   \n",
       "1031130  0817310916  One Day in the Life of a Born Again Loser And ...   \n",
       "1031131  087004124X                                             Anthem   \n",
       "1031132  158243123X                               A Student of Weather   \n",
       "1031134  0838934854                   Anglo American Cataloguing Rules   \n",
       "\n",
       "                  Book-Author  Year-Of-Publication  \\\n",
       "0          Mark P. O. Morford                 2002   \n",
       "1        Richard Bruce Wright                 2001   \n",
       "2                Carlo D'Este                 1991   \n",
       "3            Gina Bari Kolata                 1999   \n",
       "4             E. J. W. Barber                 1999   \n",
       "...                       ...                  ...   \n",
       "1031127       Jeanette Ingold                 2003   \n",
       "1031130          Helen Norris                 2000   \n",
       "1031131              Ayn Rand                 1966   \n",
       "1031132         Elizabeth Hay                 2001   \n",
       "1031134        Michael Gorman                 1998   \n",
       "\n",
       "                            Publisher  \\\n",
       "0             Oxford University Press   \n",
       "1               HarperFlamingo Canada   \n",
       "2                     HarperPerennial   \n",
       "3                Farrar Straus Giroux   \n",
       "4          W. W. Norton &amp; Company   \n",
       "...                               ...   \n",
       "1031127           Harcourt Paperbacks   \n",
       "1031130   University of Alabama Press   \n",
       "1031131                  Caxton Press   \n",
       "1031132            Counterpoint Press   \n",
       "1031134  American Library Association   \n",
       "\n",
       "                                               Image-URL-L  User-ID  \\\n",
       "0        http://images.amazon.com/images/P/0195153448.0...        2   \n",
       "1        http://images.amazon.com/images/P/0002005018.0...        8   \n",
       "2        http://images.amazon.com/images/P/0060973129.0...        8   \n",
       "3        http://images.amazon.com/images/P/0374157065.0...        8   \n",
       "4        http://images.amazon.com/images/P/0393045218.0...        8   \n",
       "...                                                    ...      ...   \n",
       "1031127  http://images.amazon.com/images/P/0152049266.0...   245444   \n",
       "1031130  http://images.amazon.com/images/P/0817310916.0...   259416   \n",
       "1031131  http://images.amazon.com/images/P/087004124X.0...   259589   \n",
       "1031132  http://images.amazon.com/images/P/158243123X.0...   259591   \n",
       "1031134  http://images.amazon.com/images/P/0838934854.0...   259679   \n",
       "\n",
       "         Book-Rating                   Location   Age           City  \\\n",
       "0                  0  stockton, california, usa  18.0       stockton   \n",
       "1                  5   timmins, ontario, canada   NaN        timmins   \n",
       "2                  0   timmins, ontario, canada   NaN        timmins   \n",
       "3                  0   timmins, ontario, canada   NaN        timmins   \n",
       "4                  0   timmins, ontario, canada   NaN        timmins   \n",
       "...              ...                        ...   ...            ...   \n",
       "1031127            8     linclon, nebraska, usa  18.0        linclon   \n",
       "1031130            0     parkton, maryland, usa   NaN        parkton   \n",
       "1031131            8       venice, florida, usa  19.0         venice   \n",
       "1031132            8   tioga, pennsylvania, usa  39.0          tioga   \n",
       "1031134            6  grand prairie, texas, usa  27.0  grand prairie   \n",
       "\n",
       "                State Country  \n",
       "0          california     Usa  \n",
       "1             ontario  Canada  \n",
       "2             ontario  Canada  \n",
       "3             ontario  Canada  \n",
       "4             ontario  Canada  \n",
       "...               ...     ...  \n",
       "1031127      nebraska     Usa  \n",
       "1031130      maryland     Usa  \n",
       "1031131       florida     Usa  \n",
       "1031132  pennsylvania     Usa  \n",
       "1031134         texas     Usa  \n",
       "\n",
       "[838305 rows x 13 columns]"
      ]
     },
     "execution_count": 38,
     "metadata": {},
     "output_type": "execute_result"
    }
   ],
   "source": [
    "dataviz = df1.copy()\n",
    "dataviz"
   ]
  },
  {
   "cell_type": "code",
   "execution_count": 94,
   "id": "212da68a",
   "metadata": {},
   "outputs": [
    {
     "data": {
      "text/html": [
       "<div>\n",
       "<style scoped>\n",
       "    .dataframe tbody tr th:only-of-type {\n",
       "        vertical-align: middle;\n",
       "    }\n",
       "\n",
       "    .dataframe tbody tr th {\n",
       "        vertical-align: top;\n",
       "    }\n",
       "\n",
       "    .dataframe thead th {\n",
       "        text-align: right;\n",
       "    }\n",
       "</style>\n",
       "<table border=\"1\" class=\"dataframe\">\n",
       "  <thead>\n",
       "    <tr style=\"text-align: right;\">\n",
       "      <th></th>\n",
       "      <th>ISBN</th>\n",
       "      <th>Book-Title</th>\n",
       "      <th>Book-Author</th>\n",
       "      <th>Year-Of-Publication</th>\n",
       "      <th>Publisher</th>\n",
       "      <th>Image-URL-L</th>\n",
       "      <th>User-ID</th>\n",
       "      <th>Book-Rating</th>\n",
       "      <th>Location</th>\n",
       "      <th>Age</th>\n",
       "      <th>City</th>\n",
       "      <th>State</th>\n",
       "      <th>Country</th>\n",
       "    </tr>\n",
       "  </thead>\n",
       "  <tbody>\n",
       "    <tr>\n",
       "      <th>32545</th>\n",
       "      <td>1575663937</td>\n",
       "      <td>More Cunning Than Man A Social History of Rats...</td>\n",
       "      <td>Robert Hendrickson</td>\n",
       "      <td>1999</td>\n",
       "      <td>Kensington Publishing Corp.</td>\n",
       "      <td>http://images.amazon.com/images/P/1575663937.0...</td>\n",
       "      <td>213915</td>\n",
       "      <td>0</td>\n",
       "      <td>sheffield, s yorkshire, united kingdom</td>\n",
       "      <td>29.0</td>\n",
       "      <td>sheffield</td>\n",
       "      <td>s yorkshire</td>\n",
       "      <td>United Kingdom</td>\n",
       "    </tr>\n",
       "    <tr>\n",
       "      <th>32546</th>\n",
       "      <td>0971880107</td>\n",
       "      <td>Wild Animus</td>\n",
       "      <td>Rich Shapero</td>\n",
       "      <td>2004</td>\n",
       "      <td>Too Far</td>\n",
       "      <td>http://images.amazon.com/images/P/0971880107.0...</td>\n",
       "      <td>213915</td>\n",
       "      <td>0</td>\n",
       "      <td>sheffield, s yorkshire, united kingdom</td>\n",
       "      <td>29.0</td>\n",
       "      <td>sheffield</td>\n",
       "      <td>s yorkshire</td>\n",
       "      <td>United Kingdom</td>\n",
       "    </tr>\n",
       "    <tr>\n",
       "      <th>32547</th>\n",
       "      <td>0449207595</td>\n",
       "      <td>The Grass Is Always Greener over the Septic Tank</td>\n",
       "      <td>Erma Bombeck</td>\n",
       "      <td>1988</td>\n",
       "      <td>Fawcett Books</td>\n",
       "      <td>http://images.amazon.com/images/P/0449207595.0...</td>\n",
       "      <td>213915</td>\n",
       "      <td>0</td>\n",
       "      <td>sheffield, s yorkshire, united kingdom</td>\n",
       "      <td>29.0</td>\n",
       "      <td>sheffield</td>\n",
       "      <td>s yorkshire</td>\n",
       "      <td>United Kingdom</td>\n",
       "    </tr>\n",
       "    <tr>\n",
       "      <th>32548</th>\n",
       "      <td>0380789035</td>\n",
       "      <td>American Gods</td>\n",
       "      <td>Neil Gaiman</td>\n",
       "      <td>2002</td>\n",
       "      <td>HarperTorch</td>\n",
       "      <td>http://images.amazon.com/images/P/0380789035.0...</td>\n",
       "      <td>213915</td>\n",
       "      <td>0</td>\n",
       "      <td>sheffield, s yorkshire, united kingdom</td>\n",
       "      <td>29.0</td>\n",
       "      <td>sheffield</td>\n",
       "      <td>s yorkshire</td>\n",
       "      <td>United Kingdom</td>\n",
       "    </tr>\n",
       "    <tr>\n",
       "      <th>32549</th>\n",
       "      <td>0385498721</td>\n",
       "      <td>Survivor A Novel</td>\n",
       "      <td>CHUCK PALAHNIUK</td>\n",
       "      <td>2000</td>\n",
       "      <td>Anchor</td>\n",
       "      <td>http://images.amazon.com/images/P/0385498721.0...</td>\n",
       "      <td>213915</td>\n",
       "      <td>0</td>\n",
       "      <td>sheffield, s yorkshire, united kingdom</td>\n",
       "      <td>29.0</td>\n",
       "      <td>sheffield</td>\n",
       "      <td>s yorkshire</td>\n",
       "      <td>United Kingdom</td>\n",
       "    </tr>\n",
       "    <tr>\n",
       "      <th>...</th>\n",
       "      <td>...</td>\n",
       "      <td>...</td>\n",
       "      <td>...</td>\n",
       "      <td>...</td>\n",
       "      <td>...</td>\n",
       "      <td>...</td>\n",
       "      <td>...</td>\n",
       "      <td>...</td>\n",
       "      <td>...</td>\n",
       "      <td>...</td>\n",
       "      <td>...</td>\n",
       "      <td>...</td>\n",
       "      <td>...</td>\n",
       "    </tr>\n",
       "    <tr>\n",
       "      <th>1031121</th>\n",
       "      <td>3593358069</td>\n",
       "      <td>Die Entscheidung liegt bei dir Wege aus der al...</td>\n",
       "      <td>Reinhard K. Sprenger</td>\n",
       "      <td>2002</td>\n",
       "      <td>Campus Sachbuch</td>\n",
       "      <td>http://images.amazon.com/images/P/3593358069.0...</td>\n",
       "      <td>245019</td>\n",
       "      <td>0</td>\n",
       "      <td>zurich, zurich, switzerland</td>\n",
       "      <td>23.0</td>\n",
       "      <td>zurich</td>\n",
       "      <td>zurich</td>\n",
       "      <td>Switzerland</td>\n",
       "    </tr>\n",
       "    <tr>\n",
       "      <th>1031122</th>\n",
       "      <td>8806151681</td>\n",
       "      <td>Lessico Famigliare</td>\n",
       "      <td>Natalia Ginzburg</td>\n",
       "      <td>1963</td>\n",
       "      <td>Einaudi</td>\n",
       "      <td>http://images.amazon.com/images/P/8806151681.0...</td>\n",
       "      <td>245019</td>\n",
       "      <td>0</td>\n",
       "      <td>zurich, zurich, switzerland</td>\n",
       "      <td>23.0</td>\n",
       "      <td>zurich</td>\n",
       "      <td>zurich</td>\n",
       "      <td>Switzerland</td>\n",
       "    </tr>\n",
       "    <tr>\n",
       "      <th>1031124</th>\n",
       "      <td>0413589307</td>\n",
       "      <td>Up for None and Coming Apart New Theatrescripts</td>\n",
       "      <td>Barrie Keeffe</td>\n",
       "      <td>1986</td>\n",
       "      <td>Greenwood Pub Group</td>\n",
       "      <td>http://images.amazon.com/images/P/0413589307.0...</td>\n",
       "      <td>245241</td>\n",
       "      <td>8</td>\n",
       "      <td>london, n/a, united kingdom</td>\n",
       "      <td>17.0</td>\n",
       "      <td>london</td>\n",
       "      <td>n/a</td>\n",
       "      <td>United Kingdom</td>\n",
       "    </tr>\n",
       "    <tr>\n",
       "      <th>1031125</th>\n",
       "      <td>3442350999</td>\n",
       "      <td>Sekt oder Selters</td>\n",
       "      <td>Victoria Routledge</td>\n",
       "      <td>1999</td>\n",
       "      <td>Goldmann</td>\n",
       "      <td>http://images.amazon.com/images/P/3442350999.0...</td>\n",
       "      <td>245246</td>\n",
       "      <td>0</td>\n",
       "      <td>n***, sachsen-anahlt, germany</td>\n",
       "      <td>NaN</td>\n",
       "      <td>n***</td>\n",
       "      <td>sachsen-anahlt</td>\n",
       "      <td>Germany</td>\n",
       "    </tr>\n",
       "    <tr>\n",
       "      <th>1031135</th>\n",
       "      <td>3423300965</td>\n",
       "      <td>Texte zur Ethik</td>\n",
       "      <td>Dieter Birnbacher</td>\n",
       "      <td>2003</td>\n",
       "      <td>Dtv</td>\n",
       "      <td>http://images.amazon.com/images/P/3423300965.0...</td>\n",
       "      <td>259920</td>\n",
       "      <td>0</td>\n",
       "      <td>bielefeld, nordrhein-westfalen, germany</td>\n",
       "      <td>NaN</td>\n",
       "      <td>bielefeld</td>\n",
       "      <td>nordrhein-westfalen</td>\n",
       "      <td>Germany</td>\n",
       "    </tr>\n",
       "  </tbody>\n",
       "</table>\n",
       "<p>74157 rows × 13 columns</p>\n",
       "</div>"
      ],
      "text/plain": [
       "               ISBN                                         Book-Title  \\\n",
       "32545    1575663937  More Cunning Than Man A Social History of Rats...   \n",
       "32546    0971880107                                        Wild Animus   \n",
       "32547    0449207595   The Grass Is Always Greener over the Septic Tank   \n",
       "32548    0380789035                                      American Gods   \n",
       "32549    0385498721                                   Survivor A Novel   \n",
       "...             ...                                                ...   \n",
       "1031121  3593358069  Die Entscheidung liegt bei dir Wege aus der al...   \n",
       "1031122  8806151681                                 Lessico Famigliare   \n",
       "1031124  0413589307    Up for None and Coming Apart New Theatrescripts   \n",
       "1031125  3442350999                                  Sekt oder Selters   \n",
       "1031135  3423300965                                    Texte zur Ethik   \n",
       "\n",
       "                  Book-Author  Year-Of-Publication  \\\n",
       "32545      Robert Hendrickson                 1999   \n",
       "32546            Rich Shapero                 2004   \n",
       "32547            Erma Bombeck                 1988   \n",
       "32548             Neil Gaiman                 2002   \n",
       "32549         CHUCK PALAHNIUK                 2000   \n",
       "...                       ...                  ...   \n",
       "1031121  Reinhard K. Sprenger                 2002   \n",
       "1031122      Natalia Ginzburg                 1963   \n",
       "1031124         Barrie Keeffe                 1986   \n",
       "1031125    Victoria Routledge                 1999   \n",
       "1031135     Dieter Birnbacher                 2003   \n",
       "\n",
       "                           Publisher  \\\n",
       "32545    Kensington Publishing Corp.   \n",
       "32546                        Too Far   \n",
       "32547                  Fawcett Books   \n",
       "32548                    HarperTorch   \n",
       "32549                         Anchor   \n",
       "...                              ...   \n",
       "1031121              Campus Sachbuch   \n",
       "1031122                      Einaudi   \n",
       "1031124          Greenwood Pub Group   \n",
       "1031125                     Goldmann   \n",
       "1031135                          Dtv   \n",
       "\n",
       "                                               Image-URL-L  User-ID  \\\n",
       "32545    http://images.amazon.com/images/P/1575663937.0...   213915   \n",
       "32546    http://images.amazon.com/images/P/0971880107.0...   213915   \n",
       "32547    http://images.amazon.com/images/P/0449207595.0...   213915   \n",
       "32548    http://images.amazon.com/images/P/0380789035.0...   213915   \n",
       "32549    http://images.amazon.com/images/P/0385498721.0...   213915   \n",
       "...                                                    ...      ...   \n",
       "1031121  http://images.amazon.com/images/P/3593358069.0...   245019   \n",
       "1031122  http://images.amazon.com/images/P/8806151681.0...   245019   \n",
       "1031124  http://images.amazon.com/images/P/0413589307.0...   245241   \n",
       "1031125  http://images.amazon.com/images/P/3442350999.0...   245246   \n",
       "1031135  http://images.amazon.com/images/P/3423300965.0...   259920   \n",
       "\n",
       "         Book-Rating                                 Location   Age  \\\n",
       "32545              0   sheffield, s yorkshire, united kingdom  29.0   \n",
       "32546              0   sheffield, s yorkshire, united kingdom  29.0   \n",
       "32547              0   sheffield, s yorkshire, united kingdom  29.0   \n",
       "32548              0   sheffield, s yorkshire, united kingdom  29.0   \n",
       "32549              0   sheffield, s yorkshire, united kingdom  29.0   \n",
       "...              ...                                      ...   ...   \n",
       "1031121            0              zurich, zurich, switzerland  23.0   \n",
       "1031122            0              zurich, zurich, switzerland  23.0   \n",
       "1031124            8              london, n/a, united kingdom  17.0   \n",
       "1031125            0            n***, sachsen-anahlt, germany   NaN   \n",
       "1031135            0  bielefeld, nordrhein-westfalen, germany   NaN   \n",
       "\n",
       "              City                State         Country  \n",
       "32545    sheffield          s yorkshire  United Kingdom  \n",
       "32546    sheffield          s yorkshire  United Kingdom  \n",
       "32547    sheffield          s yorkshire  United Kingdom  \n",
       "32548    sheffield          s yorkshire  United Kingdom  \n",
       "32549    sheffield          s yorkshire  United Kingdom  \n",
       "...            ...                  ...             ...  \n",
       "1031121     zurich               zurich     Switzerland  \n",
       "1031122     zurich               zurich     Switzerland  \n",
       "1031124     london                  n/a  United Kingdom  \n",
       "1031125       n***       sachsen-anahlt         Germany  \n",
       "1031135  bielefeld  nordrhein-westfalen         Germany  \n",
       "\n",
       "[74157 rows x 13 columns]"
      ]
     },
     "execution_count": 94,
     "metadata": {},
     "output_type": "execute_result"
    }
   ],
   "source": [
    "dataviz2 = df2.copy()\n",
    "dataviz2"
   ]
  },
  {
   "cell_type": "code",
   "execution_count": 96,
   "id": "5e213916",
   "metadata": {},
   "outputs": [
    {
     "data": {
      "text/plain": [
       "219100"
      ]
     },
     "execution_count": 96,
     "metadata": {},
     "output_type": "execute_result"
    }
   ],
   "source": [
    "North_America_total_book = dataviz['ISBN'].nunique()\n",
    "North_America_total_book"
   ]
  },
  {
   "cell_type": "code",
   "execution_count": 98,
   "id": "cc5dd41e",
   "metadata": {},
   "outputs": [
    {
     "data": {
      "text/plain": [
       "40191"
      ]
     },
     "execution_count": 98,
     "metadata": {},
     "output_type": "execute_result"
    }
   ],
   "source": [
    "West_Europe_total_book = dataviz2['ISBN'].nunique()\n",
    "West_Europe_total_book"
   ]
  },
  {
   "cell_type": "code",
   "execution_count": 40,
   "id": "701510c7",
   "metadata": {},
   "outputs": [
    {
     "data": {
      "text/plain": [
       "Usa       745089\n",
       "Canada     92918\n",
       "Mexico       298\n",
       "Name: Country, dtype: int64"
      ]
     },
     "execution_count": 40,
     "metadata": {},
     "output_type": "execute_result"
    }
   ],
   "source": [
    "country_counts = dataviz['Country'].value_counts()\n",
    "country_counts"
   ]
  },
  {
   "cell_type": "code",
   "execution_count": 101,
   "id": "6974c2ca",
   "metadata": {},
   "outputs": [
    {
     "data": {
      "text/plain": [
       "United Kingdom    32002\n",
       "Germany           27661\n",
       "Portugal           6866\n",
       "Switzerland        4185\n",
       "Austria            2803\n",
       "Belgium             640\n",
       "Name: Country, dtype: int64"
      ]
     },
     "execution_count": 101,
     "metadata": {},
     "output_type": "execute_result"
    }
   ],
   "source": [
    "country_counts2 = dataviz2['Country'].value_counts()\n",
    "country_counts2"
   ]
  },
  {
   "cell_type": "code",
   "execution_count": 100,
   "id": "a4e77bd8",
   "metadata": {},
   "outputs": [
    {
     "data": {
      "application/vnd.plotly.v1+json": {
       "config": {
        "plotlyServerURL": "https://plot.ly"
       },
       "data": [
        {
         "coloraxis": "coloraxis",
         "geo": "geo",
         "hovertemplate": "<b>%{hovertext}</b><br><br>Country=%{location}<br>Count=%{z}<extra></extra>",
         "hovertext": [
          "Usa",
          "Canada",
          "Mexico"
         ],
         "locationmode": "country names",
         "locations": [
          "Usa",
          "Canada",
          "Mexico"
         ],
         "name": "",
         "type": "choropleth",
         "z": [
          745089,
          92918,
          298
         ]
        }
       ],
       "layout": {
        "coloraxis": {
         "colorbar": {
          "title": {
           "text": "Count"
          }
         },
         "colorscale": [
          [
           0,
           "#440154"
          ],
          [
           0.1111111111111111,
           "#482878"
          ],
          [
           0.2222222222222222,
           "#3e4989"
          ],
          [
           0.3333333333333333,
           "#31688e"
          ],
          [
           0.4444444444444444,
           "#26828e"
          ],
          [
           0.5555555555555556,
           "#1f9e89"
          ],
          [
           0.6666666666666666,
           "#35b779"
          ],
          [
           0.7777777777777778,
           "#6ece58"
          ],
          [
           0.8888888888888888,
           "#b5de2b"
          ],
          [
           1,
           "#fde725"
          ]
         ]
        },
        "geo": {
         "center": {},
         "domain": {
          "x": [
           0,
           1
          ],
          "y": [
           0,
           1
          ]
         },
         "scope": "north america"
        },
        "legend": {
         "tracegroupgap": 0
        },
        "margin": {
         "t": 60
        },
        "template": {
         "data": {
          "bar": [
           {
            "error_x": {
             "color": "#2a3f5f"
            },
            "error_y": {
             "color": "#2a3f5f"
            },
            "marker": {
             "line": {
              "color": "#E5ECF6",
              "width": 0.5
             },
             "pattern": {
              "fillmode": "overlay",
              "size": 10,
              "solidity": 0.2
             }
            },
            "type": "bar"
           }
          ],
          "barpolar": [
           {
            "marker": {
             "line": {
              "color": "#E5ECF6",
              "width": 0.5
             },
             "pattern": {
              "fillmode": "overlay",
              "size": 10,
              "solidity": 0.2
             }
            },
            "type": "barpolar"
           }
          ],
          "carpet": [
           {
            "aaxis": {
             "endlinecolor": "#2a3f5f",
             "gridcolor": "white",
             "linecolor": "white",
             "minorgridcolor": "white",
             "startlinecolor": "#2a3f5f"
            },
            "baxis": {
             "endlinecolor": "#2a3f5f",
             "gridcolor": "white",
             "linecolor": "white",
             "minorgridcolor": "white",
             "startlinecolor": "#2a3f5f"
            },
            "type": "carpet"
           }
          ],
          "choropleth": [
           {
            "colorbar": {
             "outlinewidth": 0,
             "ticks": ""
            },
            "type": "choropleth"
           }
          ],
          "contour": [
           {
            "colorbar": {
             "outlinewidth": 0,
             "ticks": ""
            },
            "colorscale": [
             [
              0,
              "#0d0887"
             ],
             [
              0.1111111111111111,
              "#46039f"
             ],
             [
              0.2222222222222222,
              "#7201a8"
             ],
             [
              0.3333333333333333,
              "#9c179e"
             ],
             [
              0.4444444444444444,
              "#bd3786"
             ],
             [
              0.5555555555555556,
              "#d8576b"
             ],
             [
              0.6666666666666666,
              "#ed7953"
             ],
             [
              0.7777777777777778,
              "#fb9f3a"
             ],
             [
              0.8888888888888888,
              "#fdca26"
             ],
             [
              1,
              "#f0f921"
             ]
            ],
            "type": "contour"
           }
          ],
          "contourcarpet": [
           {
            "colorbar": {
             "outlinewidth": 0,
             "ticks": ""
            },
            "type": "contourcarpet"
           }
          ],
          "heatmap": [
           {
            "colorbar": {
             "outlinewidth": 0,
             "ticks": ""
            },
            "colorscale": [
             [
              0,
              "#0d0887"
             ],
             [
              0.1111111111111111,
              "#46039f"
             ],
             [
              0.2222222222222222,
              "#7201a8"
             ],
             [
              0.3333333333333333,
              "#9c179e"
             ],
             [
              0.4444444444444444,
              "#bd3786"
             ],
             [
              0.5555555555555556,
              "#d8576b"
             ],
             [
              0.6666666666666666,
              "#ed7953"
             ],
             [
              0.7777777777777778,
              "#fb9f3a"
             ],
             [
              0.8888888888888888,
              "#fdca26"
             ],
             [
              1,
              "#f0f921"
             ]
            ],
            "type": "heatmap"
           }
          ],
          "heatmapgl": [
           {
            "colorbar": {
             "outlinewidth": 0,
             "ticks": ""
            },
            "colorscale": [
             [
              0,
              "#0d0887"
             ],
             [
              0.1111111111111111,
              "#46039f"
             ],
             [
              0.2222222222222222,
              "#7201a8"
             ],
             [
              0.3333333333333333,
              "#9c179e"
             ],
             [
              0.4444444444444444,
              "#bd3786"
             ],
             [
              0.5555555555555556,
              "#d8576b"
             ],
             [
              0.6666666666666666,
              "#ed7953"
             ],
             [
              0.7777777777777778,
              "#fb9f3a"
             ],
             [
              0.8888888888888888,
              "#fdca26"
             ],
             [
              1,
              "#f0f921"
             ]
            ],
            "type": "heatmapgl"
           }
          ],
          "histogram": [
           {
            "marker": {
             "pattern": {
              "fillmode": "overlay",
              "size": 10,
              "solidity": 0.2
             }
            },
            "type": "histogram"
           }
          ],
          "histogram2d": [
           {
            "colorbar": {
             "outlinewidth": 0,
             "ticks": ""
            },
            "colorscale": [
             [
              0,
              "#0d0887"
             ],
             [
              0.1111111111111111,
              "#46039f"
             ],
             [
              0.2222222222222222,
              "#7201a8"
             ],
             [
              0.3333333333333333,
              "#9c179e"
             ],
             [
              0.4444444444444444,
              "#bd3786"
             ],
             [
              0.5555555555555556,
              "#d8576b"
             ],
             [
              0.6666666666666666,
              "#ed7953"
             ],
             [
              0.7777777777777778,
              "#fb9f3a"
             ],
             [
              0.8888888888888888,
              "#fdca26"
             ],
             [
              1,
              "#f0f921"
             ]
            ],
            "type": "histogram2d"
           }
          ],
          "histogram2dcontour": [
           {
            "colorbar": {
             "outlinewidth": 0,
             "ticks": ""
            },
            "colorscale": [
             [
              0,
              "#0d0887"
             ],
             [
              0.1111111111111111,
              "#46039f"
             ],
             [
              0.2222222222222222,
              "#7201a8"
             ],
             [
              0.3333333333333333,
              "#9c179e"
             ],
             [
              0.4444444444444444,
              "#bd3786"
             ],
             [
              0.5555555555555556,
              "#d8576b"
             ],
             [
              0.6666666666666666,
              "#ed7953"
             ],
             [
              0.7777777777777778,
              "#fb9f3a"
             ],
             [
              0.8888888888888888,
              "#fdca26"
             ],
             [
              1,
              "#f0f921"
             ]
            ],
            "type": "histogram2dcontour"
           }
          ],
          "mesh3d": [
           {
            "colorbar": {
             "outlinewidth": 0,
             "ticks": ""
            },
            "type": "mesh3d"
           }
          ],
          "parcoords": [
           {
            "line": {
             "colorbar": {
              "outlinewidth": 0,
              "ticks": ""
             }
            },
            "type": "parcoords"
           }
          ],
          "pie": [
           {
            "automargin": true,
            "type": "pie"
           }
          ],
          "scatter": [
           {
            "fillpattern": {
             "fillmode": "overlay",
             "size": 10,
             "solidity": 0.2
            },
            "type": "scatter"
           }
          ],
          "scatter3d": [
           {
            "line": {
             "colorbar": {
              "outlinewidth": 0,
              "ticks": ""
             }
            },
            "marker": {
             "colorbar": {
              "outlinewidth": 0,
              "ticks": ""
             }
            },
            "type": "scatter3d"
           }
          ],
          "scattercarpet": [
           {
            "marker": {
             "colorbar": {
              "outlinewidth": 0,
              "ticks": ""
             }
            },
            "type": "scattercarpet"
           }
          ],
          "scattergeo": [
           {
            "marker": {
             "colorbar": {
              "outlinewidth": 0,
              "ticks": ""
             }
            },
            "type": "scattergeo"
           }
          ],
          "scattergl": [
           {
            "marker": {
             "colorbar": {
              "outlinewidth": 0,
              "ticks": ""
             }
            },
            "type": "scattergl"
           }
          ],
          "scattermapbox": [
           {
            "marker": {
             "colorbar": {
              "outlinewidth": 0,
              "ticks": ""
             }
            },
            "type": "scattermapbox"
           }
          ],
          "scatterpolar": [
           {
            "marker": {
             "colorbar": {
              "outlinewidth": 0,
              "ticks": ""
             }
            },
            "type": "scatterpolar"
           }
          ],
          "scatterpolargl": [
           {
            "marker": {
             "colorbar": {
              "outlinewidth": 0,
              "ticks": ""
             }
            },
            "type": "scatterpolargl"
           }
          ],
          "scatterternary": [
           {
            "marker": {
             "colorbar": {
              "outlinewidth": 0,
              "ticks": ""
             }
            },
            "type": "scatterternary"
           }
          ],
          "surface": [
           {
            "colorbar": {
             "outlinewidth": 0,
             "ticks": ""
            },
            "colorscale": [
             [
              0,
              "#0d0887"
             ],
             [
              0.1111111111111111,
              "#46039f"
             ],
             [
              0.2222222222222222,
              "#7201a8"
             ],
             [
              0.3333333333333333,
              "#9c179e"
             ],
             [
              0.4444444444444444,
              "#bd3786"
             ],
             [
              0.5555555555555556,
              "#d8576b"
             ],
             [
              0.6666666666666666,
              "#ed7953"
             ],
             [
              0.7777777777777778,
              "#fb9f3a"
             ],
             [
              0.8888888888888888,
              "#fdca26"
             ],
             [
              1,
              "#f0f921"
             ]
            ],
            "type": "surface"
           }
          ],
          "table": [
           {
            "cells": {
             "fill": {
              "color": "#EBF0F8"
             },
             "line": {
              "color": "white"
             }
            },
            "header": {
             "fill": {
              "color": "#C8D4E3"
             },
             "line": {
              "color": "white"
             }
            },
            "type": "table"
           }
          ]
         },
         "layout": {
          "annotationdefaults": {
           "arrowcolor": "#2a3f5f",
           "arrowhead": 0,
           "arrowwidth": 1
          },
          "autotypenumbers": "strict",
          "coloraxis": {
           "colorbar": {
            "outlinewidth": 0,
            "ticks": ""
           }
          },
          "colorscale": {
           "diverging": [
            [
             0,
             "#8e0152"
            ],
            [
             0.1,
             "#c51b7d"
            ],
            [
             0.2,
             "#de77ae"
            ],
            [
             0.3,
             "#f1b6da"
            ],
            [
             0.4,
             "#fde0ef"
            ],
            [
             0.5,
             "#f7f7f7"
            ],
            [
             0.6,
             "#e6f5d0"
            ],
            [
             0.7,
             "#b8e186"
            ],
            [
             0.8,
             "#7fbc41"
            ],
            [
             0.9,
             "#4d9221"
            ],
            [
             1,
             "#276419"
            ]
           ],
           "sequential": [
            [
             0,
             "#0d0887"
            ],
            [
             0.1111111111111111,
             "#46039f"
            ],
            [
             0.2222222222222222,
             "#7201a8"
            ],
            [
             0.3333333333333333,
             "#9c179e"
            ],
            [
             0.4444444444444444,
             "#bd3786"
            ],
            [
             0.5555555555555556,
             "#d8576b"
            ],
            [
             0.6666666666666666,
             "#ed7953"
            ],
            [
             0.7777777777777778,
             "#fb9f3a"
            ],
            [
             0.8888888888888888,
             "#fdca26"
            ],
            [
             1,
             "#f0f921"
            ]
           ],
           "sequentialminus": [
            [
             0,
             "#0d0887"
            ],
            [
             0.1111111111111111,
             "#46039f"
            ],
            [
             0.2222222222222222,
             "#7201a8"
            ],
            [
             0.3333333333333333,
             "#9c179e"
            ],
            [
             0.4444444444444444,
             "#bd3786"
            ],
            [
             0.5555555555555556,
             "#d8576b"
            ],
            [
             0.6666666666666666,
             "#ed7953"
            ],
            [
             0.7777777777777778,
             "#fb9f3a"
            ],
            [
             0.8888888888888888,
             "#fdca26"
            ],
            [
             1,
             "#f0f921"
            ]
           ]
          },
          "colorway": [
           "#636efa",
           "#EF553B",
           "#00cc96",
           "#ab63fa",
           "#FFA15A",
           "#19d3f3",
           "#FF6692",
           "#B6E880",
           "#FF97FF",
           "#FECB52"
          ],
          "font": {
           "color": "#2a3f5f"
          },
          "geo": {
           "bgcolor": "white",
           "lakecolor": "white",
           "landcolor": "#E5ECF6",
           "showlakes": true,
           "showland": true,
           "subunitcolor": "white"
          },
          "hoverlabel": {
           "align": "left"
          },
          "hovermode": "closest",
          "mapbox": {
           "style": "light"
          },
          "paper_bgcolor": "white",
          "plot_bgcolor": "#E5ECF6",
          "polar": {
           "angularaxis": {
            "gridcolor": "white",
            "linecolor": "white",
            "ticks": ""
           },
           "bgcolor": "#E5ECF6",
           "radialaxis": {
            "gridcolor": "white",
            "linecolor": "white",
            "ticks": ""
           }
          },
          "scene": {
           "xaxis": {
            "backgroundcolor": "#E5ECF6",
            "gridcolor": "white",
            "gridwidth": 2,
            "linecolor": "white",
            "showbackground": true,
            "ticks": "",
            "zerolinecolor": "white"
           },
           "yaxis": {
            "backgroundcolor": "#E5ECF6",
            "gridcolor": "white",
            "gridwidth": 2,
            "linecolor": "white",
            "showbackground": true,
            "ticks": "",
            "zerolinecolor": "white"
           },
           "zaxis": {
            "backgroundcolor": "#E5ECF6",
            "gridcolor": "white",
            "gridwidth": 2,
            "linecolor": "white",
            "showbackground": true,
            "ticks": "",
            "zerolinecolor": "white"
           }
          },
          "shapedefaults": {
           "line": {
            "color": "#2a3f5f"
           }
          },
          "ternary": {
           "aaxis": {
            "gridcolor": "white",
            "linecolor": "white",
            "ticks": ""
           },
           "baxis": {
            "gridcolor": "white",
            "linecolor": "white",
            "ticks": ""
           },
           "bgcolor": "#E5ECF6",
           "caxis": {
            "gridcolor": "white",
            "linecolor": "white",
            "ticks": ""
           }
          },
          "title": {
           "x": 0.05
          },
          "xaxis": {
           "automargin": true,
           "gridcolor": "white",
           "linecolor": "white",
           "ticks": "",
           "title": {
            "standoff": 15
           },
           "zerolinecolor": "white",
           "zerolinewidth": 2
          },
          "yaxis": {
           "automargin": true,
           "gridcolor": "white",
           "linecolor": "white",
           "ticks": "",
           "title": {
            "standoff": 15
           },
           "zerolinecolor": "white",
           "zerolinewidth": 2
          }
         }
        }
       }
      },
      "text/html": [
       "<div>                            <div id=\"beda5fa7-88fd-4d34-b010-fd99b96038ad\" class=\"plotly-graph-div\" style=\"height:525px; width:100%;\"></div>            <script type=\"text/javascript\">                require([\"plotly\"], function(Plotly) {                    window.PLOTLYENV=window.PLOTLYENV || {};                                    if (document.getElementById(\"beda5fa7-88fd-4d34-b010-fd99b96038ad\")) {                    Plotly.newPlot(                        \"beda5fa7-88fd-4d34-b010-fd99b96038ad\",                        [{\"coloraxis\":\"coloraxis\",\"geo\":\"geo\",\"hovertemplate\":\"<b>%{hovertext}</b><br><br>Country=%{location}<br>Count=%{z}<extra></extra>\",\"hovertext\":[\"Usa\",\"Canada\",\"Mexico\"],\"locationmode\":\"country names\",\"locations\":[\"Usa\",\"Canada\",\"Mexico\"],\"name\":\"\",\"z\":[745089,92918,298],\"type\":\"choropleth\"}],                        {\"template\":{\"data\":{\"histogram2dcontour\":[{\"type\":\"histogram2dcontour\",\"colorbar\":{\"outlinewidth\":0,\"ticks\":\"\"},\"colorscale\":[[0.0,\"#0d0887\"],[0.1111111111111111,\"#46039f\"],[0.2222222222222222,\"#7201a8\"],[0.3333333333333333,\"#9c179e\"],[0.4444444444444444,\"#bd3786\"],[0.5555555555555556,\"#d8576b\"],[0.6666666666666666,\"#ed7953\"],[0.7777777777777778,\"#fb9f3a\"],[0.8888888888888888,\"#fdca26\"],[1.0,\"#f0f921\"]]}],\"choropleth\":[{\"type\":\"choropleth\",\"colorbar\":{\"outlinewidth\":0,\"ticks\":\"\"}}],\"histogram2d\":[{\"type\":\"histogram2d\",\"colorbar\":{\"outlinewidth\":0,\"ticks\":\"\"},\"colorscale\":[[0.0,\"#0d0887\"],[0.1111111111111111,\"#46039f\"],[0.2222222222222222,\"#7201a8\"],[0.3333333333333333,\"#9c179e\"],[0.4444444444444444,\"#bd3786\"],[0.5555555555555556,\"#d8576b\"],[0.6666666666666666,\"#ed7953\"],[0.7777777777777778,\"#fb9f3a\"],[0.8888888888888888,\"#fdca26\"],[1.0,\"#f0f921\"]]}],\"heatmap\":[{\"type\":\"heatmap\",\"colorbar\":{\"outlinewidth\":0,\"ticks\":\"\"},\"colorscale\":[[0.0,\"#0d0887\"],[0.1111111111111111,\"#46039f\"],[0.2222222222222222,\"#7201a8\"],[0.3333333333333333,\"#9c179e\"],[0.4444444444444444,\"#bd3786\"],[0.5555555555555556,\"#d8576b\"],[0.6666666666666666,\"#ed7953\"],[0.7777777777777778,\"#fb9f3a\"],[0.8888888888888888,\"#fdca26\"],[1.0,\"#f0f921\"]]}],\"heatmapgl\":[{\"type\":\"heatmapgl\",\"colorbar\":{\"outlinewidth\":0,\"ticks\":\"\"},\"colorscale\":[[0.0,\"#0d0887\"],[0.1111111111111111,\"#46039f\"],[0.2222222222222222,\"#7201a8\"],[0.3333333333333333,\"#9c179e\"],[0.4444444444444444,\"#bd3786\"],[0.5555555555555556,\"#d8576b\"],[0.6666666666666666,\"#ed7953\"],[0.7777777777777778,\"#fb9f3a\"],[0.8888888888888888,\"#fdca26\"],[1.0,\"#f0f921\"]]}],\"contourcarpet\":[{\"type\":\"contourcarpet\",\"colorbar\":{\"outlinewidth\":0,\"ticks\":\"\"}}],\"contour\":[{\"type\":\"contour\",\"colorbar\":{\"outlinewidth\":0,\"ticks\":\"\"},\"colorscale\":[[0.0,\"#0d0887\"],[0.1111111111111111,\"#46039f\"],[0.2222222222222222,\"#7201a8\"],[0.3333333333333333,\"#9c179e\"],[0.4444444444444444,\"#bd3786\"],[0.5555555555555556,\"#d8576b\"],[0.6666666666666666,\"#ed7953\"],[0.7777777777777778,\"#fb9f3a\"],[0.8888888888888888,\"#fdca26\"],[1.0,\"#f0f921\"]]}],\"surface\":[{\"type\":\"surface\",\"colorbar\":{\"outlinewidth\":0,\"ticks\":\"\"},\"colorscale\":[[0.0,\"#0d0887\"],[0.1111111111111111,\"#46039f\"],[0.2222222222222222,\"#7201a8\"],[0.3333333333333333,\"#9c179e\"],[0.4444444444444444,\"#bd3786\"],[0.5555555555555556,\"#d8576b\"],[0.6666666666666666,\"#ed7953\"],[0.7777777777777778,\"#fb9f3a\"],[0.8888888888888888,\"#fdca26\"],[1.0,\"#f0f921\"]]}],\"mesh3d\":[{\"type\":\"mesh3d\",\"colorbar\":{\"outlinewidth\":0,\"ticks\":\"\"}}],\"scatter\":[{\"fillpattern\":{\"fillmode\":\"overlay\",\"size\":10,\"solidity\":0.2},\"type\":\"scatter\"}],\"parcoords\":[{\"type\":\"parcoords\",\"line\":{\"colorbar\":{\"outlinewidth\":0,\"ticks\":\"\"}}}],\"scatterpolargl\":[{\"type\":\"scatterpolargl\",\"marker\":{\"colorbar\":{\"outlinewidth\":0,\"ticks\":\"\"}}}],\"bar\":[{\"error_x\":{\"color\":\"#2a3f5f\"},\"error_y\":{\"color\":\"#2a3f5f\"},\"marker\":{\"line\":{\"color\":\"#E5ECF6\",\"width\":0.5},\"pattern\":{\"fillmode\":\"overlay\",\"size\":10,\"solidity\":0.2}},\"type\":\"bar\"}],\"scattergeo\":[{\"type\":\"scattergeo\",\"marker\":{\"colorbar\":{\"outlinewidth\":0,\"ticks\":\"\"}}}],\"scatterpolar\":[{\"type\":\"scatterpolar\",\"marker\":{\"colorbar\":{\"outlinewidth\":0,\"ticks\":\"\"}}}],\"histogram\":[{\"marker\":{\"pattern\":{\"fillmode\":\"overlay\",\"size\":10,\"solidity\":0.2}},\"type\":\"histogram\"}],\"scattergl\":[{\"type\":\"scattergl\",\"marker\":{\"colorbar\":{\"outlinewidth\":0,\"ticks\":\"\"}}}],\"scatter3d\":[{\"type\":\"scatter3d\",\"line\":{\"colorbar\":{\"outlinewidth\":0,\"ticks\":\"\"}},\"marker\":{\"colorbar\":{\"outlinewidth\":0,\"ticks\":\"\"}}}],\"scattermapbox\":[{\"type\":\"scattermapbox\",\"marker\":{\"colorbar\":{\"outlinewidth\":0,\"ticks\":\"\"}}}],\"scatterternary\":[{\"type\":\"scatterternary\",\"marker\":{\"colorbar\":{\"outlinewidth\":0,\"ticks\":\"\"}}}],\"scattercarpet\":[{\"type\":\"scattercarpet\",\"marker\":{\"colorbar\":{\"outlinewidth\":0,\"ticks\":\"\"}}}],\"carpet\":[{\"aaxis\":{\"endlinecolor\":\"#2a3f5f\",\"gridcolor\":\"white\",\"linecolor\":\"white\",\"minorgridcolor\":\"white\",\"startlinecolor\":\"#2a3f5f\"},\"baxis\":{\"endlinecolor\":\"#2a3f5f\",\"gridcolor\":\"white\",\"linecolor\":\"white\",\"minorgridcolor\":\"white\",\"startlinecolor\":\"#2a3f5f\"},\"type\":\"carpet\"}],\"table\":[{\"cells\":{\"fill\":{\"color\":\"#EBF0F8\"},\"line\":{\"color\":\"white\"}},\"header\":{\"fill\":{\"color\":\"#C8D4E3\"},\"line\":{\"color\":\"white\"}},\"type\":\"table\"}],\"barpolar\":[{\"marker\":{\"line\":{\"color\":\"#E5ECF6\",\"width\":0.5},\"pattern\":{\"fillmode\":\"overlay\",\"size\":10,\"solidity\":0.2}},\"type\":\"barpolar\"}],\"pie\":[{\"automargin\":true,\"type\":\"pie\"}]},\"layout\":{\"autotypenumbers\":\"strict\",\"colorway\":[\"#636efa\",\"#EF553B\",\"#00cc96\",\"#ab63fa\",\"#FFA15A\",\"#19d3f3\",\"#FF6692\",\"#B6E880\",\"#FF97FF\",\"#FECB52\"],\"font\":{\"color\":\"#2a3f5f\"},\"hovermode\":\"closest\",\"hoverlabel\":{\"align\":\"left\"},\"paper_bgcolor\":\"white\",\"plot_bgcolor\":\"#E5ECF6\",\"polar\":{\"bgcolor\":\"#E5ECF6\",\"angularaxis\":{\"gridcolor\":\"white\",\"linecolor\":\"white\",\"ticks\":\"\"},\"radialaxis\":{\"gridcolor\":\"white\",\"linecolor\":\"white\",\"ticks\":\"\"}},\"ternary\":{\"bgcolor\":\"#E5ECF6\",\"aaxis\":{\"gridcolor\":\"white\",\"linecolor\":\"white\",\"ticks\":\"\"},\"baxis\":{\"gridcolor\":\"white\",\"linecolor\":\"white\",\"ticks\":\"\"},\"caxis\":{\"gridcolor\":\"white\",\"linecolor\":\"white\",\"ticks\":\"\"}},\"coloraxis\":{\"colorbar\":{\"outlinewidth\":0,\"ticks\":\"\"}},\"colorscale\":{\"sequential\":[[0.0,\"#0d0887\"],[0.1111111111111111,\"#46039f\"],[0.2222222222222222,\"#7201a8\"],[0.3333333333333333,\"#9c179e\"],[0.4444444444444444,\"#bd3786\"],[0.5555555555555556,\"#d8576b\"],[0.6666666666666666,\"#ed7953\"],[0.7777777777777778,\"#fb9f3a\"],[0.8888888888888888,\"#fdca26\"],[1.0,\"#f0f921\"]],\"sequentialminus\":[[0.0,\"#0d0887\"],[0.1111111111111111,\"#46039f\"],[0.2222222222222222,\"#7201a8\"],[0.3333333333333333,\"#9c179e\"],[0.4444444444444444,\"#bd3786\"],[0.5555555555555556,\"#d8576b\"],[0.6666666666666666,\"#ed7953\"],[0.7777777777777778,\"#fb9f3a\"],[0.8888888888888888,\"#fdca26\"],[1.0,\"#f0f921\"]],\"diverging\":[[0,\"#8e0152\"],[0.1,\"#c51b7d\"],[0.2,\"#de77ae\"],[0.3,\"#f1b6da\"],[0.4,\"#fde0ef\"],[0.5,\"#f7f7f7\"],[0.6,\"#e6f5d0\"],[0.7,\"#b8e186\"],[0.8,\"#7fbc41\"],[0.9,\"#4d9221\"],[1,\"#276419\"]]},\"xaxis\":{\"gridcolor\":\"white\",\"linecolor\":\"white\",\"ticks\":\"\",\"title\":{\"standoff\":15},\"zerolinecolor\":\"white\",\"automargin\":true,\"zerolinewidth\":2},\"yaxis\":{\"gridcolor\":\"white\",\"linecolor\":\"white\",\"ticks\":\"\",\"title\":{\"standoff\":15},\"zerolinecolor\":\"white\",\"automargin\":true,\"zerolinewidth\":2},\"scene\":{\"xaxis\":{\"backgroundcolor\":\"#E5ECF6\",\"gridcolor\":\"white\",\"linecolor\":\"white\",\"showbackground\":true,\"ticks\":\"\",\"zerolinecolor\":\"white\",\"gridwidth\":2},\"yaxis\":{\"backgroundcolor\":\"#E5ECF6\",\"gridcolor\":\"white\",\"linecolor\":\"white\",\"showbackground\":true,\"ticks\":\"\",\"zerolinecolor\":\"white\",\"gridwidth\":2},\"zaxis\":{\"backgroundcolor\":\"#E5ECF6\",\"gridcolor\":\"white\",\"linecolor\":\"white\",\"showbackground\":true,\"ticks\":\"\",\"zerolinecolor\":\"white\",\"gridwidth\":2}},\"shapedefaults\":{\"line\":{\"color\":\"#2a3f5f\"}},\"annotationdefaults\":{\"arrowcolor\":\"#2a3f5f\",\"arrowhead\":0,\"arrowwidth\":1},\"geo\":{\"bgcolor\":\"white\",\"landcolor\":\"#E5ECF6\",\"subunitcolor\":\"white\",\"showland\":true,\"showlakes\":true,\"lakecolor\":\"white\"},\"title\":{\"x\":0.05},\"mapbox\":{\"style\":\"light\"}}},\"geo\":{\"domain\":{\"x\":[0.0,1.0],\"y\":[0.0,1.0]},\"center\":{},\"scope\":\"north america\"},\"coloraxis\":{\"colorbar\":{\"title\":{\"text\":\"Count\"}},\"colorscale\":[[0.0,\"#440154\"],[0.1111111111111111,\"#482878\"],[0.2222222222222222,\"#3e4989\"],[0.3333333333333333,\"#31688e\"],[0.4444444444444444,\"#26828e\"],[0.5555555555555556,\"#1f9e89\"],[0.6666666666666666,\"#35b779\"],[0.7777777777777778,\"#6ece58\"],[0.8888888888888888,\"#b5de2b\"],[1.0,\"#fde725\"]]},\"legend\":{\"tracegroupgap\":0},\"margin\":{\"t\":60}},                        {\"responsive\": true}                    ).then(function(){\n",
       "                            \n",
       "var gd = document.getElementById('beda5fa7-88fd-4d34-b010-fd99b96038ad');\n",
       "var x = new MutationObserver(function (mutations, observer) {{\n",
       "        var display = window.getComputedStyle(gd).display;\n",
       "        if (!display || display === 'none') {{\n",
       "            console.log([gd, 'removed!']);\n",
       "            Plotly.purge(gd);\n",
       "            observer.disconnect();\n",
       "        }}\n",
       "}});\n",
       "\n",
       "// Listen for the removal of the full notebook cells\n",
       "var notebookContainer = gd.closest('#notebook-container');\n",
       "if (notebookContainer) {{\n",
       "    x.observe(notebookContainer, {childList: true});\n",
       "}}\n",
       "\n",
       "// Listen for the clearing of the current output cell\n",
       "var outputEl = gd.closest('.output');\n",
       "if (outputEl) {{\n",
       "    x.observe(outputEl, {childList: true});\n",
       "}}\n",
       "\n",
       "                        })                };                });            </script>        </div>"
      ]
     },
     "metadata": {},
     "output_type": "display_data"
    }
   ],
   "source": [
    "# 북미 국가(미국, 캐나다, 멕시코) 책 분포 데이터 시각화 \n",
    "import plotly.express as px\n",
    "\n",
    "North_America_country_data = pd.DataFrame({'Country': country_counts.index, 'Count': country_counts.values})\n",
    "\n",
    "fig = px.choropleth(country_data, locations = 'Country',\n",
    "                    locationmode='country names',\n",
    "                    color = 'Count',\n",
    "                    hover_name = 'Country',\n",
    "                    scope=\"north america\",\n",
    "                    color_continuous_scale = px.colors.sequential.Viridis)\n",
    "\n",
    "fig.show()"
   ]
  },
  {
   "cell_type": "code",
   "execution_count": 109,
   "id": "7614bc7c",
   "metadata": {},
   "outputs": [
    {
     "data": {
      "application/vnd.plotly.v1+json": {
       "config": {
        "plotlyServerURL": "https://plot.ly"
       },
       "data": [
        {
         "coloraxis": "coloraxis",
         "geo": "geo",
         "hovertemplate": "<b>%{hovertext}</b><br><br>Country=%{location}<br>Count=%{z}<extra></extra>",
         "hovertext": [
          "United Kingdom",
          "Germany",
          "Portugal",
          "Switzerland",
          "Austria",
          "Belgium"
         ],
         "locationmode": "country names",
         "locations": [
          "United Kingdom",
          "Germany",
          "Portugal",
          "Switzerland",
          "Austria",
          "Belgium"
         ],
         "name": "",
         "type": "choropleth",
         "z": [
          32002,
          27661,
          6866,
          4185,
          2803,
          640
         ]
        }
       ],
       "layout": {
        "coloraxis": {
         "colorbar": {
          "title": {
           "text": "Count"
          }
         },
         "colorscale": [
          [
           0,
           "#440154"
          ],
          [
           0.1111111111111111,
           "#482878"
          ],
          [
           0.2222222222222222,
           "#3e4989"
          ],
          [
           0.3333333333333333,
           "#31688e"
          ],
          [
           0.4444444444444444,
           "#26828e"
          ],
          [
           0.5555555555555556,
           "#1f9e89"
          ],
          [
           0.6666666666666666,
           "#35b779"
          ],
          [
           0.7777777777777778,
           "#6ece58"
          ],
          [
           0.8888888888888888,
           "#b5de2b"
          ],
          [
           1,
           "#fde725"
          ]
         ]
        },
        "geo": {
         "center": {},
         "domain": {
          "x": [
           0,
           1
          ],
          "y": [
           0,
           1
          ]
         },
         "scope": "europe"
        },
        "legend": {
         "tracegroupgap": 0
        },
        "margin": {
         "t": 60
        },
        "template": {
         "data": {
          "bar": [
           {
            "error_x": {
             "color": "#2a3f5f"
            },
            "error_y": {
             "color": "#2a3f5f"
            },
            "marker": {
             "line": {
              "color": "#E5ECF6",
              "width": 0.5
             },
             "pattern": {
              "fillmode": "overlay",
              "size": 10,
              "solidity": 0.2
             }
            },
            "type": "bar"
           }
          ],
          "barpolar": [
           {
            "marker": {
             "line": {
              "color": "#E5ECF6",
              "width": 0.5
             },
             "pattern": {
              "fillmode": "overlay",
              "size": 10,
              "solidity": 0.2
             }
            },
            "type": "barpolar"
           }
          ],
          "carpet": [
           {
            "aaxis": {
             "endlinecolor": "#2a3f5f",
             "gridcolor": "white",
             "linecolor": "white",
             "minorgridcolor": "white",
             "startlinecolor": "#2a3f5f"
            },
            "baxis": {
             "endlinecolor": "#2a3f5f",
             "gridcolor": "white",
             "linecolor": "white",
             "minorgridcolor": "white",
             "startlinecolor": "#2a3f5f"
            },
            "type": "carpet"
           }
          ],
          "choropleth": [
           {
            "colorbar": {
             "outlinewidth": 0,
             "ticks": ""
            },
            "type": "choropleth"
           }
          ],
          "contour": [
           {
            "colorbar": {
             "outlinewidth": 0,
             "ticks": ""
            },
            "colorscale": [
             [
              0,
              "#0d0887"
             ],
             [
              0.1111111111111111,
              "#46039f"
             ],
             [
              0.2222222222222222,
              "#7201a8"
             ],
             [
              0.3333333333333333,
              "#9c179e"
             ],
             [
              0.4444444444444444,
              "#bd3786"
             ],
             [
              0.5555555555555556,
              "#d8576b"
             ],
             [
              0.6666666666666666,
              "#ed7953"
             ],
             [
              0.7777777777777778,
              "#fb9f3a"
             ],
             [
              0.8888888888888888,
              "#fdca26"
             ],
             [
              1,
              "#f0f921"
             ]
            ],
            "type": "contour"
           }
          ],
          "contourcarpet": [
           {
            "colorbar": {
             "outlinewidth": 0,
             "ticks": ""
            },
            "type": "contourcarpet"
           }
          ],
          "heatmap": [
           {
            "colorbar": {
             "outlinewidth": 0,
             "ticks": ""
            },
            "colorscale": [
             [
              0,
              "#0d0887"
             ],
             [
              0.1111111111111111,
              "#46039f"
             ],
             [
              0.2222222222222222,
              "#7201a8"
             ],
             [
              0.3333333333333333,
              "#9c179e"
             ],
             [
              0.4444444444444444,
              "#bd3786"
             ],
             [
              0.5555555555555556,
              "#d8576b"
             ],
             [
              0.6666666666666666,
              "#ed7953"
             ],
             [
              0.7777777777777778,
              "#fb9f3a"
             ],
             [
              0.8888888888888888,
              "#fdca26"
             ],
             [
              1,
              "#f0f921"
             ]
            ],
            "type": "heatmap"
           }
          ],
          "heatmapgl": [
           {
            "colorbar": {
             "outlinewidth": 0,
             "ticks": ""
            },
            "colorscale": [
             [
              0,
              "#0d0887"
             ],
             [
              0.1111111111111111,
              "#46039f"
             ],
             [
              0.2222222222222222,
              "#7201a8"
             ],
             [
              0.3333333333333333,
              "#9c179e"
             ],
             [
              0.4444444444444444,
              "#bd3786"
             ],
             [
              0.5555555555555556,
              "#d8576b"
             ],
             [
              0.6666666666666666,
              "#ed7953"
             ],
             [
              0.7777777777777778,
              "#fb9f3a"
             ],
             [
              0.8888888888888888,
              "#fdca26"
             ],
             [
              1,
              "#f0f921"
             ]
            ],
            "type": "heatmapgl"
           }
          ],
          "histogram": [
           {
            "marker": {
             "pattern": {
              "fillmode": "overlay",
              "size": 10,
              "solidity": 0.2
             }
            },
            "type": "histogram"
           }
          ],
          "histogram2d": [
           {
            "colorbar": {
             "outlinewidth": 0,
             "ticks": ""
            },
            "colorscale": [
             [
              0,
              "#0d0887"
             ],
             [
              0.1111111111111111,
              "#46039f"
             ],
             [
              0.2222222222222222,
              "#7201a8"
             ],
             [
              0.3333333333333333,
              "#9c179e"
             ],
             [
              0.4444444444444444,
              "#bd3786"
             ],
             [
              0.5555555555555556,
              "#d8576b"
             ],
             [
              0.6666666666666666,
              "#ed7953"
             ],
             [
              0.7777777777777778,
              "#fb9f3a"
             ],
             [
              0.8888888888888888,
              "#fdca26"
             ],
             [
              1,
              "#f0f921"
             ]
            ],
            "type": "histogram2d"
           }
          ],
          "histogram2dcontour": [
           {
            "colorbar": {
             "outlinewidth": 0,
             "ticks": ""
            },
            "colorscale": [
             [
              0,
              "#0d0887"
             ],
             [
              0.1111111111111111,
              "#46039f"
             ],
             [
              0.2222222222222222,
              "#7201a8"
             ],
             [
              0.3333333333333333,
              "#9c179e"
             ],
             [
              0.4444444444444444,
              "#bd3786"
             ],
             [
              0.5555555555555556,
              "#d8576b"
             ],
             [
              0.6666666666666666,
              "#ed7953"
             ],
             [
              0.7777777777777778,
              "#fb9f3a"
             ],
             [
              0.8888888888888888,
              "#fdca26"
             ],
             [
              1,
              "#f0f921"
             ]
            ],
            "type": "histogram2dcontour"
           }
          ],
          "mesh3d": [
           {
            "colorbar": {
             "outlinewidth": 0,
             "ticks": ""
            },
            "type": "mesh3d"
           }
          ],
          "parcoords": [
           {
            "line": {
             "colorbar": {
              "outlinewidth": 0,
              "ticks": ""
             }
            },
            "type": "parcoords"
           }
          ],
          "pie": [
           {
            "automargin": true,
            "type": "pie"
           }
          ],
          "scatter": [
           {
            "fillpattern": {
             "fillmode": "overlay",
             "size": 10,
             "solidity": 0.2
            },
            "type": "scatter"
           }
          ],
          "scatter3d": [
           {
            "line": {
             "colorbar": {
              "outlinewidth": 0,
              "ticks": ""
             }
            },
            "marker": {
             "colorbar": {
              "outlinewidth": 0,
              "ticks": ""
             }
            },
            "type": "scatter3d"
           }
          ],
          "scattercarpet": [
           {
            "marker": {
             "colorbar": {
              "outlinewidth": 0,
              "ticks": ""
             }
            },
            "type": "scattercarpet"
           }
          ],
          "scattergeo": [
           {
            "marker": {
             "colorbar": {
              "outlinewidth": 0,
              "ticks": ""
             }
            },
            "type": "scattergeo"
           }
          ],
          "scattergl": [
           {
            "marker": {
             "colorbar": {
              "outlinewidth": 0,
              "ticks": ""
             }
            },
            "type": "scattergl"
           }
          ],
          "scattermapbox": [
           {
            "marker": {
             "colorbar": {
              "outlinewidth": 0,
              "ticks": ""
             }
            },
            "type": "scattermapbox"
           }
          ],
          "scatterpolar": [
           {
            "marker": {
             "colorbar": {
              "outlinewidth": 0,
              "ticks": ""
             }
            },
            "type": "scatterpolar"
           }
          ],
          "scatterpolargl": [
           {
            "marker": {
             "colorbar": {
              "outlinewidth": 0,
              "ticks": ""
             }
            },
            "type": "scatterpolargl"
           }
          ],
          "scatterternary": [
           {
            "marker": {
             "colorbar": {
              "outlinewidth": 0,
              "ticks": ""
             }
            },
            "type": "scatterternary"
           }
          ],
          "surface": [
           {
            "colorbar": {
             "outlinewidth": 0,
             "ticks": ""
            },
            "colorscale": [
             [
              0,
              "#0d0887"
             ],
             [
              0.1111111111111111,
              "#46039f"
             ],
             [
              0.2222222222222222,
              "#7201a8"
             ],
             [
              0.3333333333333333,
              "#9c179e"
             ],
             [
              0.4444444444444444,
              "#bd3786"
             ],
             [
              0.5555555555555556,
              "#d8576b"
             ],
             [
              0.6666666666666666,
              "#ed7953"
             ],
             [
              0.7777777777777778,
              "#fb9f3a"
             ],
             [
              0.8888888888888888,
              "#fdca26"
             ],
             [
              1,
              "#f0f921"
             ]
            ],
            "type": "surface"
           }
          ],
          "table": [
           {
            "cells": {
             "fill": {
              "color": "#EBF0F8"
             },
             "line": {
              "color": "white"
             }
            },
            "header": {
             "fill": {
              "color": "#C8D4E3"
             },
             "line": {
              "color": "white"
             }
            },
            "type": "table"
           }
          ]
         },
         "layout": {
          "annotationdefaults": {
           "arrowcolor": "#2a3f5f",
           "arrowhead": 0,
           "arrowwidth": 1
          },
          "autotypenumbers": "strict",
          "coloraxis": {
           "colorbar": {
            "outlinewidth": 0,
            "ticks": ""
           }
          },
          "colorscale": {
           "diverging": [
            [
             0,
             "#8e0152"
            ],
            [
             0.1,
             "#c51b7d"
            ],
            [
             0.2,
             "#de77ae"
            ],
            [
             0.3,
             "#f1b6da"
            ],
            [
             0.4,
             "#fde0ef"
            ],
            [
             0.5,
             "#f7f7f7"
            ],
            [
             0.6,
             "#e6f5d0"
            ],
            [
             0.7,
             "#b8e186"
            ],
            [
             0.8,
             "#7fbc41"
            ],
            [
             0.9,
             "#4d9221"
            ],
            [
             1,
             "#276419"
            ]
           ],
           "sequential": [
            [
             0,
             "#0d0887"
            ],
            [
             0.1111111111111111,
             "#46039f"
            ],
            [
             0.2222222222222222,
             "#7201a8"
            ],
            [
             0.3333333333333333,
             "#9c179e"
            ],
            [
             0.4444444444444444,
             "#bd3786"
            ],
            [
             0.5555555555555556,
             "#d8576b"
            ],
            [
             0.6666666666666666,
             "#ed7953"
            ],
            [
             0.7777777777777778,
             "#fb9f3a"
            ],
            [
             0.8888888888888888,
             "#fdca26"
            ],
            [
             1,
             "#f0f921"
            ]
           ],
           "sequentialminus": [
            [
             0,
             "#0d0887"
            ],
            [
             0.1111111111111111,
             "#46039f"
            ],
            [
             0.2222222222222222,
             "#7201a8"
            ],
            [
             0.3333333333333333,
             "#9c179e"
            ],
            [
             0.4444444444444444,
             "#bd3786"
            ],
            [
             0.5555555555555556,
             "#d8576b"
            ],
            [
             0.6666666666666666,
             "#ed7953"
            ],
            [
             0.7777777777777778,
             "#fb9f3a"
            ],
            [
             0.8888888888888888,
             "#fdca26"
            ],
            [
             1,
             "#f0f921"
            ]
           ]
          },
          "colorway": [
           "#636efa",
           "#EF553B",
           "#00cc96",
           "#ab63fa",
           "#FFA15A",
           "#19d3f3",
           "#FF6692",
           "#B6E880",
           "#FF97FF",
           "#FECB52"
          ],
          "font": {
           "color": "#2a3f5f"
          },
          "geo": {
           "bgcolor": "white",
           "lakecolor": "white",
           "landcolor": "#E5ECF6",
           "showlakes": true,
           "showland": true,
           "subunitcolor": "white"
          },
          "hoverlabel": {
           "align": "left"
          },
          "hovermode": "closest",
          "mapbox": {
           "style": "light"
          },
          "paper_bgcolor": "white",
          "plot_bgcolor": "#E5ECF6",
          "polar": {
           "angularaxis": {
            "gridcolor": "white",
            "linecolor": "white",
            "ticks": ""
           },
           "bgcolor": "#E5ECF6",
           "radialaxis": {
            "gridcolor": "white",
            "linecolor": "white",
            "ticks": ""
           }
          },
          "scene": {
           "xaxis": {
            "backgroundcolor": "#E5ECF6",
            "gridcolor": "white",
            "gridwidth": 2,
            "linecolor": "white",
            "showbackground": true,
            "ticks": "",
            "zerolinecolor": "white"
           },
           "yaxis": {
            "backgroundcolor": "#E5ECF6",
            "gridcolor": "white",
            "gridwidth": 2,
            "linecolor": "white",
            "showbackground": true,
            "ticks": "",
            "zerolinecolor": "white"
           },
           "zaxis": {
            "backgroundcolor": "#E5ECF6",
            "gridcolor": "white",
            "gridwidth": 2,
            "linecolor": "white",
            "showbackground": true,
            "ticks": "",
            "zerolinecolor": "white"
           }
          },
          "shapedefaults": {
           "line": {
            "color": "#2a3f5f"
           }
          },
          "ternary": {
           "aaxis": {
            "gridcolor": "white",
            "linecolor": "white",
            "ticks": ""
           },
           "baxis": {
            "gridcolor": "white",
            "linecolor": "white",
            "ticks": ""
           },
           "bgcolor": "#E5ECF6",
           "caxis": {
            "gridcolor": "white",
            "linecolor": "white",
            "ticks": ""
           }
          },
          "title": {
           "x": 0.05
          },
          "xaxis": {
           "automargin": true,
           "gridcolor": "white",
           "linecolor": "white",
           "ticks": "",
           "title": {
            "standoff": 15
           },
           "zerolinecolor": "white",
           "zerolinewidth": 2
          },
          "yaxis": {
           "automargin": true,
           "gridcolor": "white",
           "linecolor": "white",
           "ticks": "",
           "title": {
            "standoff": 15
           },
           "zerolinecolor": "white",
           "zerolinewidth": 2
          }
         }
        }
       }
      },
      "text/html": [
       "<div>                            <div id=\"eae1d723-970f-4682-8179-61f14545e300\" class=\"plotly-graph-div\" style=\"height:525px; width:100%;\"></div>            <script type=\"text/javascript\">                require([\"plotly\"], function(Plotly) {                    window.PLOTLYENV=window.PLOTLYENV || {};                                    if (document.getElementById(\"eae1d723-970f-4682-8179-61f14545e300\")) {                    Plotly.newPlot(                        \"eae1d723-970f-4682-8179-61f14545e300\",                        [{\"coloraxis\":\"coloraxis\",\"geo\":\"geo\",\"hovertemplate\":\"<b>%{hovertext}</b><br><br>Country=%{location}<br>Count=%{z}<extra></extra>\",\"hovertext\":[\"United Kingdom\",\"Germany\",\"Portugal\",\"Switzerland\",\"Austria\",\"Belgium\"],\"locationmode\":\"country names\",\"locations\":[\"United Kingdom\",\"Germany\",\"Portugal\",\"Switzerland\",\"Austria\",\"Belgium\"],\"name\":\"\",\"z\":[32002,27661,6866,4185,2803,640],\"type\":\"choropleth\"}],                        {\"template\":{\"data\":{\"histogram2dcontour\":[{\"type\":\"histogram2dcontour\",\"colorbar\":{\"outlinewidth\":0,\"ticks\":\"\"},\"colorscale\":[[0.0,\"#0d0887\"],[0.1111111111111111,\"#46039f\"],[0.2222222222222222,\"#7201a8\"],[0.3333333333333333,\"#9c179e\"],[0.4444444444444444,\"#bd3786\"],[0.5555555555555556,\"#d8576b\"],[0.6666666666666666,\"#ed7953\"],[0.7777777777777778,\"#fb9f3a\"],[0.8888888888888888,\"#fdca26\"],[1.0,\"#f0f921\"]]}],\"choropleth\":[{\"type\":\"choropleth\",\"colorbar\":{\"outlinewidth\":0,\"ticks\":\"\"}}],\"histogram2d\":[{\"type\":\"histogram2d\",\"colorbar\":{\"outlinewidth\":0,\"ticks\":\"\"},\"colorscale\":[[0.0,\"#0d0887\"],[0.1111111111111111,\"#46039f\"],[0.2222222222222222,\"#7201a8\"],[0.3333333333333333,\"#9c179e\"],[0.4444444444444444,\"#bd3786\"],[0.5555555555555556,\"#d8576b\"],[0.6666666666666666,\"#ed7953\"],[0.7777777777777778,\"#fb9f3a\"],[0.8888888888888888,\"#fdca26\"],[1.0,\"#f0f921\"]]}],\"heatmap\":[{\"type\":\"heatmap\",\"colorbar\":{\"outlinewidth\":0,\"ticks\":\"\"},\"colorscale\":[[0.0,\"#0d0887\"],[0.1111111111111111,\"#46039f\"],[0.2222222222222222,\"#7201a8\"],[0.3333333333333333,\"#9c179e\"],[0.4444444444444444,\"#bd3786\"],[0.5555555555555556,\"#d8576b\"],[0.6666666666666666,\"#ed7953\"],[0.7777777777777778,\"#fb9f3a\"],[0.8888888888888888,\"#fdca26\"],[1.0,\"#f0f921\"]]}],\"heatmapgl\":[{\"type\":\"heatmapgl\",\"colorbar\":{\"outlinewidth\":0,\"ticks\":\"\"},\"colorscale\":[[0.0,\"#0d0887\"],[0.1111111111111111,\"#46039f\"],[0.2222222222222222,\"#7201a8\"],[0.3333333333333333,\"#9c179e\"],[0.4444444444444444,\"#bd3786\"],[0.5555555555555556,\"#d8576b\"],[0.6666666666666666,\"#ed7953\"],[0.7777777777777778,\"#fb9f3a\"],[0.8888888888888888,\"#fdca26\"],[1.0,\"#f0f921\"]]}],\"contourcarpet\":[{\"type\":\"contourcarpet\",\"colorbar\":{\"outlinewidth\":0,\"ticks\":\"\"}}],\"contour\":[{\"type\":\"contour\",\"colorbar\":{\"outlinewidth\":0,\"ticks\":\"\"},\"colorscale\":[[0.0,\"#0d0887\"],[0.1111111111111111,\"#46039f\"],[0.2222222222222222,\"#7201a8\"],[0.3333333333333333,\"#9c179e\"],[0.4444444444444444,\"#bd3786\"],[0.5555555555555556,\"#d8576b\"],[0.6666666666666666,\"#ed7953\"],[0.7777777777777778,\"#fb9f3a\"],[0.8888888888888888,\"#fdca26\"],[1.0,\"#f0f921\"]]}],\"surface\":[{\"type\":\"surface\",\"colorbar\":{\"outlinewidth\":0,\"ticks\":\"\"},\"colorscale\":[[0.0,\"#0d0887\"],[0.1111111111111111,\"#46039f\"],[0.2222222222222222,\"#7201a8\"],[0.3333333333333333,\"#9c179e\"],[0.4444444444444444,\"#bd3786\"],[0.5555555555555556,\"#d8576b\"],[0.6666666666666666,\"#ed7953\"],[0.7777777777777778,\"#fb9f3a\"],[0.8888888888888888,\"#fdca26\"],[1.0,\"#f0f921\"]]}],\"mesh3d\":[{\"type\":\"mesh3d\",\"colorbar\":{\"outlinewidth\":0,\"ticks\":\"\"}}],\"scatter\":[{\"fillpattern\":{\"fillmode\":\"overlay\",\"size\":10,\"solidity\":0.2},\"type\":\"scatter\"}],\"parcoords\":[{\"type\":\"parcoords\",\"line\":{\"colorbar\":{\"outlinewidth\":0,\"ticks\":\"\"}}}],\"scatterpolargl\":[{\"type\":\"scatterpolargl\",\"marker\":{\"colorbar\":{\"outlinewidth\":0,\"ticks\":\"\"}}}],\"bar\":[{\"error_x\":{\"color\":\"#2a3f5f\"},\"error_y\":{\"color\":\"#2a3f5f\"},\"marker\":{\"line\":{\"color\":\"#E5ECF6\",\"width\":0.5},\"pattern\":{\"fillmode\":\"overlay\",\"size\":10,\"solidity\":0.2}},\"type\":\"bar\"}],\"scattergeo\":[{\"type\":\"scattergeo\",\"marker\":{\"colorbar\":{\"outlinewidth\":0,\"ticks\":\"\"}}}],\"scatterpolar\":[{\"type\":\"scatterpolar\",\"marker\":{\"colorbar\":{\"outlinewidth\":0,\"ticks\":\"\"}}}],\"histogram\":[{\"marker\":{\"pattern\":{\"fillmode\":\"overlay\",\"size\":10,\"solidity\":0.2}},\"type\":\"histogram\"}],\"scattergl\":[{\"type\":\"scattergl\",\"marker\":{\"colorbar\":{\"outlinewidth\":0,\"ticks\":\"\"}}}],\"scatter3d\":[{\"type\":\"scatter3d\",\"line\":{\"colorbar\":{\"outlinewidth\":0,\"ticks\":\"\"}},\"marker\":{\"colorbar\":{\"outlinewidth\":0,\"ticks\":\"\"}}}],\"scattermapbox\":[{\"type\":\"scattermapbox\",\"marker\":{\"colorbar\":{\"outlinewidth\":0,\"ticks\":\"\"}}}],\"scatterternary\":[{\"type\":\"scatterternary\",\"marker\":{\"colorbar\":{\"outlinewidth\":0,\"ticks\":\"\"}}}],\"scattercarpet\":[{\"type\":\"scattercarpet\",\"marker\":{\"colorbar\":{\"outlinewidth\":0,\"ticks\":\"\"}}}],\"carpet\":[{\"aaxis\":{\"endlinecolor\":\"#2a3f5f\",\"gridcolor\":\"white\",\"linecolor\":\"white\",\"minorgridcolor\":\"white\",\"startlinecolor\":\"#2a3f5f\"},\"baxis\":{\"endlinecolor\":\"#2a3f5f\",\"gridcolor\":\"white\",\"linecolor\":\"white\",\"minorgridcolor\":\"white\",\"startlinecolor\":\"#2a3f5f\"},\"type\":\"carpet\"}],\"table\":[{\"cells\":{\"fill\":{\"color\":\"#EBF0F8\"},\"line\":{\"color\":\"white\"}},\"header\":{\"fill\":{\"color\":\"#C8D4E3\"},\"line\":{\"color\":\"white\"}},\"type\":\"table\"}],\"barpolar\":[{\"marker\":{\"line\":{\"color\":\"#E5ECF6\",\"width\":0.5},\"pattern\":{\"fillmode\":\"overlay\",\"size\":10,\"solidity\":0.2}},\"type\":\"barpolar\"}],\"pie\":[{\"automargin\":true,\"type\":\"pie\"}]},\"layout\":{\"autotypenumbers\":\"strict\",\"colorway\":[\"#636efa\",\"#EF553B\",\"#00cc96\",\"#ab63fa\",\"#FFA15A\",\"#19d3f3\",\"#FF6692\",\"#B6E880\",\"#FF97FF\",\"#FECB52\"],\"font\":{\"color\":\"#2a3f5f\"},\"hovermode\":\"closest\",\"hoverlabel\":{\"align\":\"left\"},\"paper_bgcolor\":\"white\",\"plot_bgcolor\":\"#E5ECF6\",\"polar\":{\"bgcolor\":\"#E5ECF6\",\"angularaxis\":{\"gridcolor\":\"white\",\"linecolor\":\"white\",\"ticks\":\"\"},\"radialaxis\":{\"gridcolor\":\"white\",\"linecolor\":\"white\",\"ticks\":\"\"}},\"ternary\":{\"bgcolor\":\"#E5ECF6\",\"aaxis\":{\"gridcolor\":\"white\",\"linecolor\":\"white\",\"ticks\":\"\"},\"baxis\":{\"gridcolor\":\"white\",\"linecolor\":\"white\",\"ticks\":\"\"},\"caxis\":{\"gridcolor\":\"white\",\"linecolor\":\"white\",\"ticks\":\"\"}},\"coloraxis\":{\"colorbar\":{\"outlinewidth\":0,\"ticks\":\"\"}},\"colorscale\":{\"sequential\":[[0.0,\"#0d0887\"],[0.1111111111111111,\"#46039f\"],[0.2222222222222222,\"#7201a8\"],[0.3333333333333333,\"#9c179e\"],[0.4444444444444444,\"#bd3786\"],[0.5555555555555556,\"#d8576b\"],[0.6666666666666666,\"#ed7953\"],[0.7777777777777778,\"#fb9f3a\"],[0.8888888888888888,\"#fdca26\"],[1.0,\"#f0f921\"]],\"sequentialminus\":[[0.0,\"#0d0887\"],[0.1111111111111111,\"#46039f\"],[0.2222222222222222,\"#7201a8\"],[0.3333333333333333,\"#9c179e\"],[0.4444444444444444,\"#bd3786\"],[0.5555555555555556,\"#d8576b\"],[0.6666666666666666,\"#ed7953\"],[0.7777777777777778,\"#fb9f3a\"],[0.8888888888888888,\"#fdca26\"],[1.0,\"#f0f921\"]],\"diverging\":[[0,\"#8e0152\"],[0.1,\"#c51b7d\"],[0.2,\"#de77ae\"],[0.3,\"#f1b6da\"],[0.4,\"#fde0ef\"],[0.5,\"#f7f7f7\"],[0.6,\"#e6f5d0\"],[0.7,\"#b8e186\"],[0.8,\"#7fbc41\"],[0.9,\"#4d9221\"],[1,\"#276419\"]]},\"xaxis\":{\"gridcolor\":\"white\",\"linecolor\":\"white\",\"ticks\":\"\",\"title\":{\"standoff\":15},\"zerolinecolor\":\"white\",\"automargin\":true,\"zerolinewidth\":2},\"yaxis\":{\"gridcolor\":\"white\",\"linecolor\":\"white\",\"ticks\":\"\",\"title\":{\"standoff\":15},\"zerolinecolor\":\"white\",\"automargin\":true,\"zerolinewidth\":2},\"scene\":{\"xaxis\":{\"backgroundcolor\":\"#E5ECF6\",\"gridcolor\":\"white\",\"linecolor\":\"white\",\"showbackground\":true,\"ticks\":\"\",\"zerolinecolor\":\"white\",\"gridwidth\":2},\"yaxis\":{\"backgroundcolor\":\"#E5ECF6\",\"gridcolor\":\"white\",\"linecolor\":\"white\",\"showbackground\":true,\"ticks\":\"\",\"zerolinecolor\":\"white\",\"gridwidth\":2},\"zaxis\":{\"backgroundcolor\":\"#E5ECF6\",\"gridcolor\":\"white\",\"linecolor\":\"white\",\"showbackground\":true,\"ticks\":\"\",\"zerolinecolor\":\"white\",\"gridwidth\":2}},\"shapedefaults\":{\"line\":{\"color\":\"#2a3f5f\"}},\"annotationdefaults\":{\"arrowcolor\":\"#2a3f5f\",\"arrowhead\":0,\"arrowwidth\":1},\"geo\":{\"bgcolor\":\"white\",\"landcolor\":\"#E5ECF6\",\"subunitcolor\":\"white\",\"showland\":true,\"showlakes\":true,\"lakecolor\":\"white\"},\"title\":{\"x\":0.05},\"mapbox\":{\"style\":\"light\"}}},\"geo\":{\"domain\":{\"x\":[0.0,1.0],\"y\":[0.0,1.0]},\"center\":{},\"scope\":\"europe\"},\"coloraxis\":{\"colorbar\":{\"title\":{\"text\":\"Count\"}},\"colorscale\":[[0.0,\"#440154\"],[0.1111111111111111,\"#482878\"],[0.2222222222222222,\"#3e4989\"],[0.3333333333333333,\"#31688e\"],[0.4444444444444444,\"#26828e\"],[0.5555555555555556,\"#1f9e89\"],[0.6666666666666666,\"#35b779\"],[0.7777777777777778,\"#6ece58\"],[0.8888888888888888,\"#b5de2b\"],[1.0,\"#fde725\"]]},\"legend\":{\"tracegroupgap\":0},\"margin\":{\"t\":60}},                        {\"responsive\": true}                    ).then(function(){\n",
       "                            \n",
       "var gd = document.getElementById('eae1d723-970f-4682-8179-61f14545e300');\n",
       "var x = new MutationObserver(function (mutations, observer) {{\n",
       "        var display = window.getComputedStyle(gd).display;\n",
       "        if (!display || display === 'none') {{\n",
       "            console.log([gd, 'removed!']);\n",
       "            Plotly.purge(gd);\n",
       "            observer.disconnect();\n",
       "        }}\n",
       "}});\n",
       "\n",
       "// Listen for the removal of the full notebook cells\n",
       "var notebookContainer = gd.closest('#notebook-container');\n",
       "if (notebookContainer) {{\n",
       "    x.observe(notebookContainer, {childList: true});\n",
       "}}\n",
       "\n",
       "// Listen for the clearing of the current output cell\n",
       "var outputEl = gd.closest('.output');\n",
       "if (outputEl) {{\n",
       "    x.observe(outputEl, {childList: true});\n",
       "}}\n",
       "\n",
       "                        })                };                });            </script>        </div>"
      ]
     },
     "metadata": {},
     "output_type": "display_data"
    }
   ],
   "source": [
    "# 서유럽 6개 국 책 분포 데이터 시각화\n",
    "import plotly.express as px\n",
    "\n",
    "West_Europe_country_data = pd.DataFrame({'Country': country_counts2.index, 'Count': country_counts2.values})\n",
    "\n",
    "fig = px.choropleth(West_Europe_country_data, locations = 'Country',\n",
    "                    locationmode='country names',\n",
    "                    color = 'Count',\n",
    "                    hover_name = 'Country',\n",
    "                    scope=\"europe\",\n",
    "                    color_continuous_scale = px.colors.sequential.Viridis)\n",
    "\n",
    "fig.show()"
   ]
  },
  {
   "cell_type": "code",
   "execution_count": 160,
   "id": "1d63a562",
   "metadata": {},
   "outputs": [
    {
     "data": {
      "application/vnd.plotly.v1+json": {
       "config": {
        "plotlyServerURL": "https://plot.ly"
       },
       "data": [
        {
         "alignmentgroup": "True",
         "hovertemplate": "국가=%{x}<br>책 개수=%{text}<extra></extra>",
         "legendgroup": "",
         "marker": {
          "color": "#636efa",
          "pattern": {
           "shape": ""
          }
         },
         "name": "",
         "offsetgroup": "",
         "orientation": "v",
         "showlegend": false,
         "text": [
          2117,
          574,
          14845,
          4212,
          3256,
          19001
         ],
         "textposition": "outside",
         "texttemplate": "%{text}",
         "type": "bar",
         "x": [
          "Austria",
          "Belgium",
          "Germany",
          "Portugal",
          "Switzerland",
          "United Kingdom"
         ],
         "xaxis": "x",
         "y": [
          2117,
          574,
          14845,
          4212,
          3256,
          19001
         ],
         "yaxis": "y"
        }
       ],
       "layout": {
        "barmode": "relative",
        "legend": {
         "tracegroupgap": 0
        },
        "template": {
         "data": {
          "bar": [
           {
            "error_x": {
             "color": "#2a3f5f"
            },
            "error_y": {
             "color": "#2a3f5f"
            },
            "marker": {
             "line": {
              "color": "#E5ECF6",
              "width": 0.5
             },
             "pattern": {
              "fillmode": "overlay",
              "size": 10,
              "solidity": 0.2
             }
            },
            "type": "bar"
           }
          ],
          "barpolar": [
           {
            "marker": {
             "line": {
              "color": "#E5ECF6",
              "width": 0.5
             },
             "pattern": {
              "fillmode": "overlay",
              "size": 10,
              "solidity": 0.2
             }
            },
            "type": "barpolar"
           }
          ],
          "carpet": [
           {
            "aaxis": {
             "endlinecolor": "#2a3f5f",
             "gridcolor": "white",
             "linecolor": "white",
             "minorgridcolor": "white",
             "startlinecolor": "#2a3f5f"
            },
            "baxis": {
             "endlinecolor": "#2a3f5f",
             "gridcolor": "white",
             "linecolor": "white",
             "minorgridcolor": "white",
             "startlinecolor": "#2a3f5f"
            },
            "type": "carpet"
           }
          ],
          "choropleth": [
           {
            "colorbar": {
             "outlinewidth": 0,
             "ticks": ""
            },
            "type": "choropleth"
           }
          ],
          "contour": [
           {
            "colorbar": {
             "outlinewidth": 0,
             "ticks": ""
            },
            "colorscale": [
             [
              0,
              "#0d0887"
             ],
             [
              0.1111111111111111,
              "#46039f"
             ],
             [
              0.2222222222222222,
              "#7201a8"
             ],
             [
              0.3333333333333333,
              "#9c179e"
             ],
             [
              0.4444444444444444,
              "#bd3786"
             ],
             [
              0.5555555555555556,
              "#d8576b"
             ],
             [
              0.6666666666666666,
              "#ed7953"
             ],
             [
              0.7777777777777778,
              "#fb9f3a"
             ],
             [
              0.8888888888888888,
              "#fdca26"
             ],
             [
              1,
              "#f0f921"
             ]
            ],
            "type": "contour"
           }
          ],
          "contourcarpet": [
           {
            "colorbar": {
             "outlinewidth": 0,
             "ticks": ""
            },
            "type": "contourcarpet"
           }
          ],
          "heatmap": [
           {
            "colorbar": {
             "outlinewidth": 0,
             "ticks": ""
            },
            "colorscale": [
             [
              0,
              "#0d0887"
             ],
             [
              0.1111111111111111,
              "#46039f"
             ],
             [
              0.2222222222222222,
              "#7201a8"
             ],
             [
              0.3333333333333333,
              "#9c179e"
             ],
             [
              0.4444444444444444,
              "#bd3786"
             ],
             [
              0.5555555555555556,
              "#d8576b"
             ],
             [
              0.6666666666666666,
              "#ed7953"
             ],
             [
              0.7777777777777778,
              "#fb9f3a"
             ],
             [
              0.8888888888888888,
              "#fdca26"
             ],
             [
              1,
              "#f0f921"
             ]
            ],
            "type": "heatmap"
           }
          ],
          "heatmapgl": [
           {
            "colorbar": {
             "outlinewidth": 0,
             "ticks": ""
            },
            "colorscale": [
             [
              0,
              "#0d0887"
             ],
             [
              0.1111111111111111,
              "#46039f"
             ],
             [
              0.2222222222222222,
              "#7201a8"
             ],
             [
              0.3333333333333333,
              "#9c179e"
             ],
             [
              0.4444444444444444,
              "#bd3786"
             ],
             [
              0.5555555555555556,
              "#d8576b"
             ],
             [
              0.6666666666666666,
              "#ed7953"
             ],
             [
              0.7777777777777778,
              "#fb9f3a"
             ],
             [
              0.8888888888888888,
              "#fdca26"
             ],
             [
              1,
              "#f0f921"
             ]
            ],
            "type": "heatmapgl"
           }
          ],
          "histogram": [
           {
            "marker": {
             "pattern": {
              "fillmode": "overlay",
              "size": 10,
              "solidity": 0.2
             }
            },
            "type": "histogram"
           }
          ],
          "histogram2d": [
           {
            "colorbar": {
             "outlinewidth": 0,
             "ticks": ""
            },
            "colorscale": [
             [
              0,
              "#0d0887"
             ],
             [
              0.1111111111111111,
              "#46039f"
             ],
             [
              0.2222222222222222,
              "#7201a8"
             ],
             [
              0.3333333333333333,
              "#9c179e"
             ],
             [
              0.4444444444444444,
              "#bd3786"
             ],
             [
              0.5555555555555556,
              "#d8576b"
             ],
             [
              0.6666666666666666,
              "#ed7953"
             ],
             [
              0.7777777777777778,
              "#fb9f3a"
             ],
             [
              0.8888888888888888,
              "#fdca26"
             ],
             [
              1,
              "#f0f921"
             ]
            ],
            "type": "histogram2d"
           }
          ],
          "histogram2dcontour": [
           {
            "colorbar": {
             "outlinewidth": 0,
             "ticks": ""
            },
            "colorscale": [
             [
              0,
              "#0d0887"
             ],
             [
              0.1111111111111111,
              "#46039f"
             ],
             [
              0.2222222222222222,
              "#7201a8"
             ],
             [
              0.3333333333333333,
              "#9c179e"
             ],
             [
              0.4444444444444444,
              "#bd3786"
             ],
             [
              0.5555555555555556,
              "#d8576b"
             ],
             [
              0.6666666666666666,
              "#ed7953"
             ],
             [
              0.7777777777777778,
              "#fb9f3a"
             ],
             [
              0.8888888888888888,
              "#fdca26"
             ],
             [
              1,
              "#f0f921"
             ]
            ],
            "type": "histogram2dcontour"
           }
          ],
          "mesh3d": [
           {
            "colorbar": {
             "outlinewidth": 0,
             "ticks": ""
            },
            "type": "mesh3d"
           }
          ],
          "parcoords": [
           {
            "line": {
             "colorbar": {
              "outlinewidth": 0,
              "ticks": ""
             }
            },
            "type": "parcoords"
           }
          ],
          "pie": [
           {
            "automargin": true,
            "type": "pie"
           }
          ],
          "scatter": [
           {
            "fillpattern": {
             "fillmode": "overlay",
             "size": 10,
             "solidity": 0.2
            },
            "type": "scatter"
           }
          ],
          "scatter3d": [
           {
            "line": {
             "colorbar": {
              "outlinewidth": 0,
              "ticks": ""
             }
            },
            "marker": {
             "colorbar": {
              "outlinewidth": 0,
              "ticks": ""
             }
            },
            "type": "scatter3d"
           }
          ],
          "scattercarpet": [
           {
            "marker": {
             "colorbar": {
              "outlinewidth": 0,
              "ticks": ""
             }
            },
            "type": "scattercarpet"
           }
          ],
          "scattergeo": [
           {
            "marker": {
             "colorbar": {
              "outlinewidth": 0,
              "ticks": ""
             }
            },
            "type": "scattergeo"
           }
          ],
          "scattergl": [
           {
            "marker": {
             "colorbar": {
              "outlinewidth": 0,
              "ticks": ""
             }
            },
            "type": "scattergl"
           }
          ],
          "scattermapbox": [
           {
            "marker": {
             "colorbar": {
              "outlinewidth": 0,
              "ticks": ""
             }
            },
            "type": "scattermapbox"
           }
          ],
          "scatterpolar": [
           {
            "marker": {
             "colorbar": {
              "outlinewidth": 0,
              "ticks": ""
             }
            },
            "type": "scatterpolar"
           }
          ],
          "scatterpolargl": [
           {
            "marker": {
             "colorbar": {
              "outlinewidth": 0,
              "ticks": ""
             }
            },
            "type": "scatterpolargl"
           }
          ],
          "scatterternary": [
           {
            "marker": {
             "colorbar": {
              "outlinewidth": 0,
              "ticks": ""
             }
            },
            "type": "scatterternary"
           }
          ],
          "surface": [
           {
            "colorbar": {
             "outlinewidth": 0,
             "ticks": ""
            },
            "colorscale": [
             [
              0,
              "#0d0887"
             ],
             [
              0.1111111111111111,
              "#46039f"
             ],
             [
              0.2222222222222222,
              "#7201a8"
             ],
             [
              0.3333333333333333,
              "#9c179e"
             ],
             [
              0.4444444444444444,
              "#bd3786"
             ],
             [
              0.5555555555555556,
              "#d8576b"
             ],
             [
              0.6666666666666666,
              "#ed7953"
             ],
             [
              0.7777777777777778,
              "#fb9f3a"
             ],
             [
              0.8888888888888888,
              "#fdca26"
             ],
             [
              1,
              "#f0f921"
             ]
            ],
            "type": "surface"
           }
          ],
          "table": [
           {
            "cells": {
             "fill": {
              "color": "#EBF0F8"
             },
             "line": {
              "color": "white"
             }
            },
            "header": {
             "fill": {
              "color": "#C8D4E3"
             },
             "line": {
              "color": "white"
             }
            },
            "type": "table"
           }
          ]
         },
         "layout": {
          "annotationdefaults": {
           "arrowcolor": "#2a3f5f",
           "arrowhead": 0,
           "arrowwidth": 1
          },
          "autotypenumbers": "strict",
          "coloraxis": {
           "colorbar": {
            "outlinewidth": 0,
            "ticks": ""
           }
          },
          "colorscale": {
           "diverging": [
            [
             0,
             "#8e0152"
            ],
            [
             0.1,
             "#c51b7d"
            ],
            [
             0.2,
             "#de77ae"
            ],
            [
             0.3,
             "#f1b6da"
            ],
            [
             0.4,
             "#fde0ef"
            ],
            [
             0.5,
             "#f7f7f7"
            ],
            [
             0.6,
             "#e6f5d0"
            ],
            [
             0.7,
             "#b8e186"
            ],
            [
             0.8,
             "#7fbc41"
            ],
            [
             0.9,
             "#4d9221"
            ],
            [
             1,
             "#276419"
            ]
           ],
           "sequential": [
            [
             0,
             "#0d0887"
            ],
            [
             0.1111111111111111,
             "#46039f"
            ],
            [
             0.2222222222222222,
             "#7201a8"
            ],
            [
             0.3333333333333333,
             "#9c179e"
            ],
            [
             0.4444444444444444,
             "#bd3786"
            ],
            [
             0.5555555555555556,
             "#d8576b"
            ],
            [
             0.6666666666666666,
             "#ed7953"
            ],
            [
             0.7777777777777778,
             "#fb9f3a"
            ],
            [
             0.8888888888888888,
             "#fdca26"
            ],
            [
             1,
             "#f0f921"
            ]
           ],
           "sequentialminus": [
            [
             0,
             "#0d0887"
            ],
            [
             0.1111111111111111,
             "#46039f"
            ],
            [
             0.2222222222222222,
             "#7201a8"
            ],
            [
             0.3333333333333333,
             "#9c179e"
            ],
            [
             0.4444444444444444,
             "#bd3786"
            ],
            [
             0.5555555555555556,
             "#d8576b"
            ],
            [
             0.6666666666666666,
             "#ed7953"
            ],
            [
             0.7777777777777778,
             "#fb9f3a"
            ],
            [
             0.8888888888888888,
             "#fdca26"
            ],
            [
             1,
             "#f0f921"
            ]
           ]
          },
          "colorway": [
           "#636efa",
           "#EF553B",
           "#00cc96",
           "#ab63fa",
           "#FFA15A",
           "#19d3f3",
           "#FF6692",
           "#B6E880",
           "#FF97FF",
           "#FECB52"
          ],
          "font": {
           "color": "#2a3f5f"
          },
          "geo": {
           "bgcolor": "white",
           "lakecolor": "white",
           "landcolor": "#E5ECF6",
           "showlakes": true,
           "showland": true,
           "subunitcolor": "white"
          },
          "hoverlabel": {
           "align": "left"
          },
          "hovermode": "closest",
          "mapbox": {
           "style": "light"
          },
          "paper_bgcolor": "white",
          "plot_bgcolor": "#E5ECF6",
          "polar": {
           "angularaxis": {
            "gridcolor": "white",
            "linecolor": "white",
            "ticks": ""
           },
           "bgcolor": "#E5ECF6",
           "radialaxis": {
            "gridcolor": "white",
            "linecolor": "white",
            "ticks": ""
           }
          },
          "scene": {
           "xaxis": {
            "backgroundcolor": "#E5ECF6",
            "gridcolor": "white",
            "gridwidth": 2,
            "linecolor": "white",
            "showbackground": true,
            "ticks": "",
            "zerolinecolor": "white"
           },
           "yaxis": {
            "backgroundcolor": "#E5ECF6",
            "gridcolor": "white",
            "gridwidth": 2,
            "linecolor": "white",
            "showbackground": true,
            "ticks": "",
            "zerolinecolor": "white"
           },
           "zaxis": {
            "backgroundcolor": "#E5ECF6",
            "gridcolor": "white",
            "gridwidth": 2,
            "linecolor": "white",
            "showbackground": true,
            "ticks": "",
            "zerolinecolor": "white"
           }
          },
          "shapedefaults": {
           "line": {
            "color": "#2a3f5f"
           }
          },
          "ternary": {
           "aaxis": {
            "gridcolor": "white",
            "linecolor": "white",
            "ticks": ""
           },
           "baxis": {
            "gridcolor": "white",
            "linecolor": "white",
            "ticks": ""
           },
           "bgcolor": "#E5ECF6",
           "caxis": {
            "gridcolor": "white",
            "linecolor": "white",
            "ticks": ""
           }
          },
          "title": {
           "x": 0.05
          },
          "xaxis": {
           "automargin": true,
           "gridcolor": "white",
           "linecolor": "white",
           "ticks": "",
           "title": {
            "standoff": 15
           },
           "zerolinecolor": "white",
           "zerolinewidth": 2
          },
          "yaxis": {
           "automargin": true,
           "gridcolor": "white",
           "linecolor": "white",
           "ticks": "",
           "title": {
            "standoff": 15
           },
           "zerolinecolor": "white",
           "zerolinewidth": 2
          }
         }
        },
        "title": {
         "text": "서유럽 국가별 책 개수"
        },
        "xaxis": {
         "anchor": "y",
         "domain": [
          0,
          1
         ],
         "title": {
          "text": "국가"
         }
        },
        "yaxis": {
         "anchor": "x",
         "domain": [
          0,
          1
         ],
         "title": {
          "text": "책 개수"
         }
        }
       }
      },
      "text/html": [
       "<div>                            <div id=\"d98511f3-d5cf-48b0-9d36-b438b668135f\" class=\"plotly-graph-div\" style=\"height:525px; width:100%;\"></div>            <script type=\"text/javascript\">                require([\"plotly\"], function(Plotly) {                    window.PLOTLYENV=window.PLOTLYENV || {};                                    if (document.getElementById(\"d98511f3-d5cf-48b0-9d36-b438b668135f\")) {                    Plotly.newPlot(                        \"d98511f3-d5cf-48b0-9d36-b438b668135f\",                        [{\"alignmentgroup\":\"True\",\"hovertemplate\":\"\\uad6d\\uac00=%{x}<br>\\ucc45 \\uac1c\\uc218=%{text}<extra></extra>\",\"legendgroup\":\"\",\"marker\":{\"color\":\"#636efa\",\"pattern\":{\"shape\":\"\"}},\"name\":\"\",\"offsetgroup\":\"\",\"orientation\":\"v\",\"showlegend\":false,\"text\":[2117.0,574.0,14845.0,4212.0,3256.0,19001.0],\"textposition\":\"outside\",\"x\":[\"Austria\",\"Belgium\",\"Germany\",\"Portugal\",\"Switzerland\",\"United Kingdom\"],\"xaxis\":\"x\",\"y\":[2117,574,14845,4212,3256,19001],\"yaxis\":\"y\",\"type\":\"bar\",\"texttemplate\":\"%{text}\"}],                        {\"template\":{\"data\":{\"histogram2dcontour\":[{\"type\":\"histogram2dcontour\",\"colorbar\":{\"outlinewidth\":0,\"ticks\":\"\"},\"colorscale\":[[0.0,\"#0d0887\"],[0.1111111111111111,\"#46039f\"],[0.2222222222222222,\"#7201a8\"],[0.3333333333333333,\"#9c179e\"],[0.4444444444444444,\"#bd3786\"],[0.5555555555555556,\"#d8576b\"],[0.6666666666666666,\"#ed7953\"],[0.7777777777777778,\"#fb9f3a\"],[0.8888888888888888,\"#fdca26\"],[1.0,\"#f0f921\"]]}],\"choropleth\":[{\"type\":\"choropleth\",\"colorbar\":{\"outlinewidth\":0,\"ticks\":\"\"}}],\"histogram2d\":[{\"type\":\"histogram2d\",\"colorbar\":{\"outlinewidth\":0,\"ticks\":\"\"},\"colorscale\":[[0.0,\"#0d0887\"],[0.1111111111111111,\"#46039f\"],[0.2222222222222222,\"#7201a8\"],[0.3333333333333333,\"#9c179e\"],[0.4444444444444444,\"#bd3786\"],[0.5555555555555556,\"#d8576b\"],[0.6666666666666666,\"#ed7953\"],[0.7777777777777778,\"#fb9f3a\"],[0.8888888888888888,\"#fdca26\"],[1.0,\"#f0f921\"]]}],\"heatmap\":[{\"type\":\"heatmap\",\"colorbar\":{\"outlinewidth\":0,\"ticks\":\"\"},\"colorscale\":[[0.0,\"#0d0887\"],[0.1111111111111111,\"#46039f\"],[0.2222222222222222,\"#7201a8\"],[0.3333333333333333,\"#9c179e\"],[0.4444444444444444,\"#bd3786\"],[0.5555555555555556,\"#d8576b\"],[0.6666666666666666,\"#ed7953\"],[0.7777777777777778,\"#fb9f3a\"],[0.8888888888888888,\"#fdca26\"],[1.0,\"#f0f921\"]]}],\"heatmapgl\":[{\"type\":\"heatmapgl\",\"colorbar\":{\"outlinewidth\":0,\"ticks\":\"\"},\"colorscale\":[[0.0,\"#0d0887\"],[0.1111111111111111,\"#46039f\"],[0.2222222222222222,\"#7201a8\"],[0.3333333333333333,\"#9c179e\"],[0.4444444444444444,\"#bd3786\"],[0.5555555555555556,\"#d8576b\"],[0.6666666666666666,\"#ed7953\"],[0.7777777777777778,\"#fb9f3a\"],[0.8888888888888888,\"#fdca26\"],[1.0,\"#f0f921\"]]}],\"contourcarpet\":[{\"type\":\"contourcarpet\",\"colorbar\":{\"outlinewidth\":0,\"ticks\":\"\"}}],\"contour\":[{\"type\":\"contour\",\"colorbar\":{\"outlinewidth\":0,\"ticks\":\"\"},\"colorscale\":[[0.0,\"#0d0887\"],[0.1111111111111111,\"#46039f\"],[0.2222222222222222,\"#7201a8\"],[0.3333333333333333,\"#9c179e\"],[0.4444444444444444,\"#bd3786\"],[0.5555555555555556,\"#d8576b\"],[0.6666666666666666,\"#ed7953\"],[0.7777777777777778,\"#fb9f3a\"],[0.8888888888888888,\"#fdca26\"],[1.0,\"#f0f921\"]]}],\"surface\":[{\"type\":\"surface\",\"colorbar\":{\"outlinewidth\":0,\"ticks\":\"\"},\"colorscale\":[[0.0,\"#0d0887\"],[0.1111111111111111,\"#46039f\"],[0.2222222222222222,\"#7201a8\"],[0.3333333333333333,\"#9c179e\"],[0.4444444444444444,\"#bd3786\"],[0.5555555555555556,\"#d8576b\"],[0.6666666666666666,\"#ed7953\"],[0.7777777777777778,\"#fb9f3a\"],[0.8888888888888888,\"#fdca26\"],[1.0,\"#f0f921\"]]}],\"mesh3d\":[{\"type\":\"mesh3d\",\"colorbar\":{\"outlinewidth\":0,\"ticks\":\"\"}}],\"scatter\":[{\"fillpattern\":{\"fillmode\":\"overlay\",\"size\":10,\"solidity\":0.2},\"type\":\"scatter\"}],\"parcoords\":[{\"type\":\"parcoords\",\"line\":{\"colorbar\":{\"outlinewidth\":0,\"ticks\":\"\"}}}],\"scatterpolargl\":[{\"type\":\"scatterpolargl\",\"marker\":{\"colorbar\":{\"outlinewidth\":0,\"ticks\":\"\"}}}],\"bar\":[{\"error_x\":{\"color\":\"#2a3f5f\"},\"error_y\":{\"color\":\"#2a3f5f\"},\"marker\":{\"line\":{\"color\":\"#E5ECF6\",\"width\":0.5},\"pattern\":{\"fillmode\":\"overlay\",\"size\":10,\"solidity\":0.2}},\"type\":\"bar\"}],\"scattergeo\":[{\"type\":\"scattergeo\",\"marker\":{\"colorbar\":{\"outlinewidth\":0,\"ticks\":\"\"}}}],\"scatterpolar\":[{\"type\":\"scatterpolar\",\"marker\":{\"colorbar\":{\"outlinewidth\":0,\"ticks\":\"\"}}}],\"histogram\":[{\"marker\":{\"pattern\":{\"fillmode\":\"overlay\",\"size\":10,\"solidity\":0.2}},\"type\":\"histogram\"}],\"scattergl\":[{\"type\":\"scattergl\",\"marker\":{\"colorbar\":{\"outlinewidth\":0,\"ticks\":\"\"}}}],\"scatter3d\":[{\"type\":\"scatter3d\",\"line\":{\"colorbar\":{\"outlinewidth\":0,\"ticks\":\"\"}},\"marker\":{\"colorbar\":{\"outlinewidth\":0,\"ticks\":\"\"}}}],\"scattermapbox\":[{\"type\":\"scattermapbox\",\"marker\":{\"colorbar\":{\"outlinewidth\":0,\"ticks\":\"\"}}}],\"scatterternary\":[{\"type\":\"scatterternary\",\"marker\":{\"colorbar\":{\"outlinewidth\":0,\"ticks\":\"\"}}}],\"scattercarpet\":[{\"type\":\"scattercarpet\",\"marker\":{\"colorbar\":{\"outlinewidth\":0,\"ticks\":\"\"}}}],\"carpet\":[{\"aaxis\":{\"endlinecolor\":\"#2a3f5f\",\"gridcolor\":\"white\",\"linecolor\":\"white\",\"minorgridcolor\":\"white\",\"startlinecolor\":\"#2a3f5f\"},\"baxis\":{\"endlinecolor\":\"#2a3f5f\",\"gridcolor\":\"white\",\"linecolor\":\"white\",\"minorgridcolor\":\"white\",\"startlinecolor\":\"#2a3f5f\"},\"type\":\"carpet\"}],\"table\":[{\"cells\":{\"fill\":{\"color\":\"#EBF0F8\"},\"line\":{\"color\":\"white\"}},\"header\":{\"fill\":{\"color\":\"#C8D4E3\"},\"line\":{\"color\":\"white\"}},\"type\":\"table\"}],\"barpolar\":[{\"marker\":{\"line\":{\"color\":\"#E5ECF6\",\"width\":0.5},\"pattern\":{\"fillmode\":\"overlay\",\"size\":10,\"solidity\":0.2}},\"type\":\"barpolar\"}],\"pie\":[{\"automargin\":true,\"type\":\"pie\"}]},\"layout\":{\"autotypenumbers\":\"strict\",\"colorway\":[\"#636efa\",\"#EF553B\",\"#00cc96\",\"#ab63fa\",\"#FFA15A\",\"#19d3f3\",\"#FF6692\",\"#B6E880\",\"#FF97FF\",\"#FECB52\"],\"font\":{\"color\":\"#2a3f5f\"},\"hovermode\":\"closest\",\"hoverlabel\":{\"align\":\"left\"},\"paper_bgcolor\":\"white\",\"plot_bgcolor\":\"#E5ECF6\",\"polar\":{\"bgcolor\":\"#E5ECF6\",\"angularaxis\":{\"gridcolor\":\"white\",\"linecolor\":\"white\",\"ticks\":\"\"},\"radialaxis\":{\"gridcolor\":\"white\",\"linecolor\":\"white\",\"ticks\":\"\"}},\"ternary\":{\"bgcolor\":\"#E5ECF6\",\"aaxis\":{\"gridcolor\":\"white\",\"linecolor\":\"white\",\"ticks\":\"\"},\"baxis\":{\"gridcolor\":\"white\",\"linecolor\":\"white\",\"ticks\":\"\"},\"caxis\":{\"gridcolor\":\"white\",\"linecolor\":\"white\",\"ticks\":\"\"}},\"coloraxis\":{\"colorbar\":{\"outlinewidth\":0,\"ticks\":\"\"}},\"colorscale\":{\"sequential\":[[0.0,\"#0d0887\"],[0.1111111111111111,\"#46039f\"],[0.2222222222222222,\"#7201a8\"],[0.3333333333333333,\"#9c179e\"],[0.4444444444444444,\"#bd3786\"],[0.5555555555555556,\"#d8576b\"],[0.6666666666666666,\"#ed7953\"],[0.7777777777777778,\"#fb9f3a\"],[0.8888888888888888,\"#fdca26\"],[1.0,\"#f0f921\"]],\"sequentialminus\":[[0.0,\"#0d0887\"],[0.1111111111111111,\"#46039f\"],[0.2222222222222222,\"#7201a8\"],[0.3333333333333333,\"#9c179e\"],[0.4444444444444444,\"#bd3786\"],[0.5555555555555556,\"#d8576b\"],[0.6666666666666666,\"#ed7953\"],[0.7777777777777778,\"#fb9f3a\"],[0.8888888888888888,\"#fdca26\"],[1.0,\"#f0f921\"]],\"diverging\":[[0,\"#8e0152\"],[0.1,\"#c51b7d\"],[0.2,\"#de77ae\"],[0.3,\"#f1b6da\"],[0.4,\"#fde0ef\"],[0.5,\"#f7f7f7\"],[0.6,\"#e6f5d0\"],[0.7,\"#b8e186\"],[0.8,\"#7fbc41\"],[0.9,\"#4d9221\"],[1,\"#276419\"]]},\"xaxis\":{\"gridcolor\":\"white\",\"linecolor\":\"white\",\"ticks\":\"\",\"title\":{\"standoff\":15},\"zerolinecolor\":\"white\",\"automargin\":true,\"zerolinewidth\":2},\"yaxis\":{\"gridcolor\":\"white\",\"linecolor\":\"white\",\"ticks\":\"\",\"title\":{\"standoff\":15},\"zerolinecolor\":\"white\",\"automargin\":true,\"zerolinewidth\":2},\"scene\":{\"xaxis\":{\"backgroundcolor\":\"#E5ECF6\",\"gridcolor\":\"white\",\"linecolor\":\"white\",\"showbackground\":true,\"ticks\":\"\",\"zerolinecolor\":\"white\",\"gridwidth\":2},\"yaxis\":{\"backgroundcolor\":\"#E5ECF6\",\"gridcolor\":\"white\",\"linecolor\":\"white\",\"showbackground\":true,\"ticks\":\"\",\"zerolinecolor\":\"white\",\"gridwidth\":2},\"zaxis\":{\"backgroundcolor\":\"#E5ECF6\",\"gridcolor\":\"white\",\"linecolor\":\"white\",\"showbackground\":true,\"ticks\":\"\",\"zerolinecolor\":\"white\",\"gridwidth\":2}},\"shapedefaults\":{\"line\":{\"color\":\"#2a3f5f\"}},\"annotationdefaults\":{\"arrowcolor\":\"#2a3f5f\",\"arrowhead\":0,\"arrowwidth\":1},\"geo\":{\"bgcolor\":\"white\",\"landcolor\":\"#E5ECF6\",\"subunitcolor\":\"white\",\"showland\":true,\"showlakes\":true,\"lakecolor\":\"white\"},\"title\":{\"x\":0.05},\"mapbox\":{\"style\":\"light\"}}},\"xaxis\":{\"anchor\":\"y\",\"domain\":[0.0,1.0],\"title\":{\"text\":\"\\uad6d\\uac00\"}},\"yaxis\":{\"anchor\":\"x\",\"domain\":[0.0,1.0],\"title\":{\"text\":\"\\ucc45 \\uac1c\\uc218\"}},\"legend\":{\"tracegroupgap\":0},\"title\":{\"text\":\"\\uc11c\\uc720\\ub7fd \\uad6d\\uac00\\ubcc4 \\ucc45 \\uac1c\\uc218\"},\"barmode\":\"relative\"},                        {\"responsive\": true}                    ).then(function(){\n",
       "                            \n",
       "var gd = document.getElementById('d98511f3-d5cf-48b0-9d36-b438b668135f');\n",
       "var x = new MutationObserver(function (mutations, observer) {{\n",
       "        var display = window.getComputedStyle(gd).display;\n",
       "        if (!display || display === 'none') {{\n",
       "            console.log([gd, 'removed!']);\n",
       "            Plotly.purge(gd);\n",
       "            observer.disconnect();\n",
       "        }}\n",
       "}});\n",
       "\n",
       "// Listen for the removal of the full notebook cells\n",
       "var notebookContainer = gd.closest('#notebook-container');\n",
       "if (notebookContainer) {{\n",
       "    x.observe(notebookContainer, {childList: true});\n",
       "}}\n",
       "\n",
       "// Listen for the clearing of the current output cell\n",
       "var outputEl = gd.closest('.output');\n",
       "if (outputEl) {{\n",
       "    x.observe(outputEl, {childList: true});\n",
       "}}\n",
       "\n",
       "                        })                };                });            </script>        </div>"
      ]
     },
     "metadata": {},
     "output_type": "display_data"
    }
   ],
   "source": [
    "# 서유럽 국가 리스트\n",
    "european_countries = ['United Kingdom', 'Germany', 'Portugal', 'Switzerland', 'Austria', 'Belgium']\n",
    "\n",
    "# 서유럽 국가들만 필터링\n",
    "european_data = dataviz2[dataviz2['Country'].isin(european_countries)]\n",
    "\n",
    "# 각 국가별로 ISBN의 고유 개수 계산\n",
    "european_country_counts = european_data.groupby('Country')['ISBN'].nunique().reset_index()\n",
    "\n",
    "# 그래프 생성\n",
    "fig = px.bar(european_country_counts, x='Country', y='ISBN', text='ISBN',\n",
    "             labels={'Country': '국가', 'ISBN': '책 개수'},\n",
    "             title='서유럽 국가별 책 개수')\n",
    "\n",
    "fig.update_traces(texttemplate='%{text}', textposition='outside')\n",
    "fig.show()"
   ]
  },
  {
   "cell_type": "code",
   "execution_count": 169,
   "id": "167a485b",
   "metadata": {},
   "outputs": [
    {
     "data": {
      "text/html": [
       "<div>\n",
       "<style scoped>\n",
       "    .dataframe tbody tr th:only-of-type {\n",
       "        vertical-align: middle;\n",
       "    }\n",
       "\n",
       "    .dataframe tbody tr th {\n",
       "        vertical-align: top;\n",
       "    }\n",
       "\n",
       "    .dataframe thead th {\n",
       "        text-align: right;\n",
       "    }\n",
       "</style>\n",
       "<table border=\"1\" class=\"dataframe\">\n",
       "  <thead>\n",
       "    <tr style=\"text-align: right;\">\n",
       "      <th></th>\n",
       "      <th>Country</th>\n",
       "      <th>Count</th>\n",
       "    </tr>\n",
       "  </thead>\n",
       "  <tbody>\n",
       "    <tr>\n",
       "      <th>0</th>\n",
       "      <td>United Kingdom</td>\n",
       "      <td>32002</td>\n",
       "    </tr>\n",
       "    <tr>\n",
       "      <th>1</th>\n",
       "      <td>Germany</td>\n",
       "      <td>27661</td>\n",
       "    </tr>\n",
       "    <tr>\n",
       "      <th>2</th>\n",
       "      <td>Portugal</td>\n",
       "      <td>6866</td>\n",
       "    </tr>\n",
       "    <tr>\n",
       "      <th>3</th>\n",
       "      <td>Switzerland</td>\n",
       "      <td>4185</td>\n",
       "    </tr>\n",
       "    <tr>\n",
       "      <th>4</th>\n",
       "      <td>Austria</td>\n",
       "      <td>2803</td>\n",
       "    </tr>\n",
       "    <tr>\n",
       "      <th>5</th>\n",
       "      <td>Belgium</td>\n",
       "      <td>640</td>\n",
       "    </tr>\n",
       "  </tbody>\n",
       "</table>\n",
       "</div>"
      ],
      "text/plain": [
       "          Country  Count\n",
       "0  United Kingdom  32002\n",
       "1         Germany  27661\n",
       "2        Portugal   6866\n",
       "3     Switzerland   4185\n",
       "4         Austria   2803\n",
       "5         Belgium    640"
      ]
     },
     "execution_count": 169,
     "metadata": {},
     "output_type": "execute_result"
    }
   ],
   "source": [
    "european_data"
   ]
  },
  {
   "cell_type": "code",
   "execution_count": 166,
   "id": "9bfca576",
   "metadata": {},
   "outputs": [
    {
     "data": {
      "image/png": "[encoded data removed]",
      "text/plain": [
       "<Figure size 800x800 with 1 Axes>"
      ]
     },
     "metadata": {},
     "output_type": "display_data"
    }
   ],
   "source": [
    "import matplotlib.pyplot as plt\n",
    "\n",
    "# 국가별 책 개수를 원 그래프로 시각화\n",
    "plt.figure(figsize=(8, 8))\n",
    "plt.pie(european_data['Count'], labels=european_data['Country'], autopct='%1.1f%%')\n",
    "plt.title('West Europe Book distribution')\n",
    "plt.show()"
   ]
  },
  {
   "cell_type": "code",
   "execution_count": 111,
   "id": "45c28a0f",
   "metadata": {},
   "outputs": [
    {
     "data": {
      "application/vnd.plotly.v1+json": {
       "config": {
        "plotlyServerURL": "https://plot.ly"
       },
       "data": [
        {
         "alignmentgroup": "True",
         "hovertemplate": "x=%{x}<br>y=%{y}<extra></extra>",
         "legendgroup": "",
         "marker": {
          "color": "#636efa",
          "pattern": {
           "shape": ""
          }
         },
         "name": "",
         "offsetgroup": "",
         "orientation": "v",
         "showlegend": false,
         "textposition": "auto",
         "texttemplate": "%{y:.2s}",
         "type": "bar",
         "x": [
          "United Kingdom",
          "Germany",
          "Portugal",
          "Switzerland",
          "Austria",
          "Belgium"
         ],
         "xaxis": "x",
         "y": [
          32002,
          27661,
          6866,
          4185,
          2803,
          640
         ],
         "yaxis": "y"
        }
       ],
       "layout": {
        "barmode": "relative",
        "height": 600,
        "legend": {
         "tracegroupgap": 0
        },
        "template": {
         "data": {
          "bar": [
           {
            "error_x": {
             "color": "#2a3f5f"
            },
            "error_y": {
             "color": "#2a3f5f"
            },
            "marker": {
             "line": {
              "color": "#E5ECF6",
              "width": 0.5
             },
             "pattern": {
              "fillmode": "overlay",
              "size": 10,
              "solidity": 0.2
             }
            },
            "type": "bar"
           }
          ],
          "barpolar": [
           {
            "marker": {
             "line": {
              "color": "#E5ECF6",
              "width": 0.5
             },
             "pattern": {
              "fillmode": "overlay",
              "size": 10,
              "solidity": 0.2
             }
            },
            "type": "barpolar"
           }
          ],
          "carpet": [
           {
            "aaxis": {
             "endlinecolor": "#2a3f5f",
             "gridcolor": "white",
             "linecolor": "white",
             "minorgridcolor": "white",
             "startlinecolor": "#2a3f5f"
            },
            "baxis": {
             "endlinecolor": "#2a3f5f",
             "gridcolor": "white",
             "linecolor": "white",
             "minorgridcolor": "white",
             "startlinecolor": "#2a3f5f"
            },
            "type": "carpet"
           }
          ],
          "choropleth": [
           {
            "colorbar": {
             "outlinewidth": 0,
             "ticks": ""
            },
            "type": "choropleth"
           }
          ],
          "contour": [
           {
            "colorbar": {
             "outlinewidth": 0,
             "ticks": ""
            },
            "colorscale": [
             [
              0,
              "#0d0887"
             ],
             [
              0.1111111111111111,
              "#46039f"
             ],
             [
              0.2222222222222222,
              "#7201a8"
             ],
             [
              0.3333333333333333,
              "#9c179e"
             ],
             [
              0.4444444444444444,
              "#bd3786"
             ],
             [
              0.5555555555555556,
              "#d8576b"
             ],
             [
              0.6666666666666666,
              "#ed7953"
             ],
             [
              0.7777777777777778,
              "#fb9f3a"
             ],
             [
              0.8888888888888888,
              "#fdca26"
             ],
             [
              1,
              "#f0f921"
             ]
            ],
            "type": "contour"
           }
          ],
          "contourcarpet": [
           {
            "colorbar": {
             "outlinewidth": 0,
             "ticks": ""
            },
            "type": "contourcarpet"
           }
          ],
          "heatmap": [
           {
            "colorbar": {
             "outlinewidth": 0,
             "ticks": ""
            },
            "colorscale": [
             [
              0,
              "#0d0887"
             ],
             [
              0.1111111111111111,
              "#46039f"
             ],
             [
              0.2222222222222222,
              "#7201a8"
             ],
             [
              0.3333333333333333,
              "#9c179e"
             ],
             [
              0.4444444444444444,
              "#bd3786"
             ],
             [
              0.5555555555555556,
              "#d8576b"
             ],
             [
              0.6666666666666666,
              "#ed7953"
             ],
             [
              0.7777777777777778,
              "#fb9f3a"
             ],
             [
              0.8888888888888888,
              "#fdca26"
             ],
             [
              1,
              "#f0f921"
             ]
            ],
            "type": "heatmap"
           }
          ],
          "heatmapgl": [
           {
            "colorbar": {
             "outlinewidth": 0,
             "ticks": ""
            },
            "colorscale": [
             [
              0,
              "#0d0887"
             ],
             [
              0.1111111111111111,
              "#46039f"
             ],
             [
              0.2222222222222222,
              "#7201a8"
             ],
             [
              0.3333333333333333,
              "#9c179e"
             ],
             [
              0.4444444444444444,
              "#bd3786"
             ],
             [
              0.5555555555555556,
              "#d8576b"
             ],
             [
              0.6666666666666666,
              "#ed7953"
             ],
             [
              0.7777777777777778,
              "#fb9f3a"
             ],
             [
              0.8888888888888888,
              "#fdca26"
             ],
             [
              1,
              "#f0f921"
             ]
            ],
            "type": "heatmapgl"
           }
          ],
          "histogram": [
           {
            "marker": {
             "pattern": {
              "fillmode": "overlay",
              "size": 10,
              "solidity": 0.2
             }
            },
            "type": "histogram"
           }
          ],
          "histogram2d": [
           {
            "colorbar": {
             "outlinewidth": 0,
             "ticks": ""
            },
            "colorscale": [
             [
              0,
              "#0d0887"
             ],
             [
              0.1111111111111111,
              "#46039f"
             ],
             [
              0.2222222222222222,
              "#7201a8"
             ],
             [
              0.3333333333333333,
              "#9c179e"
             ],
             [
              0.4444444444444444,
              "#bd3786"
             ],
             [
              0.5555555555555556,
              "#d8576b"
             ],
             [
              0.6666666666666666,
              "#ed7953"
             ],
             [
              0.7777777777777778,
              "#fb9f3a"
             ],
             [
              0.8888888888888888,
              "#fdca26"
             ],
             [
              1,
              "#f0f921"
             ]
            ],
            "type": "histogram2d"
           }
          ],
          "histogram2dcontour": [
           {
            "colorbar": {
             "outlinewidth": 0,
             "ticks": ""
            },
            "colorscale": [
             [
              0,
              "#0d0887"
             ],
             [
              0.1111111111111111,
              "#46039f"
             ],
             [
              0.2222222222222222,
              "#7201a8"
             ],
             [
              0.3333333333333333,
              "#9c179e"
             ],
             [
              0.4444444444444444,
              "#bd3786"
             ],
             [
              0.5555555555555556,
              "#d8576b"
             ],
             [
              0.6666666666666666,
              "#ed7953"
             ],
             [
              0.7777777777777778,
              "#fb9f3a"
             ],
             [
              0.8888888888888888,
              "#fdca26"
             ],
             [
              1,
              "#f0f921"
             ]
            ],
            "type": "histogram2dcontour"
           }
          ],
          "mesh3d": [
           {
            "colorbar": {
             "outlinewidth": 0,
             "ticks": ""
            },
            "type": "mesh3d"
           }
          ],
          "parcoords": [
           {
            "line": {
             "colorbar": {
              "outlinewidth": 0,
              "ticks": ""
             }
            },
            "type": "parcoords"
           }
          ],
          "pie": [
           {
            "automargin": true,
            "type": "pie"
           }
          ],
          "scatter": [
           {
            "fillpattern": {
             "fillmode": "overlay",
             "size": 10,
             "solidity": 0.2
            },
            "type": "scatter"
           }
          ],
          "scatter3d": [
           {
            "line": {
             "colorbar": {
              "outlinewidth": 0,
              "ticks": ""
             }
            },
            "marker": {
             "colorbar": {
              "outlinewidth": 0,
              "ticks": ""
             }
            },
            "type": "scatter3d"
           }
          ],
          "scattercarpet": [
           {
            "marker": {
             "colorbar": {
              "outlinewidth": 0,
              "ticks": ""
             }
            },
            "type": "scattercarpet"
           }
          ],
          "scattergeo": [
           {
            "marker": {
             "colorbar": {
              "outlinewidth": 0,
              "ticks": ""
             }
            },
            "type": "scattergeo"
           }
          ],
          "scattergl": [
           {
            "marker": {
             "colorbar": {
              "outlinewidth": 0,
              "ticks": ""
             }
            },
            "type": "scattergl"
           }
          ],
          "scattermapbox": [
           {
            "marker": {
             "colorbar": {
              "outlinewidth": 0,
              "ticks": ""
             }
            },
            "type": "scattermapbox"
           }
          ],
          "scatterpolar": [
           {
            "marker": {
             "colorbar": {
              "outlinewidth": 0,
              "ticks": ""
             }
            },
            "type": "scatterpolar"
           }
          ],
          "scatterpolargl": [
           {
            "marker": {
             "colorbar": {
              "outlinewidth": 0,
              "ticks": ""
             }
            },
            "type": "scatterpolargl"
           }
          ],
          "scatterternary": [
           {
            "marker": {
             "colorbar": {
              "outlinewidth": 0,
              "ticks": ""
             }
            },
            "type": "scatterternary"
           }
          ],
          "surface": [
           {
            "colorbar": {
             "outlinewidth": 0,
             "ticks": ""
            },
            "colorscale": [
             [
              0,
              "#0d0887"
             ],
             [
              0.1111111111111111,
              "#46039f"
             ],
             [
              0.2222222222222222,
              "#7201a8"
             ],
             [
              0.3333333333333333,
              "#9c179e"
             ],
             [
              0.4444444444444444,
              "#bd3786"
             ],
             [
              0.5555555555555556,
              "#d8576b"
             ],
             [
              0.6666666666666666,
              "#ed7953"
             ],
             [
              0.7777777777777778,
              "#fb9f3a"
             ],
             [
              0.8888888888888888,
              "#fdca26"
             ],
             [
              1,
              "#f0f921"
             ]
            ],
            "type": "surface"
           }
          ],
          "table": [
           {
            "cells": {
             "fill": {
              "color": "#EBF0F8"
             },
             "line": {
              "color": "white"
             }
            },
            "header": {
             "fill": {
              "color": "#C8D4E3"
             },
             "line": {
              "color": "white"
             }
            },
            "type": "table"
           }
          ]
         },
         "layout": {
          "annotationdefaults": {
           "arrowcolor": "#2a3f5f",
           "arrowhead": 0,
           "arrowwidth": 1
          },
          "autotypenumbers": "strict",
          "coloraxis": {
           "colorbar": {
            "outlinewidth": 0,
            "ticks": ""
           }
          },
          "colorscale": {
           "diverging": [
            [
             0,
             "#8e0152"
            ],
            [
             0.1,
             "#c51b7d"
            ],
            [
             0.2,
             "#de77ae"
            ],
            [
             0.3,
             "#f1b6da"
            ],
            [
             0.4,
             "#fde0ef"
            ],
            [
             0.5,
             "#f7f7f7"
            ],
            [
             0.6,
             "#e6f5d0"
            ],
            [
             0.7,
             "#b8e186"
            ],
            [
             0.8,
             "#7fbc41"
            ],
            [
             0.9,
             "#4d9221"
            ],
            [
             1,
             "#276419"
            ]
           ],
           "sequential": [
            [
             0,
             "#0d0887"
            ],
            [
             0.1111111111111111,
             "#46039f"
            ],
            [
             0.2222222222222222,
             "#7201a8"
            ],
            [
             0.3333333333333333,
             "#9c179e"
            ],
            [
             0.4444444444444444,
             "#bd3786"
            ],
            [
             0.5555555555555556,
             "#d8576b"
            ],
            [
             0.6666666666666666,
             "#ed7953"
            ],
            [
             0.7777777777777778,
             "#fb9f3a"
            ],
            [
             0.8888888888888888,
             "#fdca26"
            ],
            [
             1,
             "#f0f921"
            ]
           ],
           "sequentialminus": [
            [
             0,
             "#0d0887"
            ],
            [
             0.1111111111111111,
             "#46039f"
            ],
            [
             0.2222222222222222,
             "#7201a8"
            ],
            [
             0.3333333333333333,
             "#9c179e"
            ],
            [
             0.4444444444444444,
             "#bd3786"
            ],
            [
             0.5555555555555556,
             "#d8576b"
            ],
            [
             0.6666666666666666,
             "#ed7953"
            ],
            [
             0.7777777777777778,
             "#fb9f3a"
            ],
            [
             0.8888888888888888,
             "#fdca26"
            ],
            [
             1,
             "#f0f921"
            ]
           ]
          },
          "colorway": [
           "#636efa",
           "#EF553B",
           "#00cc96",
           "#ab63fa",
           "#FFA15A",
           "#19d3f3",
           "#FF6692",
           "#B6E880",
           "#FF97FF",
           "#FECB52"
          ],
          "font": {
           "color": "#2a3f5f"
          },
          "geo": {
           "bgcolor": "white",
           "lakecolor": "white",
           "landcolor": "#E5ECF6",
           "showlakes": true,
           "showland": true,
           "subunitcolor": "white"
          },
          "hoverlabel": {
           "align": "left"
          },
          "hovermode": "closest",
          "mapbox": {
           "style": "light"
          },
          "paper_bgcolor": "white",
          "plot_bgcolor": "#E5ECF6",
          "polar": {
           "angularaxis": {
            "gridcolor": "white",
            "linecolor": "white",
            "ticks": ""
           },
           "bgcolor": "#E5ECF6",
           "radialaxis": {
            "gridcolor": "white",
            "linecolor": "white",
            "ticks": ""
           }
          },
          "scene": {
           "xaxis": {
            "backgroundcolor": "#E5ECF6",
            "gridcolor": "white",
            "gridwidth": 2,
            "linecolor": "white",
            "showbackground": true,
            "ticks": "",
            "zerolinecolor": "white"
           },
           "yaxis": {
            "backgroundcolor": "#E5ECF6",
            "gridcolor": "white",
            "gridwidth": 2,
            "linecolor": "white",
            "showbackground": true,
            "ticks": "",
            "zerolinecolor": "white"
           },
           "zaxis": {
            "backgroundcolor": "#E5ECF6",
            "gridcolor": "white",
            "gridwidth": 2,
            "linecolor": "white",
            "showbackground": true,
            "ticks": "",
            "zerolinecolor": "white"
           }
          },
          "shapedefaults": {
           "line": {
            "color": "#2a3f5f"
           }
          },
          "ternary": {
           "aaxis": {
            "gridcolor": "white",
            "linecolor": "white",
            "ticks": ""
           },
           "baxis": {
            "gridcolor": "white",
            "linecolor": "white",
            "ticks": ""
           },
           "bgcolor": "#E5ECF6",
           "caxis": {
            "gridcolor": "white",
            "linecolor": "white",
            "ticks": ""
           }
          },
          "title": {
           "x": 0.05
          },
          "xaxis": {
           "automargin": true,
           "gridcolor": "white",
           "linecolor": "white",
           "ticks": "",
           "title": {
            "standoff": 15
           },
           "zerolinecolor": "white",
           "zerolinewidth": 2
          },
          "yaxis": {
           "automargin": true,
           "gridcolor": "white",
           "linecolor": "white",
           "ticks": "",
           "title": {
            "standoff": 15
           },
           "zerolinecolor": "white",
           "zerolinewidth": 2
          }
         }
        },
        "title": {
         "text": "The Country with more ratings rated"
        },
        "width": 1000,
        "xaxis": {
         "anchor": "y",
         "domain": [
          0,
          1
         ],
         "title": {
          "text": "Location"
         }
        },
        "yaxis": {
         "anchor": "x",
         "automargin": true,
         "domain": [
          0,
          1
         ],
         "title": {
          "standoff": 10,
          "text": "Number of Rating"
         }
        }
       }
      },
      "text/html": [
       "<div>                            <div id=\"4b9631ad-56e4-431e-b065-198f2cb15797\" class=\"plotly-graph-div\" style=\"height:600px; width:1000px;\"></div>            <script type=\"text/javascript\">                require([\"plotly\"], function(Plotly) {                    window.PLOTLYENV=window.PLOTLYENV || {};                                    if (document.getElementById(\"4b9631ad-56e4-431e-b065-198f2cb15797\")) {                    Plotly.newPlot(                        \"4b9631ad-56e4-431e-b065-198f2cb15797\",                        [{\"alignmentgroup\":\"True\",\"hovertemplate\":\"x=%{x}<br>y=%{y}<extra></extra>\",\"legendgroup\":\"\",\"marker\":{\"color\":\"#636efa\",\"pattern\":{\"shape\":\"\"}},\"name\":\"\",\"offsetgroup\":\"\",\"orientation\":\"v\",\"showlegend\":false,\"textposition\":\"auto\",\"texttemplate\":\"%{y:.2s}\",\"x\":[\"United Kingdom\",\"Germany\",\"Portugal\",\"Switzerland\",\"Austria\",\"Belgium\"],\"xaxis\":\"x\",\"y\":[32002,27661,6866,4185,2803,640],\"yaxis\":\"y\",\"type\":\"bar\"}],                        {\"template\":{\"data\":{\"histogram2dcontour\":[{\"type\":\"histogram2dcontour\",\"colorbar\":{\"outlinewidth\":0,\"ticks\":\"\"},\"colorscale\":[[0.0,\"#0d0887\"],[0.1111111111111111,\"#46039f\"],[0.2222222222222222,\"#7201a8\"],[0.3333333333333333,\"#9c179e\"],[0.4444444444444444,\"#bd3786\"],[0.5555555555555556,\"#d8576b\"],[0.6666666666666666,\"#ed7953\"],[0.7777777777777778,\"#fb9f3a\"],[0.8888888888888888,\"#fdca26\"],[1.0,\"#f0f921\"]]}],\"choropleth\":[{\"type\":\"choropleth\",\"colorbar\":{\"outlinewidth\":0,\"ticks\":\"\"}}],\"histogram2d\":[{\"type\":\"histogram2d\",\"colorbar\":{\"outlinewidth\":0,\"ticks\":\"\"},\"colorscale\":[[0.0,\"#0d0887\"],[0.1111111111111111,\"#46039f\"],[0.2222222222222222,\"#7201a8\"],[0.3333333333333333,\"#9c179e\"],[0.4444444444444444,\"#bd3786\"],[0.5555555555555556,\"#d8576b\"],[0.6666666666666666,\"#ed7953\"],[0.7777777777777778,\"#fb9f3a\"],[0.8888888888888888,\"#fdca26\"],[1.0,\"#f0f921\"]]}],\"heatmap\":[{\"type\":\"heatmap\",\"colorbar\":{\"outlinewidth\":0,\"ticks\":\"\"},\"colorscale\":[[0.0,\"#0d0887\"],[0.1111111111111111,\"#46039f\"],[0.2222222222222222,\"#7201a8\"],[0.3333333333333333,\"#9c179e\"],[0.4444444444444444,\"#bd3786\"],[0.5555555555555556,\"#d8576b\"],[0.6666666666666666,\"#ed7953\"],[0.7777777777777778,\"#fb9f3a\"],[0.8888888888888888,\"#fdca26\"],[1.0,\"#f0f921\"]]}],\"heatmapgl\":[{\"type\":\"heatmapgl\",\"colorbar\":{\"outlinewidth\":0,\"ticks\":\"\"},\"colorscale\":[[0.0,\"#0d0887\"],[0.1111111111111111,\"#46039f\"],[0.2222222222222222,\"#7201a8\"],[0.3333333333333333,\"#9c179e\"],[0.4444444444444444,\"#bd3786\"],[0.5555555555555556,\"#d8576b\"],[0.6666666666666666,\"#ed7953\"],[0.7777777777777778,\"#fb9f3a\"],[0.8888888888888888,\"#fdca26\"],[1.0,\"#f0f921\"]]}],\"contourcarpet\":[{\"type\":\"contourcarpet\",\"colorbar\":{\"outlinewidth\":0,\"ticks\":\"\"}}],\"contour\":[{\"type\":\"contour\",\"colorbar\":{\"outlinewidth\":0,\"ticks\":\"\"},\"colorscale\":[[0.0,\"#0d0887\"],[0.1111111111111111,\"#46039f\"],[0.2222222222222222,\"#7201a8\"],[0.3333333333333333,\"#9c179e\"],[0.4444444444444444,\"#bd3786\"],[0.5555555555555556,\"#d8576b\"],[0.6666666666666666,\"#ed7953\"],[0.7777777777777778,\"#fb9f3a\"],[0.8888888888888888,\"#fdca26\"],[1.0,\"#f0f921\"]]}],\"surface\":[{\"type\":\"surface\",\"colorbar\":{\"outlinewidth\":0,\"ticks\":\"\"},\"colorscale\":[[0.0,\"#0d0887\"],[0.1111111111111111,\"#46039f\"],[0.2222222222222222,\"#7201a8\"],[0.3333333333333333,\"#9c179e\"],[0.4444444444444444,\"#bd3786\"],[0.5555555555555556,\"#d8576b\"],[0.6666666666666666,\"#ed7953\"],[0.7777777777777778,\"#fb9f3a\"],[0.8888888888888888,\"#fdca26\"],[1.0,\"#f0f921\"]]}],\"mesh3d\":[{\"type\":\"mesh3d\",\"colorbar\":{\"outlinewidth\":0,\"ticks\":\"\"}}],\"scatter\":[{\"fillpattern\":{\"fillmode\":\"overlay\",\"size\":10,\"solidity\":0.2},\"type\":\"scatter\"}],\"parcoords\":[{\"type\":\"parcoords\",\"line\":{\"colorbar\":{\"outlinewidth\":0,\"ticks\":\"\"}}}],\"scatterpolargl\":[{\"type\":\"scatterpolargl\",\"marker\":{\"colorbar\":{\"outlinewidth\":0,\"ticks\":\"\"}}}],\"bar\":[{\"error_x\":{\"color\":\"#2a3f5f\"},\"error_y\":{\"color\":\"#2a3f5f\"},\"marker\":{\"line\":{\"color\":\"#E5ECF6\",\"width\":0.5},\"pattern\":{\"fillmode\":\"overlay\",\"size\":10,\"solidity\":0.2}},\"type\":\"bar\"}],\"scattergeo\":[{\"type\":\"scattergeo\",\"marker\":{\"colorbar\":{\"outlinewidth\":0,\"ticks\":\"\"}}}],\"scatterpolar\":[{\"type\":\"scatterpolar\",\"marker\":{\"colorbar\":{\"outlinewidth\":0,\"ticks\":\"\"}}}],\"histogram\":[{\"marker\":{\"pattern\":{\"fillmode\":\"overlay\",\"size\":10,\"solidity\":0.2}},\"type\":\"histogram\"}],\"scattergl\":[{\"type\":\"scattergl\",\"marker\":{\"colorbar\":{\"outlinewidth\":0,\"ticks\":\"\"}}}],\"scatter3d\":[{\"type\":\"scatter3d\",\"line\":{\"colorbar\":{\"outlinewidth\":0,\"ticks\":\"\"}},\"marker\":{\"colorbar\":{\"outlinewidth\":0,\"ticks\":\"\"}}}],\"scattermapbox\":[{\"type\":\"scattermapbox\",\"marker\":{\"colorbar\":{\"outlinewidth\":0,\"ticks\":\"\"}}}],\"scatterternary\":[{\"type\":\"scatterternary\",\"marker\":{\"colorbar\":{\"outlinewidth\":0,\"ticks\":\"\"}}}],\"scattercarpet\":[{\"type\":\"scattercarpet\",\"marker\":{\"colorbar\":{\"outlinewidth\":0,\"ticks\":\"\"}}}],\"carpet\":[{\"aaxis\":{\"endlinecolor\":\"#2a3f5f\",\"gridcolor\":\"white\",\"linecolor\":\"white\",\"minorgridcolor\":\"white\",\"startlinecolor\":\"#2a3f5f\"},\"baxis\":{\"endlinecolor\":\"#2a3f5f\",\"gridcolor\":\"white\",\"linecolor\":\"white\",\"minorgridcolor\":\"white\",\"startlinecolor\":\"#2a3f5f\"},\"type\":\"carpet\"}],\"table\":[{\"cells\":{\"fill\":{\"color\":\"#EBF0F8\"},\"line\":{\"color\":\"white\"}},\"header\":{\"fill\":{\"color\":\"#C8D4E3\"},\"line\":{\"color\":\"white\"}},\"type\":\"table\"}],\"barpolar\":[{\"marker\":{\"line\":{\"color\":\"#E5ECF6\",\"width\":0.5},\"pattern\":{\"fillmode\":\"overlay\",\"size\":10,\"solidity\":0.2}},\"type\":\"barpolar\"}],\"pie\":[{\"automargin\":true,\"type\":\"pie\"}]},\"layout\":{\"autotypenumbers\":\"strict\",\"colorway\":[\"#636efa\",\"#EF553B\",\"#00cc96\",\"#ab63fa\",\"#FFA15A\",\"#19d3f3\",\"#FF6692\",\"#B6E880\",\"#FF97FF\",\"#FECB52\"],\"font\":{\"color\":\"#2a3f5f\"},\"hovermode\":\"closest\",\"hoverlabel\":{\"align\":\"left\"},\"paper_bgcolor\":\"white\",\"plot_bgcolor\":\"#E5ECF6\",\"polar\":{\"bgcolor\":\"#E5ECF6\",\"angularaxis\":{\"gridcolor\":\"white\",\"linecolor\":\"white\",\"ticks\":\"\"},\"radialaxis\":{\"gridcolor\":\"white\",\"linecolor\":\"white\",\"ticks\":\"\"}},\"ternary\":{\"bgcolor\":\"#E5ECF6\",\"aaxis\":{\"gridcolor\":\"white\",\"linecolor\":\"white\",\"ticks\":\"\"},\"baxis\":{\"gridcolor\":\"white\",\"linecolor\":\"white\",\"ticks\":\"\"},\"caxis\":{\"gridcolor\":\"white\",\"linecolor\":\"white\",\"ticks\":\"\"}},\"coloraxis\":{\"colorbar\":{\"outlinewidth\":0,\"ticks\":\"\"}},\"colorscale\":{\"sequential\":[[0.0,\"#0d0887\"],[0.1111111111111111,\"#46039f\"],[0.2222222222222222,\"#7201a8\"],[0.3333333333333333,\"#9c179e\"],[0.4444444444444444,\"#bd3786\"],[0.5555555555555556,\"#d8576b\"],[0.6666666666666666,\"#ed7953\"],[0.7777777777777778,\"#fb9f3a\"],[0.8888888888888888,\"#fdca26\"],[1.0,\"#f0f921\"]],\"sequentialminus\":[[0.0,\"#0d0887\"],[0.1111111111111111,\"#46039f\"],[0.2222222222222222,\"#7201a8\"],[0.3333333333333333,\"#9c179e\"],[0.4444444444444444,\"#bd3786\"],[0.5555555555555556,\"#d8576b\"],[0.6666666666666666,\"#ed7953\"],[0.7777777777777778,\"#fb9f3a\"],[0.8888888888888888,\"#fdca26\"],[1.0,\"#f0f921\"]],\"diverging\":[[0,\"#8e0152\"],[0.1,\"#c51b7d\"],[0.2,\"#de77ae\"],[0.3,\"#f1b6da\"],[0.4,\"#fde0ef\"],[0.5,\"#f7f7f7\"],[0.6,\"#e6f5d0\"],[0.7,\"#b8e186\"],[0.8,\"#7fbc41\"],[0.9,\"#4d9221\"],[1,\"#276419\"]]},\"xaxis\":{\"gridcolor\":\"white\",\"linecolor\":\"white\",\"ticks\":\"\",\"title\":{\"standoff\":15},\"zerolinecolor\":\"white\",\"automargin\":true,\"zerolinewidth\":2},\"yaxis\":{\"gridcolor\":\"white\",\"linecolor\":\"white\",\"ticks\":\"\",\"title\":{\"standoff\":15},\"zerolinecolor\":\"white\",\"automargin\":true,\"zerolinewidth\":2},\"scene\":{\"xaxis\":{\"backgroundcolor\":\"#E5ECF6\",\"gridcolor\":\"white\",\"linecolor\":\"white\",\"showbackground\":true,\"ticks\":\"\",\"zerolinecolor\":\"white\",\"gridwidth\":2},\"yaxis\":{\"backgroundcolor\":\"#E5ECF6\",\"gridcolor\":\"white\",\"linecolor\":\"white\",\"showbackground\":true,\"ticks\":\"\",\"zerolinecolor\":\"white\",\"gridwidth\":2},\"zaxis\":{\"backgroundcolor\":\"#E5ECF6\",\"gridcolor\":\"white\",\"linecolor\":\"white\",\"showbackground\":true,\"ticks\":\"\",\"zerolinecolor\":\"white\",\"gridwidth\":2}},\"shapedefaults\":{\"line\":{\"color\":\"#2a3f5f\"}},\"annotationdefaults\":{\"arrowcolor\":\"#2a3f5f\",\"arrowhead\":0,\"arrowwidth\":1},\"geo\":{\"bgcolor\":\"white\",\"landcolor\":\"#E5ECF6\",\"subunitcolor\":\"white\",\"showland\":true,\"showlakes\":true,\"lakecolor\":\"white\"},\"title\":{\"x\":0.05},\"mapbox\":{\"style\":\"light\"}}},\"xaxis\":{\"anchor\":\"y\",\"domain\":[0.0,1.0],\"title\":{\"text\":\"Location\"}},\"yaxis\":{\"anchor\":\"x\",\"domain\":[0.0,1.0],\"title\":{\"text\":\"Number of Rating\",\"standoff\":10},\"automargin\":true},\"legend\":{\"tracegroupgap\":0},\"title\":{\"text\":\"The Country with more ratings rated\"},\"barmode\":\"relative\",\"height\":600,\"width\":1000},                        {\"responsive\": true}                    ).then(function(){\n",
       "                            \n",
       "var gd = document.getElementById('4b9631ad-56e4-431e-b065-198f2cb15797');\n",
       "var x = new MutationObserver(function (mutations, observer) {{\n",
       "        var display = window.getComputedStyle(gd).display;\n",
       "        if (!display || display === 'none') {{\n",
       "            console.log([gd, 'removed!']);\n",
       "            Plotly.purge(gd);\n",
       "            observer.disconnect();\n",
       "        }}\n",
       "}});\n",
       "\n",
       "// Listen for the removal of the full notebook cells\n",
       "var notebookContainer = gd.closest('#notebook-container');\n",
       "if (notebookContainer) {{\n",
       "    x.observe(notebookContainer, {childList: true});\n",
       "}}\n",
       "\n",
       "// Listen for the clearing of the current output cell\n",
       "var outputEl = gd.closest('.output');\n",
       "if (outputEl) {{\n",
       "    x.observe(outputEl, {childList: true});\n",
       "}}\n",
       "\n",
       "                        })                };                });            </script>        </div>"
      ]
     },
     "metadata": {},
     "output_type": "display_data"
    }
   ],
   "source": [
    "# Plotting the locations with more ratings published\n",
    "\n",
    "fig_ = px.bar(dataviz2.value_counts('Country', ascending = False),\n",
    "                 x = dataviz2.value_counts('Country', ascending = False).index,\n",
    "                 y = dataviz2.value_counts('Country', ascending = False),\n",
    "                 title = \"The Country with more ratings rated\",  text_auto='.2s')\n",
    "\n",
    "fig_.update_layout(height = 600, width = 1000, xaxis_title = 'Location', yaxis_title = 'Number of Rating')\n",
    "\n",
    "fig_.update_yaxes(automargin = True, title_standoff = 10)\n",
    "\n",
    "fig_.show()"
   ]
  },
  {
   "cell_type": "code",
   "execution_count": 113,
   "id": "5e002e47",
   "metadata": {},
   "outputs": [
    {
     "data": {
      "text/plain": [
       "Index(['ISBN', 'Book-Title', 'Book-Author', 'Year-Of-Publication', 'Publisher',\n",
       "       'Image-URL-L', 'User-ID', 'Book-Rating', 'Location', 'Age', 'City',\n",
       "       'State', 'Country'],\n",
       "      dtype='object')"
      ]
     },
     "execution_count": 113,
     "metadata": {},
     "output_type": "execute_result"
    }
   ],
   "source": [
    "dataviz2.columns"
   ]
  },
  {
   "cell_type": "code",
   "execution_count": 114,
   "id": "16c81b16",
   "metadata": {},
   "outputs": [],
   "source": [
    "def set_age_category(v):\n",
    "\n",
    "    if (v<= 10):\n",
    "        return \"age group 0-10\"\n",
    "    elif (v>10)&(v<=19):\n",
    "        return \"age group 11-19\"\n",
    "    elif (v>19)&(v<=29):\n",
    "        return \"age group 20-29\"\n",
    "    elif (v>29)&(v<=39):\n",
    "        return \"age group 30-39\"\n",
    "    elif (v>39)&(v<=49):\n",
    "        return \"age group 40-49\"\n",
    "    elif (v>49)&(v<=59):\n",
    "        return \"age group 50-59\"\n",
    "    elif(v>60):\n",
    "        return \"age group > 60\""
   ]
  },
  {
   "cell_type": "code",
   "execution_count": 116,
   "id": "9e95940b",
   "metadata": {},
   "outputs": [
    {
     "data": {
      "text/html": [
       "<div>\n",
       "<style scoped>\n",
       "    .dataframe tbody tr th:only-of-type {\n",
       "        vertical-align: middle;\n",
       "    }\n",
       "\n",
       "    .dataframe tbody tr th {\n",
       "        vertical-align: top;\n",
       "    }\n",
       "\n",
       "    .dataframe thead th {\n",
       "        text-align: right;\n",
       "    }\n",
       "</style>\n",
       "<table border=\"1\" class=\"dataframe\">\n",
       "  <thead>\n",
       "    <tr style=\"text-align: right;\">\n",
       "      <th></th>\n",
       "      <th>ISBN</th>\n",
       "      <th>Book-Title</th>\n",
       "      <th>Book-Author</th>\n",
       "      <th>Year-Of-Publication</th>\n",
       "      <th>Publisher</th>\n",
       "      <th>Image-URL-L</th>\n",
       "      <th>User-ID</th>\n",
       "      <th>Book-Rating</th>\n",
       "      <th>Location</th>\n",
       "      <th>Age</th>\n",
       "      <th>City</th>\n",
       "      <th>State</th>\n",
       "      <th>Country</th>\n",
       "      <th>age_category</th>\n",
       "    </tr>\n",
       "  </thead>\n",
       "  <tbody>\n",
       "    <tr>\n",
       "      <th>32545</th>\n",
       "      <td>1575663937</td>\n",
       "      <td>More Cunning Than Man A Social History of Rats...</td>\n",
       "      <td>Robert Hendrickson</td>\n",
       "      <td>1999</td>\n",
       "      <td>Kensington Publishing Corp.</td>\n",
       "      <td>http://images.amazon.com/images/P/1575663937.0...</td>\n",
       "      <td>213915</td>\n",
       "      <td>0</td>\n",
       "      <td>sheffield, s yorkshire, united kingdom</td>\n",
       "      <td>29.0</td>\n",
       "      <td>sheffield</td>\n",
       "      <td>s yorkshire</td>\n",
       "      <td>United Kingdom</td>\n",
       "      <td>age group 20-29</td>\n",
       "    </tr>\n",
       "    <tr>\n",
       "      <th>32546</th>\n",
       "      <td>0971880107</td>\n",
       "      <td>Wild Animus</td>\n",
       "      <td>Rich Shapero</td>\n",
       "      <td>2004</td>\n",
       "      <td>Too Far</td>\n",
       "      <td>http://images.amazon.com/images/P/0971880107.0...</td>\n",
       "      <td>213915</td>\n",
       "      <td>0</td>\n",
       "      <td>sheffield, s yorkshire, united kingdom</td>\n",
       "      <td>29.0</td>\n",
       "      <td>sheffield</td>\n",
       "      <td>s yorkshire</td>\n",
       "      <td>United Kingdom</td>\n",
       "      <td>age group 20-29</td>\n",
       "    </tr>\n",
       "    <tr>\n",
       "      <th>32547</th>\n",
       "      <td>0449207595</td>\n",
       "      <td>The Grass Is Always Greener over the Septic Tank</td>\n",
       "      <td>Erma Bombeck</td>\n",
       "      <td>1988</td>\n",
       "      <td>Fawcett Books</td>\n",
       "      <td>http://images.amazon.com/images/P/0449207595.0...</td>\n",
       "      <td>213915</td>\n",
       "      <td>0</td>\n",
       "      <td>sheffield, s yorkshire, united kingdom</td>\n",
       "      <td>29.0</td>\n",
       "      <td>sheffield</td>\n",
       "      <td>s yorkshire</td>\n",
       "      <td>United Kingdom</td>\n",
       "      <td>age group 20-29</td>\n",
       "    </tr>\n",
       "    <tr>\n",
       "      <th>32548</th>\n",
       "      <td>0380789035</td>\n",
       "      <td>American Gods</td>\n",
       "      <td>Neil Gaiman</td>\n",
       "      <td>2002</td>\n",
       "      <td>HarperTorch</td>\n",
       "      <td>http://images.amazon.com/images/P/0380789035.0...</td>\n",
       "      <td>213915</td>\n",
       "      <td>0</td>\n",
       "      <td>sheffield, s yorkshire, united kingdom</td>\n",
       "      <td>29.0</td>\n",
       "      <td>sheffield</td>\n",
       "      <td>s yorkshire</td>\n",
       "      <td>United Kingdom</td>\n",
       "      <td>age group 20-29</td>\n",
       "    </tr>\n",
       "    <tr>\n",
       "      <th>32549</th>\n",
       "      <td>0385498721</td>\n",
       "      <td>Survivor A Novel</td>\n",
       "      <td>CHUCK PALAHNIUK</td>\n",
       "      <td>2000</td>\n",
       "      <td>Anchor</td>\n",
       "      <td>http://images.amazon.com/images/P/0385498721.0...</td>\n",
       "      <td>213915</td>\n",
       "      <td>0</td>\n",
       "      <td>sheffield, s yorkshire, united kingdom</td>\n",
       "      <td>29.0</td>\n",
       "      <td>sheffield</td>\n",
       "      <td>s yorkshire</td>\n",
       "      <td>United Kingdom</td>\n",
       "      <td>age group 20-29</td>\n",
       "    </tr>\n",
       "    <tr>\n",
       "      <th>...</th>\n",
       "      <td>...</td>\n",
       "      <td>...</td>\n",
       "      <td>...</td>\n",
       "      <td>...</td>\n",
       "      <td>...</td>\n",
       "      <td>...</td>\n",
       "      <td>...</td>\n",
       "      <td>...</td>\n",
       "      <td>...</td>\n",
       "      <td>...</td>\n",
       "      <td>...</td>\n",
       "      <td>...</td>\n",
       "      <td>...</td>\n",
       "      <td>...</td>\n",
       "    </tr>\n",
       "    <tr>\n",
       "      <th>1031118</th>\n",
       "      <td>345386431X</td>\n",
       "      <td>Zeit ohne Worte</td>\n",
       "      <td>Catherine Cookson</td>\n",
       "      <td>2003</td>\n",
       "      <td>Heyne</td>\n",
       "      <td>http://images.amazon.com/images/P/345386431X.0...</td>\n",
       "      <td>244667</td>\n",
       "      <td>0</td>\n",
       "      <td>alpen, nordrhein-westfalen, germany</td>\n",
       "      <td>39.0</td>\n",
       "      <td>alpen</td>\n",
       "      <td>nordrhein-westfalen</td>\n",
       "      <td>Germany</td>\n",
       "      <td>age group 30-39</td>\n",
       "    </tr>\n",
       "    <tr>\n",
       "      <th>1031119</th>\n",
       "      <td>3548248667</td>\n",
       "      <td>HeimwÃ Â rts Roman</td>\n",
       "      <td>Anne Rivers Siddons</td>\n",
       "      <td>2000</td>\n",
       "      <td>Ullstein Tb</td>\n",
       "      <td>http://images.amazon.com/images/P/3548248667.0...</td>\n",
       "      <td>244667</td>\n",
       "      <td>10</td>\n",
       "      <td>alpen, nordrhein-westfalen, germany</td>\n",
       "      <td>39.0</td>\n",
       "      <td>alpen</td>\n",
       "      <td>nordrhein-westfalen</td>\n",
       "      <td>Germany</td>\n",
       "      <td>age group 30-39</td>\n",
       "    </tr>\n",
       "    <tr>\n",
       "      <th>1031121</th>\n",
       "      <td>3593358069</td>\n",
       "      <td>Die Entscheidung liegt bei dir Wege aus der al...</td>\n",
       "      <td>Reinhard K. Sprenger</td>\n",
       "      <td>2002</td>\n",
       "      <td>Campus Sachbuch</td>\n",
       "      <td>http://images.amazon.com/images/P/3593358069.0...</td>\n",
       "      <td>245019</td>\n",
       "      <td>0</td>\n",
       "      <td>zurich, zurich, switzerland</td>\n",
       "      <td>23.0</td>\n",
       "      <td>zurich</td>\n",
       "      <td>zurich</td>\n",
       "      <td>Switzerland</td>\n",
       "      <td>age group 20-29</td>\n",
       "    </tr>\n",
       "    <tr>\n",
       "      <th>1031122</th>\n",
       "      <td>8806151681</td>\n",
       "      <td>Lessico Famigliare</td>\n",
       "      <td>Natalia Ginzburg</td>\n",
       "      <td>1963</td>\n",
       "      <td>Einaudi</td>\n",
       "      <td>http://images.amazon.com/images/P/8806151681.0...</td>\n",
       "      <td>245019</td>\n",
       "      <td>0</td>\n",
       "      <td>zurich, zurich, switzerland</td>\n",
       "      <td>23.0</td>\n",
       "      <td>zurich</td>\n",
       "      <td>zurich</td>\n",
       "      <td>Switzerland</td>\n",
       "      <td>age group 20-29</td>\n",
       "    </tr>\n",
       "    <tr>\n",
       "      <th>1031124</th>\n",
       "      <td>0413589307</td>\n",
       "      <td>Up for None and Coming Apart New Theatrescripts</td>\n",
       "      <td>Barrie Keeffe</td>\n",
       "      <td>1986</td>\n",
       "      <td>Greenwood Pub Group</td>\n",
       "      <td>http://images.amazon.com/images/P/0413589307.0...</td>\n",
       "      <td>245241</td>\n",
       "      <td>8</td>\n",
       "      <td>london, n/a, united kingdom</td>\n",
       "      <td>17.0</td>\n",
       "      <td>london</td>\n",
       "      <td>n/a</td>\n",
       "      <td>United Kingdom</td>\n",
       "      <td>age group 11-19</td>\n",
       "    </tr>\n",
       "  </tbody>\n",
       "</table>\n",
       "<p>57967 rows × 14 columns</p>\n",
       "</div>"
      ],
      "text/plain": [
       "               ISBN                                         Book-Title  \\\n",
       "32545    1575663937  More Cunning Than Man A Social History of Rats...   \n",
       "32546    0971880107                                        Wild Animus   \n",
       "32547    0449207595   The Grass Is Always Greener over the Septic Tank   \n",
       "32548    0380789035                                      American Gods   \n",
       "32549    0385498721                                   Survivor A Novel   \n",
       "...             ...                                                ...   \n",
       "1031118  345386431X                                    Zeit ohne Worte   \n",
       "1031119  3548248667                                 HeimwÃ Â rts Roman   \n",
       "1031121  3593358069  Die Entscheidung liegt bei dir Wege aus der al...   \n",
       "1031122  8806151681                                 Lessico Famigliare   \n",
       "1031124  0413589307    Up for None and Coming Apart New Theatrescripts   \n",
       "\n",
       "                  Book-Author  Year-Of-Publication  \\\n",
       "32545      Robert Hendrickson                 1999   \n",
       "32546            Rich Shapero                 2004   \n",
       "32547            Erma Bombeck                 1988   \n",
       "32548             Neil Gaiman                 2002   \n",
       "32549         CHUCK PALAHNIUK                 2000   \n",
       "...                       ...                  ...   \n",
       "1031118     Catherine Cookson                 2003   \n",
       "1031119   Anne Rivers Siddons                 2000   \n",
       "1031121  Reinhard K. Sprenger                 2002   \n",
       "1031122      Natalia Ginzburg                 1963   \n",
       "1031124         Barrie Keeffe                 1986   \n",
       "\n",
       "                           Publisher  \\\n",
       "32545    Kensington Publishing Corp.   \n",
       "32546                        Too Far   \n",
       "32547                  Fawcett Books   \n",
       "32548                    HarperTorch   \n",
       "32549                         Anchor   \n",
       "...                              ...   \n",
       "1031118                        Heyne   \n",
       "1031119                  Ullstein Tb   \n",
       "1031121              Campus Sachbuch   \n",
       "1031122                      Einaudi   \n",
       "1031124          Greenwood Pub Group   \n",
       "\n",
       "                                               Image-URL-L  User-ID  \\\n",
       "32545    http://images.amazon.com/images/P/1575663937.0...   213915   \n",
       "32546    http://images.amazon.com/images/P/0971880107.0...   213915   \n",
       "32547    http://images.amazon.com/images/P/0449207595.0...   213915   \n",
       "32548    http://images.amazon.com/images/P/0380789035.0...   213915   \n",
       "32549    http://images.amazon.com/images/P/0385498721.0...   213915   \n",
       "...                                                    ...      ...   \n",
       "1031118  http://images.amazon.com/images/P/345386431X.0...   244667   \n",
       "1031119  http://images.amazon.com/images/P/3548248667.0...   244667   \n",
       "1031121  http://images.amazon.com/images/P/3593358069.0...   245019   \n",
       "1031122  http://images.amazon.com/images/P/8806151681.0...   245019   \n",
       "1031124  http://images.amazon.com/images/P/0413589307.0...   245241   \n",
       "\n",
       "         Book-Rating                                Location   Age       City  \\\n",
       "32545              0  sheffield, s yorkshire, united kingdom  29.0  sheffield   \n",
       "32546              0  sheffield, s yorkshire, united kingdom  29.0  sheffield   \n",
       "32547              0  sheffield, s yorkshire, united kingdom  29.0  sheffield   \n",
       "32548              0  sheffield, s yorkshire, united kingdom  29.0  sheffield   \n",
       "32549              0  sheffield, s yorkshire, united kingdom  29.0  sheffield   \n",
       "...              ...                                     ...   ...        ...   \n",
       "1031118            0     alpen, nordrhein-westfalen, germany  39.0      alpen   \n",
       "1031119           10     alpen, nordrhein-westfalen, germany  39.0      alpen   \n",
       "1031121            0             zurich, zurich, switzerland  23.0     zurich   \n",
       "1031122            0             zurich, zurich, switzerland  23.0     zurich   \n",
       "1031124            8             london, n/a, united kingdom  17.0     london   \n",
       "\n",
       "                       State         Country     age_category  \n",
       "32545            s yorkshire  United Kingdom  age group 20-29  \n",
       "32546            s yorkshire  United Kingdom  age group 20-29  \n",
       "32547            s yorkshire  United Kingdom  age group 20-29  \n",
       "32548            s yorkshire  United Kingdom  age group 20-29  \n",
       "32549            s yorkshire  United Kingdom  age group 20-29  \n",
       "...                      ...             ...              ...  \n",
       "1031118  nordrhein-westfalen         Germany  age group 30-39  \n",
       "1031119  nordrhein-westfalen         Germany  age group 30-39  \n",
       "1031121               zurich     Switzerland  age group 20-29  \n",
       "1031122               zurich     Switzerland  age group 20-29  \n",
       "1031124                  n/a  United Kingdom  age group 11-19  \n",
       "\n",
       "[57967 rows x 14 columns]"
      ]
     },
     "execution_count": 116,
     "metadata": {},
     "output_type": "execute_result"
    }
   ],
   "source": [
    "temp2 = dataviz2.copy()\n",
    "temp2.dropna(inplace=True)\n",
    "temp2['age_category'] = temp2['Age'].apply(set_age_category)\n",
    "temp2"
   ]
  },
  {
   "cell_type": "code",
   "execution_count": 119,
   "id": "7c573958",
   "metadata": {},
   "outputs": [
    {
     "data": {
      "text/plain": [
       "ISBN                     0\n",
       "Book-Title               0\n",
       "Book-Author              0\n",
       "Year-Of-Publication      0\n",
       "Publisher                0\n",
       "Image-URL-L              0\n",
       "User-ID                  0\n",
       "Book-Rating              0\n",
       "Location                 0\n",
       "Age                      0\n",
       "City                     0\n",
       "State                    0\n",
       "Country                  0\n",
       "age_category           101\n",
       "dtype: int64"
      ]
     },
     "execution_count": 119,
     "metadata": {},
     "output_type": "execute_result"
    }
   ],
   "source": [
    "temp2.isnull().sum()"
   ]
  },
  {
   "cell_type": "code",
   "execution_count": 122,
   "id": "5785836d",
   "metadata": {},
   "outputs": [
    {
     "data": {
      "text/html": [
       "<div>\n",
       "<style scoped>\n",
       "    .dataframe tbody tr th:only-of-type {\n",
       "        vertical-align: middle;\n",
       "    }\n",
       "\n",
       "    .dataframe tbody tr th {\n",
       "        vertical-align: top;\n",
       "    }\n",
       "\n",
       "    .dataframe thead th {\n",
       "        text-align: right;\n",
       "    }\n",
       "</style>\n",
       "<table border=\"1\" class=\"dataframe\">\n",
       "  <thead>\n",
       "    <tr style=\"text-align: right;\">\n",
       "      <th></th>\n",
       "      <th>Country</th>\n",
       "      <th>age_category</th>\n",
       "      <th>count</th>\n",
       "    </tr>\n",
       "  </thead>\n",
       "  <tbody>\n",
       "    <tr>\n",
       "      <th>0</th>\n",
       "      <td>Austria</td>\n",
       "      <td>age group 0-10</td>\n",
       "      <td>5</td>\n",
       "    </tr>\n",
       "    <tr>\n",
       "      <th>34</th>\n",
       "      <td>United Kingdom</td>\n",
       "      <td>age group 0-10</td>\n",
       "      <td>79</td>\n",
       "    </tr>\n",
       "    <tr>\n",
       "      <th>27</th>\n",
       "      <td>Switzerland</td>\n",
       "      <td>age group 0-10</td>\n",
       "      <td>12</td>\n",
       "    </tr>\n",
       "    <tr>\n",
       "      <th>13</th>\n",
       "      <td>Germany</td>\n",
       "      <td>age group 0-10</td>\n",
       "      <td>266</td>\n",
       "    </tr>\n",
       "    <tr>\n",
       "      <th>20</th>\n",
       "      <td>Portugal</td>\n",
       "      <td>age group 0-10</td>\n",
       "      <td>87</td>\n",
       "    </tr>\n",
       "    <tr>\n",
       "      <th>7</th>\n",
       "      <td>Belgium</td>\n",
       "      <td>age group 11-19</td>\n",
       "      <td>7</td>\n",
       "    </tr>\n",
       "    <tr>\n",
       "      <th>21</th>\n",
       "      <td>Portugal</td>\n",
       "      <td>age group 11-19</td>\n",
       "      <td>166</td>\n",
       "    </tr>\n",
       "    <tr>\n",
       "      <th>1</th>\n",
       "      <td>Austria</td>\n",
       "      <td>age group 11-19</td>\n",
       "      <td>151</td>\n",
       "    </tr>\n",
       "    <tr>\n",
       "      <th>35</th>\n",
       "      <td>United Kingdom</td>\n",
       "      <td>age group 11-19</td>\n",
       "      <td>781</td>\n",
       "    </tr>\n",
       "    <tr>\n",
       "      <th>28</th>\n",
       "      <td>Switzerland</td>\n",
       "      <td>age group 11-19</td>\n",
       "      <td>82</td>\n",
       "    </tr>\n",
       "    <tr>\n",
       "      <th>14</th>\n",
       "      <td>Germany</td>\n",
       "      <td>age group 11-19</td>\n",
       "      <td>882</td>\n",
       "    </tr>\n",
       "    <tr>\n",
       "      <th>22</th>\n",
       "      <td>Portugal</td>\n",
       "      <td>age group 20-29</td>\n",
       "      <td>3940</td>\n",
       "    </tr>\n",
       "    <tr>\n",
       "      <th>2</th>\n",
       "      <td>Austria</td>\n",
       "      <td>age group 20-29</td>\n",
       "      <td>800</td>\n",
       "    </tr>\n",
       "    <tr>\n",
       "      <th>15</th>\n",
       "      <td>Germany</td>\n",
       "      <td>age group 20-29</td>\n",
       "      <td>8314</td>\n",
       "    </tr>\n",
       "    <tr>\n",
       "      <th>29</th>\n",
       "      <td>Switzerland</td>\n",
       "      <td>age group 20-29</td>\n",
       "      <td>702</td>\n",
       "    </tr>\n",
       "    <tr>\n",
       "      <th>36</th>\n",
       "      <td>United Kingdom</td>\n",
       "      <td>age group 20-29</td>\n",
       "      <td>7887</td>\n",
       "    </tr>\n",
       "    <tr>\n",
       "      <th>8</th>\n",
       "      <td>Belgium</td>\n",
       "      <td>age group 20-29</td>\n",
       "      <td>456</td>\n",
       "    </tr>\n",
       "    <tr>\n",
       "      <th>16</th>\n",
       "      <td>Germany</td>\n",
       "      <td>age group 30-39</td>\n",
       "      <td>6823</td>\n",
       "    </tr>\n",
       "    <tr>\n",
       "      <th>37</th>\n",
       "      <td>United Kingdom</td>\n",
       "      <td>age group 30-39</td>\n",
       "      <td>10063</td>\n",
       "    </tr>\n",
       "    <tr>\n",
       "      <th>9</th>\n",
       "      <td>Belgium</td>\n",
       "      <td>age group 30-39</td>\n",
       "      <td>61</td>\n",
       "    </tr>\n",
       "    <tr>\n",
       "      <th>23</th>\n",
       "      <td>Portugal</td>\n",
       "      <td>age group 30-39</td>\n",
       "      <td>1721</td>\n",
       "    </tr>\n",
       "    <tr>\n",
       "      <th>30</th>\n",
       "      <td>Switzerland</td>\n",
       "      <td>age group 30-39</td>\n",
       "      <td>772</td>\n",
       "    </tr>\n",
       "    <tr>\n",
       "      <th>3</th>\n",
       "      <td>Austria</td>\n",
       "      <td>age group 30-39</td>\n",
       "      <td>951</td>\n",
       "    </tr>\n",
       "    <tr>\n",
       "      <th>10</th>\n",
       "      <td>Belgium</td>\n",
       "      <td>age group 40-49</td>\n",
       "      <td>24</td>\n",
       "    </tr>\n",
       "    <tr>\n",
       "      <th>4</th>\n",
       "      <td>Austria</td>\n",
       "      <td>age group 40-49</td>\n",
       "      <td>226</td>\n",
       "    </tr>\n",
       "    <tr>\n",
       "      <th>24</th>\n",
       "      <td>Portugal</td>\n",
       "      <td>age group 40-49</td>\n",
       "      <td>411</td>\n",
       "    </tr>\n",
       "    <tr>\n",
       "      <th>31</th>\n",
       "      <td>Switzerland</td>\n",
       "      <td>age group 40-49</td>\n",
       "      <td>669</td>\n",
       "    </tr>\n",
       "    <tr>\n",
       "      <th>38</th>\n",
       "      <td>United Kingdom</td>\n",
       "      <td>age group 40-49</td>\n",
       "      <td>3201</td>\n",
       "    </tr>\n",
       "    <tr>\n",
       "      <th>17</th>\n",
       "      <td>Germany</td>\n",
       "      <td>age group 40-49</td>\n",
       "      <td>2575</td>\n",
       "    </tr>\n",
       "    <tr>\n",
       "      <th>32</th>\n",
       "      <td>Switzerland</td>\n",
       "      <td>age group 50-59</td>\n",
       "      <td>1035</td>\n",
       "    </tr>\n",
       "    <tr>\n",
       "      <th>5</th>\n",
       "      <td>Austria</td>\n",
       "      <td>age group 50-59</td>\n",
       "      <td>48</td>\n",
       "    </tr>\n",
       "    <tr>\n",
       "      <th>25</th>\n",
       "      <td>Portugal</td>\n",
       "      <td>age group 50-59</td>\n",
       "      <td>110</td>\n",
       "    </tr>\n",
       "    <tr>\n",
       "      <th>39</th>\n",
       "      <td>United Kingdom</td>\n",
       "      <td>age group 50-59</td>\n",
       "      <td>2318</td>\n",
       "    </tr>\n",
       "    <tr>\n",
       "      <th>18</th>\n",
       "      <td>Germany</td>\n",
       "      <td>age group 50-59</td>\n",
       "      <td>634</td>\n",
       "    </tr>\n",
       "    <tr>\n",
       "      <th>11</th>\n",
       "      <td>Belgium</td>\n",
       "      <td>age group 50-59</td>\n",
       "      <td>8</td>\n",
       "    </tr>\n",
       "    <tr>\n",
       "      <th>33</th>\n",
       "      <td>Switzerland</td>\n",
       "      <td>age group &gt; 60</td>\n",
       "      <td>37</td>\n",
       "    </tr>\n",
       "    <tr>\n",
       "      <th>19</th>\n",
       "      <td>Germany</td>\n",
       "      <td>age group &gt; 60</td>\n",
       "      <td>129</td>\n",
       "    </tr>\n",
       "    <tr>\n",
       "      <th>12</th>\n",
       "      <td>Belgium</td>\n",
       "      <td>age group &gt; 60</td>\n",
       "      <td>12</td>\n",
       "    </tr>\n",
       "    <tr>\n",
       "      <th>6</th>\n",
       "      <td>Austria</td>\n",
       "      <td>age group &gt; 60</td>\n",
       "      <td>11</td>\n",
       "    </tr>\n",
       "    <tr>\n",
       "      <th>26</th>\n",
       "      <td>Portugal</td>\n",
       "      <td>age group &gt; 60</td>\n",
       "      <td>13</td>\n",
       "    </tr>\n",
       "    <tr>\n",
       "      <th>40</th>\n",
       "      <td>United Kingdom</td>\n",
       "      <td>age group &gt; 60</td>\n",
       "      <td>1397</td>\n",
       "    </tr>\n",
       "  </tbody>\n",
       "</table>\n",
       "</div>"
      ],
      "text/plain": [
       "           Country     age_category  count\n",
       "0          Austria   age group 0-10      5\n",
       "34  United Kingdom   age group 0-10     79\n",
       "27     Switzerland   age group 0-10     12\n",
       "13         Germany   age group 0-10    266\n",
       "20        Portugal   age group 0-10     87\n",
       "7          Belgium  age group 11-19      7\n",
       "21        Portugal  age group 11-19    166\n",
       "1          Austria  age group 11-19    151\n",
       "35  United Kingdom  age group 11-19    781\n",
       "28     Switzerland  age group 11-19     82\n",
       "14         Germany  age group 11-19    882\n",
       "22        Portugal  age group 20-29   3940\n",
       "2          Austria  age group 20-29    800\n",
       "15         Germany  age group 20-29   8314\n",
       "29     Switzerland  age group 20-29    702\n",
       "36  United Kingdom  age group 20-29   7887\n",
       "8          Belgium  age group 20-29    456\n",
       "16         Germany  age group 30-39   6823\n",
       "37  United Kingdom  age group 30-39  10063\n",
       "9          Belgium  age group 30-39     61\n",
       "23        Portugal  age group 30-39   1721\n",
       "30     Switzerland  age group 30-39    772\n",
       "3          Austria  age group 30-39    951\n",
       "10         Belgium  age group 40-49     24\n",
       "4          Austria  age group 40-49    226\n",
       "24        Portugal  age group 40-49    411\n",
       "31     Switzerland  age group 40-49    669\n",
       "38  United Kingdom  age group 40-49   3201\n",
       "17         Germany  age group 40-49   2575\n",
       "32     Switzerland  age group 50-59   1035\n",
       "5          Austria  age group 50-59     48\n",
       "25        Portugal  age group 50-59    110\n",
       "39  United Kingdom  age group 50-59   2318\n",
       "18         Germany  age group 50-59    634\n",
       "11         Belgium  age group 50-59      8\n",
       "33     Switzerland   age group > 60     37\n",
       "19         Germany   age group > 60    129\n",
       "12         Belgium   age group > 60     12\n",
       "6          Austria   age group > 60     11\n",
       "26        Portugal   age group > 60     13\n",
       "40  United Kingdom   age group > 60   1397"
      ]
     },
     "execution_count": 122,
     "metadata": {},
     "output_type": "execute_result"
    }
   ],
   "source": [
    "age_group2 = temp2.groupby(['Country', 'age_category']).size().reset_index(name='count').sort_values(by='age_category', ascending=True)\n",
    "age_group2"
   ]
  },
  {
   "cell_type": "code",
   "execution_count": 124,
   "id": "aaf25db3",
   "metadata": {},
   "outputs": [
    {
     "data": {
      "application/vnd.plotly.v1+json": {
       "config": {
        "plotlyServerURL": "https://plot.ly"
       },
       "data": [
        {
         "alignmentgroup": "True",
         "hovertemplate": "Country=%{text}<br>age_category=%{x}<br>count=%{y}<extra></extra>",
         "legendgroup": "Austria",
         "marker": {
          "color": "#636efa",
          "pattern": {
           "shape": ""
          }
         },
         "name": "Austria",
         "offsetgroup": "Austria",
         "orientation": "v",
         "showlegend": true,
         "text": [
          "Austria",
          "Austria",
          "Austria",
          "Austria",
          "Austria",
          "Austria",
          "Austria"
         ],
         "textposition": "auto",
         "type": "bar",
         "x": [
          "age group 0-10",
          "age group 11-19",
          "age group 20-29",
          "age group 30-39",
          "age group 40-49",
          "age group 50-59",
          "age group > 60"
         ],
         "xaxis": "x",
         "y": [
          5,
          151,
          800,
          951,
          226,
          48,
          11
         ],
         "yaxis": "y"
        },
        {
         "alignmentgroup": "True",
         "hovertemplate": "Country=%{text}<br>age_category=%{x}<br>count=%{y}<extra></extra>",
         "legendgroup": "United Kingdom",
         "marker": {
          "color": "#EF553B",
          "pattern": {
           "shape": ""
          }
         },
         "name": "United Kingdom",
         "offsetgroup": "United Kingdom",
         "orientation": "v",
         "showlegend": true,
         "text": [
          "United Kingdom",
          "United Kingdom",
          "United Kingdom",
          "United Kingdom",
          "United Kingdom",
          "United Kingdom",
          "United Kingdom"
         ],
         "textposition": "auto",
         "type": "bar",
         "x": [
          "age group 0-10",
          "age group 11-19",
          "age group 20-29",
          "age group 30-39",
          "age group 40-49",
          "age group 50-59",
          "age group > 60"
         ],
         "xaxis": "x",
         "y": [
          79,
          781,
          7887,
          10063,
          3201,
          2318,
          1397
         ],
         "yaxis": "y"
        },
        {
         "alignmentgroup": "True",
         "hovertemplate": "Country=%{text}<br>age_category=%{x}<br>count=%{y}<extra></extra>",
         "legendgroup": "Switzerland",
         "marker": {
          "color": "#00cc96",
          "pattern": {
           "shape": ""
          }
         },
         "name": "Switzerland",
         "offsetgroup": "Switzerland",
         "orientation": "v",
         "showlegend": true,
         "text": [
          "Switzerland",
          "Switzerland",
          "Switzerland",
          "Switzerland",
          "Switzerland",
          "Switzerland",
          "Switzerland"
         ],
         "textposition": "auto",
         "type": "bar",
         "x": [
          "age group 0-10",
          "age group 11-19",
          "age group 20-29",
          "age group 30-39",
          "age group 40-49",
          "age group 50-59",
          "age group > 60"
         ],
         "xaxis": "x",
         "y": [
          12,
          82,
          702,
          772,
          669,
          1035,
          37
         ],
         "yaxis": "y"
        },
        {
         "alignmentgroup": "True",
         "hovertemplate": "Country=%{text}<br>age_category=%{x}<br>count=%{y}<extra></extra>",
         "legendgroup": "Germany",
         "marker": {
          "color": "#ab63fa",
          "pattern": {
           "shape": ""
          }
         },
         "name": "Germany",
         "offsetgroup": "Germany",
         "orientation": "v",
         "showlegend": true,
         "text": [
          "Germany",
          "Germany",
          "Germany",
          "Germany",
          "Germany",
          "Germany",
          "Germany"
         ],
         "textposition": "auto",
         "type": "bar",
         "x": [
          "age group 0-10",
          "age group 11-19",
          "age group 20-29",
          "age group 30-39",
          "age group 40-49",
          "age group 50-59",
          "age group > 60"
         ],
         "xaxis": "x",
         "y": [
          266,
          882,
          8314,
          6823,
          2575,
          634,
          129
         ],
         "yaxis": "y"
        },
        {
         "alignmentgroup": "True",
         "hovertemplate": "Country=%{text}<br>age_category=%{x}<br>count=%{y}<extra></extra>",
         "legendgroup": "Portugal",
         "marker": {
          "color": "#FFA15A",
          "pattern": {
           "shape": ""
          }
         },
         "name": "Portugal",
         "offsetgroup": "Portugal",
         "orientation": "v",
         "showlegend": true,
         "text": [
          "Portugal",
          "Portugal",
          "Portugal",
          "Portugal",
          "Portugal",
          "Portugal",
          "Portugal"
         ],
         "textposition": "auto",
         "type": "bar",
         "x": [
          "age group 0-10",
          "age group 11-19",
          "age group 20-29",
          "age group 30-39",
          "age group 40-49",
          "age group 50-59",
          "age group > 60"
         ],
         "xaxis": "x",
         "y": [
          87,
          166,
          3940,
          1721,
          411,
          110,
          13
         ],
         "yaxis": "y"
        },
        {
         "alignmentgroup": "True",
         "hovertemplate": "Country=%{text}<br>age_category=%{x}<br>count=%{y}<extra></extra>",
         "legendgroup": "Belgium",
         "marker": {
          "color": "#19d3f3",
          "pattern": {
           "shape": ""
          }
         },
         "name": "Belgium",
         "offsetgroup": "Belgium",
         "orientation": "v",
         "showlegend": true,
         "text": [
          "Belgium",
          "Belgium",
          "Belgium",
          "Belgium",
          "Belgium",
          "Belgium"
         ],
         "textposition": "auto",
         "type": "bar",
         "x": [
          "age group 11-19",
          "age group 20-29",
          "age group 30-39",
          "age group 40-49",
          "age group 50-59",
          "age group > 60"
         ],
         "xaxis": "x",
         "y": [
          7,
          456,
          61,
          24,
          8,
          12
         ],
         "yaxis": "y"
        }
       ],
       "layout": {
        "barmode": "relative",
        "legend": {
         "title": {
          "text": "Country"
         },
         "tracegroupgap": 0
        },
        "template": {
         "data": {
          "bar": [
           {
            "error_x": {
             "color": "#2a3f5f"
            },
            "error_y": {
             "color": "#2a3f5f"
            },
            "marker": {
             "line": {
              "color": "#E5ECF6",
              "width": 0.5
             },
             "pattern": {
              "fillmode": "overlay",
              "size": 10,
              "solidity": 0.2
             }
            },
            "type": "bar"
           }
          ],
          "barpolar": [
           {
            "marker": {
             "line": {
              "color": "#E5ECF6",
              "width": 0.5
             },
             "pattern": {
              "fillmode": "overlay",
              "size": 10,
              "solidity": 0.2
             }
            },
            "type": "barpolar"
           }
          ],
          "carpet": [
           {
            "aaxis": {
             "endlinecolor": "#2a3f5f",
             "gridcolor": "white",
             "linecolor": "white",
             "minorgridcolor": "white",
             "startlinecolor": "#2a3f5f"
            },
            "baxis": {
             "endlinecolor": "#2a3f5f",
             "gridcolor": "white",
             "linecolor": "white",
             "minorgridcolor": "white",
             "startlinecolor": "#2a3f5f"
            },
            "type": "carpet"
           }
          ],
          "choropleth": [
           {
            "colorbar": {
             "outlinewidth": 0,
             "ticks": ""
            },
            "type": "choropleth"
           }
          ],
          "contour": [
           {
            "colorbar": {
             "outlinewidth": 0,
             "ticks": ""
            },
            "colorscale": [
             [
              0,
              "#0d0887"
             ],
             [
              0.1111111111111111,
              "#46039f"
             ],
             [
              0.2222222222222222,
              "#7201a8"
             ],
             [
              0.3333333333333333,
              "#9c179e"
             ],
             [
              0.4444444444444444,
              "#bd3786"
             ],
             [
              0.5555555555555556,
              "#d8576b"
             ],
             [
              0.6666666666666666,
              "#ed7953"
             ],
             [
              0.7777777777777778,
              "#fb9f3a"
             ],
             [
              0.8888888888888888,
              "#fdca26"
             ],
             [
              1,
              "#f0f921"
             ]
            ],
            "type": "contour"
           }
          ],
          "contourcarpet": [
           {
            "colorbar": {
             "outlinewidth": 0,
             "ticks": ""
            },
            "type": "contourcarpet"
           }
          ],
          "heatmap": [
           {
            "colorbar": {
             "outlinewidth": 0,
             "ticks": ""
            },
            "colorscale": [
             [
              0,
              "#0d0887"
             ],
             [
              0.1111111111111111,
              "#46039f"
             ],
             [
              0.2222222222222222,
              "#7201a8"
             ],
             [
              0.3333333333333333,
              "#9c179e"
             ],
             [
              0.4444444444444444,
              "#bd3786"
             ],
             [
              0.5555555555555556,
              "#d8576b"
             ],
             [
              0.6666666666666666,
              "#ed7953"
             ],
             [
              0.7777777777777778,
              "#fb9f3a"
             ],
             [
              0.8888888888888888,
              "#fdca26"
             ],
             [
              1,
              "#f0f921"
             ]
            ],
            "type": "heatmap"
           }
          ],
          "heatmapgl": [
           {
            "colorbar": {
             "outlinewidth": 0,
             "ticks": ""
            },
            "colorscale": [
             [
              0,
              "#0d0887"
             ],
             [
              0.1111111111111111,
              "#46039f"
             ],
             [
              0.2222222222222222,
              "#7201a8"
             ],
             [
              0.3333333333333333,
              "#9c179e"
             ],
             [
              0.4444444444444444,
              "#bd3786"
             ],
             [
              0.5555555555555556,
              "#d8576b"
             ],
             [
              0.6666666666666666,
              "#ed7953"
             ],
             [
              0.7777777777777778,
              "#fb9f3a"
             ],
             [
              0.8888888888888888,
              "#fdca26"
             ],
             [
              1,
              "#f0f921"
             ]
            ],
            "type": "heatmapgl"
           }
          ],
          "histogram": [
           {
            "marker": {
             "pattern": {
              "fillmode": "overlay",
              "size": 10,
              "solidity": 0.2
             }
            },
            "type": "histogram"
           }
          ],
          "histogram2d": [
           {
            "colorbar": {
             "outlinewidth": 0,
             "ticks": ""
            },
            "colorscale": [
             [
              0,
              "#0d0887"
             ],
             [
              0.1111111111111111,
              "#46039f"
             ],
             [
              0.2222222222222222,
              "#7201a8"
             ],
             [
              0.3333333333333333,
              "#9c179e"
             ],
             [
              0.4444444444444444,
              "#bd3786"
             ],
             [
              0.5555555555555556,
              "#d8576b"
             ],
             [
              0.6666666666666666,
              "#ed7953"
             ],
             [
              0.7777777777777778,
              "#fb9f3a"
             ],
             [
              0.8888888888888888,
              "#fdca26"
             ],
             [
              1,
              "#f0f921"
             ]
            ],
            "type": "histogram2d"
           }
          ],
          "histogram2dcontour": [
           {
            "colorbar": {
             "outlinewidth": 0,
             "ticks": ""
            },
            "colorscale": [
             [
              0,
              "#0d0887"
             ],
             [
              0.1111111111111111,
              "#46039f"
             ],
             [
              0.2222222222222222,
              "#7201a8"
             ],
             [
              0.3333333333333333,
              "#9c179e"
             ],
             [
              0.4444444444444444,
              "#bd3786"
             ],
             [
              0.5555555555555556,
              "#d8576b"
             ],
             [
              0.6666666666666666,
              "#ed7953"
             ],
             [
              0.7777777777777778,
              "#fb9f3a"
             ],
             [
              0.8888888888888888,
              "#fdca26"
             ],
             [
              1,
              "#f0f921"
             ]
            ],
            "type": "histogram2dcontour"
           }
          ],
          "mesh3d": [
           {
            "colorbar": {
             "outlinewidth": 0,
             "ticks": ""
            },
            "type": "mesh3d"
           }
          ],
          "parcoords": [
           {
            "line": {
             "colorbar": {
              "outlinewidth": 0,
              "ticks": ""
             }
            },
            "type": "parcoords"
           }
          ],
          "pie": [
           {
            "automargin": true,
            "type": "pie"
           }
          ],
          "scatter": [
           {
            "fillpattern": {
             "fillmode": "overlay",
             "size": 10,
             "solidity": 0.2
            },
            "type": "scatter"
           }
          ],
          "scatter3d": [
           {
            "line": {
             "colorbar": {
              "outlinewidth": 0,
              "ticks": ""
             }
            },
            "marker": {
             "colorbar": {
              "outlinewidth": 0,
              "ticks": ""
             }
            },
            "type": "scatter3d"
           }
          ],
          "scattercarpet": [
           {
            "marker": {
             "colorbar": {
              "outlinewidth": 0,
              "ticks": ""
             }
            },
            "type": "scattercarpet"
           }
          ],
          "scattergeo": [
           {
            "marker": {
             "colorbar": {
              "outlinewidth": 0,
              "ticks": ""
             }
            },
            "type": "scattergeo"
           }
          ],
          "scattergl": [
           {
            "marker": {
             "colorbar": {
              "outlinewidth": 0,
              "ticks": ""
             }
            },
            "type": "scattergl"
           }
          ],
          "scattermapbox": [
           {
            "marker": {
             "colorbar": {
              "outlinewidth": 0,
              "ticks": ""
             }
            },
            "type": "scattermapbox"
           }
          ],
          "scatterpolar": [
           {
            "marker": {
             "colorbar": {
              "outlinewidth": 0,
              "ticks": ""
             }
            },
            "type": "scatterpolar"
           }
          ],
          "scatterpolargl": [
           {
            "marker": {
             "colorbar": {
              "outlinewidth": 0,
              "ticks": ""
             }
            },
            "type": "scatterpolargl"
           }
          ],
          "scatterternary": [
           {
            "marker": {
             "colorbar": {
              "outlinewidth": 0,
              "ticks": ""
             }
            },
            "type": "scatterternary"
           }
          ],
          "surface": [
           {
            "colorbar": {
             "outlinewidth": 0,
             "ticks": ""
            },
            "colorscale": [
             [
              0,
              "#0d0887"
             ],
             [
              0.1111111111111111,
              "#46039f"
             ],
             [
              0.2222222222222222,
              "#7201a8"
             ],
             [
              0.3333333333333333,
              "#9c179e"
             ],
             [
              0.4444444444444444,
              "#bd3786"
             ],
             [
              0.5555555555555556,
              "#d8576b"
             ],
             [
              0.6666666666666666,
              "#ed7953"
             ],
             [
              0.7777777777777778,
              "#fb9f3a"
             ],
             [
              0.8888888888888888,
              "#fdca26"
             ],
             [
              1,
              "#f0f921"
             ]
            ],
            "type": "surface"
           }
          ],
          "table": [
           {
            "cells": {
             "fill": {
              "color": "#EBF0F8"
             },
             "line": {
              "color": "white"
             }
            },
            "header": {
             "fill": {
              "color": "#C8D4E3"
             },
             "line": {
              "color": "white"
             }
            },
            "type": "table"
           }
          ]
         },
         "layout": {
          "annotationdefaults": {
           "arrowcolor": "#2a3f5f",
           "arrowhead": 0,
           "arrowwidth": 1
          },
          "autotypenumbers": "strict",
          "coloraxis": {
           "colorbar": {
            "outlinewidth": 0,
            "ticks": ""
           }
          },
          "colorscale": {
           "diverging": [
            [
             0,
             "#8e0152"
            ],
            [
             0.1,
             "#c51b7d"
            ],
            [
             0.2,
             "#de77ae"
            ],
            [
             0.3,
             "#f1b6da"
            ],
            [
             0.4,
             "#fde0ef"
            ],
            [
             0.5,
             "#f7f7f7"
            ],
            [
             0.6,
             "#e6f5d0"
            ],
            [
             0.7,
             "#b8e186"
            ],
            [
             0.8,
             "#7fbc41"
            ],
            [
             0.9,
             "#4d9221"
            ],
            [
             1,
             "#276419"
            ]
           ],
           "sequential": [
            [
             0,
             "#0d0887"
            ],
            [
             0.1111111111111111,
             "#46039f"
            ],
            [
             0.2222222222222222,
             "#7201a8"
            ],
            [
             0.3333333333333333,
             "#9c179e"
            ],
            [
             0.4444444444444444,
             "#bd3786"
            ],
            [
             0.5555555555555556,
             "#d8576b"
            ],
            [
             0.6666666666666666,
             "#ed7953"
            ],
            [
             0.7777777777777778,
             "#fb9f3a"
            ],
            [
             0.8888888888888888,
             "#fdca26"
            ],
            [
             1,
             "#f0f921"
            ]
           ],
           "sequentialminus": [
            [
             0,
             "#0d0887"
            ],
            [
             0.1111111111111111,
             "#46039f"
            ],
            [
             0.2222222222222222,
             "#7201a8"
            ],
            [
             0.3333333333333333,
             "#9c179e"
            ],
            [
             0.4444444444444444,
             "#bd3786"
            ],
            [
             0.5555555555555556,
             "#d8576b"
            ],
            [
             0.6666666666666666,
             "#ed7953"
            ],
            [
             0.7777777777777778,
             "#fb9f3a"
            ],
            [
             0.8888888888888888,
             "#fdca26"
            ],
            [
             1,
             "#f0f921"
            ]
           ]
          },
          "colorway": [
           "#636efa",
           "#EF553B",
           "#00cc96",
           "#ab63fa",
           "#FFA15A",
           "#19d3f3",
           "#FF6692",
           "#B6E880",
           "#FF97FF",
           "#FECB52"
          ],
          "font": {
           "color": "#2a3f5f"
          },
          "geo": {
           "bgcolor": "white",
           "lakecolor": "white",
           "landcolor": "#E5ECF6",
           "showlakes": true,
           "showland": true,
           "subunitcolor": "white"
          },
          "hoverlabel": {
           "align": "left"
          },
          "hovermode": "closest",
          "mapbox": {
           "style": "light"
          },
          "paper_bgcolor": "white",
          "plot_bgcolor": "#E5ECF6",
          "polar": {
           "angularaxis": {
            "gridcolor": "white",
            "linecolor": "white",
            "ticks": ""
           },
           "bgcolor": "#E5ECF6",
           "radialaxis": {
            "gridcolor": "white",
            "linecolor": "white",
            "ticks": ""
           }
          },
          "scene": {
           "xaxis": {
            "backgroundcolor": "#E5ECF6",
            "gridcolor": "white",
            "gridwidth": 2,
            "linecolor": "white",
            "showbackground": true,
            "ticks": "",
            "zerolinecolor": "white"
           },
           "yaxis": {
            "backgroundcolor": "#E5ECF6",
            "gridcolor": "white",
            "gridwidth": 2,
            "linecolor": "white",
            "showbackground": true,
            "ticks": "",
            "zerolinecolor": "white"
           },
           "zaxis": {
            "backgroundcolor": "#E5ECF6",
            "gridcolor": "white",
            "gridwidth": 2,
            "linecolor": "white",
            "showbackground": true,
            "ticks": "",
            "zerolinecolor": "white"
           }
          },
          "shapedefaults": {
           "line": {
            "color": "#2a3f5f"
           }
          },
          "ternary": {
           "aaxis": {
            "gridcolor": "white",
            "linecolor": "white",
            "ticks": ""
           },
           "baxis": {
            "gridcolor": "white",
            "linecolor": "white",
            "ticks": ""
           },
           "bgcolor": "#E5ECF6",
           "caxis": {
            "gridcolor": "white",
            "linecolor": "white",
            "ticks": ""
           }
          },
          "title": {
           "x": 0.05
          },
          "xaxis": {
           "automargin": true,
           "gridcolor": "white",
           "linecolor": "white",
           "ticks": "",
           "title": {
            "standoff": 15
           },
           "zerolinecolor": "white",
           "zerolinewidth": 2
          },
          "yaxis": {
           "automargin": true,
           "gridcolor": "white",
           "linecolor": "white",
           "ticks": "",
           "title": {
            "standoff": 15
           },
           "zerolinecolor": "white",
           "zerolinewidth": 2
          }
         }
        },
        "title": {
         "text": "Distribution of Books by Age Category per Country"
        },
        "xaxis": {
         "anchor": "y",
         "domain": [
          0,
          1
         ],
         "title": {
          "text": "Age Category"
         }
        },
        "yaxis": {
         "anchor": "x",
         "domain": [
          0,
          1
         ],
         "title": {
          "text": "Count"
         }
        }
       }
      },
      "text/html": [
       "<div>                            <div id=\"c768fc27-d838-4609-bb2e-957a8c51814d\" class=\"plotly-graph-div\" style=\"height:525px; width:100%;\"></div>            <script type=\"text/javascript\">                require([\"plotly\"], function(Plotly) {                    window.PLOTLYENV=window.PLOTLYENV || {};                                    if (document.getElementById(\"c768fc27-d838-4609-bb2e-957a8c51814d\")) {                    Plotly.newPlot(                        \"c768fc27-d838-4609-bb2e-957a8c51814d\",                        [{\"alignmentgroup\":\"True\",\"hovertemplate\":\"Country=%{text}<br>age_category=%{x}<br>count=%{y}<extra></extra>\",\"legendgroup\":\"Austria\",\"marker\":{\"color\":\"#636efa\",\"pattern\":{\"shape\":\"\"}},\"name\":\"Austria\",\"offsetgroup\":\"Austria\",\"orientation\":\"v\",\"showlegend\":true,\"text\":[\"Austria\",\"Austria\",\"Austria\",\"Austria\",\"Austria\",\"Austria\",\"Austria\"],\"textposition\":\"auto\",\"x\":[\"age group 0-10\",\"age group 11-19\",\"age group 20-29\",\"age group 30-39\",\"age group 40-49\",\"age group 50-59\",\"age group > 60\"],\"xaxis\":\"x\",\"y\":[5,151,800,951,226,48,11],\"yaxis\":\"y\",\"type\":\"bar\"},{\"alignmentgroup\":\"True\",\"hovertemplate\":\"Country=%{text}<br>age_category=%{x}<br>count=%{y}<extra></extra>\",\"legendgroup\":\"United Kingdom\",\"marker\":{\"color\":\"#EF553B\",\"pattern\":{\"shape\":\"\"}},\"name\":\"United Kingdom\",\"offsetgroup\":\"United Kingdom\",\"orientation\":\"v\",\"showlegend\":true,\"text\":[\"United Kingdom\",\"United Kingdom\",\"United Kingdom\",\"United Kingdom\",\"United Kingdom\",\"United Kingdom\",\"United Kingdom\"],\"textposition\":\"auto\",\"x\":[\"age group 0-10\",\"age group 11-19\",\"age group 20-29\",\"age group 30-39\",\"age group 40-49\",\"age group 50-59\",\"age group > 60\"],\"xaxis\":\"x\",\"y\":[79,781,7887,10063,3201,2318,1397],\"yaxis\":\"y\",\"type\":\"bar\"},{\"alignmentgroup\":\"True\",\"hovertemplate\":\"Country=%{text}<br>age_category=%{x}<br>count=%{y}<extra></extra>\",\"legendgroup\":\"Switzerland\",\"marker\":{\"color\":\"#00cc96\",\"pattern\":{\"shape\":\"\"}},\"name\":\"Switzerland\",\"offsetgroup\":\"Switzerland\",\"orientation\":\"v\",\"showlegend\":true,\"text\":[\"Switzerland\",\"Switzerland\",\"Switzerland\",\"Switzerland\",\"Switzerland\",\"Switzerland\",\"Switzerland\"],\"textposition\":\"auto\",\"x\":[\"age group 0-10\",\"age group 11-19\",\"age group 20-29\",\"age group 30-39\",\"age group 40-49\",\"age group 50-59\",\"age group > 60\"],\"xaxis\":\"x\",\"y\":[12,82,702,772,669,1035,37],\"yaxis\":\"y\",\"type\":\"bar\"},{\"alignmentgroup\":\"True\",\"hovertemplate\":\"Country=%{text}<br>age_category=%{x}<br>count=%{y}<extra></extra>\",\"legendgroup\":\"Germany\",\"marker\":{\"color\":\"#ab63fa\",\"pattern\":{\"shape\":\"\"}},\"name\":\"Germany\",\"offsetgroup\":\"Germany\",\"orientation\":\"v\",\"showlegend\":true,\"text\":[\"Germany\",\"Germany\",\"Germany\",\"Germany\",\"Germany\",\"Germany\",\"Germany\"],\"textposition\":\"auto\",\"x\":[\"age group 0-10\",\"age group 11-19\",\"age group 20-29\",\"age group 30-39\",\"age group 40-49\",\"age group 50-59\",\"age group > 60\"],\"xaxis\":\"x\",\"y\":[266,882,8314,6823,2575,634,129],\"yaxis\":\"y\",\"type\":\"bar\"},{\"alignmentgroup\":\"True\",\"hovertemplate\":\"Country=%{text}<br>age_category=%{x}<br>count=%{y}<extra></extra>\",\"legendgroup\":\"Portugal\",\"marker\":{\"color\":\"#FFA15A\",\"pattern\":{\"shape\":\"\"}},\"name\":\"Portugal\",\"offsetgroup\":\"Portugal\",\"orientation\":\"v\",\"showlegend\":true,\"text\":[\"Portugal\",\"Portugal\",\"Portugal\",\"Portugal\",\"Portugal\",\"Portugal\",\"Portugal\"],\"textposition\":\"auto\",\"x\":[\"age group 0-10\",\"age group 11-19\",\"age group 20-29\",\"age group 30-39\",\"age group 40-49\",\"age group 50-59\",\"age group > 60\"],\"xaxis\":\"x\",\"y\":[87,166,3940,1721,411,110,13],\"yaxis\":\"y\",\"type\":\"bar\"},{\"alignmentgroup\":\"True\",\"hovertemplate\":\"Country=%{text}<br>age_category=%{x}<br>count=%{y}<extra></extra>\",\"legendgroup\":\"Belgium\",\"marker\":{\"color\":\"#19d3f3\",\"pattern\":{\"shape\":\"\"}},\"name\":\"Belgium\",\"offsetgroup\":\"Belgium\",\"orientation\":\"v\",\"showlegend\":true,\"text\":[\"Belgium\",\"Belgium\",\"Belgium\",\"Belgium\",\"Belgium\",\"Belgium\"],\"textposition\":\"auto\",\"x\":[\"age group 11-19\",\"age group 20-29\",\"age group 30-39\",\"age group 40-49\",\"age group 50-59\",\"age group > 60\"],\"xaxis\":\"x\",\"y\":[7,456,61,24,8,12],\"yaxis\":\"y\",\"type\":\"bar\"}],                        {\"template\":{\"data\":{\"histogram2dcontour\":[{\"type\":\"histogram2dcontour\",\"colorbar\":{\"outlinewidth\":0,\"ticks\":\"\"},\"colorscale\":[[0.0,\"#0d0887\"],[0.1111111111111111,\"#46039f\"],[0.2222222222222222,\"#7201a8\"],[0.3333333333333333,\"#9c179e\"],[0.4444444444444444,\"#bd3786\"],[0.5555555555555556,\"#d8576b\"],[0.6666666666666666,\"#ed7953\"],[0.7777777777777778,\"#fb9f3a\"],[0.8888888888888888,\"#fdca26\"],[1.0,\"#f0f921\"]]}],\"choropleth\":[{\"type\":\"choropleth\",\"colorbar\":{\"outlinewidth\":0,\"ticks\":\"\"}}],\"histogram2d\":[{\"type\":\"histogram2d\",\"colorbar\":{\"outlinewidth\":0,\"ticks\":\"\"},\"colorscale\":[[0.0,\"#0d0887\"],[0.1111111111111111,\"#46039f\"],[0.2222222222222222,\"#7201a8\"],[0.3333333333333333,\"#9c179e\"],[0.4444444444444444,\"#bd3786\"],[0.5555555555555556,\"#d8576b\"],[0.6666666666666666,\"#ed7953\"],[0.7777777777777778,\"#fb9f3a\"],[0.8888888888888888,\"#fdca26\"],[1.0,\"#f0f921\"]]}],\"heatmap\":[{\"type\":\"heatmap\",\"colorbar\":{\"outlinewidth\":0,\"ticks\":\"\"},\"colorscale\":[[0.0,\"#0d0887\"],[0.1111111111111111,\"#46039f\"],[0.2222222222222222,\"#7201a8\"],[0.3333333333333333,\"#9c179e\"],[0.4444444444444444,\"#bd3786\"],[0.5555555555555556,\"#d8576b\"],[0.6666666666666666,\"#ed7953\"],[0.7777777777777778,\"#fb9f3a\"],[0.8888888888888888,\"#fdca26\"],[1.0,\"#f0f921\"]]}],\"heatmapgl\":[{\"type\":\"heatmapgl\",\"colorbar\":{\"outlinewidth\":0,\"ticks\":\"\"},\"colorscale\":[[0.0,\"#0d0887\"],[0.1111111111111111,\"#46039f\"],[0.2222222222222222,\"#7201a8\"],[0.3333333333333333,\"#9c179e\"],[0.4444444444444444,\"#bd3786\"],[0.5555555555555556,\"#d8576b\"],[0.6666666666666666,\"#ed7953\"],[0.7777777777777778,\"#fb9f3a\"],[0.8888888888888888,\"#fdca26\"],[1.0,\"#f0f921\"]]}],\"contourcarpet\":[{\"type\":\"contourcarpet\",\"colorbar\":{\"outlinewidth\":0,\"ticks\":\"\"}}],\"contour\":[{\"type\":\"contour\",\"colorbar\":{\"outlinewidth\":0,\"ticks\":\"\"},\"colorscale\":[[0.0,\"#0d0887\"],[0.1111111111111111,\"#46039f\"],[0.2222222222222222,\"#7201a8\"],[0.3333333333333333,\"#9c179e\"],[0.4444444444444444,\"#bd3786\"],[0.5555555555555556,\"#d8576b\"],[0.6666666666666666,\"#ed7953\"],[0.7777777777777778,\"#fb9f3a\"],[0.8888888888888888,\"#fdca26\"],[1.0,\"#f0f921\"]]}],\"surface\":[{\"type\":\"surface\",\"colorbar\":{\"outlinewidth\":0,\"ticks\":\"\"},\"colorscale\":[[0.0,\"#0d0887\"],[0.1111111111111111,\"#46039f\"],[0.2222222222222222,\"#7201a8\"],[0.3333333333333333,\"#9c179e\"],[0.4444444444444444,\"#bd3786\"],[0.5555555555555556,\"#d8576b\"],[0.6666666666666666,\"#ed7953\"],[0.7777777777777778,\"#fb9f3a\"],[0.8888888888888888,\"#fdca26\"],[1.0,\"#f0f921\"]]}],\"mesh3d\":[{\"type\":\"mesh3d\",\"colorbar\":{\"outlinewidth\":0,\"ticks\":\"\"}}],\"scatter\":[{\"fillpattern\":{\"fillmode\":\"overlay\",\"size\":10,\"solidity\":0.2},\"type\":\"scatter\"}],\"parcoords\":[{\"type\":\"parcoords\",\"line\":{\"colorbar\":{\"outlinewidth\":0,\"ticks\":\"\"}}}],\"scatterpolargl\":[{\"type\":\"scatterpolargl\",\"marker\":{\"colorbar\":{\"outlinewidth\":0,\"ticks\":\"\"}}}],\"bar\":[{\"error_x\":{\"color\":\"#2a3f5f\"},\"error_y\":{\"color\":\"#2a3f5f\"},\"marker\":{\"line\":{\"color\":\"#E5ECF6\",\"width\":0.5},\"pattern\":{\"fillmode\":\"overlay\",\"size\":10,\"solidity\":0.2}},\"type\":\"bar\"}],\"scattergeo\":[{\"type\":\"scattergeo\",\"marker\":{\"colorbar\":{\"outlinewidth\":0,\"ticks\":\"\"}}}],\"scatterpolar\":[{\"type\":\"scatterpolar\",\"marker\":{\"colorbar\":{\"outlinewidth\":0,\"ticks\":\"\"}}}],\"histogram\":[{\"marker\":{\"pattern\":{\"fillmode\":\"overlay\",\"size\":10,\"solidity\":0.2}},\"type\":\"histogram\"}],\"scattergl\":[{\"type\":\"scattergl\",\"marker\":{\"colorbar\":{\"outlinewidth\":0,\"ticks\":\"\"}}}],\"scatter3d\":[{\"type\":\"scatter3d\",\"line\":{\"colorbar\":{\"outlinewidth\":0,\"ticks\":\"\"}},\"marker\":{\"colorbar\":{\"outlinewidth\":0,\"ticks\":\"\"}}}],\"scattermapbox\":[{\"type\":\"scattermapbox\",\"marker\":{\"colorbar\":{\"outlinewidth\":0,\"ticks\":\"\"}}}],\"scatterternary\":[{\"type\":\"scatterternary\",\"marker\":{\"colorbar\":{\"outlinewidth\":0,\"ticks\":\"\"}}}],\"scattercarpet\":[{\"type\":\"scattercarpet\",\"marker\":{\"colorbar\":{\"outlinewidth\":0,\"ticks\":\"\"}}}],\"carpet\":[{\"aaxis\":{\"endlinecolor\":\"#2a3f5f\",\"gridcolor\":\"white\",\"linecolor\":\"white\",\"minorgridcolor\":\"white\",\"startlinecolor\":\"#2a3f5f\"},\"baxis\":{\"endlinecolor\":\"#2a3f5f\",\"gridcolor\":\"white\",\"linecolor\":\"white\",\"minorgridcolor\":\"white\",\"startlinecolor\":\"#2a3f5f\"},\"type\":\"carpet\"}],\"table\":[{\"cells\":{\"fill\":{\"color\":\"#EBF0F8\"},\"line\":{\"color\":\"white\"}},\"header\":{\"fill\":{\"color\":\"#C8D4E3\"},\"line\":{\"color\":\"white\"}},\"type\":\"table\"}],\"barpolar\":[{\"marker\":{\"line\":{\"color\":\"#E5ECF6\",\"width\":0.5},\"pattern\":{\"fillmode\":\"overlay\",\"size\":10,\"solidity\":0.2}},\"type\":\"barpolar\"}],\"pie\":[{\"automargin\":true,\"type\":\"pie\"}]},\"layout\":{\"autotypenumbers\":\"strict\",\"colorway\":[\"#636efa\",\"#EF553B\",\"#00cc96\",\"#ab63fa\",\"#FFA15A\",\"#19d3f3\",\"#FF6692\",\"#B6E880\",\"#FF97FF\",\"#FECB52\"],\"font\":{\"color\":\"#2a3f5f\"},\"hovermode\":\"closest\",\"hoverlabel\":{\"align\":\"left\"},\"paper_bgcolor\":\"white\",\"plot_bgcolor\":\"#E5ECF6\",\"polar\":{\"bgcolor\":\"#E5ECF6\",\"angularaxis\":{\"gridcolor\":\"white\",\"linecolor\":\"white\",\"ticks\":\"\"},\"radialaxis\":{\"gridcolor\":\"white\",\"linecolor\":\"white\",\"ticks\":\"\"}},\"ternary\":{\"bgcolor\":\"#E5ECF6\",\"aaxis\":{\"gridcolor\":\"white\",\"linecolor\":\"white\",\"ticks\":\"\"},\"baxis\":{\"gridcolor\":\"white\",\"linecolor\":\"white\",\"ticks\":\"\"},\"caxis\":{\"gridcolor\":\"white\",\"linecolor\":\"white\",\"ticks\":\"\"}},\"coloraxis\":{\"colorbar\":{\"outlinewidth\":0,\"ticks\":\"\"}},\"colorscale\":{\"sequential\":[[0.0,\"#0d0887\"],[0.1111111111111111,\"#46039f\"],[0.2222222222222222,\"#7201a8\"],[0.3333333333333333,\"#9c179e\"],[0.4444444444444444,\"#bd3786\"],[0.5555555555555556,\"#d8576b\"],[0.6666666666666666,\"#ed7953\"],[0.7777777777777778,\"#fb9f3a\"],[0.8888888888888888,\"#fdca26\"],[1.0,\"#f0f921\"]],\"sequentialminus\":[[0.0,\"#0d0887\"],[0.1111111111111111,\"#46039f\"],[0.2222222222222222,\"#7201a8\"],[0.3333333333333333,\"#9c179e\"],[0.4444444444444444,\"#bd3786\"],[0.5555555555555556,\"#d8576b\"],[0.6666666666666666,\"#ed7953\"],[0.7777777777777778,\"#fb9f3a\"],[0.8888888888888888,\"#fdca26\"],[1.0,\"#f0f921\"]],\"diverging\":[[0,\"#8e0152\"],[0.1,\"#c51b7d\"],[0.2,\"#de77ae\"],[0.3,\"#f1b6da\"],[0.4,\"#fde0ef\"],[0.5,\"#f7f7f7\"],[0.6,\"#e6f5d0\"],[0.7,\"#b8e186\"],[0.8,\"#7fbc41\"],[0.9,\"#4d9221\"],[1,\"#276419\"]]},\"xaxis\":{\"gridcolor\":\"white\",\"linecolor\":\"white\",\"ticks\":\"\",\"title\":{\"standoff\":15},\"zerolinecolor\":\"white\",\"automargin\":true,\"zerolinewidth\":2},\"yaxis\":{\"gridcolor\":\"white\",\"linecolor\":\"white\",\"ticks\":\"\",\"title\":{\"standoff\":15},\"zerolinecolor\":\"white\",\"automargin\":true,\"zerolinewidth\":2},\"scene\":{\"xaxis\":{\"backgroundcolor\":\"#E5ECF6\",\"gridcolor\":\"white\",\"linecolor\":\"white\",\"showbackground\":true,\"ticks\":\"\",\"zerolinecolor\":\"white\",\"gridwidth\":2},\"yaxis\":{\"backgroundcolor\":\"#E5ECF6\",\"gridcolor\":\"white\",\"linecolor\":\"white\",\"showbackground\":true,\"ticks\":\"\",\"zerolinecolor\":\"white\",\"gridwidth\":2},\"zaxis\":{\"backgroundcolor\":\"#E5ECF6\",\"gridcolor\":\"white\",\"linecolor\":\"white\",\"showbackground\":true,\"ticks\":\"\",\"zerolinecolor\":\"white\",\"gridwidth\":2}},\"shapedefaults\":{\"line\":{\"color\":\"#2a3f5f\"}},\"annotationdefaults\":{\"arrowcolor\":\"#2a3f5f\",\"arrowhead\":0,\"arrowwidth\":1},\"geo\":{\"bgcolor\":\"white\",\"landcolor\":\"#E5ECF6\",\"subunitcolor\":\"white\",\"showland\":true,\"showlakes\":true,\"lakecolor\":\"white\"},\"title\":{\"x\":0.05},\"mapbox\":{\"style\":\"light\"}}},\"xaxis\":{\"anchor\":\"y\",\"domain\":[0.0,1.0],\"title\":{\"text\":\"Age Category\"}},\"yaxis\":{\"anchor\":\"x\",\"domain\":[0.0,1.0],\"title\":{\"text\":\"Count\"}},\"legend\":{\"title\":{\"text\":\"Country\"},\"tracegroupgap\":0},\"title\":{\"text\":\"Distribution of Books by Age Category per Country\"},\"barmode\":\"relative\"},                        {\"responsive\": true}                    ).then(function(){\n",
       "                            \n",
       "var gd = document.getElementById('c768fc27-d838-4609-bb2e-957a8c51814d');\n",
       "var x = new MutationObserver(function (mutations, observer) {{\n",
       "        var display = window.getComputedStyle(gd).display;\n",
       "        if (!display || display === 'none') {{\n",
       "            console.log([gd, 'removed!']);\n",
       "            Plotly.purge(gd);\n",
       "            observer.disconnect();\n",
       "        }}\n",
       "}});\n",
       "\n",
       "// Listen for the removal of the full notebook cells\n",
       "var notebookContainer = gd.closest('#notebook-container');\n",
       "if (notebookContainer) {{\n",
       "    x.observe(notebookContainer, {childList: true});\n",
       "}}\n",
       "\n",
       "// Listen for the clearing of the current output cell\n",
       "var outputEl = gd.closest('.output');\n",
       "if (outputEl) {{\n",
       "    x.observe(outputEl, {childList: true});\n",
       "}}\n",
       "\n",
       "                        })                };                });            </script>        </div>"
      ]
     },
     "metadata": {},
     "output_type": "display_data"
    }
   ],
   "source": [
    "age_group2 = temp2.groupby(['Country', 'age_category']).size().reset_index(name='count').sort_values(by='age_category', ascending=True)\n",
    "\n",
    "fig_ = px.bar(age_group2,\n",
    "              x='age_category',\n",
    "              y='count',\n",
    "              color=\"Country\",\n",
    "              color_continuous_scale = px.colors.sequential.Viridis,\n",
    "              title=\"Distribution of Books by Age Category per Country\", text='Country')\n",
    "\n",
    "fig_.update_layout(xaxis_title='Age Category', yaxis_title='Count')\n",
    "\n",
    "fig_.show()"
   ]
  },
  {
   "cell_type": "code",
   "execution_count": 126,
   "id": "7de0f4cb",
   "metadata": {},
   "outputs": [
    {
     "data": {
      "text/html": [
       "<div>\n",
       "<style scoped>\n",
       "    .dataframe tbody tr th:only-of-type {\n",
       "        vertical-align: middle;\n",
       "    }\n",
       "\n",
       "    .dataframe tbody tr th {\n",
       "        vertical-align: top;\n",
       "    }\n",
       "\n",
       "    .dataframe thead th {\n",
       "        text-align: right;\n",
       "    }\n",
       "</style>\n",
       "<table border=\"1\" class=\"dataframe\">\n",
       "  <thead>\n",
       "    <tr style=\"text-align: right;\">\n",
       "      <th></th>\n",
       "      <th>Country</th>\n",
       "      <th>Book-Title</th>\n",
       "      <th>count</th>\n",
       "    </tr>\n",
       "  </thead>\n",
       "  <tbody>\n",
       "    <tr>\n",
       "      <th>43544</th>\n",
       "      <td>United Kingdom</td>\n",
       "      <td>Wild Animus</td>\n",
       "      <td>199</td>\n",
       "    </tr>\n",
       "    <tr>\n",
       "      <th>17077</th>\n",
       "      <td>Germany</td>\n",
       "      <td>Wild Animus</td>\n",
       "      <td>141</td>\n",
       "    </tr>\n",
       "    <tr>\n",
       "      <th>27314</th>\n",
       "      <td>United Kingdom</td>\n",
       "      <td>Bridget Jones s Diary</td>\n",
       "      <td>105</td>\n",
       "    </tr>\n",
       "    <tr>\n",
       "      <th>27826</th>\n",
       "      <td>United Kingdom</td>\n",
       "      <td>Chocolat</td>\n",
       "      <td>97</td>\n",
       "    </tr>\n",
       "    <tr>\n",
       "      <th>33709</th>\n",
       "      <td>United Kingdom</td>\n",
       "      <td>Memoirs of a Geisha Uk</td>\n",
       "      <td>73</td>\n",
       "    </tr>\n",
       "    <tr>\n",
       "      <th>...</th>\n",
       "      <td>...</td>\n",
       "      <td>...</td>\n",
       "      <td>...</td>\n",
       "    </tr>\n",
       "    <tr>\n",
       "      <th>17437</th>\n",
       "      <td>Germany</td>\n",
       "      <td>iI Paradiso Degli Orchi</td>\n",
       "      <td>1</td>\n",
       "    </tr>\n",
       "    <tr>\n",
       "      <th>17438</th>\n",
       "      <td>Germany</td>\n",
       "      <td>innenseiten des kriegs</td>\n",
       "      <td>1</td>\n",
       "    </tr>\n",
       "    <tr>\n",
       "      <th>17440</th>\n",
       "      <td>Germany</td>\n",
       "      <td>men i hvert fald i live</td>\n",
       "      <td>1</td>\n",
       "    </tr>\n",
       "    <tr>\n",
       "      <th>17441</th>\n",
       "      <td>Germany</td>\n",
       "      <td>name the baby</td>\n",
       "      <td>1</td>\n",
       "    </tr>\n",
       "    <tr>\n",
       "      <th>43962</th>\n",
       "      <td>United Kingdom</td>\n",
       "      <td>voyage fatal</td>\n",
       "      <td>1</td>\n",
       "    </tr>\n",
       "  </tbody>\n",
       "</table>\n",
       "<p>43963 rows × 3 columns</p>\n",
       "</div>"
      ],
      "text/plain": [
       "              Country               Book-Title  count\n",
       "43544  United Kingdom              Wild Animus    199\n",
       "17077         Germany              Wild Animus    141\n",
       "27314  United Kingdom    Bridget Jones s Diary    105\n",
       "27826  United Kingdom                 Chocolat     97\n",
       "33709  United Kingdom   Memoirs of a Geisha Uk     73\n",
       "...               ...                      ...    ...\n",
       "17437         Germany  iI Paradiso Degli Orchi      1\n",
       "17438         Germany   innenseiten des kriegs      1\n",
       "17440         Germany  men i hvert fald i live      1\n",
       "17441         Germany            name the baby      1\n",
       "43962  United Kingdom             voyage fatal      1\n",
       "\n",
       "[43963 rows x 3 columns]"
      ]
     },
     "execution_count": 126,
     "metadata": {},
     "output_type": "execute_result"
    }
   ],
   "source": [
    "top_books2 = dataviz2.groupby(['Country', 'Book-Title']).size().reset_index(name='count').sort_values(by='count', ascending=False)\n",
    "top_books2"
   ]
  },
  {
   "cell_type": "code",
   "execution_count": 132,
   "id": "80d3f961",
   "metadata": {},
   "outputs": [
    {
     "data": {
      "text/html": [
       "<div>\n",
       "<style scoped>\n",
       "    .dataframe tbody tr th:only-of-type {\n",
       "        vertical-align: middle;\n",
       "    }\n",
       "\n",
       "    .dataframe tbody tr th {\n",
       "        vertical-align: top;\n",
       "    }\n",
       "\n",
       "    .dataframe thead th {\n",
       "        text-align: right;\n",
       "    }\n",
       "</style>\n",
       "<table border=\"1\" class=\"dataframe\">\n",
       "  <thead>\n",
       "    <tr style=\"text-align: right;\">\n",
       "      <th></th>\n",
       "      <th>Country</th>\n",
       "      <th>Book-Title</th>\n",
       "      <th>count</th>\n",
       "    </tr>\n",
       "  </thead>\n",
       "  <tbody>\n",
       "    <tr>\n",
       "      <th>0</th>\n",
       "      <td>Austria</td>\n",
       "      <td>Wild Animus</td>\n",
       "      <td>20</td>\n",
       "    </tr>\n",
       "    <tr>\n",
       "      <th>1</th>\n",
       "      <td>Austria</td>\n",
       "      <td>Sex and the City</td>\n",
       "      <td>7</td>\n",
       "    </tr>\n",
       "    <tr>\n",
       "      <th>2</th>\n",
       "      <td>Austria</td>\n",
       "      <td>Der Keltische Ring</td>\n",
       "      <td>6</td>\n",
       "    </tr>\n",
       "    <tr>\n",
       "      <th>3</th>\n",
       "      <td>Austria</td>\n",
       "      <td>Die sprechende Maske Roman</td>\n",
       "      <td>6</td>\n",
       "    </tr>\n",
       "    <tr>\n",
       "      <th>4</th>\n",
       "      <td>Austria</td>\n",
       "      <td>Stupid White Men Eine Abrechnung mit dem Ameri...</td>\n",
       "      <td>6</td>\n",
       "    </tr>\n",
       "    <tr>\n",
       "      <th>5</th>\n",
       "      <td>Austria</td>\n",
       "      <td>Warum MÃ Â nner nicht zuhÃ Â ren und Frauen sc...</td>\n",
       "      <td>6</td>\n",
       "    </tr>\n",
       "    <tr>\n",
       "      <th>6</th>\n",
       "      <td>Austria</td>\n",
       "      <td>Das Haus der WÃ Â lfe</td>\n",
       "      <td>5</td>\n",
       "    </tr>\n",
       "    <tr>\n",
       "      <th>7</th>\n",
       "      <td>Austria</td>\n",
       "      <td>Der Hahn ist tot Roman</td>\n",
       "      <td>5</td>\n",
       "    </tr>\n",
       "    <tr>\n",
       "      <th>8</th>\n",
       "      <td>Austria</td>\n",
       "      <td>Die Verbrechen der Charlotte Bronte und das Ge...</td>\n",
       "      <td>5</td>\n",
       "    </tr>\n",
       "    <tr>\n",
       "      <th>9</th>\n",
       "      <td>Austria</td>\n",
       "      <td>Die WeltenzerstÃ Â rer Ein Darkover Roman</td>\n",
       "      <td>5</td>\n",
       "    </tr>\n",
       "    <tr>\n",
       "      <th>10</th>\n",
       "      <td>Belgium</td>\n",
       "      <td>Wild Animus</td>\n",
       "      <td>8</td>\n",
       "    </tr>\n",
       "    <tr>\n",
       "      <th>11</th>\n",
       "      <td>Belgium</td>\n",
       "      <td>Et Si C Etait Vrai If This Were Only True</td>\n",
       "      <td>3</td>\n",
       "    </tr>\n",
       "    <tr>\n",
       "      <th>12</th>\n",
       "      <td>Belgium</td>\n",
       "      <td>Les Combustibles</td>\n",
       "      <td>3</td>\n",
       "    </tr>\n",
       "    <tr>\n",
       "      <th>13</th>\n",
       "      <td>Belgium</td>\n",
       "      <td>Stupeur Et Tremblements</td>\n",
       "      <td>3</td>\n",
       "    </tr>\n",
       "    <tr>\n",
       "      <th>14</th>\n",
       "      <td>Belgium</td>\n",
       "      <td>Adventures of Sherlock Holmes Wordsworth Colle...</td>\n",
       "      <td>2</td>\n",
       "    </tr>\n",
       "    <tr>\n",
       "      <th>15</th>\n",
       "      <td>Belgium</td>\n",
       "      <td>Are You Experienced</td>\n",
       "      <td>2</td>\n",
       "    </tr>\n",
       "    <tr>\n",
       "      <th>16</th>\n",
       "      <td>Belgium</td>\n",
       "      <td>Baldur s Gate II Shadows of Amn Forgotten Real...</td>\n",
       "      <td>2</td>\n",
       "    </tr>\n",
       "    <tr>\n",
       "      <th>17</th>\n",
       "      <td>Belgium</td>\n",
       "      <td>Comme un roman</td>\n",
       "      <td>2</td>\n",
       "    </tr>\n",
       "    <tr>\n",
       "      <th>18</th>\n",
       "      <td>Belgium</td>\n",
       "      <td>Coraline</td>\n",
       "      <td>2</td>\n",
       "    </tr>\n",
       "    <tr>\n",
       "      <th>19</th>\n",
       "      <td>Belgium</td>\n",
       "      <td>Dead Zone</td>\n",
       "      <td>2</td>\n",
       "    </tr>\n",
       "    <tr>\n",
       "      <th>20</th>\n",
       "      <td>Germany</td>\n",
       "      <td>Wild Animus</td>\n",
       "      <td>141</td>\n",
       "    </tr>\n",
       "    <tr>\n",
       "      <th>21</th>\n",
       "      <td>Germany</td>\n",
       "      <td>Russendisko</td>\n",
       "      <td>53</td>\n",
       "    </tr>\n",
       "    <tr>\n",
       "      <th>22</th>\n",
       "      <td>Germany</td>\n",
       "      <td>Der Vorleser</td>\n",
       "      <td>50</td>\n",
       "    </tr>\n",
       "    <tr>\n",
       "      <th>23</th>\n",
       "      <td>Germany</td>\n",
       "      <td>Stupid White Men Eine Abrechnung mit dem Ameri...</td>\n",
       "      <td>48</td>\n",
       "    </tr>\n",
       "    <tr>\n",
       "      <th>24</th>\n",
       "      <td>Germany</td>\n",
       "      <td>Illuminati</td>\n",
       "      <td>45</td>\n",
       "    </tr>\n",
       "    <tr>\n",
       "      <th>25</th>\n",
       "      <td>Germany</td>\n",
       "      <td>Generation Golf Eine Inspektion</td>\n",
       "      <td>43</td>\n",
       "    </tr>\n",
       "    <tr>\n",
       "      <th>26</th>\n",
       "      <td>Germany</td>\n",
       "      <td>Lauf Jane lauf Roman</td>\n",
       "      <td>42</td>\n",
       "    </tr>\n",
       "    <tr>\n",
       "      <th>27</th>\n",
       "      <td>Germany</td>\n",
       "      <td>MÃ Â rder ohne Gesicht</td>\n",
       "      <td>40</td>\n",
       "    </tr>\n",
       "    <tr>\n",
       "      <th>28</th>\n",
       "      <td>Germany</td>\n",
       "      <td>Die PÃ Â pstin</td>\n",
       "      <td>39</td>\n",
       "    </tr>\n",
       "    <tr>\n",
       "      <th>29</th>\n",
       "      <td>Germany</td>\n",
       "      <td>Das Parfum Die Geschichte Eines Morders</td>\n",
       "      <td>38</td>\n",
       "    </tr>\n",
       "    <tr>\n",
       "      <th>30</th>\n",
       "      <td>Portugal</td>\n",
       "      <td>Wild Animus</td>\n",
       "      <td>47</td>\n",
       "    </tr>\n",
       "    <tr>\n",
       "      <th>31</th>\n",
       "      <td>Portugal</td>\n",
       "      <td>The Da Vinci Code</td>\n",
       "      <td>21</td>\n",
       "    </tr>\n",
       "    <tr>\n",
       "      <th>32</th>\n",
       "      <td>Portugal</td>\n",
       "      <td>Girl with a Pearl Earring</td>\n",
       "      <td>20</td>\n",
       "    </tr>\n",
       "    <tr>\n",
       "      <th>33</th>\n",
       "      <td>Portugal</td>\n",
       "      <td>The Red Notebook True Stories</td>\n",
       "      <td>16</td>\n",
       "    </tr>\n",
       "    <tr>\n",
       "      <th>34</th>\n",
       "      <td>Portugal</td>\n",
       "      <td>Balzac and the Little Chinese Seamstress A Novel</td>\n",
       "      <td>14</td>\n",
       "    </tr>\n",
       "    <tr>\n",
       "      <th>35</th>\n",
       "      <td>Portugal</td>\n",
       "      <td>Once upon a More Enlightened Time More Politic...</td>\n",
       "      <td>14</td>\n",
       "    </tr>\n",
       "    <tr>\n",
       "      <th>36</th>\n",
       "      <td>Portugal</td>\n",
       "      <td>The Hours A Novel</td>\n",
       "      <td>14</td>\n",
       "    </tr>\n",
       "    <tr>\n",
       "      <th>37</th>\n",
       "      <td>Portugal</td>\n",
       "      <td>Coraline</td>\n",
       "      <td>13</td>\n",
       "    </tr>\n",
       "    <tr>\n",
       "      <th>38</th>\n",
       "      <td>Portugal</td>\n",
       "      <td>Ulysses Modern Library</td>\n",
       "      <td>13</td>\n",
       "    </tr>\n",
       "    <tr>\n",
       "      <th>39</th>\n",
       "      <td>Portugal</td>\n",
       "      <td>The Waves</td>\n",
       "      <td>12</td>\n",
       "    </tr>\n",
       "    <tr>\n",
       "      <th>40</th>\n",
       "      <td>Switzerland</td>\n",
       "      <td>Eine Frau Eine Wohnung Ein Roman</td>\n",
       "      <td>15</td>\n",
       "    </tr>\n",
       "    <tr>\n",
       "      <th>41</th>\n",
       "      <td>Switzerland</td>\n",
       "      <td>Wild Animus</td>\n",
       "      <td>10</td>\n",
       "    </tr>\n",
       "    <tr>\n",
       "      <th>42</th>\n",
       "      <td>Switzerland</td>\n",
       "      <td>Monsieur Ibrahim und die Blumen des Koran ErzÃ...</td>\n",
       "      <td>9</td>\n",
       "    </tr>\n",
       "    <tr>\n",
       "      <th>43</th>\n",
       "      <td>Switzerland</td>\n",
       "      <td>MÃ Â rder ohne Gesicht</td>\n",
       "      <td>9</td>\n",
       "    </tr>\n",
       "    <tr>\n",
       "      <th>44</th>\n",
       "      <td>Switzerland</td>\n",
       "      <td>Der Vorleser</td>\n",
       "      <td>8</td>\n",
       "    </tr>\n",
       "    <tr>\n",
       "      <th>45</th>\n",
       "      <td>Switzerland</td>\n",
       "      <td>Illuminati</td>\n",
       "      <td>8</td>\n",
       "    </tr>\n",
       "    <tr>\n",
       "      <th>46</th>\n",
       "      <td>Switzerland</td>\n",
       "      <td>Les Fourmis</td>\n",
       "      <td>8</td>\n",
       "    </tr>\n",
       "    <tr>\n",
       "      <th>47</th>\n",
       "      <td>Switzerland</td>\n",
       "      <td>Venezianisches Finale Commissario Brunettis er...</td>\n",
       "      <td>8</td>\n",
       "    </tr>\n",
       "    <tr>\n",
       "      <th>48</th>\n",
       "      <td>Switzerland</td>\n",
       "      <td>Schlafes Bruder</td>\n",
       "      <td>7</td>\n",
       "    </tr>\n",
       "    <tr>\n",
       "      <th>49</th>\n",
       "      <td>Switzerland</td>\n",
       "      <td>1984</td>\n",
       "      <td>6</td>\n",
       "    </tr>\n",
       "    <tr>\n",
       "      <th>50</th>\n",
       "      <td>United Kingdom</td>\n",
       "      <td>Wild Animus</td>\n",
       "      <td>199</td>\n",
       "    </tr>\n",
       "    <tr>\n",
       "      <th>51</th>\n",
       "      <td>United Kingdom</td>\n",
       "      <td>Bridget Jones s Diary</td>\n",
       "      <td>105</td>\n",
       "    </tr>\n",
       "    <tr>\n",
       "      <th>52</th>\n",
       "      <td>United Kingdom</td>\n",
       "      <td>Chocolat</td>\n",
       "      <td>97</td>\n",
       "    </tr>\n",
       "    <tr>\n",
       "      <th>53</th>\n",
       "      <td>United Kingdom</td>\n",
       "      <td>Memoirs of a Geisha Uk</td>\n",
       "      <td>73</td>\n",
       "    </tr>\n",
       "    <tr>\n",
       "      <th>54</th>\n",
       "      <td>United Kingdom</td>\n",
       "      <td>Dead Famous</td>\n",
       "      <td>66</td>\n",
       "    </tr>\n",
       "    <tr>\n",
       "      <th>55</th>\n",
       "      <td>United Kingdom</td>\n",
       "      <td>Northern Lights His Dark Materials S</td>\n",
       "      <td>63</td>\n",
       "    </tr>\n",
       "    <tr>\n",
       "      <th>56</th>\n",
       "      <td>United Kingdom</td>\n",
       "      <td>Billy</td>\n",
       "      <td>51</td>\n",
       "    </tr>\n",
       "    <tr>\n",
       "      <th>57</th>\n",
       "      <td>United Kingdom</td>\n",
       "      <td>Notes From a Small Planet</td>\n",
       "      <td>50</td>\n",
       "    </tr>\n",
       "    <tr>\n",
       "      <th>58</th>\n",
       "      <td>United Kingdom</td>\n",
       "      <td>Angelas Ashes</td>\n",
       "      <td>48</td>\n",
       "    </tr>\n",
       "    <tr>\n",
       "      <th>59</th>\n",
       "      <td>United Kingdom</td>\n",
       "      <td>Free</td>\n",
       "      <td>48</td>\n",
       "    </tr>\n",
       "  </tbody>\n",
       "</table>\n",
       "</div>"
      ],
      "text/plain": [
       "           Country                                         Book-Title  count\n",
       "0          Austria                                        Wild Animus     20\n",
       "1          Austria                                   Sex and the City      7\n",
       "2          Austria                                 Der Keltische Ring      6\n",
       "3          Austria                         Die sprechende Maske Roman      6\n",
       "4          Austria  Stupid White Men Eine Abrechnung mit dem Ameri...      6\n",
       "5          Austria  Warum MÃ Â nner nicht zuhÃ Â ren und Frauen sc...      6\n",
       "6          Austria                              Das Haus der WÃ Â lfe      5\n",
       "7          Austria                             Der Hahn ist tot Roman      5\n",
       "8          Austria  Die Verbrechen der Charlotte Bronte und das Ge...      5\n",
       "9          Austria          Die WeltenzerstÃ Â rer Ein Darkover Roman      5\n",
       "10         Belgium                                        Wild Animus      8\n",
       "11         Belgium          Et Si C Etait Vrai If This Were Only True      3\n",
       "12         Belgium                                   Les Combustibles      3\n",
       "13         Belgium                            Stupeur Et Tremblements      3\n",
       "14         Belgium  Adventures of Sherlock Holmes Wordsworth Colle...      2\n",
       "15         Belgium                                Are You Experienced      2\n",
       "16         Belgium  Baldur s Gate II Shadows of Amn Forgotten Real...      2\n",
       "17         Belgium                                     Comme un roman      2\n",
       "18         Belgium                                           Coraline      2\n",
       "19         Belgium                                          Dead Zone      2\n",
       "20         Germany                                        Wild Animus    141\n",
       "21         Germany                                        Russendisko     53\n",
       "22         Germany                                       Der Vorleser     50\n",
       "23         Germany  Stupid White Men Eine Abrechnung mit dem Ameri...     48\n",
       "24         Germany                                         Illuminati     45\n",
       "25         Germany                    Generation Golf Eine Inspektion     43\n",
       "26         Germany                               Lauf Jane lauf Roman     42\n",
       "27         Germany                             MÃ Â rder ohne Gesicht     40\n",
       "28         Germany                                     Die PÃ Â pstin     39\n",
       "29         Germany            Das Parfum Die Geschichte Eines Morders     38\n",
       "30        Portugal                                        Wild Animus     47\n",
       "31        Portugal                                  The Da Vinci Code     21\n",
       "32        Portugal                          Girl with a Pearl Earring     20\n",
       "33        Portugal                      The Red Notebook True Stories     16\n",
       "34        Portugal   Balzac and the Little Chinese Seamstress A Novel     14\n",
       "35        Portugal  Once upon a More Enlightened Time More Politic...     14\n",
       "36        Portugal                                  The Hours A Novel     14\n",
       "37        Portugal                                           Coraline     13\n",
       "38        Portugal                             Ulysses Modern Library     13\n",
       "39        Portugal                                          The Waves     12\n",
       "40     Switzerland                   Eine Frau Eine Wohnung Ein Roman     15\n",
       "41     Switzerland                                        Wild Animus     10\n",
       "42     Switzerland  Monsieur Ibrahim und die Blumen des Koran ErzÃ...      9\n",
       "43     Switzerland                             MÃ Â rder ohne Gesicht      9\n",
       "44     Switzerland                                       Der Vorleser      8\n",
       "45     Switzerland                                         Illuminati      8\n",
       "46     Switzerland                                        Les Fourmis      8\n",
       "47     Switzerland  Venezianisches Finale Commissario Brunettis er...      8\n",
       "48     Switzerland                                    Schlafes Bruder      7\n",
       "49     Switzerland                                               1984      6\n",
       "50  United Kingdom                                        Wild Animus    199\n",
       "51  United Kingdom                              Bridget Jones s Diary    105\n",
       "52  United Kingdom                                           Chocolat     97\n",
       "53  United Kingdom                             Memoirs of a Geisha Uk     73\n",
       "54  United Kingdom                                        Dead Famous     66\n",
       "55  United Kingdom               Northern Lights His Dark Materials S     63\n",
       "56  United Kingdom                                              Billy     51\n",
       "57  United Kingdom                          Notes From a Small Planet     50\n",
       "58  United Kingdom                                      Angelas Ashes     48\n",
       "59  United Kingdom                                               Free     48"
      ]
     },
     "execution_count": 132,
     "metadata": {},
     "output_type": "execute_result"
    }
   ],
   "source": [
    "top_books_by_country2 = dataviz2.groupby(['Country', 'Book-Title']).size().groupby(level=0).nlargest(10).reset_index(level=0, drop=True).reset_index(name='count')\n",
    "top_books_by_country2"
   ]
  },
  {
   "cell_type": "code",
   "execution_count": 130,
   "id": "6e868455",
   "metadata": {},
   "outputs": [
    {
     "data": {
      "application/vnd.plotly.v1+json": {
       "config": {
        "plotlyServerURL": "https://plot.ly"
       },
       "data": [
        {
         "alignmentgroup": "True",
         "hovertemplate": "Country=Austria<br>count=%{x}<br>Book-Title=%{y}<extra></extra>",
         "legendgroup": "Austria",
         "marker": {
          "color": "#636efa",
          "pattern": {
           "shape": ""
          }
         },
         "name": "Austria",
         "offsetgroup": "Austria",
         "orientation": "h",
         "showlegend": true,
         "textposition": "auto",
         "type": "bar",
         "x": [
          20,
          7,
          6,
          6,
          6,
          6,
          5,
          5,
          5,
          5
         ],
         "xaxis": "x",
         "y": [
          "Wild Animus",
          "Sex and the City",
          "Der Keltische Ring",
          "Die sprechende Maske Roman",
          "Stupid White Men Eine Abrechnung mit dem Amerika unter George W Bush",
          "Warum MÃ Â nner nicht zuhÃ Â ren und Frauen schlecht einparken",
          "Das Haus der WÃ Â lfe",
          "Der Hahn ist tot Roman",
          "Die Verbrechen der Charlotte Bronte und das Geheimnis von Haworth",
          "Die WeltenzerstÃ Â rer Ein Darkover Roman"
         ],
         "yaxis": "y"
        },
        {
         "alignmentgroup": "True",
         "hovertemplate": "Country=Belgium<br>count=%{x}<br>Book-Title=%{y}<extra></extra>",
         "legendgroup": "Belgium",
         "marker": {
          "color": "#EF553B",
          "pattern": {
           "shape": ""
          }
         },
         "name": "Belgium",
         "offsetgroup": "Belgium",
         "orientation": "h",
         "showlegend": true,
         "textposition": "auto",
         "type": "bar",
         "x": [
          8,
          3,
          3,
          3,
          2,
          2,
          2,
          2,
          2,
          2
         ],
         "xaxis": "x",
         "y": [
          "Wild Animus",
          "Et Si C Etait Vrai If This Were Only True",
          "Les Combustibles",
          "Stupeur Et Tremblements",
          "Adventures of Sherlock Holmes Wordsworth Collection",
          "Are You Experienced",
          "Baldur s Gate II Shadows of Amn Forgotten Realms Paperback",
          "Comme un roman",
          "Coraline",
          "Dead Zone"
         ],
         "yaxis": "y"
        },
        {
         "alignmentgroup": "True",
         "hovertemplate": "Country=Germany<br>count=%{x}<br>Book-Title=%{y}<extra></extra>",
         "legendgroup": "Germany",
         "marker": {
          "color": "#00cc96",
          "pattern": {
           "shape": ""
          }
         },
         "name": "Germany",
         "offsetgroup": "Germany",
         "orientation": "h",
         "showlegend": true,
         "textposition": "auto",
         "type": "bar",
         "x": [
          141,
          53,
          50,
          48,
          45,
          43,
          42,
          40,
          39,
          38
         ],
         "xaxis": "x",
         "y": [
          "Wild Animus",
          "Russendisko",
          "Der Vorleser",
          "Stupid White Men Eine Abrechnung mit dem Amerika unter George W Bush",
          "Illuminati",
          "Generation Golf Eine Inspektion",
          "Lauf Jane lauf Roman",
          "MÃ Â rder ohne Gesicht",
          "Die PÃ Â pstin",
          "Das Parfum Die Geschichte Eines Morders"
         ],
         "yaxis": "y"
        },
        {
         "alignmentgroup": "True",
         "hovertemplate": "Country=Portugal<br>count=%{x}<br>Book-Title=%{y}<extra></extra>",
         "legendgroup": "Portugal",
         "marker": {
          "color": "#ab63fa",
          "pattern": {
           "shape": ""
          }
         },
         "name": "Portugal",
         "offsetgroup": "Portugal",
         "orientation": "h",
         "showlegend": true,
         "textposition": "auto",
         "type": "bar",
         "x": [
          47,
          21,
          20,
          16,
          14,
          14,
          14,
          13,
          13,
          12
         ],
         "xaxis": "x",
         "y": [
          "Wild Animus",
          "The Da Vinci Code",
          "Girl with a Pearl Earring",
          "The Red Notebook True Stories",
          "Balzac and the Little Chinese Seamstress A Novel",
          "Once upon a More Enlightened Time More Politically Correct Bedtime Stories",
          "The Hours A Novel",
          "Coraline",
          "Ulysses Modern Library",
          "The Waves"
         ],
         "yaxis": "y"
        },
        {
         "alignmentgroup": "True",
         "hovertemplate": "Country=Switzerland<br>count=%{x}<br>Book-Title=%{y}<extra></extra>",
         "legendgroup": "Switzerland",
         "marker": {
          "color": "#FFA15A",
          "pattern": {
           "shape": ""
          }
         },
         "name": "Switzerland",
         "offsetgroup": "Switzerland",
         "orientation": "h",
         "showlegend": true,
         "textposition": "auto",
         "type": "bar",
         "x": [
          15,
          10,
          9,
          9,
          8,
          8,
          8,
          8,
          7,
          6
         ],
         "xaxis": "x",
         "y": [
          "Eine Frau Eine Wohnung Ein Roman",
          "Wild Animus",
          "Monsieur Ibrahim und die Blumen des Koran ErzÃ Â hlung",
          "MÃ Â rder ohne Gesicht",
          "Der Vorleser",
          "Illuminati",
          "Les Fourmis",
          "Venezianisches Finale Commissario Brunettis erster Fall",
          "Schlafes Bruder",
          "1984"
         ],
         "yaxis": "y"
        },
        {
         "alignmentgroup": "True",
         "hovertemplate": "Country=United Kingdom<br>count=%{x}<br>Book-Title=%{y}<extra></extra>",
         "legendgroup": "United Kingdom",
         "marker": {
          "color": "#19d3f3",
          "pattern": {
           "shape": ""
          }
         },
         "name": "United Kingdom",
         "offsetgroup": "United Kingdom",
         "orientation": "h",
         "showlegend": true,
         "textposition": "auto",
         "type": "bar",
         "x": [
          199,
          105,
          97,
          73,
          66,
          63,
          51,
          50,
          48,
          48
         ],
         "xaxis": "x",
         "y": [
          "Wild Animus",
          "Bridget Jones s Diary",
          "Chocolat",
          "Memoirs of a Geisha Uk",
          "Dead Famous",
          "Northern Lights His Dark Materials S",
          "Billy",
          "Notes From a Small Planet",
          "Angelas Ashes",
          "Free"
         ],
         "yaxis": "y"
        }
       ],
       "layout": {
        "barmode": "relative",
        "height": 700,
        "legend": {
         "title": {
          "text": "Country"
         },
         "tracegroupgap": 0
        },
        "template": {
         "data": {
          "bar": [
           {
            "error_x": {
             "color": "#2a3f5f"
            },
            "error_y": {
             "color": "#2a3f5f"
            },
            "marker": {
             "line": {
              "color": "#E5ECF6",
              "width": 0.5
             },
             "pattern": {
              "fillmode": "overlay",
              "size": 10,
              "solidity": 0.2
             }
            },
            "type": "bar"
           }
          ],
          "barpolar": [
           {
            "marker": {
             "line": {
              "color": "#E5ECF6",
              "width": 0.5
             },
             "pattern": {
              "fillmode": "overlay",
              "size": 10,
              "solidity": 0.2
             }
            },
            "type": "barpolar"
           }
          ],
          "carpet": [
           {
            "aaxis": {
             "endlinecolor": "#2a3f5f",
             "gridcolor": "white",
             "linecolor": "white",
             "minorgridcolor": "white",
             "startlinecolor": "#2a3f5f"
            },
            "baxis": {
             "endlinecolor": "#2a3f5f",
             "gridcolor": "white",
             "linecolor": "white",
             "minorgridcolor": "white",
             "startlinecolor": "#2a3f5f"
            },
            "type": "carpet"
           }
          ],
          "choropleth": [
           {
            "colorbar": {
             "outlinewidth": 0,
             "ticks": ""
            },
            "type": "choropleth"
           }
          ],
          "contour": [
           {
            "colorbar": {
             "outlinewidth": 0,
             "ticks": ""
            },
            "colorscale": [
             [
              0,
              "#0d0887"
             ],
             [
              0.1111111111111111,
              "#46039f"
             ],
             [
              0.2222222222222222,
              "#7201a8"
             ],
             [
              0.3333333333333333,
              "#9c179e"
             ],
             [
              0.4444444444444444,
              "#bd3786"
             ],
             [
              0.5555555555555556,
              "#d8576b"
             ],
             [
              0.6666666666666666,
              "#ed7953"
             ],
             [
              0.7777777777777778,
              "#fb9f3a"
             ],
             [
              0.8888888888888888,
              "#fdca26"
             ],
             [
              1,
              "#f0f921"
             ]
            ],
            "type": "contour"
           }
          ],
          "contourcarpet": [
           {
            "colorbar": {
             "outlinewidth": 0,
             "ticks": ""
            },
            "type": "contourcarpet"
           }
          ],
          "heatmap": [
           {
            "colorbar": {
             "outlinewidth": 0,
             "ticks": ""
            },
            "colorscale": [
             [
              0,
              "#0d0887"
             ],
             [
              0.1111111111111111,
              "#46039f"
             ],
             [
              0.2222222222222222,
              "#7201a8"
             ],
             [
              0.3333333333333333,
              "#9c179e"
             ],
             [
              0.4444444444444444,
              "#bd3786"
             ],
             [
              0.5555555555555556,
              "#d8576b"
             ],
             [
              0.6666666666666666,
              "#ed7953"
             ],
             [
              0.7777777777777778,
              "#fb9f3a"
             ],
             [
              0.8888888888888888,
              "#fdca26"
             ],
             [
              1,
              "#f0f921"
             ]
            ],
            "type": "heatmap"
           }
          ],
          "heatmapgl": [
           {
            "colorbar": {
             "outlinewidth": 0,
             "ticks": ""
            },
            "colorscale": [
             [
              0,
              "#0d0887"
             ],
             [
              0.1111111111111111,
              "#46039f"
             ],
             [
              0.2222222222222222,
              "#7201a8"
             ],
             [
              0.3333333333333333,
              "#9c179e"
             ],
             [
              0.4444444444444444,
              "#bd3786"
             ],
             [
              0.5555555555555556,
              "#d8576b"
             ],
             [
              0.6666666666666666,
              "#ed7953"
             ],
             [
              0.7777777777777778,
              "#fb9f3a"
             ],
             [
              0.8888888888888888,
              "#fdca26"
             ],
             [
              1,
              "#f0f921"
             ]
            ],
            "type": "heatmapgl"
           }
          ],
          "histogram": [
           {
            "marker": {
             "pattern": {
              "fillmode": "overlay",
              "size": 10,
              "solidity": 0.2
             }
            },
            "type": "histogram"
           }
          ],
          "histogram2d": [
           {
            "colorbar": {
             "outlinewidth": 0,
             "ticks": ""
            },
            "colorscale": [
             [
              0,
              "#0d0887"
             ],
             [
              0.1111111111111111,
              "#46039f"
             ],
             [
              0.2222222222222222,
              "#7201a8"
             ],
             [
              0.3333333333333333,
              "#9c179e"
             ],
             [
              0.4444444444444444,
              "#bd3786"
             ],
             [
              0.5555555555555556,
              "#d8576b"
             ],
             [
              0.6666666666666666,
              "#ed7953"
             ],
             [
              0.7777777777777778,
              "#fb9f3a"
             ],
             [
              0.8888888888888888,
              "#fdca26"
             ],
             [
              1,
              "#f0f921"
             ]
            ],
            "type": "histogram2d"
           }
          ],
          "histogram2dcontour": [
           {
            "colorbar": {
             "outlinewidth": 0,
             "ticks": ""
            },
            "colorscale": [
             [
              0,
              "#0d0887"
             ],
             [
              0.1111111111111111,
              "#46039f"
             ],
             [
              0.2222222222222222,
              "#7201a8"
             ],
             [
              0.3333333333333333,
              "#9c179e"
             ],
             [
              0.4444444444444444,
              "#bd3786"
             ],
             [
              0.5555555555555556,
              "#d8576b"
             ],
             [
              0.6666666666666666,
              "#ed7953"
             ],
             [
              0.7777777777777778,
              "#fb9f3a"
             ],
             [
              0.8888888888888888,
              "#fdca26"
             ],
             [
              1,
              "#f0f921"
             ]
            ],
            "type": "histogram2dcontour"
           }
          ],
          "mesh3d": [
           {
            "colorbar": {
             "outlinewidth": 0,
             "ticks": ""
            },
            "type": "mesh3d"
           }
          ],
          "parcoords": [
           {
            "line": {
             "colorbar": {
              "outlinewidth": 0,
              "ticks": ""
             }
            },
            "type": "parcoords"
           }
          ],
          "pie": [
           {
            "automargin": true,
            "type": "pie"
           }
          ],
          "scatter": [
           {
            "fillpattern": {
             "fillmode": "overlay",
             "size": 10,
             "solidity": 0.2
            },
            "type": "scatter"
           }
          ],
          "scatter3d": [
           {
            "line": {
             "colorbar": {
              "outlinewidth": 0,
              "ticks": ""
             }
            },
            "marker": {
             "colorbar": {
              "outlinewidth": 0,
              "ticks": ""
             }
            },
            "type": "scatter3d"
           }
          ],
          "scattercarpet": [
           {
            "marker": {
             "colorbar": {
              "outlinewidth": 0,
              "ticks": ""
             }
            },
            "type": "scattercarpet"
           }
          ],
          "scattergeo": [
           {
            "marker": {
             "colorbar": {
              "outlinewidth": 0,
              "ticks": ""
             }
            },
            "type": "scattergeo"
           }
          ],
          "scattergl": [
           {
            "marker": {
             "colorbar": {
              "outlinewidth": 0,
              "ticks": ""
             }
            },
            "type": "scattergl"
           }
          ],
          "scattermapbox": [
           {
            "marker": {
             "colorbar": {
              "outlinewidth": 0,
              "ticks": ""
             }
            },
            "type": "scattermapbox"
           }
          ],
          "scatterpolar": [
           {
            "marker": {
             "colorbar": {
              "outlinewidth": 0,
              "ticks": ""
             }
            },
            "type": "scatterpolar"
           }
          ],
          "scatterpolargl": [
           {
            "marker": {
             "colorbar": {
              "outlinewidth": 0,
              "ticks": ""
             }
            },
            "type": "scatterpolargl"
           }
          ],
          "scatterternary": [
           {
            "marker": {
             "colorbar": {
              "outlinewidth": 0,
              "ticks": ""
             }
            },
            "type": "scatterternary"
           }
          ],
          "surface": [
           {
            "colorbar": {
             "outlinewidth": 0,
             "ticks": ""
            },
            "colorscale": [
             [
              0,
              "#0d0887"
             ],
             [
              0.1111111111111111,
              "#46039f"
             ],
             [
              0.2222222222222222,
              "#7201a8"
             ],
             [
              0.3333333333333333,
              "#9c179e"
             ],
             [
              0.4444444444444444,
              "#bd3786"
             ],
             [
              0.5555555555555556,
              "#d8576b"
             ],
             [
              0.6666666666666666,
              "#ed7953"
             ],
             [
              0.7777777777777778,
              "#fb9f3a"
             ],
             [
              0.8888888888888888,
              "#fdca26"
             ],
             [
              1,
              "#f0f921"
             ]
            ],
            "type": "surface"
           }
          ],
          "table": [
           {
            "cells": {
             "fill": {
              "color": "#EBF0F8"
             },
             "line": {
              "color": "white"
             }
            },
            "header": {
             "fill": {
              "color": "#C8D4E3"
             },
             "line": {
              "color": "white"
             }
            },
            "type": "table"
           }
          ]
         },
         "layout": {
          "annotationdefaults": {
           "arrowcolor": "#2a3f5f",
           "arrowhead": 0,
           "arrowwidth": 1
          },
          "autotypenumbers": "strict",
          "coloraxis": {
           "colorbar": {
            "outlinewidth": 0,
            "ticks": ""
           }
          },
          "colorscale": {
           "diverging": [
            [
             0,
             "#8e0152"
            ],
            [
             0.1,
             "#c51b7d"
            ],
            [
             0.2,
             "#de77ae"
            ],
            [
             0.3,
             "#f1b6da"
            ],
            [
             0.4,
             "#fde0ef"
            ],
            [
             0.5,
             "#f7f7f7"
            ],
            [
             0.6,
             "#e6f5d0"
            ],
            [
             0.7,
             "#b8e186"
            ],
            [
             0.8,
             "#7fbc41"
            ],
            [
             0.9,
             "#4d9221"
            ],
            [
             1,
             "#276419"
            ]
           ],
           "sequential": [
            [
             0,
             "#0d0887"
            ],
            [
             0.1111111111111111,
             "#46039f"
            ],
            [
             0.2222222222222222,
             "#7201a8"
            ],
            [
             0.3333333333333333,
             "#9c179e"
            ],
            [
             0.4444444444444444,
             "#bd3786"
            ],
            [
             0.5555555555555556,
             "#d8576b"
            ],
            [
             0.6666666666666666,
             "#ed7953"
            ],
            [
             0.7777777777777778,
             "#fb9f3a"
            ],
            [
             0.8888888888888888,
             "#fdca26"
            ],
            [
             1,
             "#f0f921"
            ]
           ],
           "sequentialminus": [
            [
             0,
             "#0d0887"
            ],
            [
             0.1111111111111111,
             "#46039f"
            ],
            [
             0.2222222222222222,
             "#7201a8"
            ],
            [
             0.3333333333333333,
             "#9c179e"
            ],
            [
             0.4444444444444444,
             "#bd3786"
            ],
            [
             0.5555555555555556,
             "#d8576b"
            ],
            [
             0.6666666666666666,
             "#ed7953"
            ],
            [
             0.7777777777777778,
             "#fb9f3a"
            ],
            [
             0.8888888888888888,
             "#fdca26"
            ],
            [
             1,
             "#f0f921"
            ]
           ]
          },
          "colorway": [
           "#636efa",
           "#EF553B",
           "#00cc96",
           "#ab63fa",
           "#FFA15A",
           "#19d3f3",
           "#FF6692",
           "#B6E880",
           "#FF97FF",
           "#FECB52"
          ],
          "font": {
           "color": "#2a3f5f"
          },
          "geo": {
           "bgcolor": "white",
           "lakecolor": "white",
           "landcolor": "#E5ECF6",
           "showlakes": true,
           "showland": true,
           "subunitcolor": "white"
          },
          "hoverlabel": {
           "align": "left"
          },
          "hovermode": "closest",
          "mapbox": {
           "style": "light"
          },
          "paper_bgcolor": "white",
          "plot_bgcolor": "#E5ECF6",
          "polar": {
           "angularaxis": {
            "gridcolor": "white",
            "linecolor": "white",
            "ticks": ""
           },
           "bgcolor": "#E5ECF6",
           "radialaxis": {
            "gridcolor": "white",
            "linecolor": "white",
            "ticks": ""
           }
          },
          "scene": {
           "xaxis": {
            "backgroundcolor": "#E5ECF6",
            "gridcolor": "white",
            "gridwidth": 2,
            "linecolor": "white",
            "showbackground": true,
            "ticks": "",
            "zerolinecolor": "white"
           },
           "yaxis": {
            "backgroundcolor": "#E5ECF6",
            "gridcolor": "white",
            "gridwidth": 2,
            "linecolor": "white",
            "showbackground": true,
            "ticks": "",
            "zerolinecolor": "white"
           },
           "zaxis": {
            "backgroundcolor": "#E5ECF6",
            "gridcolor": "white",
            "gridwidth": 2,
            "linecolor": "white",
            "showbackground": true,
            "ticks": "",
            "zerolinecolor": "white"
           }
          },
          "shapedefaults": {
           "line": {
            "color": "#2a3f5f"
           }
          },
          "ternary": {
           "aaxis": {
            "gridcolor": "white",
            "linecolor": "white",
            "ticks": ""
           },
           "baxis": {
            "gridcolor": "white",
            "linecolor": "white",
            "ticks": ""
           },
           "bgcolor": "#E5ECF6",
           "caxis": {
            "gridcolor": "white",
            "linecolor": "white",
            "ticks": ""
           }
          },
          "title": {
           "x": 0.05
          },
          "xaxis": {
           "automargin": true,
           "gridcolor": "white",
           "linecolor": "white",
           "ticks": "",
           "title": {
            "standoff": 15
           },
           "zerolinecolor": "white",
           "zerolinewidth": 2
          },
          "yaxis": {
           "automargin": true,
           "gridcolor": "white",
           "linecolor": "white",
           "ticks": "",
           "title": {
            "standoff": 15
           },
           "zerolinecolor": "white",
           "zerolinewidth": 2
          }
         }
        },
        "title": {
         "text": "Top 10 of books with more ratings per country"
        },
        "width": 1000,
        "xaxis": {
         "anchor": "y",
         "domain": [
          0,
          1
         ],
         "title": {
          "text": "count"
         }
        },
        "yaxis": {
         "anchor": "x",
         "categoryorder": "total ascending",
         "domain": [
          0,
          1
         ],
         "title": {
          "text": "Book-Title"
         }
        }
       }
      },
      "text/html": [
       "<div>                            <div id=\"6c9037af-b772-40b2-8e02-53d624881891\" class=\"plotly-graph-div\" style=\"height:700px; width:1000px;\"></div>            <script type=\"text/javascript\">                require([\"plotly\"], function(Plotly) {                    window.PLOTLYENV=window.PLOTLYENV || {};                                    if (document.getElementById(\"6c9037af-b772-40b2-8e02-53d624881891\")) {                    Plotly.newPlot(                        \"6c9037af-b772-40b2-8e02-53d624881891\",                        [{\"alignmentgroup\":\"True\",\"hovertemplate\":\"Country=Austria<br>count=%{x}<br>Book-Title=%{y}<extra></extra>\",\"legendgroup\":\"Austria\",\"marker\":{\"color\":\"#636efa\",\"pattern\":{\"shape\":\"\"}},\"name\":\"Austria\",\"offsetgroup\":\"Austria\",\"orientation\":\"h\",\"showlegend\":true,\"textposition\":\"auto\",\"x\":[20,7,6,6,6,6,5,5,5,5],\"xaxis\":\"x\",\"y\":[\"Wild Animus\",\"Sex and the City\",\"Der Keltische Ring\",\"Die sprechende Maske Roman\",\"Stupid White Men Eine Abrechnung mit dem Amerika unter George W Bush\",\"Warum M\\u00c3 \\u00c2 nner nicht zuh\\u00c3 \\u00c2 ren und Frauen schlecht einparken\",\"Das Haus der W\\u00c3 \\u00c2 lfe\",\"Der Hahn ist tot Roman\",\"Die Verbrechen der Charlotte Bronte und das Geheimnis von Haworth\",\"Die Weltenzerst\\u00c3 \\u00c2 rer Ein Darkover Roman\"],\"yaxis\":\"y\",\"type\":\"bar\"},{\"alignmentgroup\":\"True\",\"hovertemplate\":\"Country=Belgium<br>count=%{x}<br>Book-Title=%{y}<extra></extra>\",\"legendgroup\":\"Belgium\",\"marker\":{\"color\":\"#EF553B\",\"pattern\":{\"shape\":\"\"}},\"name\":\"Belgium\",\"offsetgroup\":\"Belgium\",\"orientation\":\"h\",\"showlegend\":true,\"textposition\":\"auto\",\"x\":[8,3,3,3,2,2,2,2,2,2],\"xaxis\":\"x\",\"y\":[\"Wild Animus\",\"Et Si C Etait Vrai If This Were Only True\",\"Les Combustibles\",\"Stupeur Et Tremblements\",\"Adventures of Sherlock Holmes Wordsworth Collection\",\"Are You Experienced\",\"Baldur s Gate II Shadows of Amn Forgotten Realms Paperback\",\"Comme un roman\",\"Coraline\",\"Dead Zone\"],\"yaxis\":\"y\",\"type\":\"bar\"},{\"alignmentgroup\":\"True\",\"hovertemplate\":\"Country=Germany<br>count=%{x}<br>Book-Title=%{y}<extra></extra>\",\"legendgroup\":\"Germany\",\"marker\":{\"color\":\"#00cc96\",\"pattern\":{\"shape\":\"\"}},\"name\":\"Germany\",\"offsetgroup\":\"Germany\",\"orientation\":\"h\",\"showlegend\":true,\"textposition\":\"auto\",\"x\":[141,53,50,48,45,43,42,40,39,38],\"xaxis\":\"x\",\"y\":[\"Wild Animus\",\"Russendisko\",\"Der Vorleser\",\"Stupid White Men Eine Abrechnung mit dem Amerika unter George W Bush\",\"Illuminati\",\"Generation Golf Eine Inspektion\",\"Lauf Jane lauf Roman\",\"M\\u00c3 \\u00c2 rder ohne Gesicht\",\"Die P\\u00c3 \\u00c2 pstin\",\"Das Parfum Die Geschichte Eines Morders\"],\"yaxis\":\"y\",\"type\":\"bar\"},{\"alignmentgroup\":\"True\",\"hovertemplate\":\"Country=Portugal<br>count=%{x}<br>Book-Title=%{y}<extra></extra>\",\"legendgroup\":\"Portugal\",\"marker\":{\"color\":\"#ab63fa\",\"pattern\":{\"shape\":\"\"}},\"name\":\"Portugal\",\"offsetgroup\":\"Portugal\",\"orientation\":\"h\",\"showlegend\":true,\"textposition\":\"auto\",\"x\":[47,21,20,16,14,14,14,13,13,12],\"xaxis\":\"x\",\"y\":[\"Wild Animus\",\"The Da Vinci Code\",\"Girl with a Pearl Earring\",\"The Red Notebook True Stories\",\"Balzac and the Little Chinese Seamstress A Novel\",\"Once upon a More Enlightened Time More Politically Correct Bedtime Stories\",\"The Hours A Novel\",\"Coraline\",\"Ulysses Modern Library\",\"The Waves\"],\"yaxis\":\"y\",\"type\":\"bar\"},{\"alignmentgroup\":\"True\",\"hovertemplate\":\"Country=Switzerland<br>count=%{x}<br>Book-Title=%{y}<extra></extra>\",\"legendgroup\":\"Switzerland\",\"marker\":{\"color\":\"#FFA15A\",\"pattern\":{\"shape\":\"\"}},\"name\":\"Switzerland\",\"offsetgroup\":\"Switzerland\",\"orientation\":\"h\",\"showlegend\":true,\"textposition\":\"auto\",\"x\":[15,10,9,9,8,8,8,8,7,6],\"xaxis\":\"x\",\"y\":[\"Eine Frau Eine Wohnung Ein Roman\",\"Wild Animus\",\"Monsieur Ibrahim und die Blumen des Koran Erz\\u00c3 \\u00c2 hlung\",\"M\\u00c3 \\u00c2 rder ohne Gesicht\",\"Der Vorleser\",\"Illuminati\",\"Les Fourmis\",\"Venezianisches Finale Commissario Brunettis erster Fall\",\"Schlafes Bruder\",\"1984\"],\"yaxis\":\"y\",\"type\":\"bar\"},{\"alignmentgroup\":\"True\",\"hovertemplate\":\"Country=United Kingdom<br>count=%{x}<br>Book-Title=%{y}<extra></extra>\",\"legendgroup\":\"United Kingdom\",\"marker\":{\"color\":\"#19d3f3\",\"pattern\":{\"shape\":\"\"}},\"name\":\"United Kingdom\",\"offsetgroup\":\"United Kingdom\",\"orientation\":\"h\",\"showlegend\":true,\"textposition\":\"auto\",\"x\":[199,105,97,73,66,63,51,50,48,48],\"xaxis\":\"x\",\"y\":[\"Wild Animus\",\"Bridget Jones s Diary\",\"Chocolat\",\"Memoirs of a Geisha Uk\",\"Dead Famous\",\"Northern Lights His Dark Materials S\",\"Billy\",\"Notes From a Small Planet\",\"Angelas Ashes\",\"Free\"],\"yaxis\":\"y\",\"type\":\"bar\"}],                        {\"template\":{\"data\":{\"histogram2dcontour\":[{\"type\":\"histogram2dcontour\",\"colorbar\":{\"outlinewidth\":0,\"ticks\":\"\"},\"colorscale\":[[0.0,\"#0d0887\"],[0.1111111111111111,\"#46039f\"],[0.2222222222222222,\"#7201a8\"],[0.3333333333333333,\"#9c179e\"],[0.4444444444444444,\"#bd3786\"],[0.5555555555555556,\"#d8576b\"],[0.6666666666666666,\"#ed7953\"],[0.7777777777777778,\"#fb9f3a\"],[0.8888888888888888,\"#fdca26\"],[1.0,\"#f0f921\"]]}],\"choropleth\":[{\"type\":\"choropleth\",\"colorbar\":{\"outlinewidth\":0,\"ticks\":\"\"}}],\"histogram2d\":[{\"type\":\"histogram2d\",\"colorbar\":{\"outlinewidth\":0,\"ticks\":\"\"},\"colorscale\":[[0.0,\"#0d0887\"],[0.1111111111111111,\"#46039f\"],[0.2222222222222222,\"#7201a8\"],[0.3333333333333333,\"#9c179e\"],[0.4444444444444444,\"#bd3786\"],[0.5555555555555556,\"#d8576b\"],[0.6666666666666666,\"#ed7953\"],[0.7777777777777778,\"#fb9f3a\"],[0.8888888888888888,\"#fdca26\"],[1.0,\"#f0f921\"]]}],\"heatmap\":[{\"type\":\"heatmap\",\"colorbar\":{\"outlinewidth\":0,\"ticks\":\"\"},\"colorscale\":[[0.0,\"#0d0887\"],[0.1111111111111111,\"#46039f\"],[0.2222222222222222,\"#7201a8\"],[0.3333333333333333,\"#9c179e\"],[0.4444444444444444,\"#bd3786\"],[0.5555555555555556,\"#d8576b\"],[0.6666666666666666,\"#ed7953\"],[0.7777777777777778,\"#fb9f3a\"],[0.8888888888888888,\"#fdca26\"],[1.0,\"#f0f921\"]]}],\"heatmapgl\":[{\"type\":\"heatmapgl\",\"colorbar\":{\"outlinewidth\":0,\"ticks\":\"\"},\"colorscale\":[[0.0,\"#0d0887\"],[0.1111111111111111,\"#46039f\"],[0.2222222222222222,\"#7201a8\"],[0.3333333333333333,\"#9c179e\"],[0.4444444444444444,\"#bd3786\"],[0.5555555555555556,\"#d8576b\"],[0.6666666666666666,\"#ed7953\"],[0.7777777777777778,\"#fb9f3a\"],[0.8888888888888888,\"#fdca26\"],[1.0,\"#f0f921\"]]}],\"contourcarpet\":[{\"type\":\"contourcarpet\",\"colorbar\":{\"outlinewidth\":0,\"ticks\":\"\"}}],\"contour\":[{\"type\":\"contour\",\"colorbar\":{\"outlinewidth\":0,\"ticks\":\"\"},\"colorscale\":[[0.0,\"#0d0887\"],[0.1111111111111111,\"#46039f\"],[0.2222222222222222,\"#7201a8\"],[0.3333333333333333,\"#9c179e\"],[0.4444444444444444,\"#bd3786\"],[0.5555555555555556,\"#d8576b\"],[0.6666666666666666,\"#ed7953\"],[0.7777777777777778,\"#fb9f3a\"],[0.8888888888888888,\"#fdca26\"],[1.0,\"#f0f921\"]]}],\"surface\":[{\"type\":\"surface\",\"colorbar\":{\"outlinewidth\":0,\"ticks\":\"\"},\"colorscale\":[[0.0,\"#0d0887\"],[0.1111111111111111,\"#46039f\"],[0.2222222222222222,\"#7201a8\"],[0.3333333333333333,\"#9c179e\"],[0.4444444444444444,\"#bd3786\"],[0.5555555555555556,\"#d8576b\"],[0.6666666666666666,\"#ed7953\"],[0.7777777777777778,\"#fb9f3a\"],[0.8888888888888888,\"#fdca26\"],[1.0,\"#f0f921\"]]}],\"mesh3d\":[{\"type\":\"mesh3d\",\"colorbar\":{\"outlinewidth\":0,\"ticks\":\"\"}}],\"scatter\":[{\"fillpattern\":{\"fillmode\":\"overlay\",\"size\":10,\"solidity\":0.2},\"type\":\"scatter\"}],\"parcoords\":[{\"type\":\"parcoords\",\"line\":{\"colorbar\":{\"outlinewidth\":0,\"ticks\":\"\"}}}],\"scatterpolargl\":[{\"type\":\"scatterpolargl\",\"marker\":{\"colorbar\":{\"outlinewidth\":0,\"ticks\":\"\"}}}],\"bar\":[{\"error_x\":{\"color\":\"#2a3f5f\"},\"error_y\":{\"color\":\"#2a3f5f\"},\"marker\":{\"line\":{\"color\":\"#E5ECF6\",\"width\":0.5},\"pattern\":{\"fillmode\":\"overlay\",\"size\":10,\"solidity\":0.2}},\"type\":\"bar\"}],\"scattergeo\":[{\"type\":\"scattergeo\",\"marker\":{\"colorbar\":{\"outlinewidth\":0,\"ticks\":\"\"}}}],\"scatterpolar\":[{\"type\":\"scatterpolar\",\"marker\":{\"colorbar\":{\"outlinewidth\":0,\"ticks\":\"\"}}}],\"histogram\":[{\"marker\":{\"pattern\":{\"fillmode\":\"overlay\",\"size\":10,\"solidity\":0.2}},\"type\":\"histogram\"}],\"scattergl\":[{\"type\":\"scattergl\",\"marker\":{\"colorbar\":{\"outlinewidth\":0,\"ticks\":\"\"}}}],\"scatter3d\":[{\"type\":\"scatter3d\",\"line\":{\"colorbar\":{\"outlinewidth\":0,\"ticks\":\"\"}},\"marker\":{\"colorbar\":{\"outlinewidth\":0,\"ticks\":\"\"}}}],\"scattermapbox\":[{\"type\":\"scattermapbox\",\"marker\":{\"colorbar\":{\"outlinewidth\":0,\"ticks\":\"\"}}}],\"scatterternary\":[{\"type\":\"scatterternary\",\"marker\":{\"colorbar\":{\"outlinewidth\":0,\"ticks\":\"\"}}}],\"scattercarpet\":[{\"type\":\"scattercarpet\",\"marker\":{\"colorbar\":{\"outlinewidth\":0,\"ticks\":\"\"}}}],\"carpet\":[{\"aaxis\":{\"endlinecolor\":\"#2a3f5f\",\"gridcolor\":\"white\",\"linecolor\":\"white\",\"minorgridcolor\":\"white\",\"startlinecolor\":\"#2a3f5f\"},\"baxis\":{\"endlinecolor\":\"#2a3f5f\",\"gridcolor\":\"white\",\"linecolor\":\"white\",\"minorgridcolor\":\"white\",\"startlinecolor\":\"#2a3f5f\"},\"type\":\"carpet\"}],\"table\":[{\"cells\":{\"fill\":{\"color\":\"#EBF0F8\"},\"line\":{\"color\":\"white\"}},\"header\":{\"fill\":{\"color\":\"#C8D4E3\"},\"line\":{\"color\":\"white\"}},\"type\":\"table\"}],\"barpolar\":[{\"marker\":{\"line\":{\"color\":\"#E5ECF6\",\"width\":0.5},\"pattern\":{\"fillmode\":\"overlay\",\"size\":10,\"solidity\":0.2}},\"type\":\"barpolar\"}],\"pie\":[{\"automargin\":true,\"type\":\"pie\"}]},\"layout\":{\"autotypenumbers\":\"strict\",\"colorway\":[\"#636efa\",\"#EF553B\",\"#00cc96\",\"#ab63fa\",\"#FFA15A\",\"#19d3f3\",\"#FF6692\",\"#B6E880\",\"#FF97FF\",\"#FECB52\"],\"font\":{\"color\":\"#2a3f5f\"},\"hovermode\":\"closest\",\"hoverlabel\":{\"align\":\"left\"},\"paper_bgcolor\":\"white\",\"plot_bgcolor\":\"#E5ECF6\",\"polar\":{\"bgcolor\":\"#E5ECF6\",\"angularaxis\":{\"gridcolor\":\"white\",\"linecolor\":\"white\",\"ticks\":\"\"},\"radialaxis\":{\"gridcolor\":\"white\",\"linecolor\":\"white\",\"ticks\":\"\"}},\"ternary\":{\"bgcolor\":\"#E5ECF6\",\"aaxis\":{\"gridcolor\":\"white\",\"linecolor\":\"white\",\"ticks\":\"\"},\"baxis\":{\"gridcolor\":\"white\",\"linecolor\":\"white\",\"ticks\":\"\"},\"caxis\":{\"gridcolor\":\"white\",\"linecolor\":\"white\",\"ticks\":\"\"}},\"coloraxis\":{\"colorbar\":{\"outlinewidth\":0,\"ticks\":\"\"}},\"colorscale\":{\"sequential\":[[0.0,\"#0d0887\"],[0.1111111111111111,\"#46039f\"],[0.2222222222222222,\"#7201a8\"],[0.3333333333333333,\"#9c179e\"],[0.4444444444444444,\"#bd3786\"],[0.5555555555555556,\"#d8576b\"],[0.6666666666666666,\"#ed7953\"],[0.7777777777777778,\"#fb9f3a\"],[0.8888888888888888,\"#fdca26\"],[1.0,\"#f0f921\"]],\"sequentialminus\":[[0.0,\"#0d0887\"],[0.1111111111111111,\"#46039f\"],[0.2222222222222222,\"#7201a8\"],[0.3333333333333333,\"#9c179e\"],[0.4444444444444444,\"#bd3786\"],[0.5555555555555556,\"#d8576b\"],[0.6666666666666666,\"#ed7953\"],[0.7777777777777778,\"#fb9f3a\"],[0.8888888888888888,\"#fdca26\"],[1.0,\"#f0f921\"]],\"diverging\":[[0,\"#8e0152\"],[0.1,\"#c51b7d\"],[0.2,\"#de77ae\"],[0.3,\"#f1b6da\"],[0.4,\"#fde0ef\"],[0.5,\"#f7f7f7\"],[0.6,\"#e6f5d0\"],[0.7,\"#b8e186\"],[0.8,\"#7fbc41\"],[0.9,\"#4d9221\"],[1,\"#276419\"]]},\"xaxis\":{\"gridcolor\":\"white\",\"linecolor\":\"white\",\"ticks\":\"\",\"title\":{\"standoff\":15},\"zerolinecolor\":\"white\",\"automargin\":true,\"zerolinewidth\":2},\"yaxis\":{\"gridcolor\":\"white\",\"linecolor\":\"white\",\"ticks\":\"\",\"title\":{\"standoff\":15},\"zerolinecolor\":\"white\",\"automargin\":true,\"zerolinewidth\":2},\"scene\":{\"xaxis\":{\"backgroundcolor\":\"#E5ECF6\",\"gridcolor\":\"white\",\"linecolor\":\"white\",\"showbackground\":true,\"ticks\":\"\",\"zerolinecolor\":\"white\",\"gridwidth\":2},\"yaxis\":{\"backgroundcolor\":\"#E5ECF6\",\"gridcolor\":\"white\",\"linecolor\":\"white\",\"showbackground\":true,\"ticks\":\"\",\"zerolinecolor\":\"white\",\"gridwidth\":2},\"zaxis\":{\"backgroundcolor\":\"#E5ECF6\",\"gridcolor\":\"white\",\"linecolor\":\"white\",\"showbackground\":true,\"ticks\":\"\",\"zerolinecolor\":\"white\",\"gridwidth\":2}},\"shapedefaults\":{\"line\":{\"color\":\"#2a3f5f\"}},\"annotationdefaults\":{\"arrowcolor\":\"#2a3f5f\",\"arrowhead\":0,\"arrowwidth\":1},\"geo\":{\"bgcolor\":\"white\",\"landcolor\":\"#E5ECF6\",\"subunitcolor\":\"white\",\"showland\":true,\"showlakes\":true,\"lakecolor\":\"white\"},\"title\":{\"x\":0.05},\"mapbox\":{\"style\":\"light\"}}},\"xaxis\":{\"anchor\":\"y\",\"domain\":[0.0,1.0],\"title\":{\"text\":\"count\"}},\"yaxis\":{\"anchor\":\"x\",\"domain\":[0.0,1.0],\"title\":{\"text\":\"Book-Title\"},\"categoryorder\":\"total ascending\"},\"legend\":{\"title\":{\"text\":\"Country\"},\"tracegroupgap\":0},\"title\":{\"text\":\"Top 10 of books with more ratings per country\"},\"barmode\":\"relative\",\"height\":700,\"width\":1000},                        {\"responsive\": true}                    ).then(function(){\n",
       "                            \n",
       "var gd = document.getElementById('6c9037af-b772-40b2-8e02-53d624881891');\n",
       "var x = new MutationObserver(function (mutations, observer) {{\n",
       "        var display = window.getComputedStyle(gd).display;\n",
       "        if (!display || display === 'none') {{\n",
       "            console.log([gd, 'removed!']);\n",
       "            Plotly.purge(gd);\n",
       "            observer.disconnect();\n",
       "        }}\n",
       "}});\n",
       "\n",
       "// Listen for the removal of the full notebook cells\n",
       "var notebookContainer = gd.closest('#notebook-container');\n",
       "if (notebookContainer) {{\n",
       "    x.observe(notebookContainer, {childList: true});\n",
       "}}\n",
       "\n",
       "// Listen for the clearing of the current output cell\n",
       "var outputEl = gd.closest('.output');\n",
       "if (outputEl) {{\n",
       "    x.observe(outputEl, {childList: true});\n",
       "}}\n",
       "\n",
       "                        })                };                });            </script>        </div>"
      ]
     },
     "metadata": {},
     "output_type": "display_data"
    }
   ],
   "source": [
    "fig = px.bar(top_books_by_country2,\n",
    "             x='count',\n",
    "             y='Book-Title',\n",
    "             color = 'Country',\n",
    "             orientation='h',\n",
    "             color_continuous_scale = px.colors.sequential.Viridis,\n",
    "             title='Top 10 of books with more ratings per country')\n",
    "\n",
    "fig.update_layout(height=700, width=1000, yaxis={'categoryorder': 'total ascending'})\n",
    "fig.show()"
   ]
  },
  {
   "cell_type": "code",
   "execution_count": 134,
   "id": "034f1581",
   "metadata": {},
   "outputs": [
    {
     "data": {
      "application/vnd.plotly.v1+json": {
       "config": {
        "plotlyServerURL": "https://plot.ly"
       },
       "data": [
        {
         "alignmentgroup": "True",
         "hovertemplate": "x=%{x}<br>y=%{y}<extra></extra>",
         "legendgroup": "",
         "marker": {
          "color": "#636efa",
          "pattern": {
           "shape": ""
          }
         },
         "name": "",
         "offsetgroup": "",
         "orientation": "v",
         "showlegend": false,
         "textposition": "auto",
         "type": "bar",
         "x": [
          2002,
          2001,
          2000,
          1999,
          2003,
          1998,
          0,
          1997,
          1996,
          1995,
          1994,
          1992,
          1993,
          1991,
          2004,
          1990,
          1989,
          1988,
          1987,
          1986,
          1985,
          1984,
          1983,
          1982,
          1981,
          1978,
          1980,
          1976,
          1977,
          1979,
          1975,
          1974,
          1970,
          1972,
          1973,
          1969,
          1971,
          1965,
          1968,
          1966,
          1967,
          1959,
          1964,
          1963,
          1954,
          2005,
          1953,
          1962,
          1961,
          1960,
          1957,
          1955,
          1958,
          1956,
          1951,
          1952,
          1946,
          1920,
          2026,
          1936,
          1902,
          2050,
          1945,
          1947,
          1938,
          1942,
          1911,
          2006,
          1940,
          1939,
          1949,
          1930,
          1929,
          2024,
          1950
         ],
         "xaxis": "x",
         "y": [
          7827,
          6517,
          6512,
          6064,
          5811,
          5049,
          4167,
          4067,
          3469,
          3203,
          2947,
          1997,
          1962,
          1633,
          1520,
          1514,
          1293,
          1116,
          940,
          774,
          645,
          542,
          512,
          491,
          413,
          371,
          338,
          284,
          277,
          275,
          219,
          193,
          150,
          144,
          143,
          102,
          95,
          59,
          56,
          55,
          43,
          36,
          35,
          29,
          29,
          28,
          26,
          24,
          17,
          17,
          16,
          16,
          15,
          12,
          11,
          9,
          7,
          6,
          5,
          3,
          3,
          3,
          3,
          3,
          2,
          2,
          2,
          2,
          1,
          1,
          1,
          1,
          1,
          1,
          1
         ],
         "yaxis": "y"
        }
       ],
       "layout": {
        "barmode": "relative",
        "height": 600,
        "legend": {
         "tracegroupgap": 0
        },
        "template": {
         "data": {
          "bar": [
           {
            "error_x": {
             "color": "#2a3f5f"
            },
            "error_y": {
             "color": "#2a3f5f"
            },
            "marker": {
             "line": {
              "color": "#E5ECF6",
              "width": 0.5
             },
             "pattern": {
              "fillmode": "overlay",
              "size": 10,
              "solidity": 0.2
             }
            },
            "type": "bar"
           }
          ],
          "barpolar": [
           {
            "marker": {
             "line": {
              "color": "#E5ECF6",
              "width": 0.5
             },
             "pattern": {
              "fillmode": "overlay",
              "size": 10,
              "solidity": 0.2
             }
            },
            "type": "barpolar"
           }
          ],
          "carpet": [
           {
            "aaxis": {
             "endlinecolor": "#2a3f5f",
             "gridcolor": "white",
             "linecolor": "white",
             "minorgridcolor": "white",
             "startlinecolor": "#2a3f5f"
            },
            "baxis": {
             "endlinecolor": "#2a3f5f",
             "gridcolor": "white",
             "linecolor": "white",
             "minorgridcolor": "white",
             "startlinecolor": "#2a3f5f"
            },
            "type": "carpet"
           }
          ],
          "choropleth": [
           {
            "colorbar": {
             "outlinewidth": 0,
             "ticks": ""
            },
            "type": "choropleth"
           }
          ],
          "contour": [
           {
            "colorbar": {
             "outlinewidth": 0,
             "ticks": ""
            },
            "colorscale": [
             [
              0,
              "#0d0887"
             ],
             [
              0.1111111111111111,
              "#46039f"
             ],
             [
              0.2222222222222222,
              "#7201a8"
             ],
             [
              0.3333333333333333,
              "#9c179e"
             ],
             [
              0.4444444444444444,
              "#bd3786"
             ],
             [
              0.5555555555555556,
              "#d8576b"
             ],
             [
              0.6666666666666666,
              "#ed7953"
             ],
             [
              0.7777777777777778,
              "#fb9f3a"
             ],
             [
              0.8888888888888888,
              "#fdca26"
             ],
             [
              1,
              "#f0f921"
             ]
            ],
            "type": "contour"
           }
          ],
          "contourcarpet": [
           {
            "colorbar": {
             "outlinewidth": 0,
             "ticks": ""
            },
            "type": "contourcarpet"
           }
          ],
          "heatmap": [
           {
            "colorbar": {
             "outlinewidth": 0,
             "ticks": ""
            },
            "colorscale": [
             [
              0,
              "#0d0887"
             ],
             [
              0.1111111111111111,
              "#46039f"
             ],
             [
              0.2222222222222222,
              "#7201a8"
             ],
             [
              0.3333333333333333,
              "#9c179e"
             ],
             [
              0.4444444444444444,
              "#bd3786"
             ],
             [
              0.5555555555555556,
              "#d8576b"
             ],
             [
              0.6666666666666666,
              "#ed7953"
             ],
             [
              0.7777777777777778,
              "#fb9f3a"
             ],
             [
              0.8888888888888888,
              "#fdca26"
             ],
             [
              1,
              "#f0f921"
             ]
            ],
            "type": "heatmap"
           }
          ],
          "heatmapgl": [
           {
            "colorbar": {
             "outlinewidth": 0,
             "ticks": ""
            },
            "colorscale": [
             [
              0,
              "#0d0887"
             ],
             [
              0.1111111111111111,
              "#46039f"
             ],
             [
              0.2222222222222222,
              "#7201a8"
             ],
             [
              0.3333333333333333,
              "#9c179e"
             ],
             [
              0.4444444444444444,
              "#bd3786"
             ],
             [
              0.5555555555555556,
              "#d8576b"
             ],
             [
              0.6666666666666666,
              "#ed7953"
             ],
             [
              0.7777777777777778,
              "#fb9f3a"
             ],
             [
              0.8888888888888888,
              "#fdca26"
             ],
             [
              1,
              "#f0f921"
             ]
            ],
            "type": "heatmapgl"
           }
          ],
          "histogram": [
           {
            "marker": {
             "pattern": {
              "fillmode": "overlay",
              "size": 10,
              "solidity": 0.2
             }
            },
            "type": "histogram"
           }
          ],
          "histogram2d": [
           {
            "colorbar": {
             "outlinewidth": 0,
             "ticks": ""
            },
            "colorscale": [
             [
              0,
              "#0d0887"
             ],
             [
              0.1111111111111111,
              "#46039f"
             ],
             [
              0.2222222222222222,
              "#7201a8"
             ],
             [
              0.3333333333333333,
              "#9c179e"
             ],
             [
              0.4444444444444444,
              "#bd3786"
             ],
             [
              0.5555555555555556,
              "#d8576b"
             ],
             [
              0.6666666666666666,
              "#ed7953"
             ],
             [
              0.7777777777777778,
              "#fb9f3a"
             ],
             [
              0.8888888888888888,
              "#fdca26"
             ],
             [
              1,
              "#f0f921"
             ]
            ],
            "type": "histogram2d"
           }
          ],
          "histogram2dcontour": [
           {
            "colorbar": {
             "outlinewidth": 0,
             "ticks": ""
            },
            "colorscale": [
             [
              0,
              "#0d0887"
             ],
             [
              0.1111111111111111,
              "#46039f"
             ],
             [
              0.2222222222222222,
              "#7201a8"
             ],
             [
              0.3333333333333333,
              "#9c179e"
             ],
             [
              0.4444444444444444,
              "#bd3786"
             ],
             [
              0.5555555555555556,
              "#d8576b"
             ],
             [
              0.6666666666666666,
              "#ed7953"
             ],
             [
              0.7777777777777778,
              "#fb9f3a"
             ],
             [
              0.8888888888888888,
              "#fdca26"
             ],
             [
              1,
              "#f0f921"
             ]
            ],
            "type": "histogram2dcontour"
           }
          ],
          "mesh3d": [
           {
            "colorbar": {
             "outlinewidth": 0,
             "ticks": ""
            },
            "type": "mesh3d"
           }
          ],
          "parcoords": [
           {
            "line": {
             "colorbar": {
              "outlinewidth": 0,
              "ticks": ""
             }
            },
            "type": "parcoords"
           }
          ],
          "pie": [
           {
            "automargin": true,
            "type": "pie"
           }
          ],
          "scatter": [
           {
            "fillpattern": {
             "fillmode": "overlay",
             "size": 10,
             "solidity": 0.2
            },
            "type": "scatter"
           }
          ],
          "scatter3d": [
           {
            "line": {
             "colorbar": {
              "outlinewidth": 0,
              "ticks": ""
             }
            },
            "marker": {
             "colorbar": {
              "outlinewidth": 0,
              "ticks": ""
             }
            },
            "type": "scatter3d"
           }
          ],
          "scattercarpet": [
           {
            "marker": {
             "colorbar": {
              "outlinewidth": 0,
              "ticks": ""
             }
            },
            "type": "scattercarpet"
           }
          ],
          "scattergeo": [
           {
            "marker": {
             "colorbar": {
              "outlinewidth": 0,
              "ticks": ""
             }
            },
            "type": "scattergeo"
           }
          ],
          "scattergl": [
           {
            "marker": {
             "colorbar": {
              "outlinewidth": 0,
              "ticks": ""
             }
            },
            "type": "scattergl"
           }
          ],
          "scattermapbox": [
           {
            "marker": {
             "colorbar": {
              "outlinewidth": 0,
              "ticks": ""
             }
            },
            "type": "scattermapbox"
           }
          ],
          "scatterpolar": [
           {
            "marker": {
             "colorbar": {
              "outlinewidth": 0,
              "ticks": ""
             }
            },
            "type": "scatterpolar"
           }
          ],
          "scatterpolargl": [
           {
            "marker": {
             "colorbar": {
              "outlinewidth": 0,
              "ticks": ""
             }
            },
            "type": "scatterpolargl"
           }
          ],
          "scatterternary": [
           {
            "marker": {
             "colorbar": {
              "outlinewidth": 0,
              "ticks": ""
             }
            },
            "type": "scatterternary"
           }
          ],
          "surface": [
           {
            "colorbar": {
             "outlinewidth": 0,
             "ticks": ""
            },
            "colorscale": [
             [
              0,
              "#0d0887"
             ],
             [
              0.1111111111111111,
              "#46039f"
             ],
             [
              0.2222222222222222,
              "#7201a8"
             ],
             [
              0.3333333333333333,
              "#9c179e"
             ],
             [
              0.4444444444444444,
              "#bd3786"
             ],
             [
              0.5555555555555556,
              "#d8576b"
             ],
             [
              0.6666666666666666,
              "#ed7953"
             ],
             [
              0.7777777777777778,
              "#fb9f3a"
             ],
             [
              0.8888888888888888,
              "#fdca26"
             ],
             [
              1,
              "#f0f921"
             ]
            ],
            "type": "surface"
           }
          ],
          "table": [
           {
            "cells": {
             "fill": {
              "color": "#EBF0F8"
             },
             "line": {
              "color": "white"
             }
            },
            "header": {
             "fill": {
              "color": "#C8D4E3"
             },
             "line": {
              "color": "white"
             }
            },
            "type": "table"
           }
          ]
         },
         "layout": {
          "annotationdefaults": {
           "arrowcolor": "#2a3f5f",
           "arrowhead": 0,
           "arrowwidth": 1
          },
          "autotypenumbers": "strict",
          "coloraxis": {
           "colorbar": {
            "outlinewidth": 0,
            "ticks": ""
           }
          },
          "colorscale": {
           "diverging": [
            [
             0,
             "#8e0152"
            ],
            [
             0.1,
             "#c51b7d"
            ],
            [
             0.2,
             "#de77ae"
            ],
            [
             0.3,
             "#f1b6da"
            ],
            [
             0.4,
             "#fde0ef"
            ],
            [
             0.5,
             "#f7f7f7"
            ],
            [
             0.6,
             "#e6f5d0"
            ],
            [
             0.7,
             "#b8e186"
            ],
            [
             0.8,
             "#7fbc41"
            ],
            [
             0.9,
             "#4d9221"
            ],
            [
             1,
             "#276419"
            ]
           ],
           "sequential": [
            [
             0,
             "#0d0887"
            ],
            [
             0.1111111111111111,
             "#46039f"
            ],
            [
             0.2222222222222222,
             "#7201a8"
            ],
            [
             0.3333333333333333,
             "#9c179e"
            ],
            [
             0.4444444444444444,
             "#bd3786"
            ],
            [
             0.5555555555555556,
             "#d8576b"
            ],
            [
             0.6666666666666666,
             "#ed7953"
            ],
            [
             0.7777777777777778,
             "#fb9f3a"
            ],
            [
             0.8888888888888888,
             "#fdca26"
            ],
            [
             1,
             "#f0f921"
            ]
           ],
           "sequentialminus": [
            [
             0,
             "#0d0887"
            ],
            [
             0.1111111111111111,
             "#46039f"
            ],
            [
             0.2222222222222222,
             "#7201a8"
            ],
            [
             0.3333333333333333,
             "#9c179e"
            ],
            [
             0.4444444444444444,
             "#bd3786"
            ],
            [
             0.5555555555555556,
             "#d8576b"
            ],
            [
             0.6666666666666666,
             "#ed7953"
            ],
            [
             0.7777777777777778,
             "#fb9f3a"
            ],
            [
             0.8888888888888888,
             "#fdca26"
            ],
            [
             1,
             "#f0f921"
            ]
           ]
          },
          "colorway": [
           "#636efa",
           "#EF553B",
           "#00cc96",
           "#ab63fa",
           "#FFA15A",
           "#19d3f3",
           "#FF6692",
           "#B6E880",
           "#FF97FF",
           "#FECB52"
          ],
          "font": {
           "color": "#2a3f5f"
          },
          "geo": {
           "bgcolor": "white",
           "lakecolor": "white",
           "landcolor": "#E5ECF6",
           "showlakes": true,
           "showland": true,
           "subunitcolor": "white"
          },
          "hoverlabel": {
           "align": "left"
          },
          "hovermode": "closest",
          "mapbox": {
           "style": "light"
          },
          "paper_bgcolor": "white",
          "plot_bgcolor": "#E5ECF6",
          "polar": {
           "angularaxis": {
            "gridcolor": "white",
            "linecolor": "white",
            "ticks": ""
           },
           "bgcolor": "#E5ECF6",
           "radialaxis": {
            "gridcolor": "white",
            "linecolor": "white",
            "ticks": ""
           }
          },
          "scene": {
           "xaxis": {
            "backgroundcolor": "#E5ECF6",
            "gridcolor": "white",
            "gridwidth": 2,
            "linecolor": "white",
            "showbackground": true,
            "ticks": "",
            "zerolinecolor": "white"
           },
           "yaxis": {
            "backgroundcolor": "#E5ECF6",
            "gridcolor": "white",
            "gridwidth": 2,
            "linecolor": "white",
            "showbackground": true,
            "ticks": "",
            "zerolinecolor": "white"
           },
           "zaxis": {
            "backgroundcolor": "#E5ECF6",
            "gridcolor": "white",
            "gridwidth": 2,
            "linecolor": "white",
            "showbackground": true,
            "ticks": "",
            "zerolinecolor": "white"
           }
          },
          "shapedefaults": {
           "line": {
            "color": "#2a3f5f"
           }
          },
          "ternary": {
           "aaxis": {
            "gridcolor": "white",
            "linecolor": "white",
            "ticks": ""
           },
           "baxis": {
            "gridcolor": "white",
            "linecolor": "white",
            "ticks": ""
           },
           "bgcolor": "#E5ECF6",
           "caxis": {
            "gridcolor": "white",
            "linecolor": "white",
            "ticks": ""
           }
          },
          "title": {
           "x": 0.05
          },
          "xaxis": {
           "automargin": true,
           "gridcolor": "white",
           "linecolor": "white",
           "ticks": "",
           "title": {
            "standoff": 15
           },
           "zerolinecolor": "white",
           "zerolinewidth": 2
          },
          "yaxis": {
           "automargin": true,
           "gridcolor": "white",
           "linecolor": "white",
           "ticks": "",
           "title": {
            "standoff": 15
           },
           "zerolinecolor": "white",
           "zerolinewidth": 2
          }
         }
        },
        "title": {
         "text": "Distribution of Books by Year"
        },
        "width": 1000,
        "xaxis": {
         "anchor": "y",
         "domain": [
          0,
          1
         ],
         "title": {
          "text": "Year of Publication"
         }
        },
        "yaxis": {
         "anchor": "x",
         "automargin": true,
         "domain": [
          0,
          1
         ],
         "title": {
          "standoff": 10,
          "text": "Count"
         }
        }
       }
      },
      "text/html": [
       "<div>                            <div id=\"917b9782-e8da-4911-944d-9ff319faa7e0\" class=\"plotly-graph-div\" style=\"height:600px; width:1000px;\"></div>            <script type=\"text/javascript\">                require([\"plotly\"], function(Plotly) {                    window.PLOTLYENV=window.PLOTLYENV || {};                                    if (document.getElementById(\"917b9782-e8da-4911-944d-9ff319faa7e0\")) {                    Plotly.newPlot(                        \"917b9782-e8da-4911-944d-9ff319faa7e0\",                        [{\"alignmentgroup\":\"True\",\"hovertemplate\":\"x=%{x}<br>y=%{y}<extra></extra>\",\"legendgroup\":\"\",\"marker\":{\"color\":\"#636efa\",\"pattern\":{\"shape\":\"\"}},\"name\":\"\",\"offsetgroup\":\"\",\"orientation\":\"v\",\"showlegend\":false,\"textposition\":\"auto\",\"x\":[2002,2001,2000,1999,2003,1998,0,1997,1996,1995,1994,1992,1993,1991,2004,1990,1989,1988,1987,1986,1985,1984,1983,1982,1981,1978,1980,1976,1977,1979,1975,1974,1970,1972,1973,1969,1971,1965,1968,1966,1967,1959,1964,1963,1954,2005,1953,1962,1961,1960,1957,1955,1958,1956,1951,1952,1946,1920,2026,1936,1902,2050,1945,1947,1938,1942,1911,2006,1940,1939,1949,1930,1929,2024,1950],\"xaxis\":\"x\",\"y\":[7827,6517,6512,6064,5811,5049,4167,4067,3469,3203,2947,1997,1962,1633,1520,1514,1293,1116,940,774,645,542,512,491,413,371,338,284,277,275,219,193,150,144,143,102,95,59,56,55,43,36,35,29,29,28,26,24,17,17,16,16,15,12,11,9,7,6,5,3,3,3,3,3,2,2,2,2,1,1,1,1,1,1,1],\"yaxis\":\"y\",\"type\":\"bar\"}],                        {\"template\":{\"data\":{\"histogram2dcontour\":[{\"type\":\"histogram2dcontour\",\"colorbar\":{\"outlinewidth\":0,\"ticks\":\"\"},\"colorscale\":[[0.0,\"#0d0887\"],[0.1111111111111111,\"#46039f\"],[0.2222222222222222,\"#7201a8\"],[0.3333333333333333,\"#9c179e\"],[0.4444444444444444,\"#bd3786\"],[0.5555555555555556,\"#d8576b\"],[0.6666666666666666,\"#ed7953\"],[0.7777777777777778,\"#fb9f3a\"],[0.8888888888888888,\"#fdca26\"],[1.0,\"#f0f921\"]]}],\"choropleth\":[{\"type\":\"choropleth\",\"colorbar\":{\"outlinewidth\":0,\"ticks\":\"\"}}],\"histogram2d\":[{\"type\":\"histogram2d\",\"colorbar\":{\"outlinewidth\":0,\"ticks\":\"\"},\"colorscale\":[[0.0,\"#0d0887\"],[0.1111111111111111,\"#46039f\"],[0.2222222222222222,\"#7201a8\"],[0.3333333333333333,\"#9c179e\"],[0.4444444444444444,\"#bd3786\"],[0.5555555555555556,\"#d8576b\"],[0.6666666666666666,\"#ed7953\"],[0.7777777777777778,\"#fb9f3a\"],[0.8888888888888888,\"#fdca26\"],[1.0,\"#f0f921\"]]}],\"heatmap\":[{\"type\":\"heatmap\",\"colorbar\":{\"outlinewidth\":0,\"ticks\":\"\"},\"colorscale\":[[0.0,\"#0d0887\"],[0.1111111111111111,\"#46039f\"],[0.2222222222222222,\"#7201a8\"],[0.3333333333333333,\"#9c179e\"],[0.4444444444444444,\"#bd3786\"],[0.5555555555555556,\"#d8576b\"],[0.6666666666666666,\"#ed7953\"],[0.7777777777777778,\"#fb9f3a\"],[0.8888888888888888,\"#fdca26\"],[1.0,\"#f0f921\"]]}],\"heatmapgl\":[{\"type\":\"heatmapgl\",\"colorbar\":{\"outlinewidth\":0,\"ticks\":\"\"},\"colorscale\":[[0.0,\"#0d0887\"],[0.1111111111111111,\"#46039f\"],[0.2222222222222222,\"#7201a8\"],[0.3333333333333333,\"#9c179e\"],[0.4444444444444444,\"#bd3786\"],[0.5555555555555556,\"#d8576b\"],[0.6666666666666666,\"#ed7953\"],[0.7777777777777778,\"#fb9f3a\"],[0.8888888888888888,\"#fdca26\"],[1.0,\"#f0f921\"]]}],\"contourcarpet\":[{\"type\":\"contourcarpet\",\"colorbar\":{\"outlinewidth\":0,\"ticks\":\"\"}}],\"contour\":[{\"type\":\"contour\",\"colorbar\":{\"outlinewidth\":0,\"ticks\":\"\"},\"colorscale\":[[0.0,\"#0d0887\"],[0.1111111111111111,\"#46039f\"],[0.2222222222222222,\"#7201a8\"],[0.3333333333333333,\"#9c179e\"],[0.4444444444444444,\"#bd3786\"],[0.5555555555555556,\"#d8576b\"],[0.6666666666666666,\"#ed7953\"],[0.7777777777777778,\"#fb9f3a\"],[0.8888888888888888,\"#fdca26\"],[1.0,\"#f0f921\"]]}],\"surface\":[{\"type\":\"surface\",\"colorbar\":{\"outlinewidth\":0,\"ticks\":\"\"},\"colorscale\":[[0.0,\"#0d0887\"],[0.1111111111111111,\"#46039f\"],[0.2222222222222222,\"#7201a8\"],[0.3333333333333333,\"#9c179e\"],[0.4444444444444444,\"#bd3786\"],[0.5555555555555556,\"#d8576b\"],[0.6666666666666666,\"#ed7953\"],[0.7777777777777778,\"#fb9f3a\"],[0.8888888888888888,\"#fdca26\"],[1.0,\"#f0f921\"]]}],\"mesh3d\":[{\"type\":\"mesh3d\",\"colorbar\":{\"outlinewidth\":0,\"ticks\":\"\"}}],\"scatter\":[{\"fillpattern\":{\"fillmode\":\"overlay\",\"size\":10,\"solidity\":0.2},\"type\":\"scatter\"}],\"parcoords\":[{\"type\":\"parcoords\",\"line\":{\"colorbar\":{\"outlinewidth\":0,\"ticks\":\"\"}}}],\"scatterpolargl\":[{\"type\":\"scatterpolargl\",\"marker\":{\"colorbar\":{\"outlinewidth\":0,\"ticks\":\"\"}}}],\"bar\":[{\"error_x\":{\"color\":\"#2a3f5f\"},\"error_y\":{\"color\":\"#2a3f5f\"},\"marker\":{\"line\":{\"color\":\"#E5ECF6\",\"width\":0.5},\"pattern\":{\"fillmode\":\"overlay\",\"size\":10,\"solidity\":0.2}},\"type\":\"bar\"}],\"scattergeo\":[{\"type\":\"scattergeo\",\"marker\":{\"colorbar\":{\"outlinewidth\":0,\"ticks\":\"\"}}}],\"scatterpolar\":[{\"type\":\"scatterpolar\",\"marker\":{\"colorbar\":{\"outlinewidth\":0,\"ticks\":\"\"}}}],\"histogram\":[{\"marker\":{\"pattern\":{\"fillmode\":\"overlay\",\"size\":10,\"solidity\":0.2}},\"type\":\"histogram\"}],\"scattergl\":[{\"type\":\"scattergl\",\"marker\":{\"colorbar\":{\"outlinewidth\":0,\"ticks\":\"\"}}}],\"scatter3d\":[{\"type\":\"scatter3d\",\"line\":{\"colorbar\":{\"outlinewidth\":0,\"ticks\":\"\"}},\"marker\":{\"colorbar\":{\"outlinewidth\":0,\"ticks\":\"\"}}}],\"scattermapbox\":[{\"type\":\"scattermapbox\",\"marker\":{\"colorbar\":{\"outlinewidth\":0,\"ticks\":\"\"}}}],\"scatterternary\":[{\"type\":\"scatterternary\",\"marker\":{\"colorbar\":{\"outlinewidth\":0,\"ticks\":\"\"}}}],\"scattercarpet\":[{\"type\":\"scattercarpet\",\"marker\":{\"colorbar\":{\"outlinewidth\":0,\"ticks\":\"\"}}}],\"carpet\":[{\"aaxis\":{\"endlinecolor\":\"#2a3f5f\",\"gridcolor\":\"white\",\"linecolor\":\"white\",\"minorgridcolor\":\"white\",\"startlinecolor\":\"#2a3f5f\"},\"baxis\":{\"endlinecolor\":\"#2a3f5f\",\"gridcolor\":\"white\",\"linecolor\":\"white\",\"minorgridcolor\":\"white\",\"startlinecolor\":\"#2a3f5f\"},\"type\":\"carpet\"}],\"table\":[{\"cells\":{\"fill\":{\"color\":\"#EBF0F8\"},\"line\":{\"color\":\"white\"}},\"header\":{\"fill\":{\"color\":\"#C8D4E3\"},\"line\":{\"color\":\"white\"}},\"type\":\"table\"}],\"barpolar\":[{\"marker\":{\"line\":{\"color\":\"#E5ECF6\",\"width\":0.5},\"pattern\":{\"fillmode\":\"overlay\",\"size\":10,\"solidity\":0.2}},\"type\":\"barpolar\"}],\"pie\":[{\"automargin\":true,\"type\":\"pie\"}]},\"layout\":{\"autotypenumbers\":\"strict\",\"colorway\":[\"#636efa\",\"#EF553B\",\"#00cc96\",\"#ab63fa\",\"#FFA15A\",\"#19d3f3\",\"#FF6692\",\"#B6E880\",\"#FF97FF\",\"#FECB52\"],\"font\":{\"color\":\"#2a3f5f\"},\"hovermode\":\"closest\",\"hoverlabel\":{\"align\":\"left\"},\"paper_bgcolor\":\"white\",\"plot_bgcolor\":\"#E5ECF6\",\"polar\":{\"bgcolor\":\"#E5ECF6\",\"angularaxis\":{\"gridcolor\":\"white\",\"linecolor\":\"white\",\"ticks\":\"\"},\"radialaxis\":{\"gridcolor\":\"white\",\"linecolor\":\"white\",\"ticks\":\"\"}},\"ternary\":{\"bgcolor\":\"#E5ECF6\",\"aaxis\":{\"gridcolor\":\"white\",\"linecolor\":\"white\",\"ticks\":\"\"},\"baxis\":{\"gridcolor\":\"white\",\"linecolor\":\"white\",\"ticks\":\"\"},\"caxis\":{\"gridcolor\":\"white\",\"linecolor\":\"white\",\"ticks\":\"\"}},\"coloraxis\":{\"colorbar\":{\"outlinewidth\":0,\"ticks\":\"\"}},\"colorscale\":{\"sequential\":[[0.0,\"#0d0887\"],[0.1111111111111111,\"#46039f\"],[0.2222222222222222,\"#7201a8\"],[0.3333333333333333,\"#9c179e\"],[0.4444444444444444,\"#bd3786\"],[0.5555555555555556,\"#d8576b\"],[0.6666666666666666,\"#ed7953\"],[0.7777777777777778,\"#fb9f3a\"],[0.8888888888888888,\"#fdca26\"],[1.0,\"#f0f921\"]],\"sequentialminus\":[[0.0,\"#0d0887\"],[0.1111111111111111,\"#46039f\"],[0.2222222222222222,\"#7201a8\"],[0.3333333333333333,\"#9c179e\"],[0.4444444444444444,\"#bd3786\"],[0.5555555555555556,\"#d8576b\"],[0.6666666666666666,\"#ed7953\"],[0.7777777777777778,\"#fb9f3a\"],[0.8888888888888888,\"#fdca26\"],[1.0,\"#f0f921\"]],\"diverging\":[[0,\"#8e0152\"],[0.1,\"#c51b7d\"],[0.2,\"#de77ae\"],[0.3,\"#f1b6da\"],[0.4,\"#fde0ef\"],[0.5,\"#f7f7f7\"],[0.6,\"#e6f5d0\"],[0.7,\"#b8e186\"],[0.8,\"#7fbc41\"],[0.9,\"#4d9221\"],[1,\"#276419\"]]},\"xaxis\":{\"gridcolor\":\"white\",\"linecolor\":\"white\",\"ticks\":\"\",\"title\":{\"standoff\":15},\"zerolinecolor\":\"white\",\"automargin\":true,\"zerolinewidth\":2},\"yaxis\":{\"gridcolor\":\"white\",\"linecolor\":\"white\",\"ticks\":\"\",\"title\":{\"standoff\":15},\"zerolinecolor\":\"white\",\"automargin\":true,\"zerolinewidth\":2},\"scene\":{\"xaxis\":{\"backgroundcolor\":\"#E5ECF6\",\"gridcolor\":\"white\",\"linecolor\":\"white\",\"showbackground\":true,\"ticks\":\"\",\"zerolinecolor\":\"white\",\"gridwidth\":2},\"yaxis\":{\"backgroundcolor\":\"#E5ECF6\",\"gridcolor\":\"white\",\"linecolor\":\"white\",\"showbackground\":true,\"ticks\":\"\",\"zerolinecolor\":\"white\",\"gridwidth\":2},\"zaxis\":{\"backgroundcolor\":\"#E5ECF6\",\"gridcolor\":\"white\",\"linecolor\":\"white\",\"showbackground\":true,\"ticks\":\"\",\"zerolinecolor\":\"white\",\"gridwidth\":2}},\"shapedefaults\":{\"line\":{\"color\":\"#2a3f5f\"}},\"annotationdefaults\":{\"arrowcolor\":\"#2a3f5f\",\"arrowhead\":0,\"arrowwidth\":1},\"geo\":{\"bgcolor\":\"white\",\"landcolor\":\"#E5ECF6\",\"subunitcolor\":\"white\",\"showland\":true,\"showlakes\":true,\"lakecolor\":\"white\"},\"title\":{\"x\":0.05},\"mapbox\":{\"style\":\"light\"}}},\"xaxis\":{\"anchor\":\"y\",\"domain\":[0.0,1.0],\"title\":{\"text\":\"Year of Publication\"}},\"yaxis\":{\"anchor\":\"x\",\"domain\":[0.0,1.0],\"title\":{\"text\":\"Count\",\"standoff\":10},\"automargin\":true},\"legend\":{\"tracegroupgap\":0},\"title\":{\"text\":\"Distribution of Books by Year\"},\"barmode\":\"relative\",\"height\":600,\"width\":1000},                        {\"responsive\": true}                    ).then(function(){\n",
       "                            \n",
       "var gd = document.getElementById('917b9782-e8da-4911-944d-9ff319faa7e0');\n",
       "var x = new MutationObserver(function (mutations, observer) {{\n",
       "        var display = window.getComputedStyle(gd).display;\n",
       "        if (!display || display === 'none') {{\n",
       "            console.log([gd, 'removed!']);\n",
       "            Plotly.purge(gd);\n",
       "            observer.disconnect();\n",
       "        }}\n",
       "}});\n",
       "\n",
       "// Listen for the removal of the full notebook cells\n",
       "var notebookContainer = gd.closest('#notebook-container');\n",
       "if (notebookContainer) {{\n",
       "    x.observe(notebookContainer, {childList: true});\n",
       "}}\n",
       "\n",
       "// Listen for the clearing of the current output cell\n",
       "var outputEl = gd.closest('.output');\n",
       "if (outputEl) {{\n",
       "    x.observe(outputEl, {childList: true});\n",
       "}}\n",
       "\n",
       "                        })                };                });            </script>        </div>"
      ]
     },
     "metadata": {},
     "output_type": "display_data"
    }
   ],
   "source": [
    "fig_ = px.bar(dataviz2.value_counts('Year-Of-Publication', ascending = False),\n",
    "                 x = dataviz2.value_counts('Year-Of-Publication', ascending = False).index,\n",
    "                 y = dataviz2.value_counts('Year-Of-Publication', ascending = False),\n",
    "                 title = \"Distribution of Books by Year\")\n",
    "\n",
    "fig_.update_layout(height = 600, width = 1000, xaxis_title = 'Year of Publication',\n",
    "                      yaxis_title = 'Count')\n",
    "\n",
    "fig_.update_yaxes(automargin = True, title_standoff = 10)\n",
    "\n",
    "fig_.show()"
   ]
  },
  {
   "cell_type": "code",
   "execution_count": 137,
   "id": "ff07e0c7",
   "metadata": {},
   "outputs": [],
   "source": [
    "dataviz2.drop(dataviz2[dataviz2['Year-Of-Publication'] > 2023].index, inplace=True)\n",
    "dataviz2.drop(dataviz2[dataviz2['Year-Of-Publication'] == 0].index, inplace=True)\n",
    "dataviz2.drop(dataviz2[dataviz2['Year-Of-Publication'] == -1].index, inplace=True)"
   ]
  },
  {
   "cell_type": "code",
   "execution_count": 142,
   "id": "bd8d17bb",
   "metadata": {},
   "outputs": [
    {
     "data": {
      "text/html": [
       "<div>\n",
       "<style scoped>\n",
       "    .dataframe tbody tr th:only-of-type {\n",
       "        vertical-align: middle;\n",
       "    }\n",
       "\n",
       "    .dataframe tbody tr th {\n",
       "        vertical-align: top;\n",
       "    }\n",
       "\n",
       "    .dataframe thead th {\n",
       "        text-align: right;\n",
       "    }\n",
       "</style>\n",
       "<table border=\"1\" class=\"dataframe\">\n",
       "  <thead>\n",
       "    <tr style=\"text-align: right;\">\n",
       "      <th></th>\n",
       "      <th>Year-Of-Publication</th>\n",
       "      <th>count</th>\n",
       "    </tr>\n",
       "  </thead>\n",
       "  <tbody>\n",
       "    <tr>\n",
       "      <th>70</th>\n",
       "      <td>2006</td>\n",
       "      <td>2</td>\n",
       "    </tr>\n",
       "    <tr>\n",
       "      <th>69</th>\n",
       "      <td>2005</td>\n",
       "      <td>28</td>\n",
       "    </tr>\n",
       "    <tr>\n",
       "      <th>68</th>\n",
       "      <td>2004</td>\n",
       "      <td>1520</td>\n",
       "    </tr>\n",
       "    <tr>\n",
       "      <th>67</th>\n",
       "      <td>2003</td>\n",
       "      <td>5811</td>\n",
       "    </tr>\n",
       "    <tr>\n",
       "      <th>66</th>\n",
       "      <td>2002</td>\n",
       "      <td>7827</td>\n",
       "    </tr>\n",
       "    <tr>\n",
       "      <th>...</th>\n",
       "      <td>...</td>\n",
       "      <td>...</td>\n",
       "    </tr>\n",
       "    <tr>\n",
       "      <th>4</th>\n",
       "      <td>1930</td>\n",
       "      <td>1</td>\n",
       "    </tr>\n",
       "    <tr>\n",
       "      <th>3</th>\n",
       "      <td>1929</td>\n",
       "      <td>1</td>\n",
       "    </tr>\n",
       "    <tr>\n",
       "      <th>2</th>\n",
       "      <td>1920</td>\n",
       "      <td>6</td>\n",
       "    </tr>\n",
       "    <tr>\n",
       "      <th>1</th>\n",
       "      <td>1911</td>\n",
       "      <td>2</td>\n",
       "    </tr>\n",
       "    <tr>\n",
       "      <th>0</th>\n",
       "      <td>1902</td>\n",
       "      <td>3</td>\n",
       "    </tr>\n",
       "  </tbody>\n",
       "</table>\n",
       "<p>71 rows × 2 columns</p>\n",
       "</div>"
      ],
      "text/plain": [
       "    Year-Of-Publication  count\n",
       "70                 2006      2\n",
       "69                 2005     28\n",
       "68                 2004   1520\n",
       "67                 2003   5811\n",
       "66                 2002   7827\n",
       "..                  ...    ...\n",
       "4                  1930      1\n",
       "3                  1929      1\n",
       "2                  1920      6\n",
       "1                  1911      2\n",
       "0                  1902      3\n",
       "\n",
       "[71 rows x 2 columns]"
      ]
     },
     "execution_count": 142,
     "metadata": {},
     "output_type": "execute_result"
    }
   ],
   "source": [
    "year2 = dataviz2.groupby(['Year-Of-Publication']).size().reset_index(name='count').sort_values(by='Year-Of-Publication', ascending=False)\n",
    "year2"
   ]
  },
  {
   "cell_type": "code",
   "execution_count": 145,
   "id": "56f72860",
   "metadata": {},
   "outputs": [
    {
     "data": {
      "application/vnd.plotly.v1+json": {
       "config": {
        "plotlyServerURL": "https://plot.ly"
       },
       "data": [
        {
         "alignmentgroup": "True",
         "hovertemplate": "Year-Of-Publication=%{x}<br>count=%{y}<extra></extra>",
         "legendgroup": "",
         "marker": {
          "color": "#636efa",
          "pattern": {
           "shape": ""
          }
         },
         "name": "",
         "offsetgroup": "",
         "orientation": "v",
         "showlegend": false,
         "textposition": "auto",
         "type": "bar",
         "x": [
          1902,
          1911,
          1920,
          1929,
          1930,
          1936,
          1938,
          1939,
          1940,
          1942,
          1945,
          1946,
          1947,
          1949,
          1950,
          1951,
          1952,
          1953,
          1954,
          1955,
          1956,
          1957,
          1958,
          1959,
          1960,
          1961,
          1962,
          1963,
          1964,
          1965,
          1966,
          1967,
          1968,
          1969,
          1970,
          1971,
          1972,
          1973,
          1974,
          1975,
          1976,
          1977,
          1978,
          1979,
          1980,
          1981,
          1982,
          1983,
          1984,
          1985,
          1986,
          1987,
          1988,
          1989,
          1990,
          1991,
          1992,
          1993,
          1994,
          1995,
          1996,
          1997,
          1998,
          1999,
          2000,
          2001,
          2002,
          2003,
          2004,
          2005,
          2006
         ],
         "xaxis": "x",
         "y": [
          3,
          2,
          6,
          1,
          1,
          3,
          2,
          1,
          1,
          2,
          3,
          7,
          3,
          1,
          1,
          11,
          9,
          26,
          29,
          16,
          12,
          16,
          15,
          36,
          17,
          17,
          24,
          29,
          35,
          59,
          55,
          43,
          56,
          102,
          150,
          95,
          144,
          143,
          193,
          219,
          284,
          277,
          371,
          275,
          338,
          413,
          491,
          512,
          542,
          645,
          774,
          940,
          1116,
          1293,
          1514,
          1633,
          1997,
          1962,
          2947,
          3203,
          3469,
          4067,
          5049,
          6064,
          6512,
          6517,
          7827,
          5811,
          1520,
          28,
          2
         ],
         "yaxis": "y"
        }
       ],
       "layout": {
        "barmode": "relative",
        "legend": {
         "tracegroupgap": 0
        },
        "template": {
         "data": {
          "bar": [
           {
            "error_x": {
             "color": "#2a3f5f"
            },
            "error_y": {
             "color": "#2a3f5f"
            },
            "marker": {
             "line": {
              "color": "#E5ECF6",
              "width": 0.5
             },
             "pattern": {
              "fillmode": "overlay",
              "size": 10,
              "solidity": 0.2
             }
            },
            "type": "bar"
           }
          ],
          "barpolar": [
           {
            "marker": {
             "line": {
              "color": "#E5ECF6",
              "width": 0.5
             },
             "pattern": {
              "fillmode": "overlay",
              "size": 10,
              "solidity": 0.2
             }
            },
            "type": "barpolar"
           }
          ],
          "carpet": [
           {
            "aaxis": {
             "endlinecolor": "#2a3f5f",
             "gridcolor": "white",
             "linecolor": "white",
             "minorgridcolor": "white",
             "startlinecolor": "#2a3f5f"
            },
            "baxis": {
             "endlinecolor": "#2a3f5f",
             "gridcolor": "white",
             "linecolor": "white",
             "minorgridcolor": "white",
             "startlinecolor": "#2a3f5f"
            },
            "type": "carpet"
           }
          ],
          "choropleth": [
           {
            "colorbar": {
             "outlinewidth": 0,
             "ticks": ""
            },
            "type": "choropleth"
           }
          ],
          "contour": [
           {
            "colorbar": {
             "outlinewidth": 0,
             "ticks": ""
            },
            "colorscale": [
             [
              0,
              "#0d0887"
             ],
             [
              0.1111111111111111,
              "#46039f"
             ],
             [
              0.2222222222222222,
              "#7201a8"
             ],
             [
              0.3333333333333333,
              "#9c179e"
             ],
             [
              0.4444444444444444,
              "#bd3786"
             ],
             [
              0.5555555555555556,
              "#d8576b"
             ],
             [
              0.6666666666666666,
              "#ed7953"
             ],
             [
              0.7777777777777778,
              "#fb9f3a"
             ],
             [
              0.8888888888888888,
              "#fdca26"
             ],
             [
              1,
              "#f0f921"
             ]
            ],
            "type": "contour"
           }
          ],
          "contourcarpet": [
           {
            "colorbar": {
             "outlinewidth": 0,
             "ticks": ""
            },
            "type": "contourcarpet"
           }
          ],
          "heatmap": [
           {
            "colorbar": {
             "outlinewidth": 0,
             "ticks": ""
            },
            "colorscale": [
             [
              0,
              "#0d0887"
             ],
             [
              0.1111111111111111,
              "#46039f"
             ],
             [
              0.2222222222222222,
              "#7201a8"
             ],
             [
              0.3333333333333333,
              "#9c179e"
             ],
             [
              0.4444444444444444,
              "#bd3786"
             ],
             [
              0.5555555555555556,
              "#d8576b"
             ],
             [
              0.6666666666666666,
              "#ed7953"
             ],
             [
              0.7777777777777778,
              "#fb9f3a"
             ],
             [
              0.8888888888888888,
              "#fdca26"
             ],
             [
              1,
              "#f0f921"
             ]
            ],
            "type": "heatmap"
           }
          ],
          "heatmapgl": [
           {
            "colorbar": {
             "outlinewidth": 0,
             "ticks": ""
            },
            "colorscale": [
             [
              0,
              "#0d0887"
             ],
             [
              0.1111111111111111,
              "#46039f"
             ],
             [
              0.2222222222222222,
              "#7201a8"
             ],
             [
              0.3333333333333333,
              "#9c179e"
             ],
             [
              0.4444444444444444,
              "#bd3786"
             ],
             [
              0.5555555555555556,
              "#d8576b"
             ],
             [
              0.6666666666666666,
              "#ed7953"
             ],
             [
              0.7777777777777778,
              "#fb9f3a"
             ],
             [
              0.8888888888888888,
              "#fdca26"
             ],
             [
              1,
              "#f0f921"
             ]
            ],
            "type": "heatmapgl"
           }
          ],
          "histogram": [
           {
            "marker": {
             "pattern": {
              "fillmode": "overlay",
              "size": 10,
              "solidity": 0.2
             }
            },
            "type": "histogram"
           }
          ],
          "histogram2d": [
           {
            "colorbar": {
             "outlinewidth": 0,
             "ticks": ""
            },
            "colorscale": [
             [
              0,
              "#0d0887"
             ],
             [
              0.1111111111111111,
              "#46039f"
             ],
             [
              0.2222222222222222,
              "#7201a8"
             ],
             [
              0.3333333333333333,
              "#9c179e"
             ],
             [
              0.4444444444444444,
              "#bd3786"
             ],
             [
              0.5555555555555556,
              "#d8576b"
             ],
             [
              0.6666666666666666,
              "#ed7953"
             ],
             [
              0.7777777777777778,
              "#fb9f3a"
             ],
             [
              0.8888888888888888,
              "#fdca26"
             ],
             [
              1,
              "#f0f921"
             ]
            ],
            "type": "histogram2d"
           }
          ],
          "histogram2dcontour": [
           {
            "colorbar": {
             "outlinewidth": 0,
             "ticks": ""
            },
            "colorscale": [
             [
              0,
              "#0d0887"
             ],
             [
              0.1111111111111111,
              "#46039f"
             ],
             [
              0.2222222222222222,
              "#7201a8"
             ],
             [
              0.3333333333333333,
              "#9c179e"
             ],
             [
              0.4444444444444444,
              "#bd3786"
             ],
             [
              0.5555555555555556,
              "#d8576b"
             ],
             [
              0.6666666666666666,
              "#ed7953"
             ],
             [
              0.7777777777777778,
              "#fb9f3a"
             ],
             [
              0.8888888888888888,
              "#fdca26"
             ],
             [
              1,
              "#f0f921"
             ]
            ],
            "type": "histogram2dcontour"
           }
          ],
          "mesh3d": [
           {
            "colorbar": {
             "outlinewidth": 0,
             "ticks": ""
            },
            "type": "mesh3d"
           }
          ],
          "parcoords": [
           {
            "line": {
             "colorbar": {
              "outlinewidth": 0,
              "ticks": ""
             }
            },
            "type": "parcoords"
           }
          ],
          "pie": [
           {
            "automargin": true,
            "type": "pie"
           }
          ],
          "scatter": [
           {
            "fillpattern": {
             "fillmode": "overlay",
             "size": 10,
             "solidity": 0.2
            },
            "type": "scatter"
           }
          ],
          "scatter3d": [
           {
            "line": {
             "colorbar": {
              "outlinewidth": 0,
              "ticks": ""
             }
            },
            "marker": {
             "colorbar": {
              "outlinewidth": 0,
              "ticks": ""
             }
            },
            "type": "scatter3d"
           }
          ],
          "scattercarpet": [
           {
            "marker": {
             "colorbar": {
              "outlinewidth": 0,
              "ticks": ""
             }
            },
            "type": "scattercarpet"
           }
          ],
          "scattergeo": [
           {
            "marker": {
             "colorbar": {
              "outlinewidth": 0,
              "ticks": ""
             }
            },
            "type": "scattergeo"
           }
          ],
          "scattergl": [
           {
            "marker": {
             "colorbar": {
              "outlinewidth": 0,
              "ticks": ""
             }
            },
            "type": "scattergl"
           }
          ],
          "scattermapbox": [
           {
            "marker": {
             "colorbar": {
              "outlinewidth": 0,
              "ticks": ""
             }
            },
            "type": "scattermapbox"
           }
          ],
          "scatterpolar": [
           {
            "marker": {
             "colorbar": {
              "outlinewidth": 0,
              "ticks": ""
             }
            },
            "type": "scatterpolar"
           }
          ],
          "scatterpolargl": [
           {
            "marker": {
             "colorbar": {
              "outlinewidth": 0,
              "ticks": ""
             }
            },
            "type": "scatterpolargl"
           }
          ],
          "scatterternary": [
           {
            "marker": {
             "colorbar": {
              "outlinewidth": 0,
              "ticks": ""
             }
            },
            "type": "scatterternary"
           }
          ],
          "surface": [
           {
            "colorbar": {
             "outlinewidth": 0,
             "ticks": ""
            },
            "colorscale": [
             [
              0,
              "#0d0887"
             ],
             [
              0.1111111111111111,
              "#46039f"
             ],
             [
              0.2222222222222222,
              "#7201a8"
             ],
             [
              0.3333333333333333,
              "#9c179e"
             ],
             [
              0.4444444444444444,
              "#bd3786"
             ],
             [
              0.5555555555555556,
              "#d8576b"
             ],
             [
              0.6666666666666666,
              "#ed7953"
             ],
             [
              0.7777777777777778,
              "#fb9f3a"
             ],
             [
              0.8888888888888888,
              "#fdca26"
             ],
             [
              1,
              "#f0f921"
             ]
            ],
            "type": "surface"
           }
          ],
          "table": [
           {
            "cells": {
             "fill": {
              "color": "#EBF0F8"
             },
             "line": {
              "color": "white"
             }
            },
            "header": {
             "fill": {
              "color": "#C8D4E3"
             },
             "line": {
              "color": "white"
             }
            },
            "type": "table"
           }
          ]
         },
         "layout": {
          "annotationdefaults": {
           "arrowcolor": "#2a3f5f",
           "arrowhead": 0,
           "arrowwidth": 1
          },
          "autotypenumbers": "strict",
          "coloraxis": {
           "colorbar": {
            "outlinewidth": 0,
            "ticks": ""
           }
          },
          "colorscale": {
           "diverging": [
            [
             0,
             "#8e0152"
            ],
            [
             0.1,
             "#c51b7d"
            ],
            [
             0.2,
             "#de77ae"
            ],
            [
             0.3,
             "#f1b6da"
            ],
            [
             0.4,
             "#fde0ef"
            ],
            [
             0.5,
             "#f7f7f7"
            ],
            [
             0.6,
             "#e6f5d0"
            ],
            [
             0.7,
             "#b8e186"
            ],
            [
             0.8,
             "#7fbc41"
            ],
            [
             0.9,
             "#4d9221"
            ],
            [
             1,
             "#276419"
            ]
           ],
           "sequential": [
            [
             0,
             "#0d0887"
            ],
            [
             0.1111111111111111,
             "#46039f"
            ],
            [
             0.2222222222222222,
             "#7201a8"
            ],
            [
             0.3333333333333333,
             "#9c179e"
            ],
            [
             0.4444444444444444,
             "#bd3786"
            ],
            [
             0.5555555555555556,
             "#d8576b"
            ],
            [
             0.6666666666666666,
             "#ed7953"
            ],
            [
             0.7777777777777778,
             "#fb9f3a"
            ],
            [
             0.8888888888888888,
             "#fdca26"
            ],
            [
             1,
             "#f0f921"
            ]
           ],
           "sequentialminus": [
            [
             0,
             "#0d0887"
            ],
            [
             0.1111111111111111,
             "#46039f"
            ],
            [
             0.2222222222222222,
             "#7201a8"
            ],
            [
             0.3333333333333333,
             "#9c179e"
            ],
            [
             0.4444444444444444,
             "#bd3786"
            ],
            [
             0.5555555555555556,
             "#d8576b"
            ],
            [
             0.6666666666666666,
             "#ed7953"
            ],
            [
             0.7777777777777778,
             "#fb9f3a"
            ],
            [
             0.8888888888888888,
             "#fdca26"
            ],
            [
             1,
             "#f0f921"
            ]
           ]
          },
          "colorway": [
           "#636efa",
           "#EF553B",
           "#00cc96",
           "#ab63fa",
           "#FFA15A",
           "#19d3f3",
           "#FF6692",
           "#B6E880",
           "#FF97FF",
           "#FECB52"
          ],
          "font": {
           "color": "#2a3f5f"
          },
          "geo": {
           "bgcolor": "white",
           "lakecolor": "white",
           "landcolor": "#E5ECF6",
           "showlakes": true,
           "showland": true,
           "subunitcolor": "white"
          },
          "hoverlabel": {
           "align": "left"
          },
          "hovermode": "closest",
          "mapbox": {
           "style": "light"
          },
          "paper_bgcolor": "white",
          "plot_bgcolor": "#E5ECF6",
          "polar": {
           "angularaxis": {
            "gridcolor": "white",
            "linecolor": "white",
            "ticks": ""
           },
           "bgcolor": "#E5ECF6",
           "radialaxis": {
            "gridcolor": "white",
            "linecolor": "white",
            "ticks": ""
           }
          },
          "scene": {
           "xaxis": {
            "backgroundcolor": "#E5ECF6",
            "gridcolor": "white",
            "gridwidth": 2,
            "linecolor": "white",
            "showbackground": true,
            "ticks": "",
            "zerolinecolor": "white"
           },
           "yaxis": {
            "backgroundcolor": "#E5ECF6",
            "gridcolor": "white",
            "gridwidth": 2,
            "linecolor": "white",
            "showbackground": true,
            "ticks": "",
            "zerolinecolor": "white"
           },
           "zaxis": {
            "backgroundcolor": "#E5ECF6",
            "gridcolor": "white",
            "gridwidth": 2,
            "linecolor": "white",
            "showbackground": true,
            "ticks": "",
            "zerolinecolor": "white"
           }
          },
          "shapedefaults": {
           "line": {
            "color": "#2a3f5f"
           }
          },
          "ternary": {
           "aaxis": {
            "gridcolor": "white",
            "linecolor": "white",
            "ticks": ""
           },
           "baxis": {
            "gridcolor": "white",
            "linecolor": "white",
            "ticks": ""
           },
           "bgcolor": "#E5ECF6",
           "caxis": {
            "gridcolor": "white",
            "linecolor": "white",
            "ticks": ""
           }
          },
          "title": {
           "x": 0.05
          },
          "xaxis": {
           "automargin": true,
           "gridcolor": "white",
           "linecolor": "white",
           "ticks": "",
           "title": {
            "standoff": 15
           },
           "zerolinecolor": "white",
           "zerolinewidth": 2
          },
          "yaxis": {
           "automargin": true,
           "gridcolor": "white",
           "linecolor": "white",
           "ticks": "",
           "title": {
            "standoff": 15
           },
           "zerolinecolor": "white",
           "zerolinewidth": 2
          }
         }
        },
        "title": {
         "text": "Distribution of Books by Year"
        },
        "xaxis": {
         "anchor": "y",
         "domain": [
          0,
          1
         ],
         "title": {
          "text": "Year of Publication"
         }
        },
        "yaxis": {
         "anchor": "x",
         "domain": [
          0,
          1
         ],
         "title": {
          "text": "Count"
         }
        }
       }
      },
      "text/html": [
       "<div>                            <div id=\"4b5d3e34-006b-44f6-a62c-e28b5aee9736\" class=\"plotly-graph-div\" style=\"height:525px; width:100%;\"></div>            <script type=\"text/javascript\">                require([\"plotly\"], function(Plotly) {                    window.PLOTLYENV=window.PLOTLYENV || {};                                    if (document.getElementById(\"4b5d3e34-006b-44f6-a62c-e28b5aee9736\")) {                    Plotly.newPlot(                        \"4b5d3e34-006b-44f6-a62c-e28b5aee9736\",                        [{\"alignmentgroup\":\"True\",\"hovertemplate\":\"Year-Of-Publication=%{x}<br>count=%{y}<extra></extra>\",\"legendgroup\":\"\",\"marker\":{\"color\":\"#636efa\",\"pattern\":{\"shape\":\"\"}},\"name\":\"\",\"offsetgroup\":\"\",\"orientation\":\"v\",\"showlegend\":false,\"textposition\":\"auto\",\"x\":[1902,1911,1920,1929,1930,1936,1938,1939,1940,1942,1945,1946,1947,1949,1950,1951,1952,1953,1954,1955,1956,1957,1958,1959,1960,1961,1962,1963,1964,1965,1966,1967,1968,1969,1970,1971,1972,1973,1974,1975,1976,1977,1978,1979,1980,1981,1982,1983,1984,1985,1986,1987,1988,1989,1990,1991,1992,1993,1994,1995,1996,1997,1998,1999,2000,2001,2002,2003,2004,2005,2006],\"xaxis\":\"x\",\"y\":[3,2,6,1,1,3,2,1,1,2,3,7,3,1,1,11,9,26,29,16,12,16,15,36,17,17,24,29,35,59,55,43,56,102,150,95,144,143,193,219,284,277,371,275,338,413,491,512,542,645,774,940,1116,1293,1514,1633,1997,1962,2947,3203,3469,4067,5049,6064,6512,6517,7827,5811,1520,28,2],\"yaxis\":\"y\",\"type\":\"bar\"}],                        {\"template\":{\"data\":{\"histogram2dcontour\":[{\"type\":\"histogram2dcontour\",\"colorbar\":{\"outlinewidth\":0,\"ticks\":\"\"},\"colorscale\":[[0.0,\"#0d0887\"],[0.1111111111111111,\"#46039f\"],[0.2222222222222222,\"#7201a8\"],[0.3333333333333333,\"#9c179e\"],[0.4444444444444444,\"#bd3786\"],[0.5555555555555556,\"#d8576b\"],[0.6666666666666666,\"#ed7953\"],[0.7777777777777778,\"#fb9f3a\"],[0.8888888888888888,\"#fdca26\"],[1.0,\"#f0f921\"]]}],\"choropleth\":[{\"type\":\"choropleth\",\"colorbar\":{\"outlinewidth\":0,\"ticks\":\"\"}}],\"histogram2d\":[{\"type\":\"histogram2d\",\"colorbar\":{\"outlinewidth\":0,\"ticks\":\"\"},\"colorscale\":[[0.0,\"#0d0887\"],[0.1111111111111111,\"#46039f\"],[0.2222222222222222,\"#7201a8\"],[0.3333333333333333,\"#9c179e\"],[0.4444444444444444,\"#bd3786\"],[0.5555555555555556,\"#d8576b\"],[0.6666666666666666,\"#ed7953\"],[0.7777777777777778,\"#fb9f3a\"],[0.8888888888888888,\"#fdca26\"],[1.0,\"#f0f921\"]]}],\"heatmap\":[{\"type\":\"heatmap\",\"colorbar\":{\"outlinewidth\":0,\"ticks\":\"\"},\"colorscale\":[[0.0,\"#0d0887\"],[0.1111111111111111,\"#46039f\"],[0.2222222222222222,\"#7201a8\"],[0.3333333333333333,\"#9c179e\"],[0.4444444444444444,\"#bd3786\"],[0.5555555555555556,\"#d8576b\"],[0.6666666666666666,\"#ed7953\"],[0.7777777777777778,\"#fb9f3a\"],[0.8888888888888888,\"#fdca26\"],[1.0,\"#f0f921\"]]}],\"heatmapgl\":[{\"type\":\"heatmapgl\",\"colorbar\":{\"outlinewidth\":0,\"ticks\":\"\"},\"colorscale\":[[0.0,\"#0d0887\"],[0.1111111111111111,\"#46039f\"],[0.2222222222222222,\"#7201a8\"],[0.3333333333333333,\"#9c179e\"],[0.4444444444444444,\"#bd3786\"],[0.5555555555555556,\"#d8576b\"],[0.6666666666666666,\"#ed7953\"],[0.7777777777777778,\"#fb9f3a\"],[0.8888888888888888,\"#fdca26\"],[1.0,\"#f0f921\"]]}],\"contourcarpet\":[{\"type\":\"contourcarpet\",\"colorbar\":{\"outlinewidth\":0,\"ticks\":\"\"}}],\"contour\":[{\"type\":\"contour\",\"colorbar\":{\"outlinewidth\":0,\"ticks\":\"\"},\"colorscale\":[[0.0,\"#0d0887\"],[0.1111111111111111,\"#46039f\"],[0.2222222222222222,\"#7201a8\"],[0.3333333333333333,\"#9c179e\"],[0.4444444444444444,\"#bd3786\"],[0.5555555555555556,\"#d8576b\"],[0.6666666666666666,\"#ed7953\"],[0.7777777777777778,\"#fb9f3a\"],[0.8888888888888888,\"#fdca26\"],[1.0,\"#f0f921\"]]}],\"surface\":[{\"type\":\"surface\",\"colorbar\":{\"outlinewidth\":0,\"ticks\":\"\"},\"colorscale\":[[0.0,\"#0d0887\"],[0.1111111111111111,\"#46039f\"],[0.2222222222222222,\"#7201a8\"],[0.3333333333333333,\"#9c179e\"],[0.4444444444444444,\"#bd3786\"],[0.5555555555555556,\"#d8576b\"],[0.6666666666666666,\"#ed7953\"],[0.7777777777777778,\"#fb9f3a\"],[0.8888888888888888,\"#fdca26\"],[1.0,\"#f0f921\"]]}],\"mesh3d\":[{\"type\":\"mesh3d\",\"colorbar\":{\"outlinewidth\":0,\"ticks\":\"\"}}],\"scatter\":[{\"fillpattern\":{\"fillmode\":\"overlay\",\"size\":10,\"solidity\":0.2},\"type\":\"scatter\"}],\"parcoords\":[{\"type\":\"parcoords\",\"line\":{\"colorbar\":{\"outlinewidth\":0,\"ticks\":\"\"}}}],\"scatterpolargl\":[{\"type\":\"scatterpolargl\",\"marker\":{\"colorbar\":{\"outlinewidth\":0,\"ticks\":\"\"}}}],\"bar\":[{\"error_x\":{\"color\":\"#2a3f5f\"},\"error_y\":{\"color\":\"#2a3f5f\"},\"marker\":{\"line\":{\"color\":\"#E5ECF6\",\"width\":0.5},\"pattern\":{\"fillmode\":\"overlay\",\"size\":10,\"solidity\":0.2}},\"type\":\"bar\"}],\"scattergeo\":[{\"type\":\"scattergeo\",\"marker\":{\"colorbar\":{\"outlinewidth\":0,\"ticks\":\"\"}}}],\"scatterpolar\":[{\"type\":\"scatterpolar\",\"marker\":{\"colorbar\":{\"outlinewidth\":0,\"ticks\":\"\"}}}],\"histogram\":[{\"marker\":{\"pattern\":{\"fillmode\":\"overlay\",\"size\":10,\"solidity\":0.2}},\"type\":\"histogram\"}],\"scattergl\":[{\"type\":\"scattergl\",\"marker\":{\"colorbar\":{\"outlinewidth\":0,\"ticks\":\"\"}}}],\"scatter3d\":[{\"type\":\"scatter3d\",\"line\":{\"colorbar\":{\"outlinewidth\":0,\"ticks\":\"\"}},\"marker\":{\"colorbar\":{\"outlinewidth\":0,\"ticks\":\"\"}}}],\"scattermapbox\":[{\"type\":\"scattermapbox\",\"marker\":{\"colorbar\":{\"outlinewidth\":0,\"ticks\":\"\"}}}],\"scatterternary\":[{\"type\":\"scatterternary\",\"marker\":{\"colorbar\":{\"outlinewidth\":0,\"ticks\":\"\"}}}],\"scattercarpet\":[{\"type\":\"scattercarpet\",\"marker\":{\"colorbar\":{\"outlinewidth\":0,\"ticks\":\"\"}}}],\"carpet\":[{\"aaxis\":{\"endlinecolor\":\"#2a3f5f\",\"gridcolor\":\"white\",\"linecolor\":\"white\",\"minorgridcolor\":\"white\",\"startlinecolor\":\"#2a3f5f\"},\"baxis\":{\"endlinecolor\":\"#2a3f5f\",\"gridcolor\":\"white\",\"linecolor\":\"white\",\"minorgridcolor\":\"white\",\"startlinecolor\":\"#2a3f5f\"},\"type\":\"carpet\"}],\"table\":[{\"cells\":{\"fill\":{\"color\":\"#EBF0F8\"},\"line\":{\"color\":\"white\"}},\"header\":{\"fill\":{\"color\":\"#C8D4E3\"},\"line\":{\"color\":\"white\"}},\"type\":\"table\"}],\"barpolar\":[{\"marker\":{\"line\":{\"color\":\"#E5ECF6\",\"width\":0.5},\"pattern\":{\"fillmode\":\"overlay\",\"size\":10,\"solidity\":0.2}},\"type\":\"barpolar\"}],\"pie\":[{\"automargin\":true,\"type\":\"pie\"}]},\"layout\":{\"autotypenumbers\":\"strict\",\"colorway\":[\"#636efa\",\"#EF553B\",\"#00cc96\",\"#ab63fa\",\"#FFA15A\",\"#19d3f3\",\"#FF6692\",\"#B6E880\",\"#FF97FF\",\"#FECB52\"],\"font\":{\"color\":\"#2a3f5f\"},\"hovermode\":\"closest\",\"hoverlabel\":{\"align\":\"left\"},\"paper_bgcolor\":\"white\",\"plot_bgcolor\":\"#E5ECF6\",\"polar\":{\"bgcolor\":\"#E5ECF6\",\"angularaxis\":{\"gridcolor\":\"white\",\"linecolor\":\"white\",\"ticks\":\"\"},\"radialaxis\":{\"gridcolor\":\"white\",\"linecolor\":\"white\",\"ticks\":\"\"}},\"ternary\":{\"bgcolor\":\"#E5ECF6\",\"aaxis\":{\"gridcolor\":\"white\",\"linecolor\":\"white\",\"ticks\":\"\"},\"baxis\":{\"gridcolor\":\"white\",\"linecolor\":\"white\",\"ticks\":\"\"},\"caxis\":{\"gridcolor\":\"white\",\"linecolor\":\"white\",\"ticks\":\"\"}},\"coloraxis\":{\"colorbar\":{\"outlinewidth\":0,\"ticks\":\"\"}},\"colorscale\":{\"sequential\":[[0.0,\"#0d0887\"],[0.1111111111111111,\"#46039f\"],[0.2222222222222222,\"#7201a8\"],[0.3333333333333333,\"#9c179e\"],[0.4444444444444444,\"#bd3786\"],[0.5555555555555556,\"#d8576b\"],[0.6666666666666666,\"#ed7953\"],[0.7777777777777778,\"#fb9f3a\"],[0.8888888888888888,\"#fdca26\"],[1.0,\"#f0f921\"]],\"sequentialminus\":[[0.0,\"#0d0887\"],[0.1111111111111111,\"#46039f\"],[0.2222222222222222,\"#7201a8\"],[0.3333333333333333,\"#9c179e\"],[0.4444444444444444,\"#bd3786\"],[0.5555555555555556,\"#d8576b\"],[0.6666666666666666,\"#ed7953\"],[0.7777777777777778,\"#fb9f3a\"],[0.8888888888888888,\"#fdca26\"],[1.0,\"#f0f921\"]],\"diverging\":[[0,\"#8e0152\"],[0.1,\"#c51b7d\"],[0.2,\"#de77ae\"],[0.3,\"#f1b6da\"],[0.4,\"#fde0ef\"],[0.5,\"#f7f7f7\"],[0.6,\"#e6f5d0\"],[0.7,\"#b8e186\"],[0.8,\"#7fbc41\"],[0.9,\"#4d9221\"],[1,\"#276419\"]]},\"xaxis\":{\"gridcolor\":\"white\",\"linecolor\":\"white\",\"ticks\":\"\",\"title\":{\"standoff\":15},\"zerolinecolor\":\"white\",\"automargin\":true,\"zerolinewidth\":2},\"yaxis\":{\"gridcolor\":\"white\",\"linecolor\":\"white\",\"ticks\":\"\",\"title\":{\"standoff\":15},\"zerolinecolor\":\"white\",\"automargin\":true,\"zerolinewidth\":2},\"scene\":{\"xaxis\":{\"backgroundcolor\":\"#E5ECF6\",\"gridcolor\":\"white\",\"linecolor\":\"white\",\"showbackground\":true,\"ticks\":\"\",\"zerolinecolor\":\"white\",\"gridwidth\":2},\"yaxis\":{\"backgroundcolor\":\"#E5ECF6\",\"gridcolor\":\"white\",\"linecolor\":\"white\",\"showbackground\":true,\"ticks\":\"\",\"zerolinecolor\":\"white\",\"gridwidth\":2},\"zaxis\":{\"backgroundcolor\":\"#E5ECF6\",\"gridcolor\":\"white\",\"linecolor\":\"white\",\"showbackground\":true,\"ticks\":\"\",\"zerolinecolor\":\"white\",\"gridwidth\":2}},\"shapedefaults\":{\"line\":{\"color\":\"#2a3f5f\"}},\"annotationdefaults\":{\"arrowcolor\":\"#2a3f5f\",\"arrowhead\":0,\"arrowwidth\":1},\"geo\":{\"bgcolor\":\"white\",\"landcolor\":\"#E5ECF6\",\"subunitcolor\":\"white\",\"showland\":true,\"showlakes\":true,\"lakecolor\":\"white\"},\"title\":{\"x\":0.05},\"mapbox\":{\"style\":\"light\"}}},\"xaxis\":{\"anchor\":\"y\",\"domain\":[0.0,1.0],\"title\":{\"text\":\"Year of Publication\"}},\"yaxis\":{\"anchor\":\"x\",\"domain\":[0.0,1.0],\"title\":{\"text\":\"Count\"}},\"legend\":{\"tracegroupgap\":0},\"title\":{\"text\":\"Distribution of Books by Year\"},\"barmode\":\"relative\"},                        {\"responsive\": true}                    ).then(function(){\n",
       "                            \n",
       "var gd = document.getElementById('4b5d3e34-006b-44f6-a62c-e28b5aee9736');\n",
       "var x = new MutationObserver(function (mutations, observer) {{\n",
       "        var display = window.getComputedStyle(gd).display;\n",
       "        if (!display || display === 'none') {{\n",
       "            console.log([gd, 'removed!']);\n",
       "            Plotly.purge(gd);\n",
       "            observer.disconnect();\n",
       "        }}\n",
       "}});\n",
       "\n",
       "// Listen for the removal of the full notebook cells\n",
       "var notebookContainer = gd.closest('#notebook-container');\n",
       "if (notebookContainer) {{\n",
       "    x.observe(notebookContainer, {childList: true});\n",
       "}}\n",
       "\n",
       "// Listen for the clearing of the current output cell\n",
       "var outputEl = gd.closest('.output');\n",
       "if (outputEl) {{\n",
       "    x.observe(outputEl, {childList: true});\n",
       "}}\n",
       "\n",
       "                        })                };                });            </script>        </div>"
      ]
     },
     "metadata": {},
     "output_type": "display_data"
    }
   ],
   "source": [
    "year2 = dataviz2.groupby('Year-Of-Publication').size().reset_index(name='count').sort_values(by='Year-Of-Publication', ascending=True)\n",
    "\n",
    "fig_ = px.bar(year2,\n",
    "              x='Year-Of-Publication',\n",
    "              y='count',\n",
    "              title=\"Distribution of Books by Year\")\n",
    "\n",
    "fig_.update_layout(xaxis_title='Year of Publication', yaxis_title='Count')\n",
    "\n",
    "fig_.show()"
   ]
  },
  {
   "cell_type": "code",
   "execution_count": 149,
   "id": "ec4d0d37",
   "metadata": {},
   "outputs": [
    {
     "data": {
      "application/vnd.plotly.v1+json": {
       "config": {
        "plotlyServerURL": "https://plot.ly"
       },
       "data": [
        {
         "marker": {
          "color": [
           8389,
           7520,
           5268,
           5055,
           4167
          ],
          "colorscale": [
           [
            0,
            "#440154"
           ],
           [
            0.1111111111111111,
            "#482878"
           ],
           [
            0.2222222222222222,
            "#3e4989"
           ],
           [
            0.3333333333333333,
            "#31688e"
           ],
           [
            0.4444444444444444,
            "#26828e"
           ],
           [
            0.5555555555555556,
            "#1f9e89"
           ],
           [
            0.6666666666666666,
            "#35b779"
           ],
           [
            0.7777777777777778,
            "#6ece58"
           ],
           [
            0.8888888888888888,
            "#b5de2b"
           ],
           [
            1,
            "#fde725"
           ]
          ],
          "line": {
           "color": "rgba(31, 119, 180, 1.0)",
           "width": 1
          }
         },
         "orientation": "h",
         "type": "bar",
         "x": [
          647,
          425,
          386,
          378,
          315
         ],
         "y": [
          "Stephen King",
          "Rich Shapero",
          "Terry Pratchett",
          "John Grisham",
          "Jane Austen"
         ]
        }
       ],
       "layout": {
        "bargap": 0.2,
        "bargroupgap": 0.1,
        "height": 600,
        "template": {
         "data": {
          "bar": [
           {
            "error_x": {
             "color": "#2a3f5f"
            },
            "error_y": {
             "color": "#2a3f5f"
            },
            "marker": {
             "line": {
              "color": "white",
              "width": 0.5
             },
             "pattern": {
              "fillmode": "overlay",
              "size": 10,
              "solidity": 0.2
             }
            },
            "type": "bar"
           }
          ],
          "barpolar": [
           {
            "marker": {
             "line": {
              "color": "white",
              "width": 0.5
             },
             "pattern": {
              "fillmode": "overlay",
              "size": 10,
              "solidity": 0.2
             }
            },
            "type": "barpolar"
           }
          ],
          "carpet": [
           {
            "aaxis": {
             "endlinecolor": "#2a3f5f",
             "gridcolor": "#C8D4E3",
             "linecolor": "#C8D4E3",
             "minorgridcolor": "#C8D4E3",
             "startlinecolor": "#2a3f5f"
            },
            "baxis": {
             "endlinecolor": "#2a3f5f",
             "gridcolor": "#C8D4E3",
             "linecolor": "#C8D4E3",
             "minorgridcolor": "#C8D4E3",
             "startlinecolor": "#2a3f5f"
            },
            "type": "carpet"
           }
          ],
          "choropleth": [
           {
            "colorbar": {
             "outlinewidth": 0,
             "ticks": ""
            },
            "type": "choropleth"
           }
          ],
          "contour": [
           {
            "colorbar": {
             "outlinewidth": 0,
             "ticks": ""
            },
            "colorscale": [
             [
              0,
              "#0d0887"
             ],
             [
              0.1111111111111111,
              "#46039f"
             ],
             [
              0.2222222222222222,
              "#7201a8"
             ],
             [
              0.3333333333333333,
              "#9c179e"
             ],
             [
              0.4444444444444444,
              "#bd3786"
             ],
             [
              0.5555555555555556,
              "#d8576b"
             ],
             [
              0.6666666666666666,
              "#ed7953"
             ],
             [
              0.7777777777777778,
              "#fb9f3a"
             ],
             [
              0.8888888888888888,
              "#fdca26"
             ],
             [
              1,
              "#f0f921"
             ]
            ],
            "type": "contour"
           }
          ],
          "contourcarpet": [
           {
            "colorbar": {
             "outlinewidth": 0,
             "ticks": ""
            },
            "type": "contourcarpet"
           }
          ],
          "heatmap": [
           {
            "colorbar": {
             "outlinewidth": 0,
             "ticks": ""
            },
            "colorscale": [
             [
              0,
              "#0d0887"
             ],
             [
              0.1111111111111111,
              "#46039f"
             ],
             [
              0.2222222222222222,
              "#7201a8"
             ],
             [
              0.3333333333333333,
              "#9c179e"
             ],
             [
              0.4444444444444444,
              "#bd3786"
             ],
             [
              0.5555555555555556,
              "#d8576b"
             ],
             [
              0.6666666666666666,
              "#ed7953"
             ],
             [
              0.7777777777777778,
              "#fb9f3a"
             ],
             [
              0.8888888888888888,
              "#fdca26"
             ],
             [
              1,
              "#f0f921"
             ]
            ],
            "type": "heatmap"
           }
          ],
          "heatmapgl": [
           {
            "colorbar": {
             "outlinewidth": 0,
             "ticks": ""
            },
            "colorscale": [
             [
              0,
              "#0d0887"
             ],
             [
              0.1111111111111111,
              "#46039f"
             ],
             [
              0.2222222222222222,
              "#7201a8"
             ],
             [
              0.3333333333333333,
              "#9c179e"
             ],
             [
              0.4444444444444444,
              "#bd3786"
             ],
             [
              0.5555555555555556,
              "#d8576b"
             ],
             [
              0.6666666666666666,
              "#ed7953"
             ],
             [
              0.7777777777777778,
              "#fb9f3a"
             ],
             [
              0.8888888888888888,
              "#fdca26"
             ],
             [
              1,
              "#f0f921"
             ]
            ],
            "type": "heatmapgl"
           }
          ],
          "histogram": [
           {
            "marker": {
             "pattern": {
              "fillmode": "overlay",
              "size": 10,
              "solidity": 0.2
             }
            },
            "type": "histogram"
           }
          ],
          "histogram2d": [
           {
            "colorbar": {
             "outlinewidth": 0,
             "ticks": ""
            },
            "colorscale": [
             [
              0,
              "#0d0887"
             ],
             [
              0.1111111111111111,
              "#46039f"
             ],
             [
              0.2222222222222222,
              "#7201a8"
             ],
             [
              0.3333333333333333,
              "#9c179e"
             ],
             [
              0.4444444444444444,
              "#bd3786"
             ],
             [
              0.5555555555555556,
              "#d8576b"
             ],
             [
              0.6666666666666666,
              "#ed7953"
             ],
             [
              0.7777777777777778,
              "#fb9f3a"
             ],
             [
              0.8888888888888888,
              "#fdca26"
             ],
             [
              1,
              "#f0f921"
             ]
            ],
            "type": "histogram2d"
           }
          ],
          "histogram2dcontour": [
           {
            "colorbar": {
             "outlinewidth": 0,
             "ticks": ""
            },
            "colorscale": [
             [
              0,
              "#0d0887"
             ],
             [
              0.1111111111111111,
              "#46039f"
             ],
             [
              0.2222222222222222,
              "#7201a8"
             ],
             [
              0.3333333333333333,
              "#9c179e"
             ],
             [
              0.4444444444444444,
              "#bd3786"
             ],
             [
              0.5555555555555556,
              "#d8576b"
             ],
             [
              0.6666666666666666,
              "#ed7953"
             ],
             [
              0.7777777777777778,
              "#fb9f3a"
             ],
             [
              0.8888888888888888,
              "#fdca26"
             ],
             [
              1,
              "#f0f921"
             ]
            ],
            "type": "histogram2dcontour"
           }
          ],
          "mesh3d": [
           {
            "colorbar": {
             "outlinewidth": 0,
             "ticks": ""
            },
            "type": "mesh3d"
           }
          ],
          "parcoords": [
           {
            "line": {
             "colorbar": {
              "outlinewidth": 0,
              "ticks": ""
             }
            },
            "type": "parcoords"
           }
          ],
          "pie": [
           {
            "automargin": true,
            "type": "pie"
           }
          ],
          "scatter": [
           {
            "fillpattern": {
             "fillmode": "overlay",
             "size": 10,
             "solidity": 0.2
            },
            "type": "scatter"
           }
          ],
          "scatter3d": [
           {
            "line": {
             "colorbar": {
              "outlinewidth": 0,
              "ticks": ""
             }
            },
            "marker": {
             "colorbar": {
              "outlinewidth": 0,
              "ticks": ""
             }
            },
            "type": "scatter3d"
           }
          ],
          "scattercarpet": [
           {
            "marker": {
             "colorbar": {
              "outlinewidth": 0,
              "ticks": ""
             }
            },
            "type": "scattercarpet"
           }
          ],
          "scattergeo": [
           {
            "marker": {
             "colorbar": {
              "outlinewidth": 0,
              "ticks": ""
             }
            },
            "type": "scattergeo"
           }
          ],
          "scattergl": [
           {
            "marker": {
             "colorbar": {
              "outlinewidth": 0,
              "ticks": ""
             }
            },
            "type": "scattergl"
           }
          ],
          "scattermapbox": [
           {
            "marker": {
             "colorbar": {
              "outlinewidth": 0,
              "ticks": ""
             }
            },
            "type": "scattermapbox"
           }
          ],
          "scatterpolar": [
           {
            "marker": {
             "colorbar": {
              "outlinewidth": 0,
              "ticks": ""
             }
            },
            "type": "scatterpolar"
           }
          ],
          "scatterpolargl": [
           {
            "marker": {
             "colorbar": {
              "outlinewidth": 0,
              "ticks": ""
             }
            },
            "type": "scatterpolargl"
           }
          ],
          "scatterternary": [
           {
            "marker": {
             "colorbar": {
              "outlinewidth": 0,
              "ticks": ""
             }
            },
            "type": "scatterternary"
           }
          ],
          "surface": [
           {
            "colorbar": {
             "outlinewidth": 0,
             "ticks": ""
            },
            "colorscale": [
             [
              0,
              "#0d0887"
             ],
             [
              0.1111111111111111,
              "#46039f"
             ],
             [
              0.2222222222222222,
              "#7201a8"
             ],
             [
              0.3333333333333333,
              "#9c179e"
             ],
             [
              0.4444444444444444,
              "#bd3786"
             ],
             [
              0.5555555555555556,
              "#d8576b"
             ],
             [
              0.6666666666666666,
              "#ed7953"
             ],
             [
              0.7777777777777778,
              "#fb9f3a"
             ],
             [
              0.8888888888888888,
              "#fdca26"
             ],
             [
              1,
              "#f0f921"
             ]
            ],
            "type": "surface"
           }
          ],
          "table": [
           {
            "cells": {
             "fill": {
              "color": "#EBF0F8"
             },
             "line": {
              "color": "white"
             }
            },
            "header": {
             "fill": {
              "color": "#C8D4E3"
             },
             "line": {
              "color": "white"
             }
            },
            "type": "table"
           }
          ]
         },
         "layout": {
          "annotationdefaults": {
           "arrowcolor": "#2a3f5f",
           "arrowhead": 0,
           "arrowwidth": 1
          },
          "autotypenumbers": "strict",
          "coloraxis": {
           "colorbar": {
            "outlinewidth": 0,
            "ticks": ""
           }
          },
          "colorscale": {
           "diverging": [
            [
             0,
             "#8e0152"
            ],
            [
             0.1,
             "#c51b7d"
            ],
            [
             0.2,
             "#de77ae"
            ],
            [
             0.3,
             "#f1b6da"
            ],
            [
             0.4,
             "#fde0ef"
            ],
            [
             0.5,
             "#f7f7f7"
            ],
            [
             0.6,
             "#e6f5d0"
            ],
            [
             0.7,
             "#b8e186"
            ],
            [
             0.8,
             "#7fbc41"
            ],
            [
             0.9,
             "#4d9221"
            ],
            [
             1,
             "#276419"
            ]
           ],
           "sequential": [
            [
             0,
             "#0d0887"
            ],
            [
             0.1111111111111111,
             "#46039f"
            ],
            [
             0.2222222222222222,
             "#7201a8"
            ],
            [
             0.3333333333333333,
             "#9c179e"
            ],
            [
             0.4444444444444444,
             "#bd3786"
            ],
            [
             0.5555555555555556,
             "#d8576b"
            ],
            [
             0.6666666666666666,
             "#ed7953"
            ],
            [
             0.7777777777777778,
             "#fb9f3a"
            ],
            [
             0.8888888888888888,
             "#fdca26"
            ],
            [
             1,
             "#f0f921"
            ]
           ],
           "sequentialminus": [
            [
             0,
             "#0d0887"
            ],
            [
             0.1111111111111111,
             "#46039f"
            ],
            [
             0.2222222222222222,
             "#7201a8"
            ],
            [
             0.3333333333333333,
             "#9c179e"
            ],
            [
             0.4444444444444444,
             "#bd3786"
            ],
            [
             0.5555555555555556,
             "#d8576b"
            ],
            [
             0.6666666666666666,
             "#ed7953"
            ],
            [
             0.7777777777777778,
             "#fb9f3a"
            ],
            [
             0.8888888888888888,
             "#fdca26"
            ],
            [
             1,
             "#f0f921"
            ]
           ]
          },
          "colorway": [
           "#636efa",
           "#EF553B",
           "#00cc96",
           "#ab63fa",
           "#FFA15A",
           "#19d3f3",
           "#FF6692",
           "#B6E880",
           "#FF97FF",
           "#FECB52"
          ],
          "font": {
           "color": "#2a3f5f"
          },
          "geo": {
           "bgcolor": "white",
           "lakecolor": "white",
           "landcolor": "white",
           "showlakes": true,
           "showland": true,
           "subunitcolor": "#C8D4E3"
          },
          "hoverlabel": {
           "align": "left"
          },
          "hovermode": "closest",
          "mapbox": {
           "style": "light"
          },
          "paper_bgcolor": "white",
          "plot_bgcolor": "white",
          "polar": {
           "angularaxis": {
            "gridcolor": "#EBF0F8",
            "linecolor": "#EBF0F8",
            "ticks": ""
           },
           "bgcolor": "white",
           "radialaxis": {
            "gridcolor": "#EBF0F8",
            "linecolor": "#EBF0F8",
            "ticks": ""
           }
          },
          "scene": {
           "xaxis": {
            "backgroundcolor": "white",
            "gridcolor": "#DFE8F3",
            "gridwidth": 2,
            "linecolor": "#EBF0F8",
            "showbackground": true,
            "ticks": "",
            "zerolinecolor": "#EBF0F8"
           },
           "yaxis": {
            "backgroundcolor": "white",
            "gridcolor": "#DFE8F3",
            "gridwidth": 2,
            "linecolor": "#EBF0F8",
            "showbackground": true,
            "ticks": "",
            "zerolinecolor": "#EBF0F8"
           },
           "zaxis": {
            "backgroundcolor": "white",
            "gridcolor": "#DFE8F3",
            "gridwidth": 2,
            "linecolor": "#EBF0F8",
            "showbackground": true,
            "ticks": "",
            "zerolinecolor": "#EBF0F8"
           }
          },
          "shapedefaults": {
           "line": {
            "color": "#2a3f5f"
           }
          },
          "ternary": {
           "aaxis": {
            "gridcolor": "#DFE8F3",
            "linecolor": "#A2B1C6",
            "ticks": ""
           },
           "baxis": {
            "gridcolor": "#DFE8F3",
            "linecolor": "#A2B1C6",
            "ticks": ""
           },
           "bgcolor": "white",
           "caxis": {
            "gridcolor": "#DFE8F3",
            "linecolor": "#A2B1C6",
            "ticks": ""
           }
          },
          "title": {
           "x": 0.05
          },
          "xaxis": {
           "automargin": true,
           "gridcolor": "#EBF0F8",
           "linecolor": "#EBF0F8",
           "ticks": "",
           "title": {
            "standoff": 15
           },
           "zerolinecolor": "#EBF0F8",
           "zerolinewidth": 2
          },
          "yaxis": {
           "automargin": true,
           "gridcolor": "#EBF0F8",
           "linecolor": "#EBF0F8",
           "ticks": "",
           "title": {
            "standoff": 15
           },
           "zerolinecolor": "#EBF0F8",
           "zerolinewidth": 2
          }
         }
        },
        "title": {
         "text": "Top 5 authors with most books"
        },
        "width": 800,
        "xaxis": {
         "title": {
          "text": "Total number of books"
         }
        },
        "yaxis": {
         "title": {
          "text": "Authors"
         }
        }
       }
      },
      "text/html": [
       "<div>                            <div id=\"edc7e1e5-3f62-4075-81df-251bef456c87\" class=\"plotly-graph-div\" style=\"height:600px; width:800px;\"></div>            <script type=\"text/javascript\">                require([\"plotly\"], function(Plotly) {                    window.PLOTLYENV=window.PLOTLYENV || {};                                    if (document.getElementById(\"edc7e1e5-3f62-4075-81df-251bef456c87\")) {                    Plotly.newPlot(                        \"edc7e1e5-3f62-4075-81df-251bef456c87\",                        [{\"marker\":{\"color\":[8389,7520,5268,5055,4167],\"colorscale\":[[0.0,\"#440154\"],[0.1111111111111111,\"#482878\"],[0.2222222222222222,\"#3e4989\"],[0.3333333333333333,\"#31688e\"],[0.4444444444444444,\"#26828e\"],[0.5555555555555556,\"#1f9e89\"],[0.6666666666666666,\"#35b779\"],[0.7777777777777778,\"#6ece58\"],[0.8888888888888888,\"#b5de2b\"],[1.0,\"#fde725\"]],\"line\":{\"color\":\"rgba(31, 119, 180, 1.0)\",\"width\":1}},\"orientation\":\"h\",\"x\":[647,425,386,378,315],\"y\":[\"Stephen King\",\"Rich Shapero\",\"Terry Pratchett\",\"John Grisham\",\"Jane Austen\"],\"type\":\"bar\"}],                        {\"template\":{\"data\":{\"barpolar\":[{\"marker\":{\"line\":{\"color\":\"white\",\"width\":0.5},\"pattern\":{\"fillmode\":\"overlay\",\"size\":10,\"solidity\":0.2}},\"type\":\"barpolar\"}],\"bar\":[{\"error_x\":{\"color\":\"#2a3f5f\"},\"error_y\":{\"color\":\"#2a3f5f\"},\"marker\":{\"line\":{\"color\":\"white\",\"width\":0.5},\"pattern\":{\"fillmode\":\"overlay\",\"size\":10,\"solidity\":0.2}},\"type\":\"bar\"}],\"carpet\":[{\"aaxis\":{\"endlinecolor\":\"#2a3f5f\",\"gridcolor\":\"#C8D4E3\",\"linecolor\":\"#C8D4E3\",\"minorgridcolor\":\"#C8D4E3\",\"startlinecolor\":\"#2a3f5f\"},\"baxis\":{\"endlinecolor\":\"#2a3f5f\",\"gridcolor\":\"#C8D4E3\",\"linecolor\":\"#C8D4E3\",\"minorgridcolor\":\"#C8D4E3\",\"startlinecolor\":\"#2a3f5f\"},\"type\":\"carpet\"}],\"choropleth\":[{\"colorbar\":{\"outlinewidth\":0,\"ticks\":\"\"},\"type\":\"choropleth\"}],\"contourcarpet\":[{\"colorbar\":{\"outlinewidth\":0,\"ticks\":\"\"},\"type\":\"contourcarpet\"}],\"contour\":[{\"colorbar\":{\"outlinewidth\":0,\"ticks\":\"\"},\"colorscale\":[[0.0,\"#0d0887\"],[0.1111111111111111,\"#46039f\"],[0.2222222222222222,\"#7201a8\"],[0.3333333333333333,\"#9c179e\"],[0.4444444444444444,\"#bd3786\"],[0.5555555555555556,\"#d8576b\"],[0.6666666666666666,\"#ed7953\"],[0.7777777777777778,\"#fb9f3a\"],[0.8888888888888888,\"#fdca26\"],[1.0,\"#f0f921\"]],\"type\":\"contour\"}],\"heatmapgl\":[{\"colorbar\":{\"outlinewidth\":0,\"ticks\":\"\"},\"colorscale\":[[0.0,\"#0d0887\"],[0.1111111111111111,\"#46039f\"],[0.2222222222222222,\"#7201a8\"],[0.3333333333333333,\"#9c179e\"],[0.4444444444444444,\"#bd3786\"],[0.5555555555555556,\"#d8576b\"],[0.6666666666666666,\"#ed7953\"],[0.7777777777777778,\"#fb9f3a\"],[0.8888888888888888,\"#fdca26\"],[1.0,\"#f0f921\"]],\"type\":\"heatmapgl\"}],\"heatmap\":[{\"colorbar\":{\"outlinewidth\":0,\"ticks\":\"\"},\"colorscale\":[[0.0,\"#0d0887\"],[0.1111111111111111,\"#46039f\"],[0.2222222222222222,\"#7201a8\"],[0.3333333333333333,\"#9c179e\"],[0.4444444444444444,\"#bd3786\"],[0.5555555555555556,\"#d8576b\"],[0.6666666666666666,\"#ed7953\"],[0.7777777777777778,\"#fb9f3a\"],[0.8888888888888888,\"#fdca26\"],[1.0,\"#f0f921\"]],\"type\":\"heatmap\"}],\"histogram2dcontour\":[{\"colorbar\":{\"outlinewidth\":0,\"ticks\":\"\"},\"colorscale\":[[0.0,\"#0d0887\"],[0.1111111111111111,\"#46039f\"],[0.2222222222222222,\"#7201a8\"],[0.3333333333333333,\"#9c179e\"],[0.4444444444444444,\"#bd3786\"],[0.5555555555555556,\"#d8576b\"],[0.6666666666666666,\"#ed7953\"],[0.7777777777777778,\"#fb9f3a\"],[0.8888888888888888,\"#fdca26\"],[1.0,\"#f0f921\"]],\"type\":\"histogram2dcontour\"}],\"histogram2d\":[{\"colorbar\":{\"outlinewidth\":0,\"ticks\":\"\"},\"colorscale\":[[0.0,\"#0d0887\"],[0.1111111111111111,\"#46039f\"],[0.2222222222222222,\"#7201a8\"],[0.3333333333333333,\"#9c179e\"],[0.4444444444444444,\"#bd3786\"],[0.5555555555555556,\"#d8576b\"],[0.6666666666666666,\"#ed7953\"],[0.7777777777777778,\"#fb9f3a\"],[0.8888888888888888,\"#fdca26\"],[1.0,\"#f0f921\"]],\"type\":\"histogram2d\"}],\"histogram\":[{\"marker\":{\"pattern\":{\"fillmode\":\"overlay\",\"size\":10,\"solidity\":0.2}},\"type\":\"histogram\"}],\"mesh3d\":[{\"colorbar\":{\"outlinewidth\":0,\"ticks\":\"\"},\"type\":\"mesh3d\"}],\"parcoords\":[{\"line\":{\"colorbar\":{\"outlinewidth\":0,\"ticks\":\"\"}},\"type\":\"parcoords\"}],\"pie\":[{\"automargin\":true,\"type\":\"pie\"}],\"scatter3d\":[{\"line\":{\"colorbar\":{\"outlinewidth\":0,\"ticks\":\"\"}},\"marker\":{\"colorbar\":{\"outlinewidth\":0,\"ticks\":\"\"}},\"type\":\"scatter3d\"}],\"scattercarpet\":[{\"marker\":{\"colorbar\":{\"outlinewidth\":0,\"ticks\":\"\"}},\"type\":\"scattercarpet\"}],\"scattergeo\":[{\"marker\":{\"colorbar\":{\"outlinewidth\":0,\"ticks\":\"\"}},\"type\":\"scattergeo\"}],\"scattergl\":[{\"marker\":{\"colorbar\":{\"outlinewidth\":0,\"ticks\":\"\"}},\"type\":\"scattergl\"}],\"scattermapbox\":[{\"marker\":{\"colorbar\":{\"outlinewidth\":0,\"ticks\":\"\"}},\"type\":\"scattermapbox\"}],\"scatterpolargl\":[{\"marker\":{\"colorbar\":{\"outlinewidth\":0,\"ticks\":\"\"}},\"type\":\"scatterpolargl\"}],\"scatterpolar\":[{\"marker\":{\"colorbar\":{\"outlinewidth\":0,\"ticks\":\"\"}},\"type\":\"scatterpolar\"}],\"scatter\":[{\"fillpattern\":{\"fillmode\":\"overlay\",\"size\":10,\"solidity\":0.2},\"type\":\"scatter\"}],\"scatterternary\":[{\"marker\":{\"colorbar\":{\"outlinewidth\":0,\"ticks\":\"\"}},\"type\":\"scatterternary\"}],\"surface\":[{\"colorbar\":{\"outlinewidth\":0,\"ticks\":\"\"},\"colorscale\":[[0.0,\"#0d0887\"],[0.1111111111111111,\"#46039f\"],[0.2222222222222222,\"#7201a8\"],[0.3333333333333333,\"#9c179e\"],[0.4444444444444444,\"#bd3786\"],[0.5555555555555556,\"#d8576b\"],[0.6666666666666666,\"#ed7953\"],[0.7777777777777778,\"#fb9f3a\"],[0.8888888888888888,\"#fdca26\"],[1.0,\"#f0f921\"]],\"type\":\"surface\"}],\"table\":[{\"cells\":{\"fill\":{\"color\":\"#EBF0F8\"},\"line\":{\"color\":\"white\"}},\"header\":{\"fill\":{\"color\":\"#C8D4E3\"},\"line\":{\"color\":\"white\"}},\"type\":\"table\"}]},\"layout\":{\"annotationdefaults\":{\"arrowcolor\":\"#2a3f5f\",\"arrowhead\":0,\"arrowwidth\":1},\"autotypenumbers\":\"strict\",\"coloraxis\":{\"colorbar\":{\"outlinewidth\":0,\"ticks\":\"\"}},\"colorscale\":{\"diverging\":[[0,\"#8e0152\"],[0.1,\"#c51b7d\"],[0.2,\"#de77ae\"],[0.3,\"#f1b6da\"],[0.4,\"#fde0ef\"],[0.5,\"#f7f7f7\"],[0.6,\"#e6f5d0\"],[0.7,\"#b8e186\"],[0.8,\"#7fbc41\"],[0.9,\"#4d9221\"],[1,\"#276419\"]],\"sequential\":[[0.0,\"#0d0887\"],[0.1111111111111111,\"#46039f\"],[0.2222222222222222,\"#7201a8\"],[0.3333333333333333,\"#9c179e\"],[0.4444444444444444,\"#bd3786\"],[0.5555555555555556,\"#d8576b\"],[0.6666666666666666,\"#ed7953\"],[0.7777777777777778,\"#fb9f3a\"],[0.8888888888888888,\"#fdca26\"],[1.0,\"#f0f921\"]],\"sequentialminus\":[[0.0,\"#0d0887\"],[0.1111111111111111,\"#46039f\"],[0.2222222222222222,\"#7201a8\"],[0.3333333333333333,\"#9c179e\"],[0.4444444444444444,\"#bd3786\"],[0.5555555555555556,\"#d8576b\"],[0.6666666666666666,\"#ed7953\"],[0.7777777777777778,\"#fb9f3a\"],[0.8888888888888888,\"#fdca26\"],[1.0,\"#f0f921\"]]},\"colorway\":[\"#636efa\",\"#EF553B\",\"#00cc96\",\"#ab63fa\",\"#FFA15A\",\"#19d3f3\",\"#FF6692\",\"#B6E880\",\"#FF97FF\",\"#FECB52\"],\"font\":{\"color\":\"#2a3f5f\"},\"geo\":{\"bgcolor\":\"white\",\"lakecolor\":\"white\",\"landcolor\":\"white\",\"showlakes\":true,\"showland\":true,\"subunitcolor\":\"#C8D4E3\"},\"hoverlabel\":{\"align\":\"left\"},\"hovermode\":\"closest\",\"mapbox\":{\"style\":\"light\"},\"paper_bgcolor\":\"white\",\"plot_bgcolor\":\"white\",\"polar\":{\"angularaxis\":{\"gridcolor\":\"#EBF0F8\",\"linecolor\":\"#EBF0F8\",\"ticks\":\"\"},\"bgcolor\":\"white\",\"radialaxis\":{\"gridcolor\":\"#EBF0F8\",\"linecolor\":\"#EBF0F8\",\"ticks\":\"\"}},\"scene\":{\"xaxis\":{\"backgroundcolor\":\"white\",\"gridcolor\":\"#DFE8F3\",\"gridwidth\":2,\"linecolor\":\"#EBF0F8\",\"showbackground\":true,\"ticks\":\"\",\"zerolinecolor\":\"#EBF0F8\"},\"yaxis\":{\"backgroundcolor\":\"white\",\"gridcolor\":\"#DFE8F3\",\"gridwidth\":2,\"linecolor\":\"#EBF0F8\",\"showbackground\":true,\"ticks\":\"\",\"zerolinecolor\":\"#EBF0F8\"},\"zaxis\":{\"backgroundcolor\":\"white\",\"gridcolor\":\"#DFE8F3\",\"gridwidth\":2,\"linecolor\":\"#EBF0F8\",\"showbackground\":true,\"ticks\":\"\",\"zerolinecolor\":\"#EBF0F8\"}},\"shapedefaults\":{\"line\":{\"color\":\"#2a3f5f\"}},\"ternary\":{\"aaxis\":{\"gridcolor\":\"#DFE8F3\",\"linecolor\":\"#A2B1C6\",\"ticks\":\"\"},\"baxis\":{\"gridcolor\":\"#DFE8F3\",\"linecolor\":\"#A2B1C6\",\"ticks\":\"\"},\"bgcolor\":\"white\",\"caxis\":{\"gridcolor\":\"#DFE8F3\",\"linecolor\":\"#A2B1C6\",\"ticks\":\"\"}},\"title\":{\"x\":0.05},\"xaxis\":{\"automargin\":true,\"gridcolor\":\"#EBF0F8\",\"linecolor\":\"#EBF0F8\",\"ticks\":\"\",\"title\":{\"standoff\":15},\"zerolinecolor\":\"#EBF0F8\",\"zerolinewidth\":2},\"yaxis\":{\"automargin\":true,\"gridcolor\":\"#EBF0F8\",\"linecolor\":\"#EBF0F8\",\"ticks\":\"\",\"title\":{\"standoff\":15},\"zerolinecolor\":\"#EBF0F8\",\"zerolinewidth\":2}}},\"title\":{\"text\":\"Top 5 authors with most books\"},\"xaxis\":{\"title\":{\"text\":\"Total number of books\"}},\"yaxis\":{\"title\":{\"text\":\"Authors\"}},\"height\":600,\"width\":800,\"bargap\":0.2,\"bargroupgap\":0.1},                        {\"responsive\": true}                    ).then(function(){\n",
       "                            \n",
       "var gd = document.getElementById('edc7e1e5-3f62-4075-81df-251bef456c87');\n",
       "var x = new MutationObserver(function (mutations, observer) {{\n",
       "        var display = window.getComputedStyle(gd).display;\n",
       "        if (!display || display === 'none') {{\n",
       "            console.log([gd, 'removed!']);\n",
       "            Plotly.purge(gd);\n",
       "            observer.disconnect();\n",
       "        }}\n",
       "}});\n",
       "\n",
       "// Listen for the removal of the full notebook cells\n",
       "var notebookContainer = gd.closest('#notebook-container');\n",
       "if (notebookContainer) {{\n",
       "    x.observe(notebookContainer, {childList: true});\n",
       "}}\n",
       "\n",
       "// Listen for the clearing of the current output cell\n",
       "var outputEl = gd.closest('.output');\n",
       "if (outputEl) {{\n",
       "    x.observe(outputEl, {childList: true});\n",
       "}}\n",
       "\n",
       "                        })                };                });            </script>        </div>"
      ]
     },
     "metadata": {},
     "output_type": "display_data"
    }
   ],
   "source": [
    "import plotly.graph_objects as go\n",
    "\n",
    "most_books2 = dataviz2.groupby('Book-Author')['Book-Title'].count().reset_index().sort_values('Book-Title', ascending=False).head(5)\n",
    "\n",
    "fig = go.Figure(data=[go.Bar(\n",
    "    x=most_books2['Book-Title'],\n",
    "    y=most_books2['Book-Author'],\n",
    "    orientation='h',\n",
    "    marker=dict(\n",
    "        color=most_books['Book-Title'],\n",
    "        colorscale='viridis',\n",
    "        line=dict(color='rgba(31, 119, 180, 1.0)', width=1)  \n",
    "    )\n",
    ")])\n",
    "\n",
    "fig.update_layout(\n",
    "    title=\"Top 5 authors with most books\",\n",
    "    xaxis_title=\"Total number of books\",\n",
    "    yaxis_title=\"Authors\",\n",
    "    height=600,\n",
    "    width=800,\n",
    "    bargap=0.2,  \n",
    "    bargroupgap=0.1,  \n",
    "    template='plotly_white'  \n",
    ")\n",
    "\n",
    "fig.show()"
   ]
  },
  {
   "cell_type": "code",
   "execution_count": 151,
   "id": "d62535ad",
   "metadata": {},
   "outputs": [
    {
     "data": {
      "text/html": [
       "<div>\n",
       "<style scoped>\n",
       "    .dataframe tbody tr th:only-of-type {\n",
       "        vertical-align: middle;\n",
       "    }\n",
       "\n",
       "    .dataframe tbody tr th {\n",
       "        vertical-align: top;\n",
       "    }\n",
       "\n",
       "    .dataframe thead th {\n",
       "        text-align: right;\n",
       "    }\n",
       "</style>\n",
       "<table border=\"1\" class=\"dataframe\">\n",
       "  <thead>\n",
       "    <tr style=\"text-align: right;\">\n",
       "      <th></th>\n",
       "      <th>ISBN</th>\n",
       "      <th>Book-Title</th>\n",
       "      <th>Book-Author</th>\n",
       "      <th>Year-Of-Publication</th>\n",
       "      <th>Publisher</th>\n",
       "      <th>Image-URL-L</th>\n",
       "      <th>User-ID</th>\n",
       "      <th>Book-Rating</th>\n",
       "      <th>Location</th>\n",
       "      <th>Age</th>\n",
       "      <th>City</th>\n",
       "      <th>State</th>\n",
       "      <th>Country</th>\n",
       "    </tr>\n",
       "  </thead>\n",
       "  <tbody>\n",
       "    <tr>\n",
       "      <th>35514</th>\n",
       "      <td>0451153553</td>\n",
       "      <td>Misery</td>\n",
       "      <td>Stephen King</td>\n",
       "      <td>1988</td>\n",
       "      <td>New Amer Library</td>\n",
       "      <td>http://images.amazon.com/images/P/0451153553.0...</td>\n",
       "      <td>13582</td>\n",
       "      <td>9</td>\n",
       "      <td>lisboa, lisboa, portugal</td>\n",
       "      <td>29.0</td>\n",
       "      <td>lisboa</td>\n",
       "      <td>lisboa</td>\n",
       "      <td>Portugal</td>\n",
       "    </tr>\n",
       "    <tr>\n",
       "      <th>35529</th>\n",
       "      <td>0451167317</td>\n",
       "      <td>The Dark Half</td>\n",
       "      <td>Stephen King</td>\n",
       "      <td>1994</td>\n",
       "      <td>Signet Book</td>\n",
       "      <td>http://images.amazon.com/images/P/0451167317.0...</td>\n",
       "      <td>13582</td>\n",
       "      <td>0</td>\n",
       "      <td>lisboa, lisboa, portugal</td>\n",
       "      <td>29.0</td>\n",
       "      <td>lisboa</td>\n",
       "      <td>lisboa</td>\n",
       "      <td>Portugal</td>\n",
       "    </tr>\n",
       "    <tr>\n",
       "      <th>35565</th>\n",
       "      <td>0670858692</td>\n",
       "      <td>Rose Madder</td>\n",
       "      <td>Stephen King</td>\n",
       "      <td>1995</td>\n",
       "      <td>Viking Books</td>\n",
       "      <td>http://images.amazon.com/images/P/0670858692.0...</td>\n",
       "      <td>13582</td>\n",
       "      <td>0</td>\n",
       "      <td>lisboa, lisboa, portugal</td>\n",
       "      <td>29.0</td>\n",
       "      <td>lisboa</td>\n",
       "      <td>lisboa</td>\n",
       "      <td>Portugal</td>\n",
       "    </tr>\n",
       "    <tr>\n",
       "      <th>35583</th>\n",
       "      <td>0670835382</td>\n",
       "      <td>Four Past Midnight</td>\n",
       "      <td>Stephen King</td>\n",
       "      <td>1990</td>\n",
       "      <td>Viking Books</td>\n",
       "      <td>http://images.amazon.com/images/P/0670835382.0...</td>\n",
       "      <td>13582</td>\n",
       "      <td>0</td>\n",
       "      <td>lisboa, lisboa, portugal</td>\n",
       "      <td>29.0</td>\n",
       "      <td>lisboa</td>\n",
       "      <td>lisboa</td>\n",
       "      <td>Portugal</td>\n",
       "    </tr>\n",
       "    <tr>\n",
       "      <th>55860</th>\n",
       "      <td>0399133143</td>\n",
       "      <td>The Tommyknockers</td>\n",
       "      <td>Stephen King</td>\n",
       "      <td>1987</td>\n",
       "      <td>Putnam Pub Group</td>\n",
       "      <td>http://images.amazon.com/images/P/0399133143.0...</td>\n",
       "      <td>48268</td>\n",
       "      <td>0</td>\n",
       "      <td>vienna, vienna, austria</td>\n",
       "      <td>18.0</td>\n",
       "      <td>vienna</td>\n",
       "      <td>vienna</td>\n",
       "      <td>Austria</td>\n",
       "    </tr>\n",
       "    <tr>\n",
       "      <th>...</th>\n",
       "      <td>...</td>\n",
       "      <td>...</td>\n",
       "      <td>...</td>\n",
       "      <td>...</td>\n",
       "      <td>...</td>\n",
       "      <td>...</td>\n",
       "      <td>...</td>\n",
       "      <td>...</td>\n",
       "      <td>...</td>\n",
       "      <td>...</td>\n",
       "      <td>...</td>\n",
       "      <td>...</td>\n",
       "      <td>...</td>\n",
       "    </tr>\n",
       "    <tr>\n",
       "      <th>1026107</th>\n",
       "      <td>3453177487</td>\n",
       "      <td>Atlantis</td>\n",
       "      <td>Stephen King</td>\n",
       "      <td>2001</td>\n",
       "      <td>Wilhelm Heyne Verlag</td>\n",
       "      <td>http://images.amazon.com/images/P/3453177487.0...</td>\n",
       "      <td>151322</td>\n",
       "      <td>6</td>\n",
       "      <td>offenbach, hessen, germany</td>\n",
       "      <td>19.0</td>\n",
       "      <td>offenbach</td>\n",
       "      <td>hessen</td>\n",
       "      <td>Germany</td>\n",
       "    </tr>\n",
       "    <tr>\n",
       "      <th>1026108</th>\n",
       "      <td>3453177487</td>\n",
       "      <td>Atlantis</td>\n",
       "      <td>Stephen King</td>\n",
       "      <td>2001</td>\n",
       "      <td>Wilhelm Heyne Verlag</td>\n",
       "      <td>http://images.amazon.com/images/P/3453177487.0...</td>\n",
       "      <td>210854</td>\n",
       "      <td>6</td>\n",
       "      <td>muttenz, baselland, switzerland</td>\n",
       "      <td>NaN</td>\n",
       "      <td>muttenz</td>\n",
       "      <td>baselland</td>\n",
       "      <td>Switzerland</td>\n",
       "    </tr>\n",
       "    <tr>\n",
       "      <th>1027386</th>\n",
       "      <td>3548255531</td>\n",
       "      <td>In einer kleinen Stadt Needful Things Roman</td>\n",
       "      <td>Stephen King</td>\n",
       "      <td>2003</td>\n",
       "      <td>Ullstein Tb</td>\n",
       "      <td>http://images.amazon.com/images/P/3548255531.0...</td>\n",
       "      <td>76684</td>\n",
       "      <td>2</td>\n",
       "      <td>oerlinghausen, nordrhein-westfalen, germany</td>\n",
       "      <td>20.0</td>\n",
       "      <td>oerlinghausen</td>\n",
       "      <td>nordrhein-westfalen</td>\n",
       "      <td>Germany</td>\n",
       "    </tr>\n",
       "    <tr>\n",
       "      <th>1028179</th>\n",
       "      <td>340425936X</td>\n",
       "      <td>Feuerkind Cujo Zwei Romane in einem Band</td>\n",
       "      <td>Stephen King</td>\n",
       "      <td>2003</td>\n",
       "      <td>LÃ?Â¼bbe</td>\n",
       "      <td>http://images.amazon.com/images/P/340425936X.0...</td>\n",
       "      <td>154755</td>\n",
       "      <td>0</td>\n",
       "      <td>bremen, bremen, germany</td>\n",
       "      <td>42.0</td>\n",
       "      <td>bremen</td>\n",
       "      <td>bremen</td>\n",
       "      <td>Germany</td>\n",
       "    </tr>\n",
       "    <tr>\n",
       "      <th>1028185</th>\n",
       "      <td>3548256686</td>\n",
       "      <td>Dreamcatcher Duddits</td>\n",
       "      <td>Stephen King</td>\n",
       "      <td>2003</td>\n",
       "      <td>Ullstein Tb</td>\n",
       "      <td>http://images.amazon.com/images/P/3548256686.0...</td>\n",
       "      <td>124013</td>\n",
       "      <td>0</td>\n",
       "      <td>dällikon, n/a, switzerland</td>\n",
       "      <td>29.0</td>\n",
       "      <td>dällikon</td>\n",
       "      <td>n/a</td>\n",
       "      <td>Switzerland</td>\n",
       "    </tr>\n",
       "  </tbody>\n",
       "</table>\n",
       "<p>647 rows × 13 columns</p>\n",
       "</div>"
      ],
      "text/plain": [
       "               ISBN                                   Book-Title  \\\n",
       "35514    0451153553                                       Misery   \n",
       "35529    0451167317                                The Dark Half   \n",
       "35565    0670858692                                  Rose Madder   \n",
       "35583    0670835382                           Four Past Midnight   \n",
       "55860    0399133143                            The Tommyknockers   \n",
       "...             ...                                          ...   \n",
       "1026107  3453177487                                     Atlantis   \n",
       "1026108  3453177487                                     Atlantis   \n",
       "1027386  3548255531  In einer kleinen Stadt Needful Things Roman   \n",
       "1028179  340425936X     Feuerkind Cujo Zwei Romane in einem Band   \n",
       "1028185  3548256686                         Dreamcatcher Duddits   \n",
       "\n",
       "          Book-Author  Year-Of-Publication             Publisher  \\\n",
       "35514    Stephen King                 1988      New Amer Library   \n",
       "35529    Stephen King                 1994           Signet Book   \n",
       "35565    Stephen King                 1995          Viking Books   \n",
       "35583    Stephen King                 1990          Viking Books   \n",
       "55860    Stephen King                 1987      Putnam Pub Group   \n",
       "...               ...                  ...                   ...   \n",
       "1026107  Stephen King                 2001  Wilhelm Heyne Verlag   \n",
       "1026108  Stephen King                 2001  Wilhelm Heyne Verlag   \n",
       "1027386  Stephen King                 2003           Ullstein Tb   \n",
       "1028179  Stephen King                 2003              LÃ?Â¼bbe   \n",
       "1028185  Stephen King                 2003           Ullstein Tb   \n",
       "\n",
       "                                               Image-URL-L  User-ID  \\\n",
       "35514    http://images.amazon.com/images/P/0451153553.0...    13582   \n",
       "35529    http://images.amazon.com/images/P/0451167317.0...    13582   \n",
       "35565    http://images.amazon.com/images/P/0670858692.0...    13582   \n",
       "35583    http://images.amazon.com/images/P/0670835382.0...    13582   \n",
       "55860    http://images.amazon.com/images/P/0399133143.0...    48268   \n",
       "...                                                    ...      ...   \n",
       "1026107  http://images.amazon.com/images/P/3453177487.0...   151322   \n",
       "1026108  http://images.amazon.com/images/P/3453177487.0...   210854   \n",
       "1027386  http://images.amazon.com/images/P/3548255531.0...    76684   \n",
       "1028179  http://images.amazon.com/images/P/340425936X.0...   154755   \n",
       "1028185  http://images.amazon.com/images/P/3548256686.0...   124013   \n",
       "\n",
       "         Book-Rating                                     Location   Age  \\\n",
       "35514              9                     lisboa, lisboa, portugal  29.0   \n",
       "35529              0                     lisboa, lisboa, portugal  29.0   \n",
       "35565              0                     lisboa, lisboa, portugal  29.0   \n",
       "35583              0                     lisboa, lisboa, portugal  29.0   \n",
       "55860              0                      vienna, vienna, austria  18.0   \n",
       "...              ...                                          ...   ...   \n",
       "1026107            6                   offenbach, hessen, germany  19.0   \n",
       "1026108            6              muttenz, baselland, switzerland   NaN   \n",
       "1027386            2  oerlinghausen, nordrhein-westfalen, germany  20.0   \n",
       "1028179            0                      bremen, bremen, germany  42.0   \n",
       "1028185            0                   dällikon, n/a, switzerland  29.0   \n",
       "\n",
       "                  City                State      Country  \n",
       "35514           lisboa               lisboa     Portugal  \n",
       "35529           lisboa               lisboa     Portugal  \n",
       "35565           lisboa               lisboa     Portugal  \n",
       "35583           lisboa               lisboa     Portugal  \n",
       "55860           vienna               vienna      Austria  \n",
       "...                ...                  ...          ...  \n",
       "1026107      offenbach               hessen      Germany  \n",
       "1026108        muttenz            baselland  Switzerland  \n",
       "1027386  oerlinghausen  nordrhein-westfalen      Germany  \n",
       "1028179         bremen               bremen      Germany  \n",
       "1028185       dällikon                  n/a  Switzerland  \n",
       "\n",
       "[647 rows x 13 columns]"
      ]
     },
     "execution_count": 151,
     "metadata": {},
     "output_type": "execute_result"
    }
   ],
   "source": [
    "author2_1 = ['Stephen King']\n",
    "search_author2_1 = dataviz2[dataviz2['Book-Author'].str.contains('|'.join(author2_1))]\n",
    "search_author2_1"
   ]
  },
  {
   "cell_type": "code",
   "execution_count": 154,
   "id": "3e8eba2d",
   "metadata": {},
   "outputs": [
    {
     "data": {
      "text/html": [
       "<div>\n",
       "<style scoped>\n",
       "    .dataframe tbody tr th:only-of-type {\n",
       "        vertical-align: middle;\n",
       "    }\n",
       "\n",
       "    .dataframe tbody tr th {\n",
       "        vertical-align: top;\n",
       "    }\n",
       "\n",
       "    .dataframe thead th {\n",
       "        text-align: right;\n",
       "    }\n",
       "</style>\n",
       "<table border=\"1\" class=\"dataframe\">\n",
       "  <thead>\n",
       "    <tr style=\"text-align: right;\">\n",
       "      <th></th>\n",
       "      <th>ISBN</th>\n",
       "      <th>Book-Author</th>\n",
       "      <th>Year-Of-Publication</th>\n",
       "      <th>Publisher</th>\n",
       "      <th>Image-URL-L</th>\n",
       "      <th>User-ID</th>\n",
       "      <th>Book-Rating</th>\n",
       "      <th>Location</th>\n",
       "      <th>Age</th>\n",
       "      <th>City</th>\n",
       "      <th>State</th>\n",
       "      <th>Country</th>\n",
       "    </tr>\n",
       "    <tr>\n",
       "      <th>Book-Title</th>\n",
       "      <th></th>\n",
       "      <th></th>\n",
       "      <th></th>\n",
       "      <th></th>\n",
       "      <th></th>\n",
       "      <th></th>\n",
       "      <th></th>\n",
       "      <th></th>\n",
       "      <th></th>\n",
       "      <th></th>\n",
       "      <th></th>\n",
       "      <th></th>\n",
       "    </tr>\n",
       "  </thead>\n",
       "  <tbody>\n",
       "    <tr>\n",
       "      <th>The Green Mile</th>\n",
       "      <td>0671041789</td>\n",
       "      <td>Stephen King</td>\n",
       "      <td>1999</td>\n",
       "      <td>Pocket</td>\n",
       "      <td>http://images.amazon.com/images/P/0671041789.0...</td>\n",
       "      <td>131554</td>\n",
       "      <td>10</td>\n",
       "      <td>colchester, essex, united kingdom</td>\n",
       "      <td>46.0</td>\n",
       "      <td>colchester</td>\n",
       "      <td>essex</td>\n",
       "      <td>United Kingdom</td>\n",
       "    </tr>\n",
       "    <tr>\n",
       "      <th>Der Gesang der Toten Unheimliche Geschichten</th>\n",
       "      <td>3453023099</td>\n",
       "      <td>Stephen King</td>\n",
       "      <td>1986</td>\n",
       "      <td>Heyne</td>\n",
       "      <td>http://images.amazon.com/images/P/3453023099.0...</td>\n",
       "      <td>14461</td>\n",
       "      <td>10</td>\n",
       "      <td>aachen, nordrhein-westfalen, germany</td>\n",
       "      <td>31.0</td>\n",
       "      <td>aachen</td>\n",
       "      <td>nordrhein-westfalen</td>\n",
       "      <td>Germany</td>\n",
       "    </tr>\n",
       "    <tr>\n",
       "      <th>Das MÃ Â dchen Schwarzer Umschlag</th>\n",
       "      <td>3548251285</td>\n",
       "      <td>Stephen King</td>\n",
       "      <td>2001</td>\n",
       "      <td>Ullstein Tb</td>\n",
       "      <td>http://images.amazon.com/images/P/3548251285.0...</td>\n",
       "      <td>69913</td>\n",
       "      <td>10</td>\n",
       "      <td>mutterstadt, rheinland-pfalz, germany</td>\n",
       "      <td>33.0</td>\n",
       "      <td>mutterstadt</td>\n",
       "      <td>rheinland-pfalz</td>\n",
       "      <td>Germany</td>\n",
       "    </tr>\n",
       "    <tr>\n",
       "      <th>Der Green Mile</th>\n",
       "      <td>3404139585</td>\n",
       "      <td>Stephen King</td>\n",
       "      <td>2000</td>\n",
       "      <td>Bastei-Verlag Gustav H. Lubbe GmbH &amp;amp; Co.</td>\n",
       "      <td>http://images.amazon.com/images/P/3404139585.0...</td>\n",
       "      <td>239488</td>\n",
       "      <td>10</td>\n",
       "      <td>ganderkesee, niedersachsen, germany</td>\n",
       "      <td>36.0</td>\n",
       "      <td>ganderkesee</td>\n",
       "      <td>niedersachsen</td>\n",
       "      <td>Germany</td>\n",
       "    </tr>\n",
       "    <tr>\n",
       "      <th>The Stand Complete and Uncut</th>\n",
       "      <td>0451169530</td>\n",
       "      <td>Stephen King</td>\n",
       "      <td>1991</td>\n",
       "      <td>Signet Book</td>\n",
       "      <td>http://images.amazon.com/images/P/0451169530.0...</td>\n",
       "      <td>165512</td>\n",
       "      <td>10</td>\n",
       "      <td>chester, cheshire, united kingdom</td>\n",
       "      <td>28.0</td>\n",
       "      <td>chester</td>\n",
       "      <td>cheshire</td>\n",
       "      <td>United Kingdom</td>\n",
       "    </tr>\n",
       "  </tbody>\n",
       "</table>\n",
       "</div>"
      ],
      "text/plain": [
       "                                                    ISBN   Book-Author  \\\n",
       "Book-Title                                                               \n",
       "The Green Mile                                0671041789  Stephen King   \n",
       "Der Gesang der Toten Unheimliche Geschichten  3453023099  Stephen King   \n",
       "Das MÃ Â dchen Schwarzer Umschlag             3548251285  Stephen King   \n",
       "Der Green Mile                                3404139585  Stephen King   \n",
       "The Stand Complete and Uncut                  0451169530  Stephen King   \n",
       "\n",
       "                                              Year-Of-Publication  \\\n",
       "Book-Title                                                          \n",
       "The Green Mile                                               1999   \n",
       "Der Gesang der Toten Unheimliche Geschichten                 1986   \n",
       "Das MÃ Â dchen Schwarzer Umschlag                            2001   \n",
       "Der Green Mile                                               2000   \n",
       "The Stand Complete and Uncut                                 1991   \n",
       "\n",
       "                                                                                 Publisher  \\\n",
       "Book-Title                                                                                   \n",
       "The Green Mile                                                                      Pocket   \n",
       "Der Gesang der Toten Unheimliche Geschichten                                         Heyne   \n",
       "Das MÃ Â dchen Schwarzer Umschlag                                              Ullstein Tb   \n",
       "Der Green Mile                                Bastei-Verlag Gustav H. Lubbe GmbH &amp; Co.   \n",
       "The Stand Complete and Uncut                                                   Signet Book   \n",
       "\n",
       "                                                                                    Image-URL-L  \\\n",
       "Book-Title                                                                                        \n",
       "The Green Mile                                http://images.amazon.com/images/P/0671041789.0...   \n",
       "Der Gesang der Toten Unheimliche Geschichten  http://images.amazon.com/images/P/3453023099.0...   \n",
       "Das MÃ Â dchen Schwarzer Umschlag             http://images.amazon.com/images/P/3548251285.0...   \n",
       "Der Green Mile                                http://images.amazon.com/images/P/3404139585.0...   \n",
       "The Stand Complete and Uncut                  http://images.amazon.com/images/P/0451169530.0...   \n",
       "\n",
       "                                              User-ID  Book-Rating  \\\n",
       "Book-Title                                                           \n",
       "The Green Mile                                 131554           10   \n",
       "Der Gesang der Toten Unheimliche Geschichten    14461           10   \n",
       "Das MÃ Â dchen Schwarzer Umschlag               69913           10   \n",
       "Der Green Mile                                 239488           10   \n",
       "The Stand Complete and Uncut                   165512           10   \n",
       "\n",
       "                                                                           Location  \\\n",
       "Book-Title                                                                            \n",
       "The Green Mile                                    colchester, essex, united kingdom   \n",
       "Der Gesang der Toten Unheimliche Geschichten   aachen, nordrhein-westfalen, germany   \n",
       "Das MÃ Â dchen Schwarzer Umschlag             mutterstadt, rheinland-pfalz, germany   \n",
       "Der Green Mile                                  ganderkesee, niedersachsen, germany   \n",
       "The Stand Complete and Uncut                      chester, cheshire, united kingdom   \n",
       "\n",
       "                                               Age         City  \\\n",
       "Book-Title                                                        \n",
       "The Green Mile                                46.0   colchester   \n",
       "Der Gesang der Toten Unheimliche Geschichten  31.0       aachen   \n",
       "Das MÃ Â dchen Schwarzer Umschlag             33.0  mutterstadt   \n",
       "Der Green Mile                                36.0  ganderkesee   \n",
       "The Stand Complete and Uncut                  28.0      chester   \n",
       "\n",
       "                                                            State  \\\n",
       "Book-Title                                                          \n",
       "The Green Mile                                              essex   \n",
       "Der Gesang der Toten Unheimliche Geschichten  nordrhein-westfalen   \n",
       "Das MÃ Â dchen Schwarzer Umschlag                 rheinland-pfalz   \n",
       "Der Green Mile                                      niedersachsen   \n",
       "The Stand Complete and Uncut                             cheshire   \n",
       "\n",
       "                                                     Country  \n",
       "Book-Title                                                    \n",
       "The Green Mile                                United Kingdom  \n",
       "Der Gesang der Toten Unheimliche Geschichten         Germany  \n",
       "Das MÃ Â dchen Schwarzer Umschlag                    Germany  \n",
       "Der Green Mile                                       Germany  \n",
       "The Stand Complete and Uncut                  United Kingdom  "
      ]
     },
     "execution_count": 154,
     "metadata": {},
     "output_type": "execute_result"
    }
   ],
   "source": [
    "author2_1_top5  = search_author2_1.sort_values(by='Book-Rating', ascending=False).head(5)\n",
    "author2_1_top5 = author2_1_top5.set_index('Book-Title')\n",
    "author2_1_top5"
   ]
  },
  {
   "cell_type": "code",
   "execution_count": null,
   "id": "5ae123b4",
   "metadata": {},
   "outputs": [],
   "source": []
  }
 ],
 "metadata": {
  "kernelspec": {
   "display_name": "Python 3 (ipykernel)",
   "language": "python",
   "name": "python3"
  },
  "language_info": {
   "codemirror_mode": {
    "name": "ipython",
    "version": 3
   },
   "file_extension": ".py",
   "mimetype": "text/x-python",
   "name": "python",
   "nbconvert_exporter": "python",
   "pygments_lexer": "ipython3",
   "version": "3.10.9"
  }
 },
 "nbformat": 4,
 "nbformat_minor": 5
}
